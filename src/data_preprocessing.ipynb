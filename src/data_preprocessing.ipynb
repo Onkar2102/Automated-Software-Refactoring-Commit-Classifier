{
 "cells": [
  {
   "cell_type": "code",
   "execution_count": 3,
   "metadata": {},
   "outputs": [],
   "source": [
    "import pandas as pd\n",
    "\n",
    "# Set display options\n",
    "pd.set_option('display.max_colwidth', None)\n",
    "# pd.set_option('display.max_rows', None)"
   ]
  },
  {
   "cell_type": "code",
   "execution_count": 4,
   "metadata": {},
   "outputs": [],
   "source": [
    "filePath = r\"D:\\Rochester Institute of Technology\\DSCI 644 Software Engineering for Data Science\\Automated-Software-Refactoring-Commit-Classifier\\dataset\\ESWA20_manualclassification.csv\""
   ]
  },
  {
   "cell_type": "code",
   "execution_count": 5,
   "metadata": {},
   "outputs": [
    {
     "data": {
      "text/html": [
       "<div>\n",
       "<style scoped>\n",
       "    .dataframe tbody tr th:only-of-type {\n",
       "        vertical-align: middle;\n",
       "    }\n",
       "\n",
       "    .dataframe tbody tr th {\n",
       "        vertical-align: top;\n",
       "    }\n",
       "\n",
       "    .dataframe thead th {\n",
       "        text-align: right;\n",
       "    }\n",
       "</style>\n",
       "<table border=\"1\" class=\"dataframe\">\n",
       "  <thead>\n",
       "    <tr style=\"text-align: right;\">\n",
       "      <th></th>\n",
       "      <th>Commit Message</th>\n",
       "      <th>Category</th>\n",
       "    </tr>\n",
       "  </thead>\n",
       "  <tbody>\n",
       "    <tr>\n",
       "      <th>0</th>\n",
       "      <td>\\tNIO Reads writes are completed in the caller thered;\\n\\t100% compatible with old interface and functionality.\\n\\tEach connection has an instance of this object to\\n\\treceive data for a message in multiple OP_READ events.\\n</td>\n",
       "      <td>functional</td>\n",
       "    </tr>\n",
       "    <tr>\n",
       "      <th>1</th>\n",
       "      <td>* temporary fix for non-shared JArray objects\\n  * added generic unittests to check jcc/lucene/solr/montysolr functionality\\n  * wrote unittest for newseman (it does a complete processing from python side)\\n    - now what remains is to call it from java\\n    - decide on proper behaviour for cases when tokens are added/grouped\\n</td>\n",
       "      <td>bugfix</td>\n",
       "    </tr>\n",
       "    <tr>\n",
       "      <th>2</th>\n",
       "      <td>* Java:\\n   * Added RCON functionality for Source servers:\\n     * Added steamcondenser.steam.packets.rcon package\\n     * Added RCONAuthRequestPacket\\n     * Added RCONAuthResponsePacket\\n     * Added RCONExecRequestPacket\\n     * Added RCONExecResponsePacket\\n     * Added RCONPacket\\n     * Added RCONNoAuthException\\n   * Split SteamSocket into QuerySocket and RCONSocket\\n   * Stub functionality for GoldSrc servers\\n     * GoldSrc uses UDP and needs a special implementation\\n   * Added tests\\n</td>\n",
       "      <td>functional</td>\n",
       "    </tr>\n",
       "    <tr>\n",
       "      <th>3</th>\n",
       "      <td>- Merge changes from Pull-Request #6 \\t - Fix aggregation generation and cleanup dead code  - Update dependencies versions</td>\n",
       "      <td>code smell</td>\n",
       "    </tr>\n",
       "    <tr>\n",
       "      <th>4</th>\n",
       "      <td>Bug 233643 -  API builder performance bad for incremental build</td>\n",
       "      <td>external</td>\n",
       "    </tr>\n",
       "    <tr>\n",
       "      <th>...</th>\n",
       "      <td>...</td>\n",
       "      <td>...</td>\n",
       "    </tr>\n",
       "    <tr>\n",
       "      <th>1735</th>\n",
       "      <td>working on #339: introducing the getSpecialFeatureCollection Method as a more general way to get all the PrintTemplateFeatures. improve the numbering\\n</td>\n",
       "      <td>functional</td>\n",
       "    </tr>\n",
       "    <tr>\n",
       "      <th>1736</th>\n",
       "      <td>working on #339: next step. i\\n\\nmove all the calculation and handling into the PrintTemplateFeature to handle\\nmultiple templateprinting.\\n\\nThe creation is still very basic though\\n</td>\n",
       "      <td>functional</td>\n",
       "    </tr>\n",
       "    <tr>\n",
       "      <th>1737</th>\n",
       "      <td>working on #369: generalized the adjustMapForPrintingTemplates and ensureVisibilityOfPrintingTemplates method to adjustMapForSpecialFeatureClasses and ensureVisibilityOfSpecialFeatures\\n</td>\n",
       "      <td>functional</td>\n",
       "    </tr>\n",
       "    <tr>\n",
       "      <th>1738</th>\n",
       "      <td>working up test coverage; minor tweaks; removing dead code; fixing very minor bugs; adding tests</td>\n",
       "      <td>code smell</td>\n",
       "    </tr>\n",
       "    <tr>\n",
       "      <th>1739</th>\n",
       "      <td> changed render routine for text fields  added tabbing abilities to CustomScreen  various modifications on CustomScreen to match the new TextField requirements  changed size of PacketSky</td>\n",
       "      <td>internal</td>\n",
       "    </tr>\n",
       "  </tbody>\n",
       "</table>\n",
       "<p>1740 rows × 2 columns</p>\n",
       "</div>"
      ],
      "text/plain": [
       "                                                                                                                                                                                                                                                                                                                                                                                                                                                                                                             Commit Message  \\\n",
       "0                                                                                                                                                                                                                                                                                          \\tNIO Reads writes are completed in the caller thered;\\n\\t100% compatible with old interface and functionality.\\n\\tEach connection has an instance of this object to\\n\\treceive data for a message in multiple OP_READ events.\\n   \n",
       "1                                                                                                                                                                                 * temporary fix for non-shared JArray objects\\n  * added generic unittests to check jcc/lucene/solr/montysolr functionality\\n  * wrote unittest for newseman (it does a complete processing from python side)\\n    - now what remains is to call it from java\\n    - decide on proper behaviour for cases when tokens are added/grouped\\n   \n",
       "2      * Java:\\n   * Added RCON functionality for Source servers:\\n     * Added steamcondenser.steam.packets.rcon package\\n     * Added RCONAuthRequestPacket\\n     * Added RCONAuthResponsePacket\\n     * Added RCONExecRequestPacket\\n     * Added RCONExecResponsePacket\\n     * Added RCONPacket\\n     * Added RCONNoAuthException\\n   * Split SteamSocket into QuerySocket and RCONSocket\\n   * Stub functionality for GoldSrc servers\\n     * GoldSrc uses UDP and needs a special implementation\\n   * Added tests\\n   \n",
       "3                                                                                                                                                                                                                                                                                                                                                                                                - Merge changes from Pull-Request #6 \\t - Fix aggregation generation and cleanup dead code  - Update dependencies versions   \n",
       "4                                                                                                                                                                                                                                                                                                                                                                                                                                                           Bug 233643 -  API builder performance bad for incremental build   \n",
       "...                                                                                                                                                                                                                                                                                                                                                                                                                                                                                                                     ...   \n",
       "1735                                                                                                                                                                                                                                                                                                                                                                working on #339: introducing the getSpecialFeatureCollection Method as a more general way to get all the PrintTemplateFeatures. improve the numbering\\n   \n",
       "1736                                                                                                                                                                                                                                                                                                                                working on #339: next step. i\\n\\nmove all the calculation and handling into the PrintTemplateFeature to handle\\nmultiple templateprinting.\\n\\nThe creation is still very basic though\\n   \n",
       "1737                                                                                                                                                                                                                                                                                                                             working on #369: generalized the adjustMapForPrintingTemplates and ensureVisibilityOfPrintingTemplates method to adjustMapForSpecialFeatureClasses and ensureVisibilityOfSpecialFeatures\\n   \n",
       "1738                                                                                                                                                                                                                                                                                                                                                                                                                       working up test coverage; minor tweaks; removing dead code; fixing very minor bugs; adding tests   \n",
       "1739                                                                                                                                                                                                                                                                                                                          changed render routine for text fields  added tabbing abilities to CustomScreen  various modifications on CustomScreen to match the new TextField requirements  changed size of PacketSky   \n",
       "\n",
       "        Category  \n",
       "0     functional  \n",
       "1         bugfix  \n",
       "2     functional  \n",
       "3     code smell  \n",
       "4       external  \n",
       "...          ...  \n",
       "1735  functional  \n",
       "1736  functional  \n",
       "1737  functional  \n",
       "1738  code smell  \n",
       "1739    internal  \n",
       "\n",
       "[1740 rows x 2 columns]"
      ]
     },
     "execution_count": 5,
     "metadata": {},
     "output_type": "execute_result"
    }
   ],
   "source": [
    "df = pd.read_csv(filePath, encoding='ISO-8859-1')\n",
    "\n",
    "df"
   ]
  },
  {
   "cell_type": "code",
   "execution_count": 6,
   "metadata": {},
   "outputs": [
    {
     "data": {
      "text/html": [
       "<div>\n",
       "<style scoped>\n",
       "    .dataframe tbody tr th:only-of-type {\n",
       "        vertical-align: middle;\n",
       "    }\n",
       "\n",
       "    .dataframe tbody tr th {\n",
       "        vertical-align: top;\n",
       "    }\n",
       "\n",
       "    .dataframe thead th {\n",
       "        text-align: right;\n",
       "    }\n",
       "</style>\n",
       "<table border=\"1\" class=\"dataframe\">\n",
       "  <thead>\n",
       "    <tr style=\"text-align: right;\">\n",
       "      <th></th>\n",
       "      <th>commit_message</th>\n",
       "      <th>category</th>\n",
       "    </tr>\n",
       "  </thead>\n",
       "  <tbody>\n",
       "    <tr>\n",
       "      <th>0</th>\n",
       "      <td>\\tNIO Reads writes are completed in the caller thered;\\n\\t100% compatible with old interface and functionality.\\n\\tEach connection has an instance of this object to\\n\\treceive data for a message in multiple OP_READ events.\\n</td>\n",
       "      <td>functional</td>\n",
       "    </tr>\n",
       "    <tr>\n",
       "      <th>1</th>\n",
       "      <td>* temporary fix for non-shared JArray objects\\n  * added generic unittests to check jcc/lucene/solr/montysolr functionality\\n  * wrote unittest for newseman (it does a complete processing from python side)\\n    - now what remains is to call it from java\\n    - decide on proper behaviour for cases when tokens are added/grouped\\n</td>\n",
       "      <td>bugfix</td>\n",
       "    </tr>\n",
       "    <tr>\n",
       "      <th>2</th>\n",
       "      <td>* Java:\\n   * Added RCON functionality for Source servers:\\n     * Added steamcondenser.steam.packets.rcon package\\n     * Added RCONAuthRequestPacket\\n     * Added RCONAuthResponsePacket\\n     * Added RCONExecRequestPacket\\n     * Added RCONExecResponsePacket\\n     * Added RCONPacket\\n     * Added RCONNoAuthException\\n   * Split SteamSocket into QuerySocket and RCONSocket\\n   * Stub functionality for GoldSrc servers\\n     * GoldSrc uses UDP and needs a special implementation\\n   * Added tests\\n</td>\n",
       "      <td>functional</td>\n",
       "    </tr>\n",
       "    <tr>\n",
       "      <th>3</th>\n",
       "      <td>- Merge changes from Pull-Request #6 \\t - Fix aggregation generation and cleanup dead code  - Update dependencies versions</td>\n",
       "      <td>code smell</td>\n",
       "    </tr>\n",
       "    <tr>\n",
       "      <th>4</th>\n",
       "      <td>Bug 233643 -  API builder performance bad for incremental build</td>\n",
       "      <td>external</td>\n",
       "    </tr>\n",
       "    <tr>\n",
       "      <th>...</th>\n",
       "      <td>...</td>\n",
       "      <td>...</td>\n",
       "    </tr>\n",
       "    <tr>\n",
       "      <th>1735</th>\n",
       "      <td>working on #339: introducing the getSpecialFeatureCollection Method as a more general way to get all the PrintTemplateFeatures. improve the numbering\\n</td>\n",
       "      <td>functional</td>\n",
       "    </tr>\n",
       "    <tr>\n",
       "      <th>1736</th>\n",
       "      <td>working on #339: next step. i\\n\\nmove all the calculation and handling into the PrintTemplateFeature to handle\\nmultiple templateprinting.\\n\\nThe creation is still very basic though\\n</td>\n",
       "      <td>functional</td>\n",
       "    </tr>\n",
       "    <tr>\n",
       "      <th>1737</th>\n",
       "      <td>working on #369: generalized the adjustMapForPrintingTemplates and ensureVisibilityOfPrintingTemplates method to adjustMapForSpecialFeatureClasses and ensureVisibilityOfSpecialFeatures\\n</td>\n",
       "      <td>functional</td>\n",
       "    </tr>\n",
       "    <tr>\n",
       "      <th>1738</th>\n",
       "      <td>working up test coverage; minor tweaks; removing dead code; fixing very minor bugs; adding tests</td>\n",
       "      <td>code smell</td>\n",
       "    </tr>\n",
       "    <tr>\n",
       "      <th>1739</th>\n",
       "      <td> changed render routine for text fields  added tabbing abilities to CustomScreen  various modifications on CustomScreen to match the new TextField requirements  changed size of PacketSky</td>\n",
       "      <td>internal</td>\n",
       "    </tr>\n",
       "  </tbody>\n",
       "</table>\n",
       "<p>1740 rows × 2 columns</p>\n",
       "</div>"
      ],
      "text/plain": [
       "                                                                                                                                                                                                                                                                                                                                                                                                                                                                                                             commit_message  \\\n",
       "0                                                                                                                                                                                                                                                                                          \\tNIO Reads writes are completed in the caller thered;\\n\\t100% compatible with old interface and functionality.\\n\\tEach connection has an instance of this object to\\n\\treceive data for a message in multiple OP_READ events.\\n   \n",
       "1                                                                                                                                                                                 * temporary fix for non-shared JArray objects\\n  * added generic unittests to check jcc/lucene/solr/montysolr functionality\\n  * wrote unittest for newseman (it does a complete processing from python side)\\n    - now what remains is to call it from java\\n    - decide on proper behaviour for cases when tokens are added/grouped\\n   \n",
       "2      * Java:\\n   * Added RCON functionality for Source servers:\\n     * Added steamcondenser.steam.packets.rcon package\\n     * Added RCONAuthRequestPacket\\n     * Added RCONAuthResponsePacket\\n     * Added RCONExecRequestPacket\\n     * Added RCONExecResponsePacket\\n     * Added RCONPacket\\n     * Added RCONNoAuthException\\n   * Split SteamSocket into QuerySocket and RCONSocket\\n   * Stub functionality for GoldSrc servers\\n     * GoldSrc uses UDP and needs a special implementation\\n   * Added tests\\n   \n",
       "3                                                                                                                                                                                                                                                                                                                                                                                                - Merge changes from Pull-Request #6 \\t - Fix aggregation generation and cleanup dead code  - Update dependencies versions   \n",
       "4                                                                                                                                                                                                                                                                                                                                                                                                                                                           Bug 233643 -  API builder performance bad for incremental build   \n",
       "...                                                                                                                                                                                                                                                                                                                                                                                                                                                                                                                     ...   \n",
       "1735                                                                                                                                                                                                                                                                                                                                                                working on #339: introducing the getSpecialFeatureCollection Method as a more general way to get all the PrintTemplateFeatures. improve the numbering\\n   \n",
       "1736                                                                                                                                                                                                                                                                                                                                working on #339: next step. i\\n\\nmove all the calculation and handling into the PrintTemplateFeature to handle\\nmultiple templateprinting.\\n\\nThe creation is still very basic though\\n   \n",
       "1737                                                                                                                                                                                                                                                                                                                             working on #369: generalized the adjustMapForPrintingTemplates and ensureVisibilityOfPrintingTemplates method to adjustMapForSpecialFeatureClasses and ensureVisibilityOfSpecialFeatures\\n   \n",
       "1738                                                                                                                                                                                                                                                                                                                                                                                                                       working up test coverage; minor tweaks; removing dead code; fixing very minor bugs; adding tests   \n",
       "1739                                                                                                                                                                                                                                                                                                                          changed render routine for text fields  added tabbing abilities to CustomScreen  various modifications on CustomScreen to match the new TextField requirements  changed size of PacketSky   \n",
       "\n",
       "        category  \n",
       "0     functional  \n",
       "1         bugfix  \n",
       "2     functional  \n",
       "3     code smell  \n",
       "4       external  \n",
       "...          ...  \n",
       "1735  functional  \n",
       "1736  functional  \n",
       "1737  functional  \n",
       "1738  code smell  \n",
       "1739    internal  \n",
       "\n",
       "[1740 rows x 2 columns]"
      ]
     },
     "execution_count": 6,
     "metadata": {},
     "output_type": "execute_result"
    }
   ],
   "source": [
    "df['commit_message'] = df['Commit Message']\n",
    "del df['Commit Message']\n",
    "\n",
    "df['category'] = df['Category']\n",
    "del df['Category']\n",
    "\n",
    "df"
   ]
  },
  {
   "cell_type": "code",
   "execution_count": 7,
   "metadata": {
    "scrolled": true
   },
   "outputs": [
    {
     "name": "stdout",
     "output_type": "stream",
     "text": [
      "<class 'pandas.core.frame.DataFrame'>\n",
      "RangeIndex: 1740 entries, 0 to 1739\n",
      "Data columns (total 2 columns):\n",
      " #   Column          Non-Null Count  Dtype \n",
      "---  ------          --------------  ----- \n",
      " 0   commit_message  1740 non-null   object\n",
      " 1   category        1740 non-null   object\n",
      "dtypes: object(2)\n",
      "memory usage: 27.3+ KB\n"
     ]
    }
   ],
   "source": [
    "df.info()"
   ]
  },
  {
   "cell_type": "code",
   "execution_count": 8,
   "metadata": {},
   "outputs": [
    {
     "data": {
      "text/plain": [
       "array(['functional', 'bugfix', 'code smell', 'external', 'internal'],\n",
       "      dtype=object)"
      ]
     },
     "execution_count": 8,
     "metadata": {},
     "output_type": "execute_result"
    }
   ],
   "source": [
    "df.category.unique()"
   ]
  },
  {
   "cell_type": "markdown",
   "metadata": {},
   "source": [
    "### Text Pre-processing"
   ]
  },
  {
   "cell_type": "code",
   "execution_count": 9,
   "metadata": {},
   "outputs": [],
   "source": [
    "# from pycontractions import Contractions\n",
    "# import re\n",
    "from contractions import fix\n",
    "# from gensim.utils import contractions"
   ]
  },
  {
   "cell_type": "code",
   "execution_count": 10,
   "metadata": {},
   "outputs": [
    {
     "name": "stdout",
     "output_type": "stream",
     "text": [
      "Before fixing contractions:\n",
      "729                            Implement my old patch for issue #366, with some tweaks.  This does the\\nfollowing:\\n* Fixes @Provides injection so that parameters are checked for nullability.\\nBy default this will error.  The flag is named:\\nguice_check_nullable_provides_params and can be set to ERROR, WARNING or IGNORE.\\n* Adds InjectionPoint.forMethod to build an InjectionPoint off an arbitrary\\nmethod.\\n* Adds Binder.getProvider(Dependency) to a get a Provider for a given\\ndependency (with all its nullability & injection points maintained).\\n* Update ProviderLookup to accept a Dependency in addition to a Key.\\n\\nThis is in preparation for two things:\\n1) Allowing multibindings/mapbindings/optionalbindings to be specified as\\nannotations on methods in a module.\\n2) Adding a dagger compatibility module.\\n... the general idea will be that I'll also add a hook into\\nProvidesMethodModule somehow to look at arbitrary other annotations and let\\nfolks process them specially.\\n-------------\\nCreated by MOE: http://code.google.com/p/moe-java\\nMOE_MIGRATED_REVID=85353820\\n\n",
      "1263    This change is big, and it makes Guice slower. I'll need to follow-up with some optimizations that make TypeResolver quicker.\\n\\nSuppose you have a parameterized class:\\n\\nclass Foo<T> {\\n  @Inject Set<T> tees;\\n} \\n\\nThis change makes it so that as long as you have the required dependencies, parameterized injection points will be resolved. For example:\\n  Injector injector = Guice.createInjector(new AbstractModule() {\\n    protected void configure() {\\n      bind(new TypeLiteral<Set<String>>() {})\\n          .toInstance(ImmutableSet.of(\"A\", \"B\", \"C\"));\\n      }\\n  });\\n  Foo<String> foo = injector.getInstance(new TypeLiteral<Foo<String>>() {});\\n  assertEquals(ImmutableSet.of(\"A\", \"B\", \"C\"), foo.tees);\\n\\nThis builds on my earlier work for TypeResolver. That class is currently pretty slow (it builds a ton of HashMaps eagerly), but it shouldn't be too hard to make it lazy - that way everything will work nice and fast if you're not leveraging this feature.\\n\\ngit-svn-id: https://google-guice.googlecode.com/svn/trunk@660 d779f126-a31b-0410-b53b-1d3aecad763e\\n\n",
      "1325                                                                                                                                                                                                                                                                                                                                                                                                                                                                                                                                                                                                                                                                                                                                                                                                                                                                                                                                       Well, realized that the fragment shader can't composite or blend.  So I think this is  the closest I'll get to a decent implementation of the Duff-Porter blend functionality.\n",
      "Name: commit_message, dtype: object\n"
     ]
    }
   ],
   "source": [
    "# Find commit messages containing \"I'm\"\n",
    "contains_im = df[df['commit_message'].str.contains(\"I'll\", na=False)]\n",
    "\n",
    "# Print messages before fixing contractions\n",
    "print(\"Before fixing contractions:\")\n",
    "print(contains_im['commit_message'].head(10))"
   ]
  },
  {
   "cell_type": "code",
   "execution_count": 11,
   "metadata": {},
   "outputs": [],
   "source": [
    "# # Function to fix contractions in a string\n",
    "# def expand_contractions(text):\n",
    "#     return fix(text)\n",
    "\n",
    "\n",
    "# # Identify and print rows with contractions\n",
    "# # We're looking for apostrophes as a simple heuristic for finding contractions\n",
    "# contraction_rows = df[df['commit_message'].str.contains(\"'\")]\n",
    "\n",
    "\n",
    "# # Apply the function to your data to fix contractions\n",
    "# # Assuming 'commit_message' is the column with text data\n",
    "# df['expanded_commit_message'] = df['commit_message'].apply(expand_contractions)\n",
    "\n",
    "# # Display the first 10 rows with contractions before and after expansion\n",
    "# print(contraction_rows[['commit_message', 'expanded_commit_message']].head(10))\n",
    "\n",
    "\n",
    "# # Find commit messages containing \"I'm\"\n",
    "# contains_im = df[df['commit_message'].str.contains(\"I'm\", na=False)]\n",
    "\n",
    "# # Print messages before fixing contractions\n",
    "# print(\"Before fixing contractions:\")\n",
    "# print(contains_im['commit_message'].head(10))\n",
    "\n",
    "# Define a function to fix contractions in a string\n",
    "def expand_contractions(text):\n",
    "    return fix(text)\n",
    "\n",
    "# Apply the function to expand contractions for the whole column (if needed later)\n",
    "df['commit_message'] = df['commit_message'].apply(expand_contractions)\n",
    "\n",
    "\n",
    "\n",
    "# # Fix contractions and print messages after fixing\n",
    "# contains_im['commit_message'].head(10).apply(lambda x: print(f\"After fixing contractions:\\n{expand_contractions(x)}\\n\"))\n"
   ]
  },
  {
   "cell_type": "code",
   "execution_count": 12,
   "metadata": {},
   "outputs": [
    {
     "name": "stdout",
     "output_type": "stream",
     "text": [
      "commit_message    Well, realized that the fragment shader cannot composite or blend.  So I think this is  the closest I will get to a decent implementation of the Duff-Porter blend functionality.\n",
      "category                                                                                                                                                                                 functional\n",
      "Name: 1325, dtype: object\n"
     ]
    }
   ],
   "source": [
    "print(df.iloc[1325])"
   ]
  },
  {
   "cell_type": "code",
   "execution_count": 13,
   "metadata": {},
   "outputs": [
    {
     "name": "stderr",
     "output_type": "stream",
     "text": [
      "[nltk_data] Downloading package stopwords to\n",
      "[nltk_data]     C:\\Users\\onkar\\AppData\\Roaming\\nltk_data...\n",
      "[nltk_data]   Package stopwords is already up-to-date!\n"
     ]
    },
    {
     "data": {
      "text/plain": [
       "True"
      ]
     },
     "execution_count": 13,
     "metadata": {},
     "output_type": "execute_result"
    }
   ],
   "source": [
    "import nltk\n",
    "nltk.download('stopwords')"
   ]
  },
  {
   "cell_type": "code",
   "execution_count": 14,
   "metadata": {},
   "outputs": [],
   "source": [
    "import re"
   ]
  },
  {
   "cell_type": "code",
   "execution_count": 15,
   "metadata": {},
   "outputs": [],
   "source": [
    "import re\n",
    "\n",
    "def clean_text(text):\n",
    "    # Remove URLs\n",
    "    text = re.sub(r'http\\S+', '', text)\n",
    "    # Remove single-character tokens (mostly punctuation)\n",
    "    text = re.sub(r'\\s+[a-zA-Z]\\s+', ' ', text)\n",
    "    # Remove single characters from the start\n",
    "    text = re.sub(r'\\^[a-zA-Z]\\s+', ' ', text)\n",
    "    # Substitute multiple spaces with single space\n",
    "    text = re.sub(r'\\s+', ' ', text, flags=re.I)\n",
    "    # Remove prefixed 'b'\n",
    "    text = re.sub(r'^b\\s+', '', text)\n",
    "    # Remove numbers\n",
    "    text = re.sub(r'\\d+', '', text)\n",
    "    # Remove non-alphabetic characters\n",
    "    text = re.sub(r'[^a-zA-Z\\s]', '', text)\n",
    "    return text\n"
   ]
  },
  {
   "cell_type": "code",
   "execution_count": 16,
   "metadata": {},
   "outputs": [],
   "source": [
    "from nltk.corpus import stopwords\n",
    "from nltk.tokenize import word_tokenize\n",
    "\n",
    "# NLTK Stop words\n",
    "stop_words = set(stopwords.words('english'))\n",
    "# Add your custom stop words\n",
    "custom_stop_words = ['git', 'svn', 'refactor', 'svn', 'gitsvnid', 'signedoffby', 'reviewedon', 'testedby', 'us', 'id', 'changeid', 'lot', 'small', 'thing', 'way']  # Add more custom words here\n",
    "stop_words.update(custom_stop_words)\n",
    "\n",
    "def remove_stopwords(text):\n",
    "    word_tokens = word_tokenize(text)\n",
    "    filtered_text = [word for word in word_tokens if word.lower() not in stop_words]\n",
    "    return ' '.join(filtered_text)\n"
   ]
  },
  {
   "cell_type": "code",
   "execution_count": 17,
   "metadata": {},
   "outputs": [
    {
     "name": "stdout",
     "output_type": "stream",
     "text": [
      "\n",
      "Row Index: 400\n",
      "commit_message    Changes based on Keith's review.  A few tweaks to EdgeSet to help tracking edge\\nremoval\\n\\n\\tmodified:   src/edu/ucla/sspace/common/Similarity.java\\n\\n- Updated to use VectorMath.dotProduct for the Tanimoto coefficient\\n\\n\\tdeleted:    src/edu/ucla/sspace/common/WordComparator.java\\n\\n- Moved to SimpleNearestNeighborFinder\\n\\n\\tmodified:   src/edu/ucla/sspace/dependency/SimpleDependencyPath.java\\n\\n- Removed println\\n\\n\\tmodified:   src/edu/ucla/sspace/graph/AbstractGraph.java\\n\\n- Added missing implementation to Subgraph class so now all the unit tests pass\\n\\n\\tmodified:   src/edu/ucla/sspace/graph/DirectedMultigraph.java\\n\\n- Added missing implementation to Subgraph class so now all the unit tests pass\\n\\n- Fixed bug for reporting the correct edge types after removal\\n\\n- Removed dead code\\n\\n\\tmodified:   src/edu/ucla/sspace/graph/EdgeSet.java\\n\\n- Updated so that disconnect() now returns the number of edges that were removed\\n\\n\\tmodified:   src/edu/ucla/sspace/graph/GenericEdgeSet.java\\n\\tmodified:   src/edu/ucla/sspace/graph/SparseDirectedEdgeSet.java\\n\\tmodified:   src/edu/ucla/sspace/graph/SparseDirectedTypedEdgeSet.java\\n\\tmodified:   src/edu/ucla/sspace/graph/SparseTypedEdgeSet.java\\n\\tmodified:   src/edu/ucla/sspace/graph/SparseUndirectedEdgeSet.java\\n\\tmodified:   src/edu/ucla/sspace/graph/SparseWeightedEdgeSet.java\\n\\n- Updated to support EdgeSet interface change\\n\\n\\tdeleted:    src/edu/ucla/sspace/graph/GraphRandomizer.java\\n\\n- Removed dead class (functionality is in Graphs.java)\\n\\n\\tmodified:   src/edu/ucla/sspace/graph/SimpleWeightedEdge.java\\n\\n- Fixed hashCode()\\n\\n\\tdeleted:    src/edu/ucla/sspace/graph/SparseSymmetricEdgeSet.java\\n\\n- Removed dead class\\n\\n\\tmodified:   src/edu/ucla/sspace/graph/UndirectedMultigraph.java\\n\\n- Added missing implementation to Subgraph class so now all the unit tests pass\\n\\n- Fixed bug for reporting the correct edge types after removal\\n\\n- Removed dead code\\n\\n\\tmodified:   src/edu/ucla/sspace/mains/FixedDurationTemporalRandomIndexingMain.java\\n\\n- Updated to replace WordComparator with SimpleNearestNeighborFinder\\n\\n\\tmodified:   src/edu/ucla/sspace/mains/LexSubWordsiMain.java\\n\\n- Updated to replace WordComparator with SimpleNearestNeighborFinder\\n\\n\\tmodified:   src/edu/ucla/sspace/text/LabeledParsedStringDocument.java\\n\\n- Updated for new ParsedDocument interface\\n\\n\\tmodified:   src/edu/ucla/sspace/text/ParsedDocument.java\\n\\n- Updated to specify the format of text() as the tokens with white space delimiters.\\n\\n- Added a new prettyPrintText() which is the attempt to nicely format the tokens\\n  as they would have been originally.\\n\\n\\tmodified:   src/edu/ucla/sspace/text/PukWaCDocumentIterator.java\\n\\n- Fixed javadoc\\n\\n\\tmodified:   src/edu/ucla/sspace/text/UkWaCDocumentIterator.java\\n\\n- Added more class javadoc\\n\\n\\tmodified:   src/edu/ucla/sspace/tools/NearestNeighborFinderTool.java\\n\\n- Updated to use the class instances instead of the interface\\n\\n\\tmodified:   src/edu/ucla/sspace/tools/SemanticSpaceExplorer.java\\n\\n- Updated to replace WordComparator with PartitioningNearestNeighborFinder\\n\\n\\tmodified:   src/edu/ucla/sspace/tools/SimilarityListGenerator.java\\n\\n- Updated to replace WordComparator with PartitioningNearestNeighborFinder\\n\\n\\tmodified:   src/edu/ucla/sspace/util/HashIndexer.java\\n\\n- Fixed javadoc\\n\\n\\tmodified:   src/edu/ucla/sspace/util/PairCounter.java\\n\\n- Fixed javadoc\\n\\n\\trenamed:    src/edu/ucla/sspace/util/NearestNeighborFinder.java -> src/edu/ucla/sspace/util/PartitioningNearestNeighborFinder.java\\n\\n- Moved so that NearestNeighborFinder can be an interface\\n\\n\\tmodified:   src/edu/ucla/sspace/util/ReflectionUtil.java\\n\\n- Removed dead code\\n\\n\\tmodified:   src/edu/ucla/sspace/util/primitive/IntIntHashMultiMap.java\\n\\n- Added javadoc\\n\\n\\tmodified:   src/edu/ucla/sspace/util/primitive/IntIntMultiMap.java\\n\\n- Added javadoc\\n\\n\\tmodified:   test/edu/ucla/sspace/graph/DirectedMultigraphTests.java\\n\\n- Uncommented out unit tests\\n\\n\\tmodified:   test/edu/ucla/sspace/dependency/BreadthFirstPathIteratorTest.java\\n\\tmodified:   test/edu/ucla/sspace/dependency/CoNLLDependencyExtractorTest.java\\n\\tmodified:   test/edu/ucla/sspace/dependency/WaCKyDependencyExtractorTest.java\\n\\tmodified:   test/edu/ucla/sspace/text/corpora/PukWacDependencyCorpusReaderTest.java\\n\\tmodified:   test/edu/ucla/sspace/wordsi/DependencyContextExtractorTest.java\\n\\tmodified:   test/edu/ucla/sspace/wordsi/OccurrenceDependencyContextGeneratorTest.java\\n\\tmodified:   test/edu/ucla/sspace/wordsi/OrderingDependencyContextGeneratorTest.java\\n\\tmodified:   test/edu/ucla/sspace/wordsi/PartOfSpeechDependencyContextGeneratorTest.java\\n\\tmodified:   test/edu/ucla/sspace/wordsi/psd/PseudoWordDependencyContextExtractorTest.java\\n\\tmodified:   test/edu/ucla/sspace/wordsi/semeval/SemEvalDependencyContextExtractorTest.java\\n\\n- Fixed unit tests to support proper tab-delimiting of the CoNLL format\\n\n",
      "category                                                                                                                                                                                                                                                                                                                                                                                                                                                                                                                                                                                                                                                                                                                                                                                                                                                                                                                                                                                                                                                                                                                                                                                                                                                                                                                                                                                                                                                                                                                                                                                                                                                                                                                                                                                                                                                                                                                                                                                                                                                                                                                                                                                                                                                                                                                                                                                                                                                                                                                                                                                                                                                                                                                                                                                                                                                                                                                                                                                                                                                                                                                                                                                                                                                                                                                                                                                                                                                                                                                                                                                                                                                                                                                                                                                                                                                                                                                                                                                                                                                                                                                                                                                                                                                                                                                                                                                                                                                                                                                                                                                                                                                                                                                                                                                                                                                                                                                                                                                                                                                                                                                                          bugfix\n",
      "Name: 400, dtype: object\n",
      "Length: 4753\n",
      "\n",
      "Row Index: 833\n",
      "commit_message    Lots and lots of bug fixes with a few minor functionality enhancements.\\n\\n\\tmodified:   src/main/java/edu/ucla/sspace/common/Similarity.java\\n\\n- Added warnings for invalid KL-divergence computations\\n\\n- Added Kruskal-Goodman Gamma\\n\\n- Discovered Spearman's rho and Kendall's tau are both wrong (not fixed)  :(\\n\\n\\tmodified:   src/main/java/edu/ucla/sspace/common/statistics/LogLikelihoodTest.java\\n\\n- Fixed implementation\\n\\n\\tnew file:   src/main/java/edu/ucla/sspace/graph/ChineseWhispersClustering.java\\n\\n- Added CW clustering, but it does not appear to produce the same results as the\\n  existing code (needs investigation)\\n\\n\\tmodified:   src/main/java/edu/ucla/sspace/graph/GraphIO.java\\n\\n- Tweaked logging\\n\\n\\tmodified:   src/main/java/edu/ucla/sspace/graph/LinkClustering.java\\n\\n- Made thread count based on processors instead of fixed\\n\\n\\tnew file:   src/main/java/edu/ucla/sspace/graph/SimpleWeightedDirectedTypedEdge.java\\n\\tnew file:   src/main/java/edu/ucla/sspace/graph/SimpleWeightedTypedEdge.java\\n\\tnew file:   src/main/java/edu/ucla/sspace/graph/SparseWeightedDirectedEdgeSet.java\\n\\tnew file:   src/main/java/edu/ucla/sspace/graph/SparseWeightedDirectedTypedEdgeSet.java\\n\\tnew file:   src/main/java/edu/ucla/sspace/graph/WeightedDirectedMultigraph.java\\n\\tmodified:   src/main/java/edu/ucla/sspace/graph/WeightedDirectedTypedEdge.java\\n\\n- Added partial support for weighted multigraphs.  More features are probably needed eventually\\n\\n\\tmodified:   src/main/java/edu/ucla/sspace/graph/io/EdgeListReader.java\\n\\n- Added better logging instead of printf\\n\\n\\tnew file:   src/main/java/edu/ucla/sspace/graph/io/GraphMLReader.java\\n\\n- Added initial GraphML implementation for reading large GraphML files.  Only partial support is in place\\n\\n\\tmodified:   src/main/java/edu/ucla/sspace/index/DefaultPermutationFunction.java\\n\\n- Fixed outstanding bug.  Not sure how the bug was there in the first place, as\\n  the code was currently very broken in an odd way.\\n\\n\\tnew file:   src/main/java/edu/ucla/sspace/text/AnnotatedDocument.java\\n\\n- Added support for a new document that has a creation date and a label\\n\\n\\tnew file:   src/main/java/edu/ucla/sspace/text/BufferedFileListDocumentIterator.java\\n\\n- Added a new iterator that pre-caches the contents of files in a file list\\n  using a separate thread to cut down on disk I/O\\n\\n\\tmodified:   src/main/java/edu/ucla/sspace/text/FileDocument.java\\n\\n- Added support for a document back by a file whose contents are loaded into memory on demand\\n\\n\\tnew file:   src/main/java/edu/ucla/sspace/tools/IterativeBigramExtractor.java\\n\\n- Added a tool for finding statistical associations between terms in an\\n  iterative pair-wise manner\\n\\n\\tnew file:   src/main/java/edu/ucla/sspace/tools/LinkClusteringTool.java\\n\\n- Copied over code from the SVN branch for running link clustering from a jar\\n\\n\\tmodified:   src/main/java/edu/ucla/sspace/util/CombinedIterator.java\\n\\n- Corrected the Exception to be thrown in remove()\\n\\n\\tmodified:   src/main/java/edu/ucla/sspace/util/HashMultiMap.java\\n\\n- Correct a few errors in removing keys during iterator\\n\\n- Fixed a bug where null was returned instead of the empty set\\n\\n\\tnew file:   src/main/java/edu/ucla/sspace/util/KrippendorffsAlpha.java\\n\\n- Added a partial implementation of Krippendorff's alpha for ordinal-valued data\\n\\n\\tmodified:   src/main/java/edu/ucla/sspace/util/MultiMap.java\\n\\n- Clarified the javadoc\\n\\n\\tmodified:   src/main/java/edu/ucla/sspace/util/ObjectCounter.java\\n\\n- Implemented max() and min()\\n\\n\\tmodified:   src/main/java/edu/ucla/sspace/util/Pair.java\\n\\n- Made Serializable\\n\\n\\tmodified:   src/main/java/edu/ucla/sspace/util/SetDecorator.java\\n\\n- Clarified javadoc\\n\\n\\tnew file:   src/test/java/edu/ucla/sspace/graph/ChineseWhispersTest.java\\n\\tnew file:   src/test/java/edu/ucla/sspace/graph/SparseWeightedDirectedTypedEdgeSetTest.java\\n\\tnew file:   src/test/java/edu/ucla/sspace/graph/WeightedDirectedMultigraphTest.java\\n\\n- More unit tests\\n\\n\\tmodified:   src/test/java/edu/ucla/sspace/index/DefaultPermutationFunctionTest.java\\n\\n- Added some debugging output\\n\n",
      "category                                                                                                                                                                                                                                                                                                                                                                                                                                                                                                                                                                                                                                                                                                                                                                                                                                                                                                                                                                                                                                                                                                                                                                                                                                                                                                                                                                                                                                                                                                                                                                                                                                                                                                                                                                                                                                                                                                                                                                                                                                                                                                                                                                                                                                                                                                                                                                                                                                                                                                                                                                                                                                                                                                                                                                                                                                                                                                                                                                                                                                                                                                                                                                                                                                                                                                                                                                                                                                                                                                                                                                                                                                                                                                                                                                                                                                                                                                                                                                                                                                                                                                                                                                                                                                                                                                            bugfix\n",
      "Name: 833, dtype: object\n",
      "Length: 3996\n",
      "\n",
      "Row Index: 243\n",
      "commit_message    Added support for JDBC3.  The driver will now build under JDBC3 (i.e. Java 1.4).\\nThis concludes my changes that restructured the code to support JDBC3.\\nThe jdbc unit tests were also resturctured to allow different tests between\\njdbc2 and jdbc3, although currently make check (aka ant test) for JDBC3 just\\nruns the JDBC2 tests.  Of special note the largeobject/PGblob and PGclob\\nclasses have been moved under the jdbc2/jdbc3 specific directories as they\\nnow differ by jdbc version.  Also note that this checkin removes the\\nPostgresqlDataSource and files in the xa directory.  A recent checkin has\\nadded new datasource support that replaces the functionality provided by these\\nclasses.\\n\\n Modified Files:\\n \\tjdbc/build.xml\\n \\tjdbc/org/postgresql/jdbc1/AbstractJdbc1DatabaseMetaData.java\\n \\tjdbc/org/postgresql/jdbc1/AbstractJdbc1ResultSet.java\\n \\tjdbc/org/postgresql/jdbc1/AbstractJdbc1ResultSetMetaData.java\\n \\tjdbc/org/postgresql/jdbc1/AbstractJdbc1Statement.java\\n \\tjdbc/org/postgresql/jdbc2/AbstractJdbc2Connection.java\\n \\tjdbc/org/postgresql/jdbc2/AbstractJdbc2DatabaseMetaData.java\\n \\tjdbc/org/postgresql/jdbc2/AbstractJdbc2ResultSet.java\\n \\tjdbc/org/postgresql/jdbc2/AbstractJdbc2ResultSetMetaData.java\\n \\tjdbc/org/postgresql/jdbc2/AbstractJdbc2Statement.java\\n \\tjdbc/org/postgresql/jdbc2/Array.java\\n \\tjdbc/org/postgresql/jdbc2/Jdbc2CallableStatement.java\\n \\tjdbc/org/postgresql/jdbc2/Jdbc2Connection.java\\n \\tjdbc/org/postgresql/jdbc2/Jdbc2DatabaseMetaData.java\\n \\tjdbc/org/postgresql/jdbc2/Jdbc2PreparedStatement.java\\n \\tjdbc/org/postgresql/jdbc2/Jdbc2ResultSet.java\\n \\tjdbc/org/postgresql/jdbc2/Jdbc2ResultSetMetaData.java\\n \\tjdbc/org/postgresql/jdbc2/Jdbc2Statement.java\\n \\tjdbc/org/postgresql/test/jdbc2/BatchExecuteTest.java\\n \\tjdbc/org/postgresql/test/jdbc2/BlobTest.java\\n \\tjdbc/org/postgresql/test/jdbc2/CallableStmtTest.java\\n \\tjdbc/org/postgresql/test/jdbc2/ConnectionTest.java\\n \\tjdbc/org/postgresql/test/jdbc2/DatabaseMetaDataTest.java\\n \\tjdbc/org/postgresql/test/jdbc2/DateTest.java\\n \\tjdbc/org/postgresql/test/jdbc2/DriverTest.java\\n \\tjdbc/org/postgresql/test/jdbc2/JBuilderTest.java\\n \\tjdbc/org/postgresql/test/jdbc2/MiscTest.java\\n \\tjdbc/org/postgresql/test/jdbc2/ResultSetTest.java\\n \\tjdbc/org/postgresql/test/jdbc2/TimeTest.java\\n \\tjdbc/org/postgresql/test/jdbc2/TimestampTest.java\\n \\tjdbc/org/postgresql/test/jdbc2/UpdateableResultTest.java\\n Added Files:\\n \\tjdbc/org/postgresql/jdbc2/AbstractJdbc2Blob.java\\n \\tjdbc/org/postgresql/jdbc2/AbstractJdbc2Clob.java\\n \\tjdbc/org/postgresql/jdbc2/Jdbc2Blob.java\\n \\tjdbc/org/postgresql/jdbc2/Jdbc2Clob.java\\n \\tjdbc/org/postgresql/jdbc3/AbstractJdbc3Blob.java\\n \\tjdbc/org/postgresql/jdbc3/AbstractJdbc3Clob.java\\n \\tjdbc/org/postgresql/jdbc3/AbstractJdbc3Connection.java\\n \\tjdbc/org/postgresql/jdbc3/AbstractJdbc3DatabaseMetaData.java\\n \\tjdbc/org/postgresql/jdbc3/AbstractJdbc3ResultSet.java\\n \\tjdbc/org/postgresql/jdbc3/AbstractJdbc3Statement.java\\n \\tjdbc/org/postgresql/jdbc3/Jdbc3Blob.java\\n \\tjdbc/org/postgresql/jdbc3/Jdbc3CallableStatement.java\\n \\tjdbc/org/postgresql/jdbc3/Jdbc3Clob.java\\n \\tjdbc/org/postgresql/jdbc3/Jdbc3Connection.java\\n \\tjdbc/org/postgresql/jdbc3/Jdbc3DatabaseMetaData.java\\n \\tjdbc/org/postgresql/jdbc3/Jdbc3PreparedStatement.java\\n \\tjdbc/org/postgresql/jdbc3/Jdbc3ResultSet.java\\n \\tjdbc/org/postgresql/jdbc3/Jdbc3ResultSetMetaData.java\\n \\tjdbc/org/postgresql/jdbc3/Jdbc3Statement.java\\n \\tjdbc/org/postgresql/test/TestUtil.java\\n \\tjdbc/org/postgresql/test/jdbc2/Jdbc2TestSuite.java\\n \\tjdbc/org/postgresql/test/jdbc3/Jdbc3TestSuite.java\\n Removed Files:\\n \\tjdbc/org/postgresql/PostgresqlDataSource.java\\n \\tjdbc/org/postgresql/largeobject/PGblob.java\\n \\tjdbc/org/postgresql/largeobject/PGclob.java\\n \\tjdbc/org/postgresql/test/JDBC2Tests.java\\n \\tjdbc/org/postgresql/xa/ClientConnection.java\\n \\tjdbc/org/postgresql/xa/TwoPhaseConnection.java\\n \\tjdbc/org/postgresql/xa/TxConnection.java\\n \\tjdbc/org/postgresql/xa/XAConnectionImpl.java\\n \\tjdbc/org/postgresql/xa/XADataSourceImpl.java\\n\n",
      "category                                                                                                                                                                                                                                                                                                                                                                                                                                                                                                                                                                                                                                                                                                                                                                                                                                                                                                                                                                                                                                                                                                                                                                                                                                                                                                                                                                                                                                                                                                                                                                                                                                                                                                                                                                                                                                                                                                                                                                                                                                                                                                                                                                                                                                                                                                                                                                                                                                                                                                                                                                                                                                                                                                                                                                                                                                                                                                                                                                                                                                                                                                                                                                                                                                                                                                                                                                                                                                                                                                                                                                                                                                                                                                                                                                                                                                                                                                                                                                                                                                                                                                                                                                                                         functional\n",
      "Name: 243, dtype: object\n",
      "Length: 3903\n",
      "\n",
      "Row Index: 878\n",
      "commit_message    Merged revisions 391-416 via svnmerge from \\nhttps://svn.parabola.me.uk/svn/mkgmap/branches/filters\\n\\n........\\n  r391 | steve | 2007-12-01 17:22:34 +0000 (Sat, 01 Dec 2007) | 1 line\\n  \\n  Broke out the splitting of lines a little.\\n........\\n  r392 | steve | 2007-12-01 17:28:23 +0000 (Sat, 01 Dec 2007) | 1 line\\n  \\n  Remove the inline line splitting code.\\n........\\n  r393 | steve | 2007-12-01 20:29:03 +0000 (Sat, 01 Dec 2007) | 1 line\\n  \\n  Create filter infrastructure.\\n........\\n  r394 | steve | 2007-12-02 14:35:27 +0000 (Sun, 02 Dec 2007) | 2 lines\\n  \\n  A working implementation, although there is more to break out into filters and then we need to add some\\n  more functionality.\\n........\\n  r395 | steve | 2007-12-02 22:12:43 +0000 (Sun, 02 Dec 2007) | 1 line\\n  \\n  rename filter chain\\n........\\n  r396 | steve | 2007-12-02 22:13:25 +0000 (Sun, 02 Dec 2007) | 1 line\\n  \\n  rename line splitting filter\\n........\\n  r397 | steve | 2007-12-03 09:00:24 +0000 (Mon, 03 Dec 2007) | 1 line\\n  \\n  rename line splitting filter, add polygon splitter\\n........\\n  r398 | steve | 2007-12-03 10:28:16 +0000 (Mon, 03 Dec 2007) | 1 line\\n  \\n  Make sure that lines are always copied before changing their points as this would change them for all levels.\\n........\\n  r399 | steve | 2007-12-03 10:29:17 +0000 (Mon, 03 Dec 2007) | 1 line\\n  \\n  Add the copy constructors to the MapShape class too.\\n........\\n  r400 | steve | 2007-12-03 11:03:36 +0000 (Mon, 03 Dec 2007) | 1 line\\n  \\n  Add filtering for polygons and only add the line filter for lines and the polygon filters for polygons...\\n........\\n  r401 | steve | 2007-12-03 11:22:18 +0000 (Mon, 03 Dec 2007) | 1 line\\n  \\n  Some tidying\\n........\\n  r402 | steve | 2007-12-03 12:07:22 +0000 (Mon, 03 Dec 2007) | 1 line\\n  \\n  Split out files from the general package that do the actual general-->garmin conversion.\\n........\\n  r405 | steve | 2007-12-03 17:23:48 +0000 (Mon, 03 Dec 2007) | 1 line\\n  \\n  Useful amount of smothing applied.\\n........\\n  r406 | steve | 2007-12-03 20:58:29 +0000 (Mon, 03 Dec 2007) | 1 line\\n  \\n  Fix where was not returning after chaining the filter.\\n........\\n  r407 | steve | 2007-12-03 20:59:07 +0000 (Mon, 03 Dec 2007) | 1 line\\n  \\n  Now we have a polygon splitter.  Polygons that have too many points will be split.\\n........\\n  r408 | steve | 2007-12-03 21:16:07 +0000 (Mon, 03 Dec 2007) | 2 lines\\n  \\n  Remove println's\\n........\\n  r409 | steve | 2007-12-03 21:23:57 +0000 (Mon, 03 Dec 2007) | 1 line\\n  \\n  Now that the smoothing is in a filter, remove the old code to remove duplicate points.\\n........\\n\\n\\ngit-svn-id: http://svn.mkgmap.org.uk/mkgmap/trunk@417 25d90789-57f7-4ee0-8453-03a3dfeeeb22\\n\n",
      "category                                                                                                                                                                                                                                                                                                                                                                                                                                                                                                                                                                                                                                                                                                                                                                                                                                                                                                                                                                                                                                                                                                                                                                                                                                                                                                                                                                                                                                                                                                                                                                                                                                                                                                                                                                                                                                                                                                                                                                                                                                                                                                                                                                                                                                                                                                                                                                                                                                                                                                                                                                                                                                                                                                                                                                                                                           bugfix\n",
      "Name: 878, dtype: object\n",
      "Length: 2635\n",
      "\n",
      "Row Index: 50\n",
      "commit_message    - Added target for the nearest neighbor finder tool\\n- Reduced the default timeout for long-running tests\\n\\n- Added a jaccardIndex overload for two sets of elements\\n\\n- Fixed javadoc\\n\\n- Made class serializable\\n\\n- Added support for maximum path length\\n\\n- Reworked to use the new SimpleDependencyPath class\\n\\n- Revised error message for clarity\\n\\n- Updated to use new SimpleDependencyPath features\\n\\n- Updated to use new SimpleDependencyPath features\\n\\n- Major rewrite for clarity\\n\\n- Fixed toString()\\n\\n- Added static methods for testing the category of particular POS tag\\n\\n- Implemented missing methods\\n\\n- Added more imports (not sure why...)\\n\\n- Added logging\\n\\n- Added support for shuffling the edges of a graph using a fixed Random for reproducability\\n\\n- Multithreaded the edge similarity comparison\\n\\n- Probably some bug fixes too\\n\\n- Updated to use IntPair instead of Pair<Integer>\\n\\n- Updated to use IntSet\\n\\n- Major overhaul to bring performance in line with the earlier primitive\\n  collection enhancements\\n\\n- Probably needs a lot of clean up still\\n\\n- Updates to use new primitive collections\\n\\n- Updates to use new primitive collections\\n\\n- Added support for clustering to a fixed number of clusters\\n\\n- Added (limited) support for writing in GEXF format\\n\\n- Added (limited) support for writing in Pajek format\\n\\n- Made default output verbose\\n\\n- Remove extra temporary file that was just hanging around unneeded\\n\\n- Added support for getting the String that backs the document\\n\\n- Added a new class for testing the association between two terms, which is\\n  already partially supported by the BigramExtractor, but this class supports\\n  limiting the number of items being associated which enables better scaling\\n  through iterative association testing.\\n\\n- This class needs a lot of work.\\n\\n- Added an iterator for the documents in WaCkypedia\\n\\n- Fixed HTML bug in javadoc\\n\\n- Added new tool for running the NearestNeighborFinder from the command line\\n\\n- Fixed javadoc\\n\\n- Added support for changing the loging level of any logger namespace\\n\\n- Added new tool for speeding up repeated nearest-neighbor computations by\\n  partitioning a SemanticSpace into clusters (using K-means) and then only\\n  searching a subset.\\n\\n- Added support for reading and writing to streams and byte[] arrays\\n\\n- Updated to be an IntSet\\n\\n- Added Pair implementation\\n\\n- Fixed iterator remove bug\\n\\n- Added more extensive real-world unit tests\\n\\n- Added unit test details that match the example in the Ahn et al. paper\\n\\n- Added more tests\\n\n",
      "category                                                                                                                                                                                                                                                                                                                                                                                                                                                                                                                                                                                                                                                                                                                                                                                                                                                                                                                                                                                                                                                                                                                                                                                                                                                                                                                                                                                                                                                                                                                                                                                                                                                                                                                                                                                                                                                                                                                                                                                                                                                                                                                                                                                                                                                                                                                                                                                                                                                                                                                                                                                                                                                                                            bugfix\n",
      "Name: 50, dtype: object\n",
      "Length: 2488\n"
     ]
    }
   ],
   "source": [
    "# Find the top 5 rows with the maximum lengths in 'col1' (sorted by descending length)\n",
    "top_5_max_lengths = df['commit_message'].str.len().sort_values(ascending=False).head(5)\n",
    "\n",
    "# Print the top 5 rows with corresponding lengths\n",
    "for index, length in top_5_max_lengths.items():\n",
    "  print(f\"\\nRow Index: {index}\")\n",
    "  print(df.loc[index])\n",
    "  print(f\"Length: {length}\")\n",
    "\n"
   ]
  },
  {
   "cell_type": "code",
   "execution_count": 18,
   "metadata": {},
   "outputs": [],
   "source": [
    "# Assuming 'commit_message' is the column with text data\n",
    "df['commit_message_clean'] = df['commit_message'].apply(clean_text)\n",
    "df['commit_message_clean'] = df['commit_message_clean'].apply(remove_stopwords)\n"
   ]
  },
  {
   "cell_type": "code",
   "execution_count": 19,
   "metadata": {},
   "outputs": [
    {
     "name": "stdout",
     "output_type": "stream",
     "text": [
      "\n",
      "Row Index: 400\n",
      "commit_message          Changes based on Keith's review.  A few tweaks to EdgeSet to help tracking edge\\nremoval\\n\\n\\tmodified:   src/edu/ucla/sspace/common/Similarity.java\\n\\n- Updated to use VectorMath.dotProduct for the Tanimoto coefficient\\n\\n\\tdeleted:    src/edu/ucla/sspace/common/WordComparator.java\\n\\n- Moved to SimpleNearestNeighborFinder\\n\\n\\tmodified:   src/edu/ucla/sspace/dependency/SimpleDependencyPath.java\\n\\n- Removed println\\n\\n\\tmodified:   src/edu/ucla/sspace/graph/AbstractGraph.java\\n\\n- Added missing implementation to Subgraph class so now all the unit tests pass\\n\\n\\tmodified:   src/edu/ucla/sspace/graph/DirectedMultigraph.java\\n\\n- Added missing implementation to Subgraph class so now all the unit tests pass\\n\\n- Fixed bug for reporting the correct edge types after removal\\n\\n- Removed dead code\\n\\n\\tmodified:   src/edu/ucla/sspace/graph/EdgeSet.java\\n\\n- Updated so that disconnect() now returns the number of edges that were removed\\n\\n\\tmodified:   src/edu/ucla/sspace/graph/GenericEdgeSet.java\\n\\tmodified:   src/edu/ucla/sspace/graph/SparseDirectedEdgeSet.java\\n\\tmodified:   src/edu/ucla/sspace/graph/SparseDirectedTypedEdgeSet.java\\n\\tmodified:   src/edu/ucla/sspace/graph/SparseTypedEdgeSet.java\\n\\tmodified:   src/edu/ucla/sspace/graph/SparseUndirectedEdgeSet.java\\n\\tmodified:   src/edu/ucla/sspace/graph/SparseWeightedEdgeSet.java\\n\\n- Updated to support EdgeSet interface change\\n\\n\\tdeleted:    src/edu/ucla/sspace/graph/GraphRandomizer.java\\n\\n- Removed dead class (functionality is in Graphs.java)\\n\\n\\tmodified:   src/edu/ucla/sspace/graph/SimpleWeightedEdge.java\\n\\n- Fixed hashCode()\\n\\n\\tdeleted:    src/edu/ucla/sspace/graph/SparseSymmetricEdgeSet.java\\n\\n- Removed dead class\\n\\n\\tmodified:   src/edu/ucla/sspace/graph/UndirectedMultigraph.java\\n\\n- Added missing implementation to Subgraph class so now all the unit tests pass\\n\\n- Fixed bug for reporting the correct edge types after removal\\n\\n- Removed dead code\\n\\n\\tmodified:   src/edu/ucla/sspace/mains/FixedDurationTemporalRandomIndexingMain.java\\n\\n- Updated to replace WordComparator with SimpleNearestNeighborFinder\\n\\n\\tmodified:   src/edu/ucla/sspace/mains/LexSubWordsiMain.java\\n\\n- Updated to replace WordComparator with SimpleNearestNeighborFinder\\n\\n\\tmodified:   src/edu/ucla/sspace/text/LabeledParsedStringDocument.java\\n\\n- Updated for new ParsedDocument interface\\n\\n\\tmodified:   src/edu/ucla/sspace/text/ParsedDocument.java\\n\\n- Updated to specify the format of text() as the tokens with white space delimiters.\\n\\n- Added a new prettyPrintText() which is the attempt to nicely format the tokens\\n  as they would have been originally.\\n\\n\\tmodified:   src/edu/ucla/sspace/text/PukWaCDocumentIterator.java\\n\\n- Fixed javadoc\\n\\n\\tmodified:   src/edu/ucla/sspace/text/UkWaCDocumentIterator.java\\n\\n- Added more class javadoc\\n\\n\\tmodified:   src/edu/ucla/sspace/tools/NearestNeighborFinderTool.java\\n\\n- Updated to use the class instances instead of the interface\\n\\n\\tmodified:   src/edu/ucla/sspace/tools/SemanticSpaceExplorer.java\\n\\n- Updated to replace WordComparator with PartitioningNearestNeighborFinder\\n\\n\\tmodified:   src/edu/ucla/sspace/tools/SimilarityListGenerator.java\\n\\n- Updated to replace WordComparator with PartitioningNearestNeighborFinder\\n\\n\\tmodified:   src/edu/ucla/sspace/util/HashIndexer.java\\n\\n- Fixed javadoc\\n\\n\\tmodified:   src/edu/ucla/sspace/util/PairCounter.java\\n\\n- Fixed javadoc\\n\\n\\trenamed:    src/edu/ucla/sspace/util/NearestNeighborFinder.java -> src/edu/ucla/sspace/util/PartitioningNearestNeighborFinder.java\\n\\n- Moved so that NearestNeighborFinder can be an interface\\n\\n\\tmodified:   src/edu/ucla/sspace/util/ReflectionUtil.java\\n\\n- Removed dead code\\n\\n\\tmodified:   src/edu/ucla/sspace/util/primitive/IntIntHashMultiMap.java\\n\\n- Added javadoc\\n\\n\\tmodified:   src/edu/ucla/sspace/util/primitive/IntIntMultiMap.java\\n\\n- Added javadoc\\n\\n\\tmodified:   test/edu/ucla/sspace/graph/DirectedMultigraphTests.java\\n\\n- Uncommented out unit tests\\n\\n\\tmodified:   test/edu/ucla/sspace/dependency/BreadthFirstPathIteratorTest.java\\n\\tmodified:   test/edu/ucla/sspace/dependency/CoNLLDependencyExtractorTest.java\\n\\tmodified:   test/edu/ucla/sspace/dependency/WaCKyDependencyExtractorTest.java\\n\\tmodified:   test/edu/ucla/sspace/text/corpora/PukWacDependencyCorpusReaderTest.java\\n\\tmodified:   test/edu/ucla/sspace/wordsi/DependencyContextExtractorTest.java\\n\\tmodified:   test/edu/ucla/sspace/wordsi/OccurrenceDependencyContextGeneratorTest.java\\n\\tmodified:   test/edu/ucla/sspace/wordsi/OrderingDependencyContextGeneratorTest.java\\n\\tmodified:   test/edu/ucla/sspace/wordsi/PartOfSpeechDependencyContextGeneratorTest.java\\n\\tmodified:   test/edu/ucla/sspace/wordsi/psd/PseudoWordDependencyContextExtractorTest.java\\n\\tmodified:   test/edu/ucla/sspace/wordsi/semeval/SemEvalDependencyContextExtractorTest.java\\n\\n- Fixed unit tests to support proper tab-delimiting of the CoNLL format\\n\n",
      "category                                                                                                                                                                                                                                                                                                                                                                                                                                                                                                                                                                                                                                                                                                                                                                                                                                                                                                                                                                                                                                                                                                                                                                                                                                                                                                                                                                                                                                                                                                                                                                                                                                                                                                                                                                                                                                                                                                                                                                                                                                                                                                                                                                                                                                                                                                                                                                                                                                                                                                                                                                                                                                                                                                                                                                                                                                                                                                                                                                                                                                                                                                                                                                                                                                                                                                                                                                                                                                                                                                                                                                                                                                                                                                                                                                                                                                                                                                                                                                                                                                                                                                                                                                                                                                                                                                                                                                                                                                                                                                                                                                                                                                                                                                                                                                                                                                                                                                                                                                                                                                                                                                                                                bugfix\n",
      "commit_message_clean                                                                                                                                                                                                                                                                                                                                                                                                                                                                                                                                                                                                                                                                                                                                                                                                                                                                                                                                                                                                                                                                                                             Changes based Keiths review tweaks EdgeSet help tracking edge removal modified srceduuclasspacecommonSimilarityjava Updated use VectorMathdotProduct Tanimoto coefficient deleted srceduuclasspacecommonWordComparatorjava Moved SimpleNearestNeighborFinder modified srceduuclasspacedependencySimpleDependencyPathjava Removed println modified srceduuclasspacegraphAbstractGraphjava Added missing implementation Subgraph class unit tests pass modified srceduuclasspacegraphDirectedMultigraphjava Added missing implementation Subgraph class unit tests pass Fixed bug reporting correct edge types removal Removed dead code modified srceduuclasspacegraphEdgeSetjava Updated disconnect returns number edges removed modified srceduuclasspacegraphGenericEdgeSetjava modified srceduuclasspacegraphSparseDirectedEdgeSetjava modified srceduuclasspacegraphSparseDirectedTypedEdgeSetjava modified srceduuclasspacegraphSparseTypedEdgeSetjava modified srceduuclasspacegraphSparseUndirectedEdgeSetjava modified srceduuclasspacegraphSparseWeightedEdgeSetjava Updated support EdgeSet interface change deleted srceduuclasspacegraphGraphRandomizerjava Removed dead class functionality Graphsjava modified srceduuclasspacegraphSimpleWeightedEdgejava Fixed hashCode deleted srceduuclasspacegraphSparseSymmetricEdgeSetjava Removed dead class modified srceduuclasspacegraphUndirectedMultigraphjava Added missing implementation Subgraph class unit tests pass Fixed bug reporting correct edge types removal Removed dead code modified srceduuclasspacemainsFixedDurationTemporalRandomIndexingMainjava Updated replace WordComparator SimpleNearestNeighborFinder modified srceduuclasspacemainsLexSubWordsiMainjava Updated replace WordComparator SimpleNearestNeighborFinder modified srceduuclasspacetextLabeledParsedStringDocumentjava Updated new ParsedDocument interface modified srceduuclasspacetextParsedDocumentjava Updated specify format text tokens white space delimiters Added new prettyPrintText attempt nicely format tokens would originally modified srceduuclasspacetextPukWaCDocumentIteratorjava Fixed javadoc modified srceduuclasspacetextUkWaCDocumentIteratorjava Added class javadoc modified srceduuclasspacetoolsNearestNeighborFinderTooljava Updated use class instances instead interface modified srceduuclasspacetoolsSemanticSpaceExplorerjava Updated replace WordComparator PartitioningNearestNeighborFinder modified srceduuclasspacetoolsSimilarityListGeneratorjava Updated replace WordComparator PartitioningNearestNeighborFinder modified srceduuclasspaceutilHashIndexerjava Fixed javadoc modified srceduuclasspaceutilPairCounterjava Fixed javadoc renamed srceduuclasspaceutilNearestNeighborFinderjava srceduuclasspaceutilPartitioningNearestNeighborFinderjava Moved NearestNeighborFinder interface modified srceduuclasspaceutilReflectionUtiljava Removed dead code modified srceduuclasspaceutilprimitiveIntIntHashMultiMapjava Added javadoc modified srceduuclasspaceutilprimitiveIntIntMultiMapjava Added javadoc modified testeduuclasspacegraphDirectedMultigraphTestsjava Uncommented unit tests modified testeduuclasspacedependencyBreadthFirstPathIteratorTestjava modified testeduuclasspacedependencyCoNLLDependencyExtractorTestjava modified testeduuclasspacedependencyWaCKyDependencyExtractorTestjava modified testeduuclasspacetextcorporaPukWacDependencyCorpusReaderTestjava modified testeduuclasspacewordsiDependencyContextExtractorTestjava modified testeduuclasspacewordsiOccurrenceDependencyContextGeneratorTestjava modified testeduuclasspacewordsiOrderingDependencyContextGeneratorTestjava modified testeduuclasspacewordsiPartOfSpeechDependencyContextGeneratorTestjava modified testeduuclasspacewordsipsdPseudoWordDependencyContextExtractorTestjava modified testeduuclasspacewordsisemevalSemEvalDependencyContextExtractorTestjava Fixed unit tests support proper tabdelimiting CoNLL format\n",
      "Name: 400, dtype: object\n",
      "Length: 3869\n",
      "\n",
      "Row Index: 243\n",
      "commit_message          Added support for JDBC3.  The driver will now build under JDBC3 (i.e. Java 1.4).\\nThis concludes my changes that restructured the code to support JDBC3.\\nThe jdbc unit tests were also resturctured to allow different tests between\\njdbc2 and jdbc3, although currently make check (aka ant test) for JDBC3 just\\nruns the JDBC2 tests.  Of special note the largeobject/PGblob and PGclob\\nclasses have been moved under the jdbc2/jdbc3 specific directories as they\\nnow differ by jdbc version.  Also note that this checkin removes the\\nPostgresqlDataSource and files in the xa directory.  A recent checkin has\\nadded new datasource support that replaces the functionality provided by these\\nclasses.\\n\\n Modified Files:\\n \\tjdbc/build.xml\\n \\tjdbc/org/postgresql/jdbc1/AbstractJdbc1DatabaseMetaData.java\\n \\tjdbc/org/postgresql/jdbc1/AbstractJdbc1ResultSet.java\\n \\tjdbc/org/postgresql/jdbc1/AbstractJdbc1ResultSetMetaData.java\\n \\tjdbc/org/postgresql/jdbc1/AbstractJdbc1Statement.java\\n \\tjdbc/org/postgresql/jdbc2/AbstractJdbc2Connection.java\\n \\tjdbc/org/postgresql/jdbc2/AbstractJdbc2DatabaseMetaData.java\\n \\tjdbc/org/postgresql/jdbc2/AbstractJdbc2ResultSet.java\\n \\tjdbc/org/postgresql/jdbc2/AbstractJdbc2ResultSetMetaData.java\\n \\tjdbc/org/postgresql/jdbc2/AbstractJdbc2Statement.java\\n \\tjdbc/org/postgresql/jdbc2/Array.java\\n \\tjdbc/org/postgresql/jdbc2/Jdbc2CallableStatement.java\\n \\tjdbc/org/postgresql/jdbc2/Jdbc2Connection.java\\n \\tjdbc/org/postgresql/jdbc2/Jdbc2DatabaseMetaData.java\\n \\tjdbc/org/postgresql/jdbc2/Jdbc2PreparedStatement.java\\n \\tjdbc/org/postgresql/jdbc2/Jdbc2ResultSet.java\\n \\tjdbc/org/postgresql/jdbc2/Jdbc2ResultSetMetaData.java\\n \\tjdbc/org/postgresql/jdbc2/Jdbc2Statement.java\\n \\tjdbc/org/postgresql/test/jdbc2/BatchExecuteTest.java\\n \\tjdbc/org/postgresql/test/jdbc2/BlobTest.java\\n \\tjdbc/org/postgresql/test/jdbc2/CallableStmtTest.java\\n \\tjdbc/org/postgresql/test/jdbc2/ConnectionTest.java\\n \\tjdbc/org/postgresql/test/jdbc2/DatabaseMetaDataTest.java\\n \\tjdbc/org/postgresql/test/jdbc2/DateTest.java\\n \\tjdbc/org/postgresql/test/jdbc2/DriverTest.java\\n \\tjdbc/org/postgresql/test/jdbc2/JBuilderTest.java\\n \\tjdbc/org/postgresql/test/jdbc2/MiscTest.java\\n \\tjdbc/org/postgresql/test/jdbc2/ResultSetTest.java\\n \\tjdbc/org/postgresql/test/jdbc2/TimeTest.java\\n \\tjdbc/org/postgresql/test/jdbc2/TimestampTest.java\\n \\tjdbc/org/postgresql/test/jdbc2/UpdateableResultTest.java\\n Added Files:\\n \\tjdbc/org/postgresql/jdbc2/AbstractJdbc2Blob.java\\n \\tjdbc/org/postgresql/jdbc2/AbstractJdbc2Clob.java\\n \\tjdbc/org/postgresql/jdbc2/Jdbc2Blob.java\\n \\tjdbc/org/postgresql/jdbc2/Jdbc2Clob.java\\n \\tjdbc/org/postgresql/jdbc3/AbstractJdbc3Blob.java\\n \\tjdbc/org/postgresql/jdbc3/AbstractJdbc3Clob.java\\n \\tjdbc/org/postgresql/jdbc3/AbstractJdbc3Connection.java\\n \\tjdbc/org/postgresql/jdbc3/AbstractJdbc3DatabaseMetaData.java\\n \\tjdbc/org/postgresql/jdbc3/AbstractJdbc3ResultSet.java\\n \\tjdbc/org/postgresql/jdbc3/AbstractJdbc3Statement.java\\n \\tjdbc/org/postgresql/jdbc3/Jdbc3Blob.java\\n \\tjdbc/org/postgresql/jdbc3/Jdbc3CallableStatement.java\\n \\tjdbc/org/postgresql/jdbc3/Jdbc3Clob.java\\n \\tjdbc/org/postgresql/jdbc3/Jdbc3Connection.java\\n \\tjdbc/org/postgresql/jdbc3/Jdbc3DatabaseMetaData.java\\n \\tjdbc/org/postgresql/jdbc3/Jdbc3PreparedStatement.java\\n \\tjdbc/org/postgresql/jdbc3/Jdbc3ResultSet.java\\n \\tjdbc/org/postgresql/jdbc3/Jdbc3ResultSetMetaData.java\\n \\tjdbc/org/postgresql/jdbc3/Jdbc3Statement.java\\n \\tjdbc/org/postgresql/test/TestUtil.java\\n \\tjdbc/org/postgresql/test/jdbc2/Jdbc2TestSuite.java\\n \\tjdbc/org/postgresql/test/jdbc3/Jdbc3TestSuite.java\\n Removed Files:\\n \\tjdbc/org/postgresql/PostgresqlDataSource.java\\n \\tjdbc/org/postgresql/largeobject/PGblob.java\\n \\tjdbc/org/postgresql/largeobject/PGclob.java\\n \\tjdbc/org/postgresql/test/JDBC2Tests.java\\n \\tjdbc/org/postgresql/xa/ClientConnection.java\\n \\tjdbc/org/postgresql/xa/TwoPhaseConnection.java\\n \\tjdbc/org/postgresql/xa/TxConnection.java\\n \\tjdbc/org/postgresql/xa/XAConnectionImpl.java\\n \\tjdbc/org/postgresql/xa/XADataSourceImpl.java\\n\n",
      "category                                                                                                                                                                                                                                                                                                                                                                                                                                                                                                                                                                                                                                                                                                                                                                                                                                                                                                                                                                                                                                                                                                                                                                                                                                                                                                                                                                                                                                                                                                                                                                                                                                                                                                                                                                                                                                                                                                                                                                                                                                                                                                                                                                                                                                                                                                                                                                                                                                                                                                                                                                                                                                                                                                                                                                                                                                                                                                                                                                                                                                                                                                                                                                                                                                                                                                                                                                                                                                                                                                                                                                                                                                                                                                                                                                                                                                                                                                                                                                                                                                                                                                                                                                                                               functional\n",
      "commit_message_clean                                                                                                                                                                                                                                                                                                                                                                                                                                                                                                                                                                                                                                                                                                                                                                                                                                                                                                                            Added support JDBC driver build JDBC ie Java concludes changes restructured code support JDBC jdbc unit tests also resturctured allow different tests jdbc jdbc although currently make check aka ant test JDBC runs JDBC tests special note largeobjectPGblob PGclob classes moved jdbcjdbc specific directories differ jdbc version Also note checkin removes PostgresqlDataSource files xa directory recent checkin added new datasource support replaces functionality provided classes Modified Files jdbcbuildxml jdbcorgpostgresqljdbcAbstractJdbcDatabaseMetaDatajava jdbcorgpostgresqljdbcAbstractJdbcResultSetjava jdbcorgpostgresqljdbcAbstractJdbcResultSetMetaDatajava jdbcorgpostgresqljdbcAbstractJdbcStatementjava jdbcorgpostgresqljdbcAbstractJdbcConnectionjava jdbcorgpostgresqljdbcAbstractJdbcDatabaseMetaDatajava jdbcorgpostgresqljdbcAbstractJdbcResultSetjava jdbcorgpostgresqljdbcAbstractJdbcResultSetMetaDatajava jdbcorgpostgresqljdbcAbstractJdbcStatementjava jdbcorgpostgresqljdbcArrayjava jdbcorgpostgresqljdbcJdbcCallableStatementjava jdbcorgpostgresqljdbcJdbcConnectionjava jdbcorgpostgresqljdbcJdbcDatabaseMetaDatajava jdbcorgpostgresqljdbcJdbcPreparedStatementjava jdbcorgpostgresqljdbcJdbcResultSetjava jdbcorgpostgresqljdbcJdbcResultSetMetaDatajava jdbcorgpostgresqljdbcJdbcStatementjava jdbcorgpostgresqltestjdbcBatchExecuteTestjava jdbcorgpostgresqltestjdbcBlobTestjava jdbcorgpostgresqltestjdbcCallableStmtTestjava jdbcorgpostgresqltestjdbcConnectionTestjava jdbcorgpostgresqltestjdbcDatabaseMetaDataTestjava jdbcorgpostgresqltestjdbcDateTestjava jdbcorgpostgresqltestjdbcDriverTestjava jdbcorgpostgresqltestjdbcJBuilderTestjava jdbcorgpostgresqltestjdbcMiscTestjava jdbcorgpostgresqltestjdbcResultSetTestjava jdbcorgpostgresqltestjdbcTimeTestjava jdbcorgpostgresqltestjdbcTimestampTestjava jdbcorgpostgresqltestjdbcUpdateableResultTestjava Added Files jdbcorgpostgresqljdbcAbstractJdbcBlobjava jdbcorgpostgresqljdbcAbstractJdbcClobjava jdbcorgpostgresqljdbcJdbcBlobjava jdbcorgpostgresqljdbcJdbcClobjava jdbcorgpostgresqljdbcAbstractJdbcBlobjava jdbcorgpostgresqljdbcAbstractJdbcClobjava jdbcorgpostgresqljdbcAbstractJdbcConnectionjava jdbcorgpostgresqljdbcAbstractJdbcDatabaseMetaDatajava jdbcorgpostgresqljdbcAbstractJdbcResultSetjava jdbcorgpostgresqljdbcAbstractJdbcStatementjava jdbcorgpostgresqljdbcJdbcBlobjava jdbcorgpostgresqljdbcJdbcCallableStatementjava jdbcorgpostgresqljdbcJdbcClobjava jdbcorgpostgresqljdbcJdbcConnectionjava jdbcorgpostgresqljdbcJdbcDatabaseMetaDatajava jdbcorgpostgresqljdbcJdbcPreparedStatementjava jdbcorgpostgresqljdbcJdbcResultSetjava jdbcorgpostgresqljdbcJdbcResultSetMetaDatajava jdbcorgpostgresqljdbcJdbcStatementjava jdbcorgpostgresqltestTestUtiljava jdbcorgpostgresqltestjdbcJdbcTestSuitejava jdbcorgpostgresqltestjdbcJdbcTestSuitejava Removed Files jdbcorgpostgresqlPostgresqlDataSourcejava jdbcorgpostgresqllargeobjectPGblobjava jdbcorgpostgresqllargeobjectPGclobjava jdbcorgpostgresqltestJDBCTestsjava jdbcorgpostgresqlxaClientConnectionjava jdbcorgpostgresqlxaTwoPhaseConnectionjava jdbcorgpostgresqlxaTxConnectionjava jdbcorgpostgresqlxaXAConnectionImpljava jdbcorgpostgresqlxaXADataSourceImpljava\n",
      "Name: 243, dtype: object\n",
      "Length: 3153\n",
      "\n",
      "Row Index: 833\n",
      "commit_message          Lots and lots of bug fixes with a few minor functionality enhancements.\\n\\n\\tmodified:   src/main/java/edu/ucla/sspace/common/Similarity.java\\n\\n- Added warnings for invalid KL-divergence computations\\n\\n- Added Kruskal-Goodman Gamma\\n\\n- Discovered Spearman's rho and Kendall's tau are both wrong (not fixed)  :(\\n\\n\\tmodified:   src/main/java/edu/ucla/sspace/common/statistics/LogLikelihoodTest.java\\n\\n- Fixed implementation\\n\\n\\tnew file:   src/main/java/edu/ucla/sspace/graph/ChineseWhispersClustering.java\\n\\n- Added CW clustering, but it does not appear to produce the same results as the\\n  existing code (needs investigation)\\n\\n\\tmodified:   src/main/java/edu/ucla/sspace/graph/GraphIO.java\\n\\n- Tweaked logging\\n\\n\\tmodified:   src/main/java/edu/ucla/sspace/graph/LinkClustering.java\\n\\n- Made thread count based on processors instead of fixed\\n\\n\\tnew file:   src/main/java/edu/ucla/sspace/graph/SimpleWeightedDirectedTypedEdge.java\\n\\tnew file:   src/main/java/edu/ucla/sspace/graph/SimpleWeightedTypedEdge.java\\n\\tnew file:   src/main/java/edu/ucla/sspace/graph/SparseWeightedDirectedEdgeSet.java\\n\\tnew file:   src/main/java/edu/ucla/sspace/graph/SparseWeightedDirectedTypedEdgeSet.java\\n\\tnew file:   src/main/java/edu/ucla/sspace/graph/WeightedDirectedMultigraph.java\\n\\tmodified:   src/main/java/edu/ucla/sspace/graph/WeightedDirectedTypedEdge.java\\n\\n- Added partial support for weighted multigraphs.  More features are probably needed eventually\\n\\n\\tmodified:   src/main/java/edu/ucla/sspace/graph/io/EdgeListReader.java\\n\\n- Added better logging instead of printf\\n\\n\\tnew file:   src/main/java/edu/ucla/sspace/graph/io/GraphMLReader.java\\n\\n- Added initial GraphML implementation for reading large GraphML files.  Only partial support is in place\\n\\n\\tmodified:   src/main/java/edu/ucla/sspace/index/DefaultPermutationFunction.java\\n\\n- Fixed outstanding bug.  Not sure how the bug was there in the first place, as\\n  the code was currently very broken in an odd way.\\n\\n\\tnew file:   src/main/java/edu/ucla/sspace/text/AnnotatedDocument.java\\n\\n- Added support for a new document that has a creation date and a label\\n\\n\\tnew file:   src/main/java/edu/ucla/sspace/text/BufferedFileListDocumentIterator.java\\n\\n- Added a new iterator that pre-caches the contents of files in a file list\\n  using a separate thread to cut down on disk I/O\\n\\n\\tmodified:   src/main/java/edu/ucla/sspace/text/FileDocument.java\\n\\n- Added support for a document back by a file whose contents are loaded into memory on demand\\n\\n\\tnew file:   src/main/java/edu/ucla/sspace/tools/IterativeBigramExtractor.java\\n\\n- Added a tool for finding statistical associations between terms in an\\n  iterative pair-wise manner\\n\\n\\tnew file:   src/main/java/edu/ucla/sspace/tools/LinkClusteringTool.java\\n\\n- Copied over code from the SVN branch for running link clustering from a jar\\n\\n\\tmodified:   src/main/java/edu/ucla/sspace/util/CombinedIterator.java\\n\\n- Corrected the Exception to be thrown in remove()\\n\\n\\tmodified:   src/main/java/edu/ucla/sspace/util/HashMultiMap.java\\n\\n- Correct a few errors in removing keys during iterator\\n\\n- Fixed a bug where null was returned instead of the empty set\\n\\n\\tnew file:   src/main/java/edu/ucla/sspace/util/KrippendorffsAlpha.java\\n\\n- Added a partial implementation of Krippendorff's alpha for ordinal-valued data\\n\\n\\tmodified:   src/main/java/edu/ucla/sspace/util/MultiMap.java\\n\\n- Clarified the javadoc\\n\\n\\tmodified:   src/main/java/edu/ucla/sspace/util/ObjectCounter.java\\n\\n- Implemented max() and min()\\n\\n\\tmodified:   src/main/java/edu/ucla/sspace/util/Pair.java\\n\\n- Made Serializable\\n\\n\\tmodified:   src/main/java/edu/ucla/sspace/util/SetDecorator.java\\n\\n- Clarified javadoc\\n\\n\\tnew file:   src/test/java/edu/ucla/sspace/graph/ChineseWhispersTest.java\\n\\tnew file:   src/test/java/edu/ucla/sspace/graph/SparseWeightedDirectedTypedEdgeSetTest.java\\n\\tnew file:   src/test/java/edu/ucla/sspace/graph/WeightedDirectedMultigraphTest.java\\n\\n- More unit tests\\n\\n\\tmodified:   src/test/java/edu/ucla/sspace/index/DefaultPermutationFunctionTest.java\\n\\n- Added some debugging output\\n\n",
      "category                                                                                                                                                                                                                                                                                                                                                                                                                                                                                                                                                                                                                                                                                                                                                                                                                                                                                                                                                                                                                                                                                                                                                                                                                                                                                                                                                                                                                                                                                                                                                                                                                                                                                                                                                                                                                                                                                                                                                                                                                                                                                                                                                                                                                                                                                                                                                                                                                                                                                                                                                                                                                                                                                                                                                                                                                                                                                                                                                                                                                                                                                                                                                                                                                                                                                                                                                                                                                                                                                                                                                                                                                                                                                                                                                                                                                                                                                                                                                                                                                                                                                                                                                                                                                                                                                                                  bugfix\n",
      "commit_message_clean                                                                                                                                                                                                                                                                                                                                                                                                                                                                                                                                                                                                                                                                                                                                                                                                                                                                                                                                                                                                                                                          Lots lots bug fixes minor functionality enhancements modified srcmainjavaeduuclasspacecommonSimilarityjava Added warnings invalid KLdivergence computations Added KruskalGoodman Gamma Discovered Spearmans rho Kendalls tau wrong fixed modified srcmainjavaeduuclasspacecommonstatisticsLogLikelihoodTestjava Fixed implementation new file srcmainjavaeduuclasspacegraphChineseWhispersClusteringjava Added CW clustering appear produce results existing code needs investigation modified srcmainjavaeduuclasspacegraphGraphIOjava Tweaked logging modified srcmainjavaeduuclasspacegraphLinkClusteringjava Made thread count based processors instead fixed new file srcmainjavaeduuclasspacegraphSimpleWeightedDirectedTypedEdgejava new file srcmainjavaeduuclasspacegraphSimpleWeightedTypedEdgejava new file srcmainjavaeduuclasspacegraphSparseWeightedDirectedEdgeSetjava new file srcmainjavaeduuclasspacegraphSparseWeightedDirectedTypedEdgeSetjava new file srcmainjavaeduuclasspacegraphWeightedDirectedMultigraphjava modified srcmainjavaeduuclasspacegraphWeightedDirectedTypedEdgejava Added partial support weighted multigraphs features probably needed eventually modified srcmainjavaeduuclasspacegraphioEdgeListReaderjava Added better logging instead printf new file srcmainjavaeduuclasspacegraphioGraphMLReaderjava Added initial GraphML implementation reading large GraphML files partial support place modified srcmainjavaeduuclasspaceindexDefaultPermutationFunctionjava Fixed outstanding bug sure bug first place code currently broken odd new file srcmainjavaeduuclasspacetextAnnotatedDocumentjava Added support new document creation date label new file srcmainjavaeduuclasspacetextBufferedFileListDocumentIteratorjava Added new iterator precaches contents files file list using separate thread cut disk IO modified srcmainjavaeduuclasspacetextFileDocumentjava Added support document back file whose contents loaded memory demand new file srcmainjavaeduuclasspacetoolsIterativeBigramExtractorjava Added tool finding statistical associations terms iterative pairwise manner new file srcmainjavaeduuclasspacetoolsLinkClusteringTooljava Copied code branch running link clustering jar modified srcmainjavaeduuclasspaceutilCombinedIteratorjava Corrected Exception thrown remove modified srcmainjavaeduuclasspaceutilHashMultiMapjava Correct errors removing keys iterator Fixed bug null returned instead empty set new file srcmainjavaeduuclasspaceutilKrippendorffsAlphajava Added partial implementation Krippendorffs alpha ordinalvalued data modified srcmainjavaeduuclasspaceutilMultiMapjava Clarified javadoc modified srcmainjavaeduuclasspaceutilObjectCounterjava Implemented max min modified srcmainjavaeduuclasspaceutilPairjava Made Serializable modified srcmainjavaeduuclasspaceutilSetDecoratorjava Clarified javadoc new file srctestjavaeduuclasspacegraphChineseWhispersTestjava new file srctestjavaeduuclasspacegraphSparseWeightedDirectedTypedEdgeSetTestjava new file srctestjavaeduuclasspacegraphWeightedDirectedMultigraphTestjava unit tests modified srctestjavaeduuclasspaceindexDefaultPermutationFunctionTestjava Added debugging output\n",
      "Name: 833, dtype: object\n",
      "Length: 3122\n",
      "\n",
      "Row Index: 50\n",
      "commit_message          - Added target for the nearest neighbor finder tool\\n- Reduced the default timeout for long-running tests\\n\\n- Added a jaccardIndex overload for two sets of elements\\n\\n- Fixed javadoc\\n\\n- Made class serializable\\n\\n- Added support for maximum path length\\n\\n- Reworked to use the new SimpleDependencyPath class\\n\\n- Revised error message for clarity\\n\\n- Updated to use new SimpleDependencyPath features\\n\\n- Updated to use new SimpleDependencyPath features\\n\\n- Major rewrite for clarity\\n\\n- Fixed toString()\\n\\n- Added static methods for testing the category of particular POS tag\\n\\n- Implemented missing methods\\n\\n- Added more imports (not sure why...)\\n\\n- Added logging\\n\\n- Added support for shuffling the edges of a graph using a fixed Random for reproducability\\n\\n- Multithreaded the edge similarity comparison\\n\\n- Probably some bug fixes too\\n\\n- Updated to use IntPair instead of Pair<Integer>\\n\\n- Updated to use IntSet\\n\\n- Major overhaul to bring performance in line with the earlier primitive\\n  collection enhancements\\n\\n- Probably needs a lot of clean up still\\n\\n- Updates to use new primitive collections\\n\\n- Updates to use new primitive collections\\n\\n- Added support for clustering to a fixed number of clusters\\n\\n- Added (limited) support for writing in GEXF format\\n\\n- Added (limited) support for writing in Pajek format\\n\\n- Made default output verbose\\n\\n- Remove extra temporary file that was just hanging around unneeded\\n\\n- Added support for getting the String that backs the document\\n\\n- Added a new class for testing the association between two terms, which is\\n  already partially supported by the BigramExtractor, but this class supports\\n  limiting the number of items being associated which enables better scaling\\n  through iterative association testing.\\n\\n- This class needs a lot of work.\\n\\n- Added an iterator for the documents in WaCkypedia\\n\\n- Fixed HTML bug in javadoc\\n\\n- Added new tool for running the NearestNeighborFinder from the command line\\n\\n- Fixed javadoc\\n\\n- Added support for changing the loging level of any logger namespace\\n\\n- Added new tool for speeding up repeated nearest-neighbor computations by\\n  partitioning a SemanticSpace into clusters (using K-means) and then only\\n  searching a subset.\\n\\n- Added support for reading and writing to streams and byte[] arrays\\n\\n- Updated to be an IntSet\\n\\n- Added Pair implementation\\n\\n- Fixed iterator remove bug\\n\\n- Added more extensive real-world unit tests\\n\\n- Added unit test details that match the example in the Ahn et al. paper\\n\\n- Added more tests\\n\n",
      "category                                                                                                                                                                                                                                                                                                                                                                                                                                                                                                                                                                                                                                                                                                                                                                                                                                                                                                                                                                                                                                                                                                                                                                                                                                                                                                                                                                                                                                                                                                                                                                                                                                                                                                                                                                                                                                                                                                                                                                                                                                                                                                                                                                                                                                                                                                                                                                                                                                                                                                                                                                                                                                                                                                  bugfix\n",
      "commit_message_clean                                                                                                                                                                                                                                                                                                                                                                                                                                                                                                                                                                                                                                                                                                                         Added target nearest neighbor finder tool Reduced default timeout longrunning tests Added jaccardIndex overload two sets elements Fixed javadoc Made class serializable Added support maximum path length Reworked use new SimpleDependencyPath class Revised error message clarity Updated use new SimpleDependencyPath features Updated use new SimpleDependencyPath features Major rewrite clarity Fixed toString Added static methods testing category particular POS tag Implemented missing methods Added imports sure Added logging Added support shuffling edges graph using fixed Random reproducability Multithreaded edge similarity comparison Probably bug fixes Updated use IntPair instead PairInteger Updated use IntSet Major overhaul bring performance line earlier primitive collection enhancements Probably needs clean still Updates use new primitive collections Updates use new primitive collections Added support clustering fixed number clusters Added limited support writing GEXF format Added limited support writing Pajek format Made default output verbose Remove extra temporary file hanging around unneeded Added support getting String backs document Added new class testing association two terms already partially supported BigramExtractor class supports limiting number items associated enables better scaling iterative association testing class needs work Added iterator documents WaCkypedia Fixed HTML bug javadoc Added new tool running NearestNeighborFinder command line Fixed javadoc Added support changing loging level logger namespace Added new tool speeding repeated nearestneighbor computations partitioning SemanticSpace clusters using Kmeans searching subset Added support reading writing streams byte arrays Updated IntSet Added Pair implementation Fixed iterator remove bug Added extensive realworld unit tests Added unit test details match example Ahn et al paper Added tests\n",
      "Name: 50, dtype: object\n",
      "Length: 1891\n",
      "\n",
      "Row Index: 964\n",
      "commit_message          Patch from Laurent Bihanic.  His description is below.\\n\\n-jh-\\n\\nPlease find attached a new version of SAXOutputter patch which include:\\n  - Notification of EntityRef thru ContentHandler.skippedEntity() (new method\\nentityRef())\\n  - Notification of some errors to the registered SAX ErrorHandler (new\\n*protected* method handleError())\\n\\nJDOMSource has been updated to support outputting portions of documents.\\nFinally I rewrote the list vs document handling in JDOMResult to avoid\\ndestroying the original document (setDocument) to recreate it later (getDocument).\\n\\n\\n> Attached is a patch to SAXOutputter that fixes the following:\\n>\\n> - Added support for Comments as Element children;\\n>\\n> - Added support for CDATA (i.e. distinguish CDATA from plain text and\\n> use of the start/endCDATA callbacks of LexicalHandler): new method cdata();\\n>\\n> - Remove support for CDATA as children of the document node\\n> (Method output(Document) used to test on CDATA nodes and fired the\\n> corresponding events which seems invalid according to the XML spec. and\\n> the XML parsers I tried!);\\n>\\n> - Added support for outputting portions of documents (i.e. lists of JDOM\\n> nodes) as such output is valid when used as input of XSLT processors.\\n> This feature will be used by JDOMSource.\\n>\\n> Note: Method elementContent() has been rewritten to support CDATA. The\\n> optimization for text-only content has been removed as it did not seem\\n> to bring any performance improvement and made the code quite\\n> complicated. In order to make code clearer, this method now uses the\\n> same type of loop as used by output(Document).\\n>\\n> Regards,\\n>\\n> Laurent\\n>\\n>\\n> Laurent Bihanic wrote:\\n>\\n>>\\n>> Hi,\\n>>\\n>> While reading the SAXOutputter code (latest from CVS), I found 2\\n>> apparent bugs:\\n>>\\n>> 1. No support for Comments as Element children\\n>> SAXOutputter fires SAX events for Comment nodes in method\\n>> output(Document) but not in method elementContent(Element,\\n>> NamespaceStack). Hence only top level comments are outputted.\\n>>\\n>> 2. No support for CDATA\\n>> The method characters(String) should be changed (adding an argument or\\n>> a new method) to support reporting whether the outputted text is\\n>> regular or CDATA using LexicalHandler's start/endCDATA methods.\\n>>\\n>> Finally, SAXOutputter's code never checks for EntityRef nodes. Thus\\n>> these simply disappear from the outputted document. Is this on\\n>> purpose? Should not JDOM at least use ContentHandler's skippedEntity?\\n>>\\n>> Laurent\\n\n",
      "category                                                                                                                                                                                                                                                                                                                                                                                                                                                                                                                                                                                                                                                                                                                                                                                                                                                                                                                                                                                                                                                                                                                                                                                                                                                                                                                                                                                                                                                                                                                                                                                                                                                                                                                                                                                                                                                                                                                                                                                                                                                                                                                                                                                                                                                                                                                                                                                                                                                                                                                                                                                                                               bugfix\n",
      "commit_message_clean                                                                                                                                                                                                                                                                                                                                                                                                                                                                                                                                                                                                                                                                                                                                                                                                Patch Laurent Bihanic description jh Please find attached new version SAXOutputter patch include Notification EntityRef thru ContentHandlerskippedEntity new method entityRef Notification errors registered SAX ErrorHandler new protected method handleError JDOMSource updated support outputting portions documents Finally rewrote list vs document handling JDOMResult avoid destroying original document setDocument recreate later getDocument Attached patch SAXOutputter fixes following Added support Comments Element children Added support CDATA ie distinguish CDATA plain text use startendCDATA callbacks LexicalHandler new method cdata Remove support CDATA children document node Method outputDocument used test CDATA nodes fired corresponding events seems invalid according XML spec XML parsers tried Added support outputting portions documents ie lists JDOM nodes output valid used input XSLT processors feature used JDOMSource Note Method elementContent rewritten support CDATA optimization textonly content removed seem bring performance improvement made code quite complicated order make code clearer method uses type loop used outputDocument Regards Laurent Laurent Bihanic wrote Hi reading SAXOutputter code latest CVS found apparent bugs support Comments Element children SAXOutputter fires SAX events Comment nodes method outputDocument method elementContentElement NamespaceStack Hence top level comments outputted support CDATA method charactersString changed adding argument new method support reporting whether outputted text regular CDATA using LexicalHandlers startendCDATA methods Finally SAXOutputters code never checks EntityRef nodes Thus simply disappear outputted document purpose JDOM least use ContentHandlers skippedEntity Laurent\n",
      "Name: 964, dtype: object\n",
      "Length: 1753\n"
     ]
    }
   ],
   "source": [
    "# Find the top 5 rows with the maximum lengths in 'col1' (sorted by descending length)\n",
    "top_5_max_lengths = df['commit_message_clean'].str.len().sort_values(ascending=False).head(5)\n",
    "\n",
    "# Print the top 5 rows with corresponding lengths\n",
    "for index, length in top_5_max_lengths.items():\n",
    "  print(f\"\\nRow Index: {index}\")\n",
    "  print(df.loc[index])\n",
    "  print(f\"Length: {length}\")\n",
    "\n"
   ]
  },
  {
   "cell_type": "code",
   "execution_count": 20,
   "metadata": {},
   "outputs": [
    {
     "data": {
      "text/html": [
       "<div>\n",
       "<style scoped>\n",
       "    .dataframe tbody tr th:only-of-type {\n",
       "        vertical-align: middle;\n",
       "    }\n",
       "\n",
       "    .dataframe tbody tr th {\n",
       "        vertical-align: top;\n",
       "    }\n",
       "\n",
       "    .dataframe thead th {\n",
       "        text-align: right;\n",
       "    }\n",
       "</style>\n",
       "<table border=\"1\" class=\"dataframe\">\n",
       "  <thead>\n",
       "    <tr style=\"text-align: right;\">\n",
       "      <th></th>\n",
       "      <th>category</th>\n",
       "      <th>commit_message_clean</th>\n",
       "    </tr>\n",
       "  </thead>\n",
       "  <tbody>\n",
       "    <tr>\n",
       "      <th>0</th>\n",
       "      <td>functional</td>\n",
       "      <td>NIO Reads writes completed caller would compatible old interface functionality connection instance object receive data message multiple OPREAD events</td>\n",
       "    </tr>\n",
       "    <tr>\n",
       "      <th>1</th>\n",
       "      <td>bugfix</td>\n",
       "      <td>temporary fix nonshared JArray objects added generic unittests check jcclucenesolrmontysolr functionality wrote unittest newseman complete processing python side remains call java decide proper behaviour cases tokens addedgrouped</td>\n",
       "    </tr>\n",
       "    <tr>\n",
       "      <th>2</th>\n",
       "      <td>functional</td>\n",
       "      <td>Java Added RCON functionality Source servers Added steamcondensersteampacketsrcon package Added RCONAuthRequestPacket Added RCONAuthResponsePacket Added RCONExecRequestPacket Added RCONExecResponsePacket Added RCONPacket Added RCONNoAuthException Split SteamSocket QuerySocket RCONSocket Stub functionality GoldSrc servers GoldSrc uses UDP needs special implementation Added tests</td>\n",
       "    </tr>\n",
       "    <tr>\n",
       "      <th>3</th>\n",
       "      <td>code smell</td>\n",
       "      <td>Merge changes PullRequest Fix aggregation generation cleanup dead code Update dependencies versions</td>\n",
       "    </tr>\n",
       "    <tr>\n",
       "      <th>4</th>\n",
       "      <td>external</td>\n",
       "      <td>Bug API builder performance bad incremental build</td>\n",
       "    </tr>\n",
       "    <tr>\n",
       "      <th>...</th>\n",
       "      <td>...</td>\n",
       "      <td>...</td>\n",
       "    </tr>\n",
       "    <tr>\n",
       "      <th>1735</th>\n",
       "      <td>functional</td>\n",
       "      <td>working introducing getSpecialFeatureCollection Method general get PrintTemplateFeatures improve numbering</td>\n",
       "    </tr>\n",
       "    <tr>\n",
       "      <th>1736</th>\n",
       "      <td>functional</td>\n",
       "      <td>working next step move calculation handling PrintTemplateFeature handle multiple templateprinting creation still basic though</td>\n",
       "    </tr>\n",
       "    <tr>\n",
       "      <th>1737</th>\n",
       "      <td>functional</td>\n",
       "      <td>working generalized adjustMapForPrintingTemplates ensureVisibilityOfPrintingTemplates method adjustMapForSpecialFeatureClasses ensureVisibilityOfSpecialFeatures</td>\n",
       "    </tr>\n",
       "    <tr>\n",
       "      <th>1738</th>\n",
       "      <td>code smell</td>\n",
       "      <td>working test coverage minor tweaks removing dead code fixing minor bugs adding tests</td>\n",
       "    </tr>\n",
       "    <tr>\n",
       "      <th>1739</th>\n",
       "      <td>internal</td>\n",
       "      <td>changed render routine text fields added tabbing abilities CustomScreen various modifications CustomScreen match new TextField requirements changed size PacketSky</td>\n",
       "    </tr>\n",
       "  </tbody>\n",
       "</table>\n",
       "<p>1740 rows × 2 columns</p>\n",
       "</div>"
      ],
      "text/plain": [
       "        category  \\\n",
       "0     functional   \n",
       "1         bugfix   \n",
       "2     functional   \n",
       "3     code smell   \n",
       "4       external   \n",
       "...          ...   \n",
       "1735  functional   \n",
       "1736  functional   \n",
       "1737  functional   \n",
       "1738  code smell   \n",
       "1739    internal   \n",
       "\n",
       "                                                                                                                                                                                                                                                                                                                                                                              commit_message_clean  \n",
       "0                                                                                                                                                                                                                                            NIO Reads writes completed caller would compatible old interface functionality connection instance object receive data message multiple OPREAD events  \n",
       "1                                                                                                                                                            temporary fix nonshared JArray objects added generic unittests check jcclucenesolrmontysolr functionality wrote unittest newseman complete processing python side remains call java decide proper behaviour cases tokens addedgrouped  \n",
       "2     Java Added RCON functionality Source servers Added steamcondensersteampacketsrcon package Added RCONAuthRequestPacket Added RCONAuthResponsePacket Added RCONExecRequestPacket Added RCONExecResponsePacket Added RCONPacket Added RCONNoAuthException Split SteamSocket QuerySocket RCONSocket Stub functionality GoldSrc servers GoldSrc uses UDP needs special implementation Added tests  \n",
       "3                                                                                                                                                                                                                                                                                              Merge changes PullRequest Fix aggregation generation cleanup dead code Update dependencies versions  \n",
       "4                                                                                                                                                                                                                                                                                                                                                Bug API builder performance bad incremental build  \n",
       "...                                                                                                                                                                                                                                                                                                                                                                                            ...  \n",
       "1735                                                                                                                                                                                                                                                                                    working introducing getSpecialFeatureCollection Method general get PrintTemplateFeatures improve numbering  \n",
       "1736                                                                                                                                                                                                                                                                 working next step move calculation handling PrintTemplateFeature handle multiple templateprinting creation still basic though  \n",
       "1737                                                                                                                                                                                                                              working generalized adjustMapForPrintingTemplates ensureVisibilityOfPrintingTemplates method adjustMapForSpecialFeatureClasses ensureVisibilityOfSpecialFeatures  \n",
       "1738                                                                                                                                                                                                                                                                                                          working test coverage minor tweaks removing dead code fixing minor bugs adding tests  \n",
       "1739                                                                                                                                                                                                                            changed render routine text fields added tabbing abilities CustomScreen various modifications CustomScreen match new TextField requirements changed size PacketSky  \n",
       "\n",
       "[1740 rows x 2 columns]"
      ]
     },
     "execution_count": 20,
     "metadata": {},
     "output_type": "execute_result"
    }
   ],
   "source": [
    "del df['commit_message']\n",
    "\n",
    "df"
   ]
  },
  {
   "cell_type": "code",
   "execution_count": 21,
   "metadata": {},
   "outputs": [],
   "source": [
    "from nltk.tokenize import word_tokenize\n",
    "\n",
    "df['tokens'] = df['commit_message_clean'].apply(word_tokenize)\n"
   ]
  },
  {
   "cell_type": "code",
   "execution_count": 22,
   "metadata": {},
   "outputs": [],
   "source": [
    "from nltk import pos_tag\n",
    "\n",
    "df['pos_tags'] = df['tokens'].apply(pos_tag)\n"
   ]
  },
  {
   "cell_type": "code",
   "execution_count": 23,
   "metadata": {},
   "outputs": [],
   "source": [
    "from nltk.corpus import wordnet\n",
    "from nltk.stem import WordNetLemmatizer\n",
    "\n",
    "lemmatizer = WordNetLemmatizer()\n",
    "\n",
    "# Function to map NLTK position tags\n",
    "def get_wordnet_pos(treebank_tag):\n",
    "    if treebank_tag.startswith('J'):\n",
    "        return wordnet.ADJ\n",
    "    elif treebank_tag.startswith('V'):\n",
    "        return wordnet.VERB\n",
    "    elif treebank_tag.startswith('N'):\n",
    "        return wordnet.NOUN\n",
    "    elif treebank_tag.startswith('R'):\n",
    "        return wordnet.ADV\n",
    "    else:\n",
    "        return wordnet.NOUN  # Default to noun if unknown\n",
    "\n",
    "# Lemmatize a sentence with the appropriate POS tag\n",
    "def lemmatize_with_pos(sentence):\n",
    "    return [lemmatizer.lemmatize(word, get_wordnet_pos(pos_tag)) for word, pos_tag in sentence]\n",
    "\n",
    "# Apply the lemmatization function to the pos tags\n",
    "df['lemmatized'] = df['pos_tags'].apply(lemmatize_with_pos)\n"
   ]
  },
  {
   "cell_type": "code",
   "execution_count": 24,
   "metadata": {},
   "outputs": [],
   "source": [
    "df['lemmatized_text'] = df['lemmatized'].apply(' '.join)\n"
   ]
  },
  {
   "cell_type": "code",
   "execution_count": 25,
   "metadata": {},
   "outputs": [
    {
     "data": {
      "text/html": [
       "<div>\n",
       "<style scoped>\n",
       "    .dataframe tbody tr th:only-of-type {\n",
       "        vertical-align: middle;\n",
       "    }\n",
       "\n",
       "    .dataframe tbody tr th {\n",
       "        vertical-align: top;\n",
       "    }\n",
       "\n",
       "    .dataframe thead th {\n",
       "        text-align: right;\n",
       "    }\n",
       "</style>\n",
       "<table border=\"1\" class=\"dataframe\">\n",
       "  <thead>\n",
       "    <tr style=\"text-align: right;\">\n",
       "      <th></th>\n",
       "      <th>lemmatized_text</th>\n",
       "      <th>category</th>\n",
       "    </tr>\n",
       "  </thead>\n",
       "  <tbody>\n",
       "    <tr>\n",
       "      <th>0</th>\n",
       "      <td>NIO Reads write complete caller would compatible old interface functionality connection instance object receive data message multiple OPREAD event</td>\n",
       "      <td>functional</td>\n",
       "    </tr>\n",
       "    <tr>\n",
       "      <th>1</th>\n",
       "      <td>temporary fix nonshared JArray object add generic unittests check jcclucenesolrmontysolr functionality write unittest newseman complete processing python side remain call java decide proper behaviour case token addedgrouped</td>\n",
       "      <td>bugfix</td>\n",
       "    </tr>\n",
       "    <tr>\n",
       "      <th>2</th>\n",
       "      <td>Java Added RCON functionality Source server Added steamcondensersteampacketsrcon package Added RCONAuthRequestPacket Added RCONAuthResponsePacket Added RCONExecRequestPacket Added RCONExecResponsePacket Added RCONPacket Added RCONNoAuthException Split SteamSocket QuerySocket RCONSocket Stub functionality GoldSrc server GoldSrc use UDP need special implementation Added test</td>\n",
       "      <td>functional</td>\n",
       "    </tr>\n",
       "    <tr>\n",
       "      <th>3</th>\n",
       "      <td>Merge change PullRequest Fix aggregation generation cleanup dead code Update dependency version</td>\n",
       "      <td>code smell</td>\n",
       "    </tr>\n",
       "    <tr>\n",
       "      <th>4</th>\n",
       "      <td>Bug API builder performance bad incremental build</td>\n",
       "      <td>external</td>\n",
       "    </tr>\n",
       "    <tr>\n",
       "      <th>...</th>\n",
       "      <td>...</td>\n",
       "      <td>...</td>\n",
       "    </tr>\n",
       "    <tr>\n",
       "      <th>1735</th>\n",
       "      <td>work introduce getSpecialFeatureCollection Method general get PrintTemplateFeatures improve numbering</td>\n",
       "      <td>functional</td>\n",
       "    </tr>\n",
       "    <tr>\n",
       "      <th>1736</th>\n",
       "      <td>work next step move calculation handle PrintTemplateFeature handle multiple templateprinting creation still basic though</td>\n",
       "      <td>functional</td>\n",
       "    </tr>\n",
       "    <tr>\n",
       "      <th>1737</th>\n",
       "      <td>work generalize adjustMapForPrintingTemplates ensureVisibilityOfPrintingTemplates method adjustMapForSpecialFeatureClasses ensureVisibilityOfSpecialFeatures</td>\n",
       "      <td>functional</td>\n",
       "    </tr>\n",
       "    <tr>\n",
       "      <th>1738</th>\n",
       "      <td>work test coverage minor tweak remove dead code fix minor bug add test</td>\n",
       "      <td>code smell</td>\n",
       "    </tr>\n",
       "    <tr>\n",
       "      <th>1739</th>\n",
       "      <td>change render routine text field add tabbing ability CustomScreen various modification CustomScreen match new TextField requirement change size PacketSky</td>\n",
       "      <td>internal</td>\n",
       "    </tr>\n",
       "  </tbody>\n",
       "</table>\n",
       "<p>1740 rows × 2 columns</p>\n",
       "</div>"
      ],
      "text/plain": [
       "                                                                                                                                                                                                                                                                                                                                                                              lemmatized_text  \\\n",
       "0                                                                                                                                                                                                                                          NIO Reads write complete caller would compatible old interface functionality connection instance object receive data message multiple OPREAD event   \n",
       "1                                                                                                                                                             temporary fix nonshared JArray object add generic unittests check jcclucenesolrmontysolr functionality write unittest newseman complete processing python side remain call java decide proper behaviour case token addedgrouped   \n",
       "2     Java Added RCON functionality Source server Added steamcondensersteampacketsrcon package Added RCONAuthRequestPacket Added RCONAuthResponsePacket Added RCONExecRequestPacket Added RCONExecResponsePacket Added RCONPacket Added RCONNoAuthException Split SteamSocket QuerySocket RCONSocket Stub functionality GoldSrc server GoldSrc use UDP need special implementation Added test   \n",
       "3                                                                                                                                                                                                                                                                                             Merge change PullRequest Fix aggregation generation cleanup dead code Update dependency version   \n",
       "4                                                                                                                                                                                                                                                                                                                                           Bug API builder performance bad incremental build   \n",
       "...                                                                                                                                                                                                                                                                                                                                                                                       ...   \n",
       "1735                                                                                                                                                                                                                                                                                    work introduce getSpecialFeatureCollection Method general get PrintTemplateFeatures improve numbering   \n",
       "1736                                                                                                                                                                                                                                                                 work next step move calculation handle PrintTemplateFeature handle multiple templateprinting creation still basic though   \n",
       "1737                                                                                                                                                                                                                             work generalize adjustMapForPrintingTemplates ensureVisibilityOfPrintingTemplates method adjustMapForSpecialFeatureClasses ensureVisibilityOfSpecialFeatures   \n",
       "1738                                                                                                                                                                                                                                                                                                                   work test coverage minor tweak remove dead code fix minor bug add test   \n",
       "1739                                                                                                                                                                                                                                change render routine text field add tabbing ability CustomScreen various modification CustomScreen match new TextField requirement change size PacketSky   \n",
       "\n",
       "        category  \n",
       "0     functional  \n",
       "1         bugfix  \n",
       "2     functional  \n",
       "3     code smell  \n",
       "4       external  \n",
       "...          ...  \n",
       "1735  functional  \n",
       "1736  functional  \n",
       "1737  functional  \n",
       "1738  code smell  \n",
       "1739    internal  \n",
       "\n",
       "[1740 rows x 2 columns]"
      ]
     },
     "execution_count": 25,
     "metadata": {},
     "output_type": "execute_result"
    }
   ],
   "source": [
    "# del df['commit_message_clean', 'tokens', 'pos_tags', 'lemmatized']\n",
    "\n",
    "df = df[['lemmatized_text', 'category']]\n",
    "\n",
    "df"
   ]
  },
  {
   "cell_type": "code",
   "execution_count": 26,
   "metadata": {},
   "outputs": [
    {
     "name": "stdout",
     "output_type": "stream",
     "text": [
      "\n",
      "Row Index: 400\n",
      "lemmatized_text    Changes base Keiths review tweaks EdgeSet help track edge removal modify srceduuclasspacecommonSimilarityjava Updated use VectorMathdotProduct Tanimoto coefficient delete srceduuclasspacecommonWordComparatorjava Moved SimpleNearestNeighborFinder modify srceduuclasspacedependencySimpleDependencyPathjava Removed println modify srceduuclasspacegraphAbstractGraphjava Added miss implementation Subgraph class unit test pass modify srceduuclasspacegraphDirectedMultigraphjava Added miss implementation Subgraph class unit test pass Fixed bug reporting correct edge type removal Removed dead code modify srceduuclasspacegraphEdgeSetjava Updated disconnect return number edge remove modified srceduuclasspacegraphGenericEdgeSetjava modify srceduuclasspacegraphSparseDirectedEdgeSetjava modify srceduuclasspacegraphSparseDirectedTypedEdgeSetjava modify srceduuclasspacegraphSparseTypedEdgeSetjava modify srceduuclasspacegraphSparseUndirectedEdgeSetjava modify srceduuclasspacegraphSparseWeightedEdgeSetjava Updated support EdgeSet interface change delete srceduuclasspacegraphGraphRandomizerjava Removed dead class functionality Graphsjava modify srceduuclasspacegraphSimpleWeightedEdgejava Fixed hashCode delete srceduuclasspacegraphSparseSymmetricEdgeSetjava Removed dead class modify srceduuclasspacegraphUndirectedMultigraphjava Added miss implementation Subgraph class unit test pass Fixed bug reporting correct edge type removal Removed dead code modify srceduuclasspacemainsFixedDurationTemporalRandomIndexingMainjava Updated replace WordComparator SimpleNearestNeighborFinder modify srceduuclasspacemainsLexSubWordsiMainjava Updated replace WordComparator SimpleNearestNeighborFinder modify srceduuclasspacetextLabeledParsedStringDocumentjava Updated new ParsedDocument interface modify srceduuclasspacetextParsedDocumentjava Updated specify format text tokens white space delimiters Added new prettyPrintText attempt nicely format token would originally modify srceduuclasspacetextPukWaCDocumentIteratorjava Fixed javadoc modify srceduuclasspacetextUkWaCDocumentIteratorjava Added class javadoc modify srceduuclasspacetoolsNearestNeighborFinderTooljava Updated use class instance instead interface modified srceduuclasspacetoolsSemanticSpaceExplorerjava Updated replace WordComparator PartitioningNearestNeighborFinder modify srceduuclasspacetoolsSimilarityListGeneratorjava Updated replace WordComparator PartitioningNearestNeighborFinder modify srceduuclasspaceutilHashIndexerjava Fixed javadoc modify srceduuclasspaceutilPairCounterjava Fixed javadoc rename srceduuclasspaceutilNearestNeighborFinderjava srceduuclasspaceutilPartitioningNearestNeighborFinderjava Moved NearestNeighborFinder interface modify srceduuclasspaceutilReflectionUtiljava Removed dead code modify srceduuclasspaceutilprimitiveIntIntHashMultiMapjava Added javadoc modify srceduuclasspaceutilprimitiveIntIntMultiMapjava Added javadoc modify testeduuclasspacegraphDirectedMultigraphTestsjava Uncommented unit test modify testeduuclasspacedependencyBreadthFirstPathIteratorTestjava modify testeduuclasspacedependencyCoNLLDependencyExtractorTestjava modify testeduuclasspacedependencyWaCKyDependencyExtractorTestjava modify testeduuclasspacetextcorporaPukWacDependencyCorpusReaderTestjava modify testeduuclasspacewordsiDependencyContextExtractorTestjava modify testeduuclasspacewordsiOccurrenceDependencyContextGeneratorTestjava modify testeduuclasspacewordsiOrderingDependencyContextGeneratorTestjava modify testeduuclasspacewordsiPartOfSpeechDependencyContextGeneratorTestjava modify testeduuclasspacewordsipsdPseudoWordDependencyContextExtractorTestjava modify testeduuclasspacewordsisemevalSemEvalDependencyContextExtractorTestjava Fixed unit test support proper tabdelimiting CoNLL format\n",
      "category                                                                                                                                                                                                                                                                                                                                                                                                                                                                                                                                                                                                                                                                                                                                                                                                                                                                                                                                                                                                                                                                                                                                                                                                                                                                                                                                                                                                                                                                                                                                                                                                                                                                                                                                                                                                                                                                                                                                                                                                                                                                                                                                                                                                                                                                                                                                                                                                                                                                                                                                                                                                                                                                                                                                                                                                                                                                                                                                                                                                                                                                                                                                                                                                                                                                                                                                                                                                                                                                                                                                                                                                                                                                                                                                                                                                                                                                                                                             bugfix\n",
      "Name: 400, dtype: object\n",
      "Length: 3768\n",
      "\n",
      "Row Index: 243\n",
      "lemmatized_text    Added support JDBC driver build JDBC ie Java conclude change restructure code support JDBC jdbc unit test also resturctured allow different test jdbc jdbc although currently make check aka ant test JDBC run JDBC test special note largeobjectPGblob PGclob class move jdbcjdbc specific directory differ jdbc version Also note checkin remove PostgresqlDataSource file xa directory recent checkin add new datasource support replaces functionality provide class Modified Files jdbcbuildxml jdbcorgpostgresqljdbcAbstractJdbcDatabaseMetaDatajava jdbcorgpostgresqljdbcAbstractJdbcResultSetjava jdbcorgpostgresqljdbcAbstractJdbcResultSetMetaDatajava jdbcorgpostgresqljdbcAbstractJdbcStatementjava jdbcorgpostgresqljdbcAbstractJdbcConnectionjava jdbcorgpostgresqljdbcAbstractJdbcDatabaseMetaDatajava jdbcorgpostgresqljdbcAbstractJdbcResultSetjava jdbcorgpostgresqljdbcAbstractJdbcResultSetMetaDatajava jdbcorgpostgresqljdbcAbstractJdbcStatementjava jdbcorgpostgresqljdbcArrayjava jdbcorgpostgresqljdbcJdbcCallableStatementjava jdbcorgpostgresqljdbcJdbcConnectionjava jdbcorgpostgresqljdbcJdbcDatabaseMetaDatajava jdbcorgpostgresqljdbcJdbcPreparedStatementjava jdbcorgpostgresqljdbcJdbcResultSetjava jdbcorgpostgresqljdbcJdbcResultSetMetaDatajava jdbcorgpostgresqljdbcJdbcStatementjava jdbcorgpostgresqltestjdbcBatchExecuteTestjava jdbcorgpostgresqltestjdbcBlobTestjava jdbcorgpostgresqltestjdbcCallableStmtTestjava jdbcorgpostgresqltestjdbcConnectionTestjava jdbcorgpostgresqltestjdbcDatabaseMetaDataTestjava jdbcorgpostgresqltestjdbcDateTestjava jdbcorgpostgresqltestjdbcDriverTestjava jdbcorgpostgresqltestjdbcJBuilderTestjava jdbcorgpostgresqltestjdbcMiscTestjava jdbcorgpostgresqltestjdbcResultSetTestjava jdbcorgpostgresqltestjdbcTimeTestjava jdbcorgpostgresqltestjdbcTimestampTestjava jdbcorgpostgresqltestjdbcUpdateableResultTestjava Added Files jdbcorgpostgresqljdbcAbstractJdbcBlobjava jdbcorgpostgresqljdbcAbstractJdbcClobjava jdbcorgpostgresqljdbcJdbcBlobjava jdbcorgpostgresqljdbcJdbcClobjava jdbcorgpostgresqljdbcAbstractJdbcBlobjava jdbcorgpostgresqljdbcAbstractJdbcClobjava jdbcorgpostgresqljdbcAbstractJdbcConnectionjava jdbcorgpostgresqljdbcAbstractJdbcDatabaseMetaDatajava jdbcorgpostgresqljdbcAbstractJdbcResultSetjava jdbcorgpostgresqljdbcAbstractJdbcStatementjava jdbcorgpostgresqljdbcJdbcBlobjava jdbcorgpostgresqljdbcJdbcCallableStatementjava jdbcorgpostgresqljdbcJdbcClobjava jdbcorgpostgresqljdbcJdbcConnectionjava jdbcorgpostgresqljdbcJdbcDatabaseMetaDatajava jdbcorgpostgresqljdbcJdbcPreparedStatementjava jdbcorgpostgresqljdbcJdbcResultSetjava jdbcorgpostgresqljdbcJdbcResultSetMetaDatajava jdbcorgpostgresqljdbcJdbcStatementjava jdbcorgpostgresqltestTestUtiljava jdbcorgpostgresqltestjdbcJdbcTestSuitejava jdbcorgpostgresqltestjdbcJdbcTestSuitejava Removed Files jdbcorgpostgresqlPostgresqlDataSourcejava jdbcorgpostgresqllargeobjectPGblobjava jdbcorgpostgresqllargeobjectPGclobjava jdbcorgpostgresqltestJDBCTestsjava jdbcorgpostgresqlxaClientConnectionjava jdbcorgpostgresqlxaTwoPhaseConnectionjava jdbcorgpostgresqlxaTxConnectionjava jdbcorgpostgresqlxaXAConnectionImpljava jdbcorgpostgresqlxaXADataSourceImpljava\n",
      "category                                                                                                                                                                                                                                                                                                                                                                                                                                                                                                                                                                                                                                                                                                                                                                                                                                                                                                                                                                                                                                                                                                                                                                                                                                                                                                                                                                                                                                                                                                                                                                                                                                                                                                                                                                                                                                                                                                                                                                                                                                                                                                                                                                                                                                                                                                                                                                                                                                                                                                                                                                                                                                                                                                                                                                                                                                                                                                                                                                                                                                                                                                                                                                                                                                                               functional\n",
      "Name: 243, dtype: object\n",
      "Length: 3134\n",
      "\n",
      "Row Index: 833\n",
      "lemmatized_text    Lots lot bug fix minor functionality enhancement modify srcmainjavaeduuclasspacecommonSimilarityjava Added warning invalid KLdivergence computation Added KruskalGoodman Gamma Discovered Spearmans rho Kendalls tau wrong fix modify srcmainjavaeduuclasspacecommonstatisticsLogLikelihoodTestjava Fixed implementation new file srcmainjavaeduuclasspacegraphChineseWhispersClusteringjava Added CW cluster appear produce result exist code need investigation modify srcmainjavaeduuclasspacegraphGraphIOjava Tweaked logging modify srcmainjavaeduuclasspacegraphLinkClusteringjava Made thread count base processor instead fix new file srcmainjavaeduuclasspacegraphSimpleWeightedDirectedTypedEdgejava new file srcmainjavaeduuclasspacegraphSimpleWeightedTypedEdgejava new file srcmainjavaeduuclasspacegraphSparseWeightedDirectedEdgeSetjava new file srcmainjavaeduuclasspacegraphSparseWeightedDirectedTypedEdgeSetjava new file srcmainjavaeduuclasspacegraphWeightedDirectedMultigraphjava modify srcmainjavaeduuclasspacegraphWeightedDirectedTypedEdgejava Added partial support weight multigraphs feature probably need eventually modify srcmainjavaeduuclasspacegraphioEdgeListReaderjava Added well log instead printf new file srcmainjavaeduuclasspacegraphioGraphMLReaderjava Added initial GraphML implementation read large GraphML file partial support place modify srcmainjavaeduuclasspaceindexDefaultPermutationFunctionjava Fixed outstanding bug sure bug first place code currently break odd new file srcmainjavaeduuclasspacetextAnnotatedDocumentjava Added support new document creation date label new file srcmainjavaeduuclasspacetextBufferedFileListDocumentIteratorjava Added new iterator precaches content file file list use separate thread cut disk IO modify srcmainjavaeduuclasspacetextFileDocumentjava Added support document back file whose content load memory demand new file srcmainjavaeduuclasspacetoolsIterativeBigramExtractorjava Added tool find statistical association term iterative pairwise manner new file srcmainjavaeduuclasspacetoolsLinkClusteringTooljava Copied code branch run link cluster jar modify srcmainjavaeduuclasspaceutilCombinedIteratorjava Corrected Exception thrown remove modify srcmainjavaeduuclasspaceutilHashMultiMapjava Correct error remove key iterator Fixed bug null return instead empty set new file srcmainjavaeduuclasspaceutilKrippendorffsAlphajava Added partial implementation Krippendorffs alpha ordinalvalued data modify srcmainjavaeduuclasspaceutilMultiMapjava Clarified javadoc modify srcmainjavaeduuclasspaceutilObjectCounterjava Implemented max min modify srcmainjavaeduuclasspaceutilPairjava Made Serializable modify srcmainjavaeduuclasspaceutilSetDecoratorjava Clarified javadoc new file srctestjavaeduuclasspacegraphChineseWhispersTestjava new file srctestjavaeduuclasspacegraphSparseWeightedDirectedTypedEdgeSetTestjava new file srctestjavaeduuclasspacegraphWeightedDirectedMultigraphTestjava unit test modify srctestjavaeduuclasspaceindexDefaultPermutationFunctionTestjava Added debugging output\n",
      "category                                                                                                                                                                                                                                                                                                                                                                                                                                                                                                                                                                                                                                                                                                                                                                                                                                                                                                                                                                                                                                                                                                                                                                                                                                                                                                                                                                                                                                                                                                                                                                                                                                                                                                                                                                                                                                                                                                                                                                                                                                                                                                                                                                                                                                                                                                                                                                                                                                                                                                                                                                                                                                                                                                                                                                                                                                                                                                                                                                                                                                                                                                                                                           bugfix\n",
      "Name: 833, dtype: object\n",
      "Length: 3030\n",
      "\n",
      "Row Index: 50\n",
      "lemmatized_text    Added target near neighbor finder tool Reduced default timeout longrunning test Added jaccardIndex overload two set element Fixed javadoc Made class serializable Added support maximum path length Reworked use new SimpleDependencyPath class Revised error message clarity Updated use new SimpleDependencyPath feature Updated use new SimpleDependencyPath feature Major rewrite clarity Fixed toString Added static method test category particular POS tag Implemented miss method Added import sure Added logging Added support shuffle edge graph use fix Random reproducability Multithreaded edge similarity comparison Probably bug fix Updated use IntPair instead PairInteger Updated use IntSet Major overhaul bring performance line earlier primitive collection enhancement Probably need clean still Updates use new primitive collection Updates use new primitive collection Added support cluster fix number cluster Added limited support write GEXF format Added limit support write Pajek format Made default output verbose Remove extra temporary file hang around unneeded Added support get String back document Added new class test association two term already partially support BigramExtractor class support limit number item associate enables well scale iterative association test class need work Added iterator document WaCkypedia Fixed HTML bug javadoc Added new tool run NearestNeighborFinder command line Fixed javadoc Added support change log level logger namespace Added new tool speeding repeat nearestneighbor computation partition SemanticSpace cluster use Kmeans search subset Added support read write stream byte array Updated IntSet Added Pair implementation Fixed iterator remove bug Added extensive realworld unit test Added unit test detail match example Ahn et al paper Added test\n",
      "category                                                                                                                                                                                                                                                                                                                                                                                                                                                                                                                                                                                                                                                                                                                                                                                                                                                                                                                                                                                                                                                                                                                                                                                                                                                                                                                                                                                                                                                                                                                                                                                                                                                                                                                                                                                                                                                                  bugfix\n",
      "Name: 50, dtype: object\n",
      "Length: 1789\n",
      "\n",
      "Row Index: 964\n",
      "lemmatized_text    Patch Laurent Bihanic description jh Please find attached new version SAXOutputter patch include Notification EntityRef thru ContentHandlerskippedEntity new method entityRef Notification error register SAX ErrorHandler new protect method handleError JDOMSource update support output portion document Finally rewrite list v document handle JDOMResult avoid destroy original document setDocument recreate later getDocument Attached patch SAXOutputter fix follow Added support Comments Element child Added support CDATA ie distinguish CDATA plain text use startendCDATA callback LexicalHandler new method cdata Remove support CDATA child document node Method outputDocument use test CDATA node fire corresponding event seem invalid accord XML spec XML parser try Added support output portion document ie list JDOM node output valid use input XSLT processor feature use JDOMSource Note Method elementContent rewrite support CDATA optimization textonly content remove seem bring performance improvement make code quite complicate order make code clearer method use type loop use outputDocument Regards Laurent Laurent Bihanic write Hi read SAXOutputter code late CVS find apparent bug support Comments Element child SAXOutputter fire SAX event Comment node method outputDocument method elementContentElement NamespaceStack Hence top level comment output support CDATA method charactersString change add argument new method support report whether output text regular CDATA use LexicalHandlers startendCDATA method Finally SAXOutputters code never check EntityRef node Thus simply disappear output document purpose JDOM least use ContentHandlers skippedEntity Laurent\n",
      "category                                                                                                                                                                                                                                                                                                                                                                                                                                                                                                                                                                                                                                                                                                                                                                                                                                                                                                                                                                                                                                                                                                                                                                                                                                                                                                                                                                                                                                                                                                                                                                                                                                                                                                                                 bugfix\n",
      "Name: 964, dtype: object\n",
      "Length: 1660\n"
     ]
    }
   ],
   "source": [
    "# Find the top 5 rows with the maximum lengths in 'col1' (sorted by descending length)\n",
    "top_5_max_lengths = df['lemmatized_text'].str.len().sort_values(ascending=False).head(5)\n",
    "\n",
    "# Print the top 5 rows with corresponding lengths\n",
    "for index, length in top_5_max_lengths.items():\n",
    "  print(f\"\\nRow Index: {index}\")\n",
    "  print(df.loc[index])\n",
    "  print(f\"Length: {length}\")\n",
    "\n"
   ]
  },
  {
   "cell_type": "markdown",
   "metadata": {},
   "source": [
    "### Training/Testing Split"
   ]
  },
  {
   "cell_type": "code",
   "execution_count": 27,
   "metadata": {},
   "outputs": [],
   "source": [
    "from sklearn.model_selection import train_test_split\n",
    "\n",
    "# Assuming your DataFrame is named 'data' with 'features' and 'labels' columns\n",
    "X = df['lemmatized_text']  # Your commit messages\n",
    "y = df['category']    # Corresponding labels for the commit messages\n",
    "\n",
    "# Perform a stratified split\n",
    "x_train, x_test, y_train, y_test = train_test_split(\n",
    "    X, y,\n",
    "    test_size=0.25,       # 25% of the data will be allocated to the test set\n",
    "    stratify=y,           # Stratify based on the labels to maintain distribution\n",
    "    random_state=42       # Seed for reproducibility\n",
    ")\n"
   ]
  },
  {
   "cell_type": "code",
   "execution_count": 28,
   "metadata": {},
   "outputs": [
    {
     "data": {
      "text/plain": [
       "46                                                                                                             Add integration test basic functionality memcached session manager Extract common test function integration test\n",
       "587                                                                                                                  Fix ted bug Performance enhancement DTE use ArchiveEntryInputStreamread read one byte data report document\n",
       "1152                                                                                                                                                                          Repackaging remove remain cycle increase cohesion\n",
       "1407                                                                                                                                                                              cleanup Reduce fanout complexity still enough\n",
       "1094                                                                                                                                                                                                           Remove dead code\n",
       "                                                                                                                 ...                                                                                                           \n",
       "1415     fix field name build toString generate builder builder wouldnt make build toString method think buildersetter method generate happen name indicate dont want lombok really shouldnt name field builder toString though\n",
       "233                                                                                                                                                    Added popups Introduced pagelevel abstraction call container page popups\n",
       "425                                                                              Combined columnrow synchronization peer single item RenderColumnjs RenderRowjs RenderArrayContainerjs Shared functionality abstract base class\n",
       "1141    Rename TouchClient SMT TouchClient still exist alias Fixes make name shorter also make sense give TouchClient core class method make sense SMTsomeMethod keep backwards compatibility API define TouchClient extend SMT\n",
       "498                                                                                                                                           EST remove RendererAbstract inlining functionality RendererForFreemarker subclass\n",
       "Name: lemmatized_text, Length: 1305, dtype: object"
      ]
     },
     "execution_count": 28,
     "metadata": {},
     "output_type": "execute_result"
    }
   ],
   "source": [
    "x_train"
   ]
  },
  {
   "cell_type": "code",
   "execution_count": 29,
   "metadata": {},
   "outputs": [
    {
     "name": "stdout",
     "output_type": "stream",
     "text": [
      "category\n",
      "internal      87\n",
      "bugfix        87\n",
      "code smell    87\n",
      "functional    87\n",
      "external      87\n",
      "Name: count, dtype: int64\n"
     ]
    }
   ],
   "source": [
    "# Assuming your DataFrame is named 'data' and the column with the categories is named 'labels'\n",
    "category_counts = y_test.value_counts()\n",
    "\n",
    "print(category_counts)\n"
   ]
  },
  {
   "cell_type": "code",
   "execution_count": 31,
   "metadata": {},
   "outputs": [],
   "source": [
    "x_train_path = r\"D:\\Rochester Institute of Technology\\DSCI 644 Software Engineering for Data Science\\Automated-Software-Refactoring-Commit-Classifier\\dataset\\x_train.csv\"\n",
    "\n",
    "x_train.to_csv(x_train_path, index=False)"
   ]
  },
  {
   "cell_type": "code",
   "execution_count": null,
   "metadata": {},
   "outputs": [],
   "source": [
    "y_train_path = r\"D:\\Rochester Institute of Technology\\DSCI 644 Software Engineering for Data Science\\Automated-Software-Refactoring-Commit-Classifier\\dataset\\y_train.csv\"\n",
    "\n",
    "y_train.to_csv(y_train_path, index=False)"
   ]
  },
  {
   "cell_type": "code",
   "execution_count": null,
   "metadata": {},
   "outputs": [],
   "source": [
    "x_test_path = r\"D:\\Rochester Institute of Technology\\DSCI 644 Software Engineering for Data Science\\Automated-Software-Refactoring-Commit-Classifier\\dataset\\x_test.csv\"\n",
    "\n",
    "x_test.to_csv(x_test_path, index=False)"
   ]
  },
  {
   "cell_type": "code",
   "execution_count": null,
   "metadata": {},
   "outputs": [],
   "source": [
    "y_test_path = r\"D:\\Rochester Institute of Technology\\DSCI 644 Software Engineering for Data Science\\Automated-Software-Refactoring-Commit-Classifier\\dataset\\y_test.csv\"\n",
    "\n",
    "y_test.to_csv(y_test_path, index=False)"
   ]
  }
 ],
 "metadata": {
  "kernelspec": {
   "display_name": "Python 3 (ipykernel)",
   "language": "python",
   "name": "python3"
  },
  "language_info": {
   "codemirror_mode": {
    "name": "ipython",
    "version": 3
   },
   "file_extension": ".py",
   "mimetype": "text/x-python",
   "name": "python",
   "nbconvert_exporter": "python",
   "pygments_lexer": "ipython3",
   "version": "3.12.0"
  }
 },
 "nbformat": 4,
 "nbformat_minor": 4
}
