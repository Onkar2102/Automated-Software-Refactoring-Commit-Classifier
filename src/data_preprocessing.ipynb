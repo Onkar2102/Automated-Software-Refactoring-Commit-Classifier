{
 "cells": [
  {
   "cell_type": "code",
   "execution_count": 1,
   "metadata": {},
   "outputs": [],
   "source": [
    "import pandas as pd\n",
    "\n",
    "\n",
    "pd.set_option('display.max_colwidth', None)\n",
    "# pd.set_option('display.max_rows', None)"
   ]
  },
  {
   "cell_type": "code",
   "execution_count": 2,
   "metadata": {},
   "outputs": [],
   "source": [
    "filePath = r\"D:\\Rochester Institute of Technology\\DSCI 644 Software Engineering for Data Science\\Automated-Software-Refactoring-Commit-Classifier\\dataset\\ESWA20_manualclassification.csv\""
   ]
  },
  {
   "cell_type": "code",
   "execution_count": 3,
   "metadata": {},
   "outputs": [
    {
     "data": {
      "text/html": [
       "<div>\n",
       "<style scoped>\n",
       "    .dataframe tbody tr th:only-of-type {\n",
       "        vertical-align: middle;\n",
       "    }\n",
       "\n",
       "    .dataframe tbody tr th {\n",
       "        vertical-align: top;\n",
       "    }\n",
       "\n",
       "    .dataframe thead th {\n",
       "        text-align: right;\n",
       "    }\n",
       "</style>\n",
       "<table border=\"1\" class=\"dataframe\">\n",
       "  <thead>\n",
       "    <tr style=\"text-align: right;\">\n",
       "      <th></th>\n",
       "      <th>Commit Message</th>\n",
       "      <th>Category</th>\n",
       "    </tr>\n",
       "  </thead>\n",
       "  <tbody>\n",
       "    <tr>\n",
       "      <th>0</th>\n",
       "      <td>\\tNIO Reads writes are completed in the caller thered;\\n\\t100% compatible with old interface and functionality.\\n\\tEach connection has an instance of this object to\\n\\treceive data for a message in multiple OP_READ events.\\n</td>\n",
       "      <td>functional</td>\n",
       "    </tr>\n",
       "    <tr>\n",
       "      <th>1</th>\n",
       "      <td>* temporary fix for non-shared JArray objects\\n  * added generic unittests to check jcc/lucene/solr/montysolr functionality\\n  * wrote unittest for newseman (it does a complete processing from python side)\\n    - now what remains is to call it from java\\n    - decide on proper behaviour for cases when tokens are added/grouped\\n</td>\n",
       "      <td>bugfix</td>\n",
       "    </tr>\n",
       "    <tr>\n",
       "      <th>2</th>\n",
       "      <td>* Java:\\n   * Added RCON functionality for Source servers:\\n     * Added steamcondenser.steam.packets.rcon package\\n     * Added RCONAuthRequestPacket\\n     * Added RCONAuthResponsePacket\\n     * Added RCONExecRequestPacket\\n     * Added RCONExecResponsePacket\\n     * Added RCONPacket\\n     * Added RCONNoAuthException\\n   * Split SteamSocket into QuerySocket and RCONSocket\\n   * Stub functionality for GoldSrc servers\\n     * GoldSrc uses UDP and needs a special implementation\\n   * Added tests\\n</td>\n",
       "      <td>functional</td>\n",
       "    </tr>\n",
       "    <tr>\n",
       "      <th>3</th>\n",
       "      <td>- Merge changes from Pull-Request #6 \\t - Fix aggregation generation and cleanup dead code  - Update dependencies versions</td>\n",
       "      <td>code smell</td>\n",
       "    </tr>\n",
       "    <tr>\n",
       "      <th>4</th>\n",
       "      <td>Bug 233643 -  API builder performance bad for incremental build</td>\n",
       "      <td>external</td>\n",
       "    </tr>\n",
       "    <tr>\n",
       "      <th>...</th>\n",
       "      <td>...</td>\n",
       "      <td>...</td>\n",
       "    </tr>\n",
       "    <tr>\n",
       "      <th>1735</th>\n",
       "      <td>working on #339: introducing the getSpecialFeatureCollection Method as a more general way to get all the PrintTemplateFeatures. improve the numbering\\n</td>\n",
       "      <td>functional</td>\n",
       "    </tr>\n",
       "    <tr>\n",
       "      <th>1736</th>\n",
       "      <td>working on #339: next step. i\\n\\nmove all the calculation and handling into the PrintTemplateFeature to handle\\nmultiple templateprinting.\\n\\nThe creation is still very basic though\\n</td>\n",
       "      <td>functional</td>\n",
       "    </tr>\n",
       "    <tr>\n",
       "      <th>1737</th>\n",
       "      <td>working on #369: generalized the adjustMapForPrintingTemplates and ensureVisibilityOfPrintingTemplates method to adjustMapForSpecialFeatureClasses and ensureVisibilityOfSpecialFeatures\\n</td>\n",
       "      <td>functional</td>\n",
       "    </tr>\n",
       "    <tr>\n",
       "      <th>1738</th>\n",
       "      <td>working up test coverage; minor tweaks; removing dead code; fixing very minor bugs; adding tests</td>\n",
       "      <td>code smell</td>\n",
       "    </tr>\n",
       "    <tr>\n",
       "      <th>1739</th>\n",
       "      <td> changed render routine for text fields  added tabbing abilities to CustomScreen  various modifications on CustomScreen to match the new TextField requirements  changed size of PacketSky</td>\n",
       "      <td>internal</td>\n",
       "    </tr>\n",
       "  </tbody>\n",
       "</table>\n",
       "<p>1740 rows × 2 columns</p>\n",
       "</div>"
      ],
      "text/plain": [
       "                                                                                                                                                                                                                                                                                                                                                                                                                                                                                                             Commit Message  \\\n",
       "0                                                                                                                                                                                                                                                                                          \\tNIO Reads writes are completed in the caller thered;\\n\\t100% compatible with old interface and functionality.\\n\\tEach connection has an instance of this object to\\n\\treceive data for a message in multiple OP_READ events.\\n   \n",
       "1                                                                                                                                                                                 * temporary fix for non-shared JArray objects\\n  * added generic unittests to check jcc/lucene/solr/montysolr functionality\\n  * wrote unittest for newseman (it does a complete processing from python side)\\n    - now what remains is to call it from java\\n    - decide on proper behaviour for cases when tokens are added/grouped\\n   \n",
       "2      * Java:\\n   * Added RCON functionality for Source servers:\\n     * Added steamcondenser.steam.packets.rcon package\\n     * Added RCONAuthRequestPacket\\n     * Added RCONAuthResponsePacket\\n     * Added RCONExecRequestPacket\\n     * Added RCONExecResponsePacket\\n     * Added RCONPacket\\n     * Added RCONNoAuthException\\n   * Split SteamSocket into QuerySocket and RCONSocket\\n   * Stub functionality for GoldSrc servers\\n     * GoldSrc uses UDP and needs a special implementation\\n   * Added tests\\n   \n",
       "3                                                                                                                                                                                                                                                                                                                                                                                                - Merge changes from Pull-Request #6 \\t - Fix aggregation generation and cleanup dead code  - Update dependencies versions   \n",
       "4                                                                                                                                                                                                                                                                                                                                                                                                                                                           Bug 233643 -  API builder performance bad for incremental build   \n",
       "...                                                                                                                                                                                                                                                                                                                                                                                                                                                                                                                     ...   \n",
       "1735                                                                                                                                                                                                                                                                                                                                                                working on #339: introducing the getSpecialFeatureCollection Method as a more general way to get all the PrintTemplateFeatures. improve the numbering\\n   \n",
       "1736                                                                                                                                                                                                                                                                                                                                working on #339: next step. i\\n\\nmove all the calculation and handling into the PrintTemplateFeature to handle\\nmultiple templateprinting.\\n\\nThe creation is still very basic though\\n   \n",
       "1737                                                                                                                                                                                                                                                                                                                             working on #369: generalized the adjustMapForPrintingTemplates and ensureVisibilityOfPrintingTemplates method to adjustMapForSpecialFeatureClasses and ensureVisibilityOfSpecialFeatures\\n   \n",
       "1738                                                                                                                                                                                                                                                                                                                                                                                                                       working up test coverage; minor tweaks; removing dead code; fixing very minor bugs; adding tests   \n",
       "1739                                                                                                                                                                                                                                                                                                                          changed render routine for text fields  added tabbing abilities to CustomScreen  various modifications on CustomScreen to match the new TextField requirements  changed size of PacketSky   \n",
       "\n",
       "        Category  \n",
       "0     functional  \n",
       "1         bugfix  \n",
       "2     functional  \n",
       "3     code smell  \n",
       "4       external  \n",
       "...          ...  \n",
       "1735  functional  \n",
       "1736  functional  \n",
       "1737  functional  \n",
       "1738  code smell  \n",
       "1739    internal  \n",
       "\n",
       "[1740 rows x 2 columns]"
      ]
     },
     "execution_count": 3,
     "metadata": {},
     "output_type": "execute_result"
    }
   ],
   "source": [
    "df = pd.read_csv(filePath, encoding='ISO-8859-1')\n",
    "\n",
    "df"
   ]
  },
  {
   "cell_type": "code",
   "execution_count": 4,
   "metadata": {},
   "outputs": [
    {
     "data": {
      "text/html": [
       "<div>\n",
       "<style scoped>\n",
       "    .dataframe tbody tr th:only-of-type {\n",
       "        vertical-align: middle;\n",
       "    }\n",
       "\n",
       "    .dataframe tbody tr th {\n",
       "        vertical-align: top;\n",
       "    }\n",
       "\n",
       "    .dataframe thead th {\n",
       "        text-align: right;\n",
       "    }\n",
       "</style>\n",
       "<table border=\"1\" class=\"dataframe\">\n",
       "  <thead>\n",
       "    <tr style=\"text-align: right;\">\n",
       "      <th></th>\n",
       "      <th>commit_message</th>\n",
       "      <th>category</th>\n",
       "    </tr>\n",
       "  </thead>\n",
       "  <tbody>\n",
       "    <tr>\n",
       "      <th>0</th>\n",
       "      <td>\\tNIO Reads writes are completed in the caller thered;\\n\\t100% compatible with old interface and functionality.\\n\\tEach connection has an instance of this object to\\n\\treceive data for a message in multiple OP_READ events.\\n</td>\n",
       "      <td>functional</td>\n",
       "    </tr>\n",
       "    <tr>\n",
       "      <th>1</th>\n",
       "      <td>* temporary fix for non-shared JArray objects\\n  * added generic unittests to check jcc/lucene/solr/montysolr functionality\\n  * wrote unittest for newseman (it does a complete processing from python side)\\n    - now what remains is to call it from java\\n    - decide on proper behaviour for cases when tokens are added/grouped\\n</td>\n",
       "      <td>bugfix</td>\n",
       "    </tr>\n",
       "    <tr>\n",
       "      <th>2</th>\n",
       "      <td>* Java:\\n   * Added RCON functionality for Source servers:\\n     * Added steamcondenser.steam.packets.rcon package\\n     * Added RCONAuthRequestPacket\\n     * Added RCONAuthResponsePacket\\n     * Added RCONExecRequestPacket\\n     * Added RCONExecResponsePacket\\n     * Added RCONPacket\\n     * Added RCONNoAuthException\\n   * Split SteamSocket into QuerySocket and RCONSocket\\n   * Stub functionality for GoldSrc servers\\n     * GoldSrc uses UDP and needs a special implementation\\n   * Added tests\\n</td>\n",
       "      <td>functional</td>\n",
       "    </tr>\n",
       "    <tr>\n",
       "      <th>3</th>\n",
       "      <td>- Merge changes from Pull-Request #6 \\t - Fix aggregation generation and cleanup dead code  - Update dependencies versions</td>\n",
       "      <td>code smell</td>\n",
       "    </tr>\n",
       "    <tr>\n",
       "      <th>4</th>\n",
       "      <td>Bug 233643 -  API builder performance bad for incremental build</td>\n",
       "      <td>external</td>\n",
       "    </tr>\n",
       "    <tr>\n",
       "      <th>...</th>\n",
       "      <td>...</td>\n",
       "      <td>...</td>\n",
       "    </tr>\n",
       "    <tr>\n",
       "      <th>1735</th>\n",
       "      <td>working on #339: introducing the getSpecialFeatureCollection Method as a more general way to get all the PrintTemplateFeatures. improve the numbering\\n</td>\n",
       "      <td>functional</td>\n",
       "    </tr>\n",
       "    <tr>\n",
       "      <th>1736</th>\n",
       "      <td>working on #339: next step. i\\n\\nmove all the calculation and handling into the PrintTemplateFeature to handle\\nmultiple templateprinting.\\n\\nThe creation is still very basic though\\n</td>\n",
       "      <td>functional</td>\n",
       "    </tr>\n",
       "    <tr>\n",
       "      <th>1737</th>\n",
       "      <td>working on #369: generalized the adjustMapForPrintingTemplates and ensureVisibilityOfPrintingTemplates method to adjustMapForSpecialFeatureClasses and ensureVisibilityOfSpecialFeatures\\n</td>\n",
       "      <td>functional</td>\n",
       "    </tr>\n",
       "    <tr>\n",
       "      <th>1738</th>\n",
       "      <td>working up test coverage; minor tweaks; removing dead code; fixing very minor bugs; adding tests</td>\n",
       "      <td>code smell</td>\n",
       "    </tr>\n",
       "    <tr>\n",
       "      <th>1739</th>\n",
       "      <td> changed render routine for text fields  added tabbing abilities to CustomScreen  various modifications on CustomScreen to match the new TextField requirements  changed size of PacketSky</td>\n",
       "      <td>internal</td>\n",
       "    </tr>\n",
       "  </tbody>\n",
       "</table>\n",
       "<p>1740 rows × 2 columns</p>\n",
       "</div>"
      ],
      "text/plain": [
       "                                                                                                                                                                                                                                                                                                                                                                                                                                                                                                             commit_message  \\\n",
       "0                                                                                                                                                                                                                                                                                          \\tNIO Reads writes are completed in the caller thered;\\n\\t100% compatible with old interface and functionality.\\n\\tEach connection has an instance of this object to\\n\\treceive data for a message in multiple OP_READ events.\\n   \n",
       "1                                                                                                                                                                                 * temporary fix for non-shared JArray objects\\n  * added generic unittests to check jcc/lucene/solr/montysolr functionality\\n  * wrote unittest for newseman (it does a complete processing from python side)\\n    - now what remains is to call it from java\\n    - decide on proper behaviour for cases when tokens are added/grouped\\n   \n",
       "2      * Java:\\n   * Added RCON functionality for Source servers:\\n     * Added steamcondenser.steam.packets.rcon package\\n     * Added RCONAuthRequestPacket\\n     * Added RCONAuthResponsePacket\\n     * Added RCONExecRequestPacket\\n     * Added RCONExecResponsePacket\\n     * Added RCONPacket\\n     * Added RCONNoAuthException\\n   * Split SteamSocket into QuerySocket and RCONSocket\\n   * Stub functionality for GoldSrc servers\\n     * GoldSrc uses UDP and needs a special implementation\\n   * Added tests\\n   \n",
       "3                                                                                                                                                                                                                                                                                                                                                                                                - Merge changes from Pull-Request #6 \\t - Fix aggregation generation and cleanup dead code  - Update dependencies versions   \n",
       "4                                                                                                                                                                                                                                                                                                                                                                                                                                                           Bug 233643 -  API builder performance bad for incremental build   \n",
       "...                                                                                                                                                                                                                                                                                                                                                                                                                                                                                                                     ...   \n",
       "1735                                                                                                                                                                                                                                                                                                                                                                working on #339: introducing the getSpecialFeatureCollection Method as a more general way to get all the PrintTemplateFeatures. improve the numbering\\n   \n",
       "1736                                                                                                                                                                                                                                                                                                                                working on #339: next step. i\\n\\nmove all the calculation and handling into the PrintTemplateFeature to handle\\nmultiple templateprinting.\\n\\nThe creation is still very basic though\\n   \n",
       "1737                                                                                                                                                                                                                                                                                                                             working on #369: generalized the adjustMapForPrintingTemplates and ensureVisibilityOfPrintingTemplates method to adjustMapForSpecialFeatureClasses and ensureVisibilityOfSpecialFeatures\\n   \n",
       "1738                                                                                                                                                                                                                                                                                                                                                                                                                       working up test coverage; minor tweaks; removing dead code; fixing very minor bugs; adding tests   \n",
       "1739                                                                                                                                                                                                                                                                                                                          changed render routine for text fields  added tabbing abilities to CustomScreen  various modifications on CustomScreen to match the new TextField requirements  changed size of PacketSky   \n",
       "\n",
       "        category  \n",
       "0     functional  \n",
       "1         bugfix  \n",
       "2     functional  \n",
       "3     code smell  \n",
       "4       external  \n",
       "...          ...  \n",
       "1735  functional  \n",
       "1736  functional  \n",
       "1737  functional  \n",
       "1738  code smell  \n",
       "1739    internal  \n",
       "\n",
       "[1740 rows x 2 columns]"
      ]
     },
     "execution_count": 4,
     "metadata": {},
     "output_type": "execute_result"
    }
   ],
   "source": [
    "df['commit_message'] = df['Commit Message']\n",
    "del df['Commit Message']\n",
    "\n",
    "df['category'] = df['Category']\n",
    "del df['Category']\n",
    "\n",
    "df"
   ]
  },
  {
   "cell_type": "code",
   "execution_count": 5,
   "metadata": {
    "scrolled": true
   },
   "outputs": [
    {
     "name": "stdout",
     "output_type": "stream",
     "text": [
      "<class 'pandas.core.frame.DataFrame'>\n",
      "RangeIndex: 1740 entries, 0 to 1739\n",
      "Data columns (total 2 columns):\n",
      " #   Column          Non-Null Count  Dtype \n",
      "---  ------          --------------  ----- \n",
      " 0   commit_message  1740 non-null   object\n",
      " 1   category        1740 non-null   object\n",
      "dtypes: object(2)\n",
      "memory usage: 27.3+ KB\n"
     ]
    }
   ],
   "source": [
    "df.info()"
   ]
  },
  {
   "cell_type": "code",
   "execution_count": 6,
   "metadata": {},
   "outputs": [
    {
     "data": {
      "text/plain": [
       "array(['functional', 'bugfix', 'code smell', 'external', 'internal'],\n",
       "      dtype=object)"
      ]
     },
     "execution_count": 6,
     "metadata": {},
     "output_type": "execute_result"
    }
   ],
   "source": [
    "df.category.unique()"
   ]
  },
  {
   "cell_type": "code",
   "execution_count": 7,
   "metadata": {},
   "outputs": [
    {
     "data": {
      "text/plain": [
       "commit_message    1716\n",
       "category             5\n",
       "dtype: int64"
      ]
     },
     "execution_count": 7,
     "metadata": {},
     "output_type": "execute_result"
    }
   ],
   "source": [
    "df.nunique()"
   ]
  },
  {
   "cell_type": "code",
   "execution_count": 8,
   "metadata": {},
   "outputs": [],
   "source": [
    "df = df.drop_duplicates()"
   ]
  },
  {
   "cell_type": "code",
   "execution_count": 9,
   "metadata": {},
   "outputs": [
    {
     "data": {
      "text/plain": [
       "0"
      ]
     },
     "execution_count": 9,
     "metadata": {},
     "output_type": "execute_result"
    }
   ],
   "source": [
    "df.duplicated().sum()"
   ]
  },
  {
   "cell_type": "code",
   "execution_count": 10,
   "metadata": {},
   "outputs": [
    {
     "data": {
      "text/plain": [
       "commit_message    0\n",
       "category          0\n",
       "dtype: int64"
      ]
     },
     "execution_count": 10,
     "metadata": {},
     "output_type": "execute_result"
    }
   ],
   "source": [
    "df.isnull().sum()"
   ]
  },
  {
   "cell_type": "code",
   "execution_count": 11,
   "metadata": {},
   "outputs": [
    {
     "data": {
      "text/plain": [
       "commit_message    0\n",
       "category          0\n",
       "dtype: int64"
      ]
     },
     "execution_count": 11,
     "metadata": {},
     "output_type": "execute_result"
    }
   ],
   "source": [
    "df.isna().sum()"
   ]
  },
  {
   "cell_type": "code",
   "execution_count": 12,
   "metadata": {},
   "outputs": [
    {
     "data": {
      "text/plain": [
       "0"
      ]
     },
     "execution_count": 12,
     "metadata": {},
     "output_type": "execute_result"
    }
   ],
   "source": [
    "\n",
    "only_spaces_count = df['commit_message'].apply(lambda x: x.isspace() if pd.notnull(x) else False).sum()\n",
    "\n",
    "only_spaces_count\n"
   ]
  },
  {
   "cell_type": "code",
   "execution_count": 13,
   "metadata": {},
   "outputs": [
    {
     "data": {
      "text/plain": [
       "commit_message    1721\n",
       "category          1721\n",
       "dtype: int64"
      ]
     },
     "execution_count": 13,
     "metadata": {},
     "output_type": "execute_result"
    }
   ],
   "source": [
    "df.count()"
   ]
  },
  {
   "cell_type": "code",
   "execution_count": 14,
   "metadata": {},
   "outputs": [
    {
     "name": "stdout",
     "output_type": "stream",
     "text": [
      "commit_message    JBRULES-1450 De-couple drools-core from the java dialect's PackageCompilationData -Initial de-coupling attempt -also updated to mvel 2.0 alpha 2\n",
      "category                                                                                                                                                  internal\n",
      "Name: 803, dtype: object\n"
     ]
    }
   ],
   "source": [
    "print(df.iloc[797])"
   ]
  },
  {
   "cell_type": "code",
   "execution_count": 15,
   "metadata": {},
   "outputs": [
    {
     "data": {
      "text/html": [
       "<div>\n",
       "<style scoped>\n",
       "    .dataframe tbody tr th:only-of-type {\n",
       "        vertical-align: middle;\n",
       "    }\n",
       "\n",
       "    .dataframe tbody tr th {\n",
       "        vertical-align: top;\n",
       "    }\n",
       "\n",
       "    .dataframe thead th {\n",
       "        text-align: right;\n",
       "    }\n",
       "</style>\n",
       "<table border=\"1\" class=\"dataframe\">\n",
       "  <thead>\n",
       "    <tr style=\"text-align: right;\">\n",
       "      <th></th>\n",
       "      <th>commit_message</th>\n",
       "      <th>category</th>\n",
       "    </tr>\n",
       "  </thead>\n",
       "  <tbody>\n",
       "    <tr>\n",
       "      <th>508</th>\n",
       "      <td>Enhanced tool palette composition functionality. Added Morph Activity/Gateway features.</td>\n",
       "      <td>internal</td>\n",
       "    </tr>\n",
       "    <tr>\n",
       "      <th>509</th>\n",
       "      <td>Enhanced tool palette composition functionality. Added Morph Activity/Gateway features.</td>\n",
       "      <td>external</td>\n",
       "    </tr>\n",
       "    <tr>\n",
       "      <th>577</th>\n",
       "      <td>Fix performance regresssion introduced by using InetSocketAddress\\ngetHostName()\\nPatch provided by Scott Harrington, improved upon by Kris Jurka\\n</td>\n",
       "      <td>bugfix</td>\n",
       "    </tr>\n",
       "    <tr>\n",
       "      <th>578</th>\n",
       "      <td>Fix performance regresssion introduced by using InetSocketAddress getHostName() Patch provided by Scott Harrington  improved upon by Kris Jurka</td>\n",
       "      <td>external</td>\n",
       "    </tr>\n",
       "    <tr>\n",
       "      <th>796</th>\n",
       "      <td>Issue 176: size can now test compatibility with images; refactored vcloud config logic; updated to support latest bluelock</td>\n",
       "      <td>internal</td>\n",
       "    </tr>\n",
       "    <tr>\n",
       "      <th>797</th>\n",
       "      <td>Issue 176: size can now test compatibility with images; refactored vcloud config logic; updated to support latest bluelock</td>\n",
       "      <td>external</td>\n",
       "    </tr>\n",
       "    <tr>\n",
       "      <th>862</th>\n",
       "      <td>Make bitcoinSerialize() return a copy by default  provide an unsafeBitcoinSerialize() method for high performance applications that are willing to deal with the extra API complexity.</td>\n",
       "      <td>internal</td>\n",
       "    </tr>\n",
       "    <tr>\n",
       "      <th>863</th>\n",
       "      <td>Make bitcoinSerialize() return a copy by default  provide an unsafeBitcoinSerialize() method for high performance applications that are willing to deal with the extra API complexity.</td>\n",
       "      <td>external</td>\n",
       "    </tr>\n",
       "    <tr>\n",
       "      <th>1241</th>\n",
       "      <td>StewartSingularValueDecomposition: re-factor monolithic code and ugly switch statement into multiple methods</td>\n",
       "      <td>internal</td>\n",
       "    </tr>\n",
       "    <tr>\n",
       "      <th>1242</th>\n",
       "      <td>StewartSingularValueDecomposition: re-factor monolithic code and ugly switch statement into multiple methods</td>\n",
       "      <td>code smell</td>\n",
       "    </tr>\n",
       "    <tr>\n",
       "      <th>1346</th>\n",
       "      <td>[BACKLOG-4709] - Small changes in platform to improve performance - UserSettingService    - replace keySet() + get() combination with entrySet()    - remove useless object instantiation    - remove useless explicit map.remove() - AbstractSpringPentahoObjectFactory    - add logger.isDebugEnabled()    - remove useless non-null validation - OrderedApplicationEventMulticaster    - replace ArrayList with array for faster sorting    - extract stateless Comparator to a final field to avoid useless instantiation    - replace new Integer.compareTo() with Integer.compare()    - add tests - RoleAuthorizationPolicy    - create ArrayLists of exact size - JcrRepositoryFileAclUtils    - iterate through List  not Set - DefaultPermissionConversionHelper    - replace indexOf(\":\") with indexOf(':') as it is more effective - AuditConnection    - change the order: first try to obtain a connection and only then sleep</td>\n",
       "      <td>internal</td>\n",
       "    </tr>\n",
       "    <tr>\n",
       "      <th>1347</th>\n",
       "      <td>[BACKLOG-4709] - Small changes in platform to improve performance - UserSettingService    - replace keySet() + get() combination with entrySet()    - remove useless object instantiation    - remove useless explicit map.remove() - AbstractSpringPentahoObjectFactory    - add logger.isDebugEnabled()    - remove useless non-null validation - OrderedApplicationEventMulticaster    - replace ArrayList with array for faster sorting    - extract stateless Comparator to a final field to avoid useless instantiation    - replace new Integer.compareTo() with Integer.compare()    - add tests - RoleAuthorizationPolicy    - create ArrayLists of exact size - JcrRepositoryFileAclUtils    - iterate through List  not Set - DefaultPermissionConversionHelper    - replace indexOf(\":\") with indexOf(':') as it is more effective - AuditConnection    - change the order: first try to obtain a connection and only then sleep</td>\n",
       "      <td>external</td>\n",
       "    </tr>\n",
       "  </tbody>\n",
       "</table>\n",
       "</div>"
      ],
      "text/plain": [
       "                                                                                                                                                                                                                                                                                                                                                                                                                                                                                                                                                                                                                                                                                                                                                                                                                                                                                                                                    commit_message  \\\n",
       "508                                                                                                                                                                                                                                                                                                                                                                                                                                                                                                                                                                                                                                                                                                                                                                                                                                                        Enhanced tool palette composition functionality. Added Morph Activity/Gateway features.   \n",
       "509                                                                                                                                                                                                                                                                                                                                                                                                                                                                                                                                                                                                                                                                                                                                                                                                                                                        Enhanced tool palette composition functionality. Added Morph Activity/Gateway features.   \n",
       "577                                                                                                                                                                                                                                                                                                                                                                                                                                                                                                                                                                                                                                                                                                                                                                                            Fix performance regresssion introduced by using InetSocketAddress\\ngetHostName()\\nPatch provided by Scott Harrington, improved upon by Kris Jurka\\n   \n",
       "578                                                                                                                                                                                                                                                                                                                                                                                                                                                                                                                                                                                                                                                                                                                                                                                                Fix performance regresssion introduced by using InetSocketAddress getHostName() Patch provided by Scott Harrington  improved upon by Kris Jurka   \n",
       "796                                                                                                                                                                                                                                                                                                                                                                                                                                                                                                                                                                                                                                                                                                                                                                                                                     Issue 176: size can now test compatibility with images; refactored vcloud config logic; updated to support latest bluelock   \n",
       "797                                                                                                                                                                                                                                                                                                                                                                                                                                                                                                                                                                                                                                                                                                                                                                                                                     Issue 176: size can now test compatibility with images; refactored vcloud config logic; updated to support latest bluelock   \n",
       "862                                                                                                                                                                                                                                                                                                                                                                                                                                                                                                                                                                                                                                                                                                                                                         Make bitcoinSerialize() return a copy by default  provide an unsafeBitcoinSerialize() method for high performance applications that are willing to deal with the extra API complexity.   \n",
       "863                                                                                                                                                                                                                                                                                                                                                                                                                                                                                                                                                                                                                                                                                                                                                         Make bitcoinSerialize() return a copy by default  provide an unsafeBitcoinSerialize() method for high performance applications that are willing to deal with the extra API complexity.   \n",
       "1241                                                                                                                                                                                                                                                                                                                                                                                                                                                                                                                                                                                                                                                                                                                                                                                                                                  StewartSingularValueDecomposition: re-factor monolithic code and ugly switch statement into multiple methods   \n",
       "1242                                                                                                                                                                                                                                                                                                                                                                                                                                                                                                                                                                                                                                                                                                                                                                                                                                  StewartSingularValueDecomposition: re-factor monolithic code and ugly switch statement into multiple methods   \n",
       "1346  [BACKLOG-4709] - Small changes in platform to improve performance - UserSettingService    - replace keySet() + get() combination with entrySet()    - remove useless object instantiation    - remove useless explicit map.remove() - AbstractSpringPentahoObjectFactory    - add logger.isDebugEnabled()    - remove useless non-null validation - OrderedApplicationEventMulticaster    - replace ArrayList with array for faster sorting    - extract stateless Comparator to a final field to avoid useless instantiation    - replace new Integer.compareTo() with Integer.compare()    - add tests - RoleAuthorizationPolicy    - create ArrayLists of exact size - JcrRepositoryFileAclUtils    - iterate through List  not Set - DefaultPermissionConversionHelper    - replace indexOf(\":\") with indexOf(':') as it is more effective - AuditConnection    - change the order: first try to obtain a connection and only then sleep   \n",
       "1347  [BACKLOG-4709] - Small changes in platform to improve performance - UserSettingService    - replace keySet() + get() combination with entrySet()    - remove useless object instantiation    - remove useless explicit map.remove() - AbstractSpringPentahoObjectFactory    - add logger.isDebugEnabled()    - remove useless non-null validation - OrderedApplicationEventMulticaster    - replace ArrayList with array for faster sorting    - extract stateless Comparator to a final field to avoid useless instantiation    - replace new Integer.compareTo() with Integer.compare()    - add tests - RoleAuthorizationPolicy    - create ArrayLists of exact size - JcrRepositoryFileAclUtils    - iterate through List  not Set - DefaultPermissionConversionHelper    - replace indexOf(\":\") with indexOf(':') as it is more effective - AuditConnection    - change the order: first try to obtain a connection and only then sleep   \n",
       "\n",
       "        category  \n",
       "508     internal  \n",
       "509     external  \n",
       "577       bugfix  \n",
       "578     external  \n",
       "796     internal  \n",
       "797     external  \n",
       "862     internal  \n",
       "863     external  \n",
       "1241    internal  \n",
       "1242  code smell  \n",
       "1346    internal  \n",
       "1347    external  "
      ]
     },
     "metadata": {},
     "output_type": "display_data"
    }
   ],
   "source": [
    "# 508, 509, 577, 578, 796, 797, 862, 863, 1241, 1242, 1346, 1347\n",
    "display(df.loc[[508, 509, 577, 578, 796, 797, 862, 863, 1241, 1242, 1346, 1347]])"
   ]
  },
  {
   "cell_type": "markdown",
   "metadata": {},
   "source": [
    "**508, 509**: maybe new functionality, thus **internal** seems correct as it does not specifically mention fixing bugs or issues.\n",
    "\n",
    "**577, 578**: use of the word \"Fix\" suggests that it is **bugfix** entry, as it address a performance issue.\n",
    "\n",
    "**796, 797**: seems like internal enhancements and updates to existing systems, so **internal** \n",
    "\n",
    "**862, 863**: change in functionality to enhance performance and security, so **internal**\n",
    "\n",
    "**1241, 1242**: This is clearly a code maintenance task, thats why the **code smell** category\n",
    "\n",
    "**1346, 1347**: If \"external\" refers to changes that affect end-users or outside systems, and \"internal\" refers to changes within the codebase that do not affect external interfaces, then it's likely that both should be categorized as **internal**."
   ]
  },
  {
   "cell_type": "code",
   "execution_count": 16,
   "metadata": {},
   "outputs": [],
   "source": [
    "# Remove second and fourth row (index 1 and 3)\n",
    "df = df.drop(labels=[508, 577, 796, 862, 1240, 1241, 1346], axis=0)"
   ]
  },
  {
   "cell_type": "code",
   "execution_count": 17,
   "metadata": {},
   "outputs": [
    {
     "data": {
      "text/html": [
       "<div>\n",
       "<style scoped>\n",
       "    .dataframe tbody tr th:only-of-type {\n",
       "        vertical-align: middle;\n",
       "    }\n",
       "\n",
       "    .dataframe tbody tr th {\n",
       "        vertical-align: top;\n",
       "    }\n",
       "\n",
       "    .dataframe thead th {\n",
       "        text-align: right;\n",
       "    }\n",
       "</style>\n",
       "<table border=\"1\" class=\"dataframe\">\n",
       "  <thead>\n",
       "    <tr style=\"text-align: right;\">\n",
       "      <th></th>\n",
       "      <th>commit_message</th>\n",
       "      <th>category</th>\n",
       "    </tr>\n",
       "  </thead>\n",
       "  <tbody>\n",
       "    <tr>\n",
       "      <th>1242</th>\n",
       "      <td>StewartSingularValueDecomposition: re-factor monolithic code and ugly switch statement into multiple methods</td>\n",
       "      <td>code smell</td>\n",
       "    </tr>\n",
       "  </tbody>\n",
       "</table>\n",
       "</div>"
      ],
      "text/plain": [
       "                                                                                                    commit_message  \\\n",
       "1242  StewartSingularValueDecomposition: re-factor monolithic code and ugly switch statement into multiple methods   \n",
       "\n",
       "        category  \n",
       "1242  code smell  "
      ]
     },
     "metadata": {},
     "output_type": "display_data"
    }
   ],
   "source": [
    "display(df.loc[[1242]])"
   ]
  },
  {
   "cell_type": "markdown",
   "metadata": {},
   "source": [
    "### Text Pre-processing"
   ]
  },
  {
   "cell_type": "code",
   "execution_count": 18,
   "metadata": {},
   "outputs": [],
   "source": [
    "# from pycontractions import Contractions\n",
    "# import re\n",
    "from contractions import fix\n",
    "# from gensim.utils import contractions"
   ]
  },
  {
   "cell_type": "code",
   "execution_count": 19,
   "metadata": {},
   "outputs": [
    {
     "name": "stdout",
     "output_type": "stream",
     "text": [
      "Before fixing contractions:\n",
      "729                            Implement my old patch for issue #366, with some tweaks.  This does the\\nfollowing:\\n* Fixes @Provides injection so that parameters are checked for nullability.\\nBy default this will error.  The flag is named:\\nguice_check_nullable_provides_params and can be set to ERROR, WARNING or IGNORE.\\n* Adds InjectionPoint.forMethod to build an InjectionPoint off an arbitrary\\nmethod.\\n* Adds Binder.getProvider(Dependency) to a get a Provider for a given\\ndependency (with all its nullability & injection points maintained).\\n* Update ProviderLookup to accept a Dependency in addition to a Key.\\n\\nThis is in preparation for two things:\\n1) Allowing multibindings/mapbindings/optionalbindings to be specified as\\nannotations on methods in a module.\\n2) Adding a dagger compatibility module.\\n... the general idea will be that I'll also add a hook into\\nProvidesMethodModule somehow to look at arbitrary other annotations and let\\nfolks process them specially.\\n-------------\\nCreated by MOE: http://code.google.com/p/moe-java\\nMOE_MIGRATED_REVID=85353820\\n\n",
      "1263    This change is big, and it makes Guice slower. I'll need to follow-up with some optimizations that make TypeResolver quicker.\\n\\nSuppose you have a parameterized class:\\n\\nclass Foo<T> {\\n  @Inject Set<T> tees;\\n} \\n\\nThis change makes it so that as long as you have the required dependencies, parameterized injection points will be resolved. For example:\\n  Injector injector = Guice.createInjector(new AbstractModule() {\\n    protected void configure() {\\n      bind(new TypeLiteral<Set<String>>() {})\\n          .toInstance(ImmutableSet.of(\"A\", \"B\", \"C\"));\\n      }\\n  });\\n  Foo<String> foo = injector.getInstance(new TypeLiteral<Foo<String>>() {});\\n  assertEquals(ImmutableSet.of(\"A\", \"B\", \"C\"), foo.tees);\\n\\nThis builds on my earlier work for TypeResolver. That class is currently pretty slow (it builds a ton of HashMaps eagerly), but it shouldn't be too hard to make it lazy - that way everything will work nice and fast if you're not leveraging this feature.\\n\\ngit-svn-id: https://google-guice.googlecode.com/svn/trunk@660 d779f126-a31b-0410-b53b-1d3aecad763e\\n\n",
      "1325                                                                                                                                                                                                                                                                                                                                                                                                                                                                                                                                                                                                                                                                                                                                                                                                                                                                                                                                       Well, realized that the fragment shader can't composite or blend.  So I think this is  the closest I'll get to a decent implementation of the Duff-Porter blend functionality.\n",
      "Name: commit_message, dtype: object\n"
     ]
    }
   ],
   "source": [
    "# Find commit messages containing \"I'm\"\n",
    "contains_im = df[df['commit_message'].str.contains(\"I'll\", na=False)]\n",
    "\n",
    "print(\"Before fixing contractions:\")\n",
    "print(contains_im['commit_message'].head(10))"
   ]
  },
  {
   "cell_type": "code",
   "execution_count": 20,
   "metadata": {},
   "outputs": [],
   "source": [
    "# # Function to fix contractions in a string\n",
    "# def expand_contractions(text):\n",
    "#     return fix(text)\n",
    "\n",
    "\n",
    "# # Identify and print rows with contractions\n",
    "# # We're looking for apostrophes as a simple heuristic for finding contractions\n",
    "# contraction_rows = df[df['commit_message'].str.contains(\"'\")]\n",
    "\n",
    "\n",
    "# # Apply the function to your data to fix contractions\n",
    "# # Assuming 'commit_message' is the column with text data\n",
    "# df['expanded_commit_message'] = df['commit_message'].apply(expand_contractions)\n",
    "\n",
    "# # Display the first 10 rows with contractions before and after expansion\n",
    "# print(contraction_rows[['commit_message', 'expanded_commit_message']].head(10))\n",
    "\n",
    "\n",
    "# # Find commit messages containing \"I'm\"\n",
    "# contains_im = df[df['commit_message'].str.contains(\"I'm\", na=False)]\n",
    "\n",
    "# # Print messages before fixing contractions\n",
    "# print(\"Before fixing contractions:\")\n",
    "# print(contains_im['commit_message'].head(10))\n",
    "\n",
    "# Define a function to fix contractions in a string\n",
    "def expand_contractions(text):\n",
    "    return fix(text)\n",
    "\n",
    "# Apply the function to expand contractions for the whole column (if needed later)\n",
    "df['commit_message'] = df['commit_message'].apply(expand_contractions)\n",
    "\n",
    "\n",
    "\n",
    "# # Fix contractions and print messages after fixing\n",
    "# contains_im['commit_message'].head(10).apply(lambda x: print(f\"After fixing contractions:\\n{expand_contractions(x)}\\n\"))\n"
   ]
  },
  {
   "cell_type": "code",
   "execution_count": 21,
   "metadata": {},
   "outputs": [
    {
     "name": "stdout",
     "output_type": "stream",
     "text": [
      "commit_message    [ARQ-680] Extracted DBUnit database connection creation to dedicated EventContext listener. Made @Transactional first class citizen. Tests can now use only this feature if needed.\\n\\n[ARQ-680] Extracted DBUnit database connection creation to dedicated EventContext listener. Made @Transactional first class citizen. Tests can now use only this feature if needed.\\n\\n[ARQ-680] Extracted DBUnit database connection creation to dedicated EventContext listener. Made @Transactional first class citizen. Tests can now use only this feature if needed.\\n\n",
      "category                                                                                                                                                                                                                                                                                                                                                                                                                                                                                                                                                                   functional\n",
      "Name: 1344, dtype: object\n"
     ]
    }
   ],
   "source": [
    "print(df.iloc[1325])"
   ]
  },
  {
   "cell_type": "code",
   "execution_count": 22,
   "metadata": {},
   "outputs": [
    {
     "name": "stderr",
     "output_type": "stream",
     "text": [
      "[nltk_data] Downloading package stopwords to\n",
      "[nltk_data]     C:\\Users\\onkar\\AppData\\Roaming\\nltk_data...\n",
      "[nltk_data]   Package stopwords is already up-to-date!\n"
     ]
    },
    {
     "data": {
      "text/plain": [
       "True"
      ]
     },
     "execution_count": 22,
     "metadata": {},
     "output_type": "execute_result"
    }
   ],
   "source": [
    "import nltk\n",
    "nltk.download('stopwords')"
   ]
  },
  {
   "cell_type": "code",
   "execution_count": 24,
   "metadata": {},
   "outputs": [],
   "source": [
    "import re\n",
    "\n",
    "def clean_text(text):\n",
    "    # Remove URLs\n",
    "    text = re.sub(r'http\\S+', '', text)\n",
    "    # Remove single-character tokens (mostly punctuation)\n",
    "    text = re.sub(r'\\s+[a-zA-Z]\\s+', ' ', text)\n",
    "    # Remove single characters from the start\n",
    "    text = re.sub(r'\\^[a-zA-Z]\\s+', ' ', text)\n",
    "    # Substitute multiple spaces with single space\n",
    "    text = re.sub(r'\\s+', ' ', text, flags=re.I)\n",
    "    # Remove prefixed 'b'\n",
    "    text = re.sub(r'^b\\s+', '', text)\n",
    "    # Remove numbers\n",
    "    text = re.sub(r'\\d+', '', text)\n",
    "    # Remove non-alphabetic characters\n",
    "    text = re.sub(r'[^a-zA-Z\\s]', '', text)\n",
    "    return text\n",
    "\n",
    "\n"
   ]
  },
  {
   "cell_type": "code",
   "execution_count": 25,
   "metadata": {},
   "outputs": [],
   "source": [
    "from nltk.corpus import stopwords\n",
    "from nltk.tokenize import word_tokenize\n",
    "\n",
    "\n",
    "stop_words = set(stopwords.words('english'))\n",
    "\n",
    "custom_stop_words = ['git', 'svn', 'refactor', 'gitsvnid', 'signedoffby', 'reviewedon', 'testedby', 'us', 'id', 'changeid', 'lot', 'small', 'thing', 'way']  # Add more custom words here --- lots\n",
    "stop_words.update(custom_stop_words)\n",
    "\n",
    "def remove_stopwords(text):\n",
    "    word_tokens = word_tokenize(text)\n",
    "    filtered_text = [word for word in word_tokens if word.lower() not in stop_words]\n",
    "    return ' '.join(filtered_text)\n"
   ]
  },
  {
   "cell_type": "code",
   "execution_count": 26,
   "metadata": {},
   "outputs": [
    {
     "name": "stdout",
     "output_type": "stream",
     "text": [
      "\n",
      "Row Index: 400\n",
      "commit_message    Changes based on Keith's review.  A few tweaks to EdgeSet to help tracking edge\\nremoval\\n\\n\\tmodified:   src/edu/ucla/sspace/common/Similarity.java\\n\\n- Updated to use VectorMath.dotProduct for the Tanimoto coefficient\\n\\n\\tdeleted:    src/edu/ucla/sspace/common/WordComparator.java\\n\\n- Moved to SimpleNearestNeighborFinder\\n\\n\\tmodified:   src/edu/ucla/sspace/dependency/SimpleDependencyPath.java\\n\\n- Removed println\\n\\n\\tmodified:   src/edu/ucla/sspace/graph/AbstractGraph.java\\n\\n- Added missing implementation to Subgraph class so now all the unit tests pass\\n\\n\\tmodified:   src/edu/ucla/sspace/graph/DirectedMultigraph.java\\n\\n- Added missing implementation to Subgraph class so now all the unit tests pass\\n\\n- Fixed bug for reporting the correct edge types after removal\\n\\n- Removed dead code\\n\\n\\tmodified:   src/edu/ucla/sspace/graph/EdgeSet.java\\n\\n- Updated so that disconnect() now returns the number of edges that were removed\\n\\n\\tmodified:   src/edu/ucla/sspace/graph/GenericEdgeSet.java\\n\\tmodified:   src/edu/ucla/sspace/graph/SparseDirectedEdgeSet.java\\n\\tmodified:   src/edu/ucla/sspace/graph/SparseDirectedTypedEdgeSet.java\\n\\tmodified:   src/edu/ucla/sspace/graph/SparseTypedEdgeSet.java\\n\\tmodified:   src/edu/ucla/sspace/graph/SparseUndirectedEdgeSet.java\\n\\tmodified:   src/edu/ucla/sspace/graph/SparseWeightedEdgeSet.java\\n\\n- Updated to support EdgeSet interface change\\n\\n\\tdeleted:    src/edu/ucla/sspace/graph/GraphRandomizer.java\\n\\n- Removed dead class (functionality is in Graphs.java)\\n\\n\\tmodified:   src/edu/ucla/sspace/graph/SimpleWeightedEdge.java\\n\\n- Fixed hashCode()\\n\\n\\tdeleted:    src/edu/ucla/sspace/graph/SparseSymmetricEdgeSet.java\\n\\n- Removed dead class\\n\\n\\tmodified:   src/edu/ucla/sspace/graph/UndirectedMultigraph.java\\n\\n- Added missing implementation to Subgraph class so now all the unit tests pass\\n\\n- Fixed bug for reporting the correct edge types after removal\\n\\n- Removed dead code\\n\\n\\tmodified:   src/edu/ucla/sspace/mains/FixedDurationTemporalRandomIndexingMain.java\\n\\n- Updated to replace WordComparator with SimpleNearestNeighborFinder\\n\\n\\tmodified:   src/edu/ucla/sspace/mains/LexSubWordsiMain.java\\n\\n- Updated to replace WordComparator with SimpleNearestNeighborFinder\\n\\n\\tmodified:   src/edu/ucla/sspace/text/LabeledParsedStringDocument.java\\n\\n- Updated for new ParsedDocument interface\\n\\n\\tmodified:   src/edu/ucla/sspace/text/ParsedDocument.java\\n\\n- Updated to specify the format of text() as the tokens with white space delimiters.\\n\\n- Added a new prettyPrintText() which is the attempt to nicely format the tokens\\n  as they would have been originally.\\n\\n\\tmodified:   src/edu/ucla/sspace/text/PukWaCDocumentIterator.java\\n\\n- Fixed javadoc\\n\\n\\tmodified:   src/edu/ucla/sspace/text/UkWaCDocumentIterator.java\\n\\n- Added more class javadoc\\n\\n\\tmodified:   src/edu/ucla/sspace/tools/NearestNeighborFinderTool.java\\n\\n- Updated to use the class instances instead of the interface\\n\\n\\tmodified:   src/edu/ucla/sspace/tools/SemanticSpaceExplorer.java\\n\\n- Updated to replace WordComparator with PartitioningNearestNeighborFinder\\n\\n\\tmodified:   src/edu/ucla/sspace/tools/SimilarityListGenerator.java\\n\\n- Updated to replace WordComparator with PartitioningNearestNeighborFinder\\n\\n\\tmodified:   src/edu/ucla/sspace/util/HashIndexer.java\\n\\n- Fixed javadoc\\n\\n\\tmodified:   src/edu/ucla/sspace/util/PairCounter.java\\n\\n- Fixed javadoc\\n\\n\\trenamed:    src/edu/ucla/sspace/util/NearestNeighborFinder.java -> src/edu/ucla/sspace/util/PartitioningNearestNeighborFinder.java\\n\\n- Moved so that NearestNeighborFinder can be an interface\\n\\n\\tmodified:   src/edu/ucla/sspace/util/ReflectionUtil.java\\n\\n- Removed dead code\\n\\n\\tmodified:   src/edu/ucla/sspace/util/primitive/IntIntHashMultiMap.java\\n\\n- Added javadoc\\n\\n\\tmodified:   src/edu/ucla/sspace/util/primitive/IntIntMultiMap.java\\n\\n- Added javadoc\\n\\n\\tmodified:   test/edu/ucla/sspace/graph/DirectedMultigraphTests.java\\n\\n- Uncommented out unit tests\\n\\n\\tmodified:   test/edu/ucla/sspace/dependency/BreadthFirstPathIteratorTest.java\\n\\tmodified:   test/edu/ucla/sspace/dependency/CoNLLDependencyExtractorTest.java\\n\\tmodified:   test/edu/ucla/sspace/dependency/WaCKyDependencyExtractorTest.java\\n\\tmodified:   test/edu/ucla/sspace/text/corpora/PukWacDependencyCorpusReaderTest.java\\n\\tmodified:   test/edu/ucla/sspace/wordsi/DependencyContextExtractorTest.java\\n\\tmodified:   test/edu/ucla/sspace/wordsi/OccurrenceDependencyContextGeneratorTest.java\\n\\tmodified:   test/edu/ucla/sspace/wordsi/OrderingDependencyContextGeneratorTest.java\\n\\tmodified:   test/edu/ucla/sspace/wordsi/PartOfSpeechDependencyContextGeneratorTest.java\\n\\tmodified:   test/edu/ucla/sspace/wordsi/psd/PseudoWordDependencyContextExtractorTest.java\\n\\tmodified:   test/edu/ucla/sspace/wordsi/semeval/SemEvalDependencyContextExtractorTest.java\\n\\n- Fixed unit tests to support proper tab-delimiting of the CoNLL format\\n\n",
      "category                                                                                                                                                                                                                                                                                                                                                                                                                                                                                                                                                                                                                                                                                                                                                                                                                                                                                                                                                                                                                                                                                                                                                                                                                                                                                                                                                                                                                                                                                                                                                                                                                                                                                                                                                                                                                                                                                                                                                                                                                                                                                                                                                                                                                                                                                                                                                                                                                                                                                                                                                                                                                                                                                                                                                                                                                                                                                                                                                                                                                                                                                                                                                                                                                                                                                                                                                                                                                                                                                                                                                                                                                                                                                                                                                                                                                                                                                                                                                                                                                                                                                                                                                                                                                                                                                                                                                                                                                                                                                                                                                                                                                                                                                                                                                                                                                                                                                                                                                                                                                                                                                                                                          bugfix\n",
      "Name: 400, dtype: object\n",
      "Length: 4753\n",
      "\n",
      "Row Index: 833\n",
      "commit_message    Lots and lots of bug fixes with a few minor functionality enhancements.\\n\\n\\tmodified:   src/main/java/edu/ucla/sspace/common/Similarity.java\\n\\n- Added warnings for invalid KL-divergence computations\\n\\n- Added Kruskal-Goodman Gamma\\n\\n- Discovered Spearman's rho and Kendall's tau are both wrong (not fixed)  :(\\n\\n\\tmodified:   src/main/java/edu/ucla/sspace/common/statistics/LogLikelihoodTest.java\\n\\n- Fixed implementation\\n\\n\\tnew file:   src/main/java/edu/ucla/sspace/graph/ChineseWhispersClustering.java\\n\\n- Added CW clustering, but it does not appear to produce the same results as the\\n  existing code (needs investigation)\\n\\n\\tmodified:   src/main/java/edu/ucla/sspace/graph/GraphIO.java\\n\\n- Tweaked logging\\n\\n\\tmodified:   src/main/java/edu/ucla/sspace/graph/LinkClustering.java\\n\\n- Made thread count based on processors instead of fixed\\n\\n\\tnew file:   src/main/java/edu/ucla/sspace/graph/SimpleWeightedDirectedTypedEdge.java\\n\\tnew file:   src/main/java/edu/ucla/sspace/graph/SimpleWeightedTypedEdge.java\\n\\tnew file:   src/main/java/edu/ucla/sspace/graph/SparseWeightedDirectedEdgeSet.java\\n\\tnew file:   src/main/java/edu/ucla/sspace/graph/SparseWeightedDirectedTypedEdgeSet.java\\n\\tnew file:   src/main/java/edu/ucla/sspace/graph/WeightedDirectedMultigraph.java\\n\\tmodified:   src/main/java/edu/ucla/sspace/graph/WeightedDirectedTypedEdge.java\\n\\n- Added partial support for weighted multigraphs.  More features are probably needed eventually\\n\\n\\tmodified:   src/main/java/edu/ucla/sspace/graph/io/EdgeListReader.java\\n\\n- Added better logging instead of printf\\n\\n\\tnew file:   src/main/java/edu/ucla/sspace/graph/io/GraphMLReader.java\\n\\n- Added initial GraphML implementation for reading large GraphML files.  Only partial support is in place\\n\\n\\tmodified:   src/main/java/edu/ucla/sspace/index/DefaultPermutationFunction.java\\n\\n- Fixed outstanding bug.  Not sure how the bug was there in the first place, as\\n  the code was currently very broken in an odd way.\\n\\n\\tnew file:   src/main/java/edu/ucla/sspace/text/AnnotatedDocument.java\\n\\n- Added support for a new document that has a creation date and a label\\n\\n\\tnew file:   src/main/java/edu/ucla/sspace/text/BufferedFileListDocumentIterator.java\\n\\n- Added a new iterator that pre-caches the contents of files in a file list\\n  using a separate thread to cut down on disk I/O\\n\\n\\tmodified:   src/main/java/edu/ucla/sspace/text/FileDocument.java\\n\\n- Added support for a document back by a file whose contents are loaded into memory on demand\\n\\n\\tnew file:   src/main/java/edu/ucla/sspace/tools/IterativeBigramExtractor.java\\n\\n- Added a tool for finding statistical associations between terms in an\\n  iterative pair-wise manner\\n\\n\\tnew file:   src/main/java/edu/ucla/sspace/tools/LinkClusteringTool.java\\n\\n- Copied over code from the SVN branch for running link clustering from a jar\\n\\n\\tmodified:   src/main/java/edu/ucla/sspace/util/CombinedIterator.java\\n\\n- Corrected the Exception to be thrown in remove()\\n\\n\\tmodified:   src/main/java/edu/ucla/sspace/util/HashMultiMap.java\\n\\n- Correct a few errors in removing keys during iterator\\n\\n- Fixed a bug where null was returned instead of the empty set\\n\\n\\tnew file:   src/main/java/edu/ucla/sspace/util/KrippendorffsAlpha.java\\n\\n- Added a partial implementation of Krippendorff's alpha for ordinal-valued data\\n\\n\\tmodified:   src/main/java/edu/ucla/sspace/util/MultiMap.java\\n\\n- Clarified the javadoc\\n\\n\\tmodified:   src/main/java/edu/ucla/sspace/util/ObjectCounter.java\\n\\n- Implemented max() and min()\\n\\n\\tmodified:   src/main/java/edu/ucla/sspace/util/Pair.java\\n\\n- Made Serializable\\n\\n\\tmodified:   src/main/java/edu/ucla/sspace/util/SetDecorator.java\\n\\n- Clarified javadoc\\n\\n\\tnew file:   src/test/java/edu/ucla/sspace/graph/ChineseWhispersTest.java\\n\\tnew file:   src/test/java/edu/ucla/sspace/graph/SparseWeightedDirectedTypedEdgeSetTest.java\\n\\tnew file:   src/test/java/edu/ucla/sspace/graph/WeightedDirectedMultigraphTest.java\\n\\n- More unit tests\\n\\n\\tmodified:   src/test/java/edu/ucla/sspace/index/DefaultPermutationFunctionTest.java\\n\\n- Added some debugging output\\n\n",
      "category                                                                                                                                                                                                                                                                                                                                                                                                                                                                                                                                                                                                                                                                                                                                                                                                                                                                                                                                                                                                                                                                                                                                                                                                                                                                                                                                                                                                                                                                                                                                                                                                                                                                                                                                                                                                                                                                                                                                                                                                                                                                                                                                                                                                                                                                                                                                                                                                                                                                                                                                                                                                                                                                                                                                                                                                                                                                                                                                                                                                                                                                                                                                                                                                                                                                                                                                                                                                                                                                                                                                                                                                                                                                                                                                                                                                                                                                                                                                                                                                                                                                                                                                                                                                                                                                                                            bugfix\n",
      "Name: 833, dtype: object\n",
      "Length: 3996\n",
      "\n",
      "Row Index: 243\n",
      "commit_message    Added support for JDBC3.  The driver will now build under JDBC3 (i.e. Java 1.4).\\nThis concludes my changes that restructured the code to support JDBC3.\\nThe jdbc unit tests were also resturctured to allow different tests between\\njdbc2 and jdbc3, although currently make check (aka ant test) for JDBC3 just\\nruns the JDBC2 tests.  Of special note the largeobject/PGblob and PGclob\\nclasses have been moved under the jdbc2/jdbc3 specific directories as they\\nnow differ by jdbc version.  Also note that this checkin removes the\\nPostgresqlDataSource and files in the xa directory.  A recent checkin has\\nadded new datasource support that replaces the functionality provided by these\\nclasses.\\n\\n Modified Files:\\n \\tjdbc/build.xml\\n \\tjdbc/org/postgresql/jdbc1/AbstractJdbc1DatabaseMetaData.java\\n \\tjdbc/org/postgresql/jdbc1/AbstractJdbc1ResultSet.java\\n \\tjdbc/org/postgresql/jdbc1/AbstractJdbc1ResultSetMetaData.java\\n \\tjdbc/org/postgresql/jdbc1/AbstractJdbc1Statement.java\\n \\tjdbc/org/postgresql/jdbc2/AbstractJdbc2Connection.java\\n \\tjdbc/org/postgresql/jdbc2/AbstractJdbc2DatabaseMetaData.java\\n \\tjdbc/org/postgresql/jdbc2/AbstractJdbc2ResultSet.java\\n \\tjdbc/org/postgresql/jdbc2/AbstractJdbc2ResultSetMetaData.java\\n \\tjdbc/org/postgresql/jdbc2/AbstractJdbc2Statement.java\\n \\tjdbc/org/postgresql/jdbc2/Array.java\\n \\tjdbc/org/postgresql/jdbc2/Jdbc2CallableStatement.java\\n \\tjdbc/org/postgresql/jdbc2/Jdbc2Connection.java\\n \\tjdbc/org/postgresql/jdbc2/Jdbc2DatabaseMetaData.java\\n \\tjdbc/org/postgresql/jdbc2/Jdbc2PreparedStatement.java\\n \\tjdbc/org/postgresql/jdbc2/Jdbc2ResultSet.java\\n \\tjdbc/org/postgresql/jdbc2/Jdbc2ResultSetMetaData.java\\n \\tjdbc/org/postgresql/jdbc2/Jdbc2Statement.java\\n \\tjdbc/org/postgresql/test/jdbc2/BatchExecuteTest.java\\n \\tjdbc/org/postgresql/test/jdbc2/BlobTest.java\\n \\tjdbc/org/postgresql/test/jdbc2/CallableStmtTest.java\\n \\tjdbc/org/postgresql/test/jdbc2/ConnectionTest.java\\n \\tjdbc/org/postgresql/test/jdbc2/DatabaseMetaDataTest.java\\n \\tjdbc/org/postgresql/test/jdbc2/DateTest.java\\n \\tjdbc/org/postgresql/test/jdbc2/DriverTest.java\\n \\tjdbc/org/postgresql/test/jdbc2/JBuilderTest.java\\n \\tjdbc/org/postgresql/test/jdbc2/MiscTest.java\\n \\tjdbc/org/postgresql/test/jdbc2/ResultSetTest.java\\n \\tjdbc/org/postgresql/test/jdbc2/TimeTest.java\\n \\tjdbc/org/postgresql/test/jdbc2/TimestampTest.java\\n \\tjdbc/org/postgresql/test/jdbc2/UpdateableResultTest.java\\n Added Files:\\n \\tjdbc/org/postgresql/jdbc2/AbstractJdbc2Blob.java\\n \\tjdbc/org/postgresql/jdbc2/AbstractJdbc2Clob.java\\n \\tjdbc/org/postgresql/jdbc2/Jdbc2Blob.java\\n \\tjdbc/org/postgresql/jdbc2/Jdbc2Clob.java\\n \\tjdbc/org/postgresql/jdbc3/AbstractJdbc3Blob.java\\n \\tjdbc/org/postgresql/jdbc3/AbstractJdbc3Clob.java\\n \\tjdbc/org/postgresql/jdbc3/AbstractJdbc3Connection.java\\n \\tjdbc/org/postgresql/jdbc3/AbstractJdbc3DatabaseMetaData.java\\n \\tjdbc/org/postgresql/jdbc3/AbstractJdbc3ResultSet.java\\n \\tjdbc/org/postgresql/jdbc3/AbstractJdbc3Statement.java\\n \\tjdbc/org/postgresql/jdbc3/Jdbc3Blob.java\\n \\tjdbc/org/postgresql/jdbc3/Jdbc3CallableStatement.java\\n \\tjdbc/org/postgresql/jdbc3/Jdbc3Clob.java\\n \\tjdbc/org/postgresql/jdbc3/Jdbc3Connection.java\\n \\tjdbc/org/postgresql/jdbc3/Jdbc3DatabaseMetaData.java\\n \\tjdbc/org/postgresql/jdbc3/Jdbc3PreparedStatement.java\\n \\tjdbc/org/postgresql/jdbc3/Jdbc3ResultSet.java\\n \\tjdbc/org/postgresql/jdbc3/Jdbc3ResultSetMetaData.java\\n \\tjdbc/org/postgresql/jdbc3/Jdbc3Statement.java\\n \\tjdbc/org/postgresql/test/TestUtil.java\\n \\tjdbc/org/postgresql/test/jdbc2/Jdbc2TestSuite.java\\n \\tjdbc/org/postgresql/test/jdbc3/Jdbc3TestSuite.java\\n Removed Files:\\n \\tjdbc/org/postgresql/PostgresqlDataSource.java\\n \\tjdbc/org/postgresql/largeobject/PGblob.java\\n \\tjdbc/org/postgresql/largeobject/PGclob.java\\n \\tjdbc/org/postgresql/test/JDBC2Tests.java\\n \\tjdbc/org/postgresql/xa/ClientConnection.java\\n \\tjdbc/org/postgresql/xa/TwoPhaseConnection.java\\n \\tjdbc/org/postgresql/xa/TxConnection.java\\n \\tjdbc/org/postgresql/xa/XAConnectionImpl.java\\n \\tjdbc/org/postgresql/xa/XADataSourceImpl.java\\n\n",
      "category                                                                                                                                                                                                                                                                                                                                                                                                                                                                                                                                                                                                                                                                                                                                                                                                                                                                                                                                                                                                                                                                                                                                                                                                                                                                                                                                                                                                                                                                                                                                                                                                                                                                                                                                                                                                                                                                                                                                                                                                                                                                                                                                                                                                                                                                                                                                                                                                                                                                                                                                                                                                                                                                                                                                                                                                                                                                                                                                                                                                                                                                                                                                                                                                                                                                                                                                                                                                                                                                                                                                                                                                                                                                                                                                                                                                                                                                                                                                                                                                                                                                                                                                                                                                         functional\n",
      "Name: 243, dtype: object\n",
      "Length: 3903\n",
      "\n",
      "Row Index: 878\n",
      "commit_message    Merged revisions 391-416 via svnmerge from \\nhttps://svn.parabola.me.uk/svn/mkgmap/branches/filters\\n\\n........\\n  r391 | steve | 2007-12-01 17:22:34 +0000 (Sat, 01 Dec 2007) | 1 line\\n  \\n  Broke out the splitting of lines a little.\\n........\\n  r392 | steve | 2007-12-01 17:28:23 +0000 (Sat, 01 Dec 2007) | 1 line\\n  \\n  Remove the inline line splitting code.\\n........\\n  r393 | steve | 2007-12-01 20:29:03 +0000 (Sat, 01 Dec 2007) | 1 line\\n  \\n  Create filter infrastructure.\\n........\\n  r394 | steve | 2007-12-02 14:35:27 +0000 (Sun, 02 Dec 2007) | 2 lines\\n  \\n  A working implementation, although there is more to break out into filters and then we need to add some\\n  more functionality.\\n........\\n  r395 | steve | 2007-12-02 22:12:43 +0000 (Sun, 02 Dec 2007) | 1 line\\n  \\n  rename filter chain\\n........\\n  r396 | steve | 2007-12-02 22:13:25 +0000 (Sun, 02 Dec 2007) | 1 line\\n  \\n  rename line splitting filter\\n........\\n  r397 | steve | 2007-12-03 09:00:24 +0000 (Mon, 03 Dec 2007) | 1 line\\n  \\n  rename line splitting filter, add polygon splitter\\n........\\n  r398 | steve | 2007-12-03 10:28:16 +0000 (Mon, 03 Dec 2007) | 1 line\\n  \\n  Make sure that lines are always copied before changing their points as this would change them for all levels.\\n........\\n  r399 | steve | 2007-12-03 10:29:17 +0000 (Mon, 03 Dec 2007) | 1 line\\n  \\n  Add the copy constructors to the MapShape class too.\\n........\\n  r400 | steve | 2007-12-03 11:03:36 +0000 (Mon, 03 Dec 2007) | 1 line\\n  \\n  Add filtering for polygons and only add the line filter for lines and the polygon filters for polygons...\\n........\\n  r401 | steve | 2007-12-03 11:22:18 +0000 (Mon, 03 Dec 2007) | 1 line\\n  \\n  Some tidying\\n........\\n  r402 | steve | 2007-12-03 12:07:22 +0000 (Mon, 03 Dec 2007) | 1 line\\n  \\n  Split out files from the general package that do the actual general-->garmin conversion.\\n........\\n  r405 | steve | 2007-12-03 17:23:48 +0000 (Mon, 03 Dec 2007) | 1 line\\n  \\n  Useful amount of smothing applied.\\n........\\n  r406 | steve | 2007-12-03 20:58:29 +0000 (Mon, 03 Dec 2007) | 1 line\\n  \\n  Fix where was not returning after chaining the filter.\\n........\\n  r407 | steve | 2007-12-03 20:59:07 +0000 (Mon, 03 Dec 2007) | 1 line\\n  \\n  Now we have a polygon splitter.  Polygons that have too many points will be split.\\n........\\n  r408 | steve | 2007-12-03 21:16:07 +0000 (Mon, 03 Dec 2007) | 2 lines\\n  \\n  Remove println's\\n........\\n  r409 | steve | 2007-12-03 21:23:57 +0000 (Mon, 03 Dec 2007) | 1 line\\n  \\n  Now that the smoothing is in a filter, remove the old code to remove duplicate points.\\n........\\n\\n\\ngit-svn-id: http://svn.mkgmap.org.uk/mkgmap/trunk@417 25d90789-57f7-4ee0-8453-03a3dfeeeb22\\n\n",
      "category                                                                                                                                                                                                                                                                                                                                                                                                                                                                                                                                                                                                                                                                                                                                                                                                                                                                                                                                                                                                                                                                                                                                                                                                                                                                                                                                                                                                                                                                                                                                                                                                                                                                                                                                                                                                                                                                                                                                                                                                                                                                                                                                                                                                                                                                                                                                                                                                                                                                                                                                                                                                                                                                                                                                                                                                                           bugfix\n",
      "Name: 878, dtype: object\n",
      "Length: 2635\n",
      "\n",
      "Row Index: 50\n",
      "commit_message    - Added target for the nearest neighbor finder tool\\n- Reduced the default timeout for long-running tests\\n\\n- Added a jaccardIndex overload for two sets of elements\\n\\n- Fixed javadoc\\n\\n- Made class serializable\\n\\n- Added support for maximum path length\\n\\n- Reworked to use the new SimpleDependencyPath class\\n\\n- Revised error message for clarity\\n\\n- Updated to use new SimpleDependencyPath features\\n\\n- Updated to use new SimpleDependencyPath features\\n\\n- Major rewrite for clarity\\n\\n- Fixed toString()\\n\\n- Added static methods for testing the category of particular POS tag\\n\\n- Implemented missing methods\\n\\n- Added more imports (not sure why...)\\n\\n- Added logging\\n\\n- Added support for shuffling the edges of a graph using a fixed Random for reproducability\\n\\n- Multithreaded the edge similarity comparison\\n\\n- Probably some bug fixes too\\n\\n- Updated to use IntPair instead of Pair<Integer>\\n\\n- Updated to use IntSet\\n\\n- Major overhaul to bring performance in line with the earlier primitive\\n  collection enhancements\\n\\n- Probably needs a lot of clean up still\\n\\n- Updates to use new primitive collections\\n\\n- Updates to use new primitive collections\\n\\n- Added support for clustering to a fixed number of clusters\\n\\n- Added (limited) support for writing in GEXF format\\n\\n- Added (limited) support for writing in Pajek format\\n\\n- Made default output verbose\\n\\n- Remove extra temporary file that was just hanging around unneeded\\n\\n- Added support for getting the String that backs the document\\n\\n- Added a new class for testing the association between two terms, which is\\n  already partially supported by the BigramExtractor, but this class supports\\n  limiting the number of items being associated which enables better scaling\\n  through iterative association testing.\\n\\n- This class needs a lot of work.\\n\\n- Added an iterator for the documents in WaCkypedia\\n\\n- Fixed HTML bug in javadoc\\n\\n- Added new tool for running the NearestNeighborFinder from the command line\\n\\n- Fixed javadoc\\n\\n- Added support for changing the loging level of any logger namespace\\n\\n- Added new tool for speeding up repeated nearest-neighbor computations by\\n  partitioning a SemanticSpace into clusters (using K-means) and then only\\n  searching a subset.\\n\\n- Added support for reading and writing to streams and byte[] arrays\\n\\n- Updated to be an IntSet\\n\\n- Added Pair implementation\\n\\n- Fixed iterator remove bug\\n\\n- Added more extensive real-world unit tests\\n\\n- Added unit test details that match the example in the Ahn et al. paper\\n\\n- Added more tests\\n\n",
      "category                                                                                                                                                                                                                                                                                                                                                                                                                                                                                                                                                                                                                                                                                                                                                                                                                                                                                                                                                                                                                                                                                                                                                                                                                                                                                                                                                                                                                                                                                                                                                                                                                                                                                                                                                                                                                                                                                                                                                                                                                                                                                                                                                                                                                                                                                                                                                                                                                                                                                                                                                                                                                                                                                            bugfix\n",
      "Name: 50, dtype: object\n",
      "Length: 2488\n"
     ]
    }
   ],
   "source": [
    "# Find the top 5 rows with the maximum lengths in 'col1' (sorted by descending length)\n",
    "top_5_max_lengths = df['commit_message'].str.len().sort_values(ascending=False).head(5)\n",
    "\n",
    "# Print the top 5 rows with corresponding lengths\n",
    "for index, length in top_5_max_lengths.items():\n",
    "  print(f\"\\nRow Index: {index}\")\n",
    "  print(df.loc[index])\n",
    "  print(f\"Length: {length}\")\n",
    "\n"
   ]
  },
  {
   "cell_type": "code",
   "execution_count": 27,
   "metadata": {},
   "outputs": [],
   "source": [
    "df['commit_message_clean'] = df['commit_message'].apply(clean_text)\n",
    "df['commit_message_clean'] = df['commit_message_clean'].apply(remove_stopwords)\n"
   ]
  },
  {
   "cell_type": "code",
   "execution_count": 28,
   "metadata": {},
   "outputs": [
    {
     "name": "stdout",
     "output_type": "stream",
     "text": [
      "\n",
      "Row Index: 400\n",
      "commit_message          Changes based on Keith's review.  A few tweaks to EdgeSet to help tracking edge\\nremoval\\n\\n\\tmodified:   src/edu/ucla/sspace/common/Similarity.java\\n\\n- Updated to use VectorMath.dotProduct for the Tanimoto coefficient\\n\\n\\tdeleted:    src/edu/ucla/sspace/common/WordComparator.java\\n\\n- Moved to SimpleNearestNeighborFinder\\n\\n\\tmodified:   src/edu/ucla/sspace/dependency/SimpleDependencyPath.java\\n\\n- Removed println\\n\\n\\tmodified:   src/edu/ucla/sspace/graph/AbstractGraph.java\\n\\n- Added missing implementation to Subgraph class so now all the unit tests pass\\n\\n\\tmodified:   src/edu/ucla/sspace/graph/DirectedMultigraph.java\\n\\n- Added missing implementation to Subgraph class so now all the unit tests pass\\n\\n- Fixed bug for reporting the correct edge types after removal\\n\\n- Removed dead code\\n\\n\\tmodified:   src/edu/ucla/sspace/graph/EdgeSet.java\\n\\n- Updated so that disconnect() now returns the number of edges that were removed\\n\\n\\tmodified:   src/edu/ucla/sspace/graph/GenericEdgeSet.java\\n\\tmodified:   src/edu/ucla/sspace/graph/SparseDirectedEdgeSet.java\\n\\tmodified:   src/edu/ucla/sspace/graph/SparseDirectedTypedEdgeSet.java\\n\\tmodified:   src/edu/ucla/sspace/graph/SparseTypedEdgeSet.java\\n\\tmodified:   src/edu/ucla/sspace/graph/SparseUndirectedEdgeSet.java\\n\\tmodified:   src/edu/ucla/sspace/graph/SparseWeightedEdgeSet.java\\n\\n- Updated to support EdgeSet interface change\\n\\n\\tdeleted:    src/edu/ucla/sspace/graph/GraphRandomizer.java\\n\\n- Removed dead class (functionality is in Graphs.java)\\n\\n\\tmodified:   src/edu/ucla/sspace/graph/SimpleWeightedEdge.java\\n\\n- Fixed hashCode()\\n\\n\\tdeleted:    src/edu/ucla/sspace/graph/SparseSymmetricEdgeSet.java\\n\\n- Removed dead class\\n\\n\\tmodified:   src/edu/ucla/sspace/graph/UndirectedMultigraph.java\\n\\n- Added missing implementation to Subgraph class so now all the unit tests pass\\n\\n- Fixed bug for reporting the correct edge types after removal\\n\\n- Removed dead code\\n\\n\\tmodified:   src/edu/ucla/sspace/mains/FixedDurationTemporalRandomIndexingMain.java\\n\\n- Updated to replace WordComparator with SimpleNearestNeighborFinder\\n\\n\\tmodified:   src/edu/ucla/sspace/mains/LexSubWordsiMain.java\\n\\n- Updated to replace WordComparator with SimpleNearestNeighborFinder\\n\\n\\tmodified:   src/edu/ucla/sspace/text/LabeledParsedStringDocument.java\\n\\n- Updated for new ParsedDocument interface\\n\\n\\tmodified:   src/edu/ucla/sspace/text/ParsedDocument.java\\n\\n- Updated to specify the format of text() as the tokens with white space delimiters.\\n\\n- Added a new prettyPrintText() which is the attempt to nicely format the tokens\\n  as they would have been originally.\\n\\n\\tmodified:   src/edu/ucla/sspace/text/PukWaCDocumentIterator.java\\n\\n- Fixed javadoc\\n\\n\\tmodified:   src/edu/ucla/sspace/text/UkWaCDocumentIterator.java\\n\\n- Added more class javadoc\\n\\n\\tmodified:   src/edu/ucla/sspace/tools/NearestNeighborFinderTool.java\\n\\n- Updated to use the class instances instead of the interface\\n\\n\\tmodified:   src/edu/ucla/sspace/tools/SemanticSpaceExplorer.java\\n\\n- Updated to replace WordComparator with PartitioningNearestNeighborFinder\\n\\n\\tmodified:   src/edu/ucla/sspace/tools/SimilarityListGenerator.java\\n\\n- Updated to replace WordComparator with PartitioningNearestNeighborFinder\\n\\n\\tmodified:   src/edu/ucla/sspace/util/HashIndexer.java\\n\\n- Fixed javadoc\\n\\n\\tmodified:   src/edu/ucla/sspace/util/PairCounter.java\\n\\n- Fixed javadoc\\n\\n\\trenamed:    src/edu/ucla/sspace/util/NearestNeighborFinder.java -> src/edu/ucla/sspace/util/PartitioningNearestNeighborFinder.java\\n\\n- Moved so that NearestNeighborFinder can be an interface\\n\\n\\tmodified:   src/edu/ucla/sspace/util/ReflectionUtil.java\\n\\n- Removed dead code\\n\\n\\tmodified:   src/edu/ucla/sspace/util/primitive/IntIntHashMultiMap.java\\n\\n- Added javadoc\\n\\n\\tmodified:   src/edu/ucla/sspace/util/primitive/IntIntMultiMap.java\\n\\n- Added javadoc\\n\\n\\tmodified:   test/edu/ucla/sspace/graph/DirectedMultigraphTests.java\\n\\n- Uncommented out unit tests\\n\\n\\tmodified:   test/edu/ucla/sspace/dependency/BreadthFirstPathIteratorTest.java\\n\\tmodified:   test/edu/ucla/sspace/dependency/CoNLLDependencyExtractorTest.java\\n\\tmodified:   test/edu/ucla/sspace/dependency/WaCKyDependencyExtractorTest.java\\n\\tmodified:   test/edu/ucla/sspace/text/corpora/PukWacDependencyCorpusReaderTest.java\\n\\tmodified:   test/edu/ucla/sspace/wordsi/DependencyContextExtractorTest.java\\n\\tmodified:   test/edu/ucla/sspace/wordsi/OccurrenceDependencyContextGeneratorTest.java\\n\\tmodified:   test/edu/ucla/sspace/wordsi/OrderingDependencyContextGeneratorTest.java\\n\\tmodified:   test/edu/ucla/sspace/wordsi/PartOfSpeechDependencyContextGeneratorTest.java\\n\\tmodified:   test/edu/ucla/sspace/wordsi/psd/PseudoWordDependencyContextExtractorTest.java\\n\\tmodified:   test/edu/ucla/sspace/wordsi/semeval/SemEvalDependencyContextExtractorTest.java\\n\\n- Fixed unit tests to support proper tab-delimiting of the CoNLL format\\n\n",
      "category                                                                                                                                                                                                                                                                                                                                                                                                                                                                                                                                                                                                                                                                                                                                                                                                                                                                                                                                                                                                                                                                                                                                                                                                                                                                                                                                                                                                                                                                                                                                                                                                                                                                                                                                                                                                                                                                                                                                                                                                                                                                                                                                                                                                                                                                                                                                                                                                                                                                                                                                                                                                                                                                                                                                                                                                                                                                                                                                                                                                                                                                                                                                                                                                                                                                                                                                                                                                                                                                                                                                                                                                                                                                                                                                                                                                                                                                                                                                                                                                                                                                                                                                                                                                                                                                                                                                                                                                                                                                                                                                                                                                                                                                                                                                                                                                                                                                                                                                                                                                                                                                                                                                                bugfix\n",
      "commit_message_clean                                                                                                                                                                                                                                                                                                                                                                                                                                                                                                                                                                                                                                                                                                                                                                                                                                                                                                                                                                                                                                                                                                             Changes based Keiths review tweaks EdgeSet help tracking edge removal modified srceduuclasspacecommonSimilarityjava Updated use VectorMathdotProduct Tanimoto coefficient deleted srceduuclasspacecommonWordComparatorjava Moved SimpleNearestNeighborFinder modified srceduuclasspacedependencySimpleDependencyPathjava Removed println modified srceduuclasspacegraphAbstractGraphjava Added missing implementation Subgraph class unit tests pass modified srceduuclasspacegraphDirectedMultigraphjava Added missing implementation Subgraph class unit tests pass Fixed bug reporting correct edge types removal Removed dead code modified srceduuclasspacegraphEdgeSetjava Updated disconnect returns number edges removed modified srceduuclasspacegraphGenericEdgeSetjava modified srceduuclasspacegraphSparseDirectedEdgeSetjava modified srceduuclasspacegraphSparseDirectedTypedEdgeSetjava modified srceduuclasspacegraphSparseTypedEdgeSetjava modified srceduuclasspacegraphSparseUndirectedEdgeSetjava modified srceduuclasspacegraphSparseWeightedEdgeSetjava Updated support EdgeSet interface change deleted srceduuclasspacegraphGraphRandomizerjava Removed dead class functionality Graphsjava modified srceduuclasspacegraphSimpleWeightedEdgejava Fixed hashCode deleted srceduuclasspacegraphSparseSymmetricEdgeSetjava Removed dead class modified srceduuclasspacegraphUndirectedMultigraphjava Added missing implementation Subgraph class unit tests pass Fixed bug reporting correct edge types removal Removed dead code modified srceduuclasspacemainsFixedDurationTemporalRandomIndexingMainjava Updated replace WordComparator SimpleNearestNeighborFinder modified srceduuclasspacemainsLexSubWordsiMainjava Updated replace WordComparator SimpleNearestNeighborFinder modified srceduuclasspacetextLabeledParsedStringDocumentjava Updated new ParsedDocument interface modified srceduuclasspacetextParsedDocumentjava Updated specify format text tokens white space delimiters Added new prettyPrintText attempt nicely format tokens would originally modified srceduuclasspacetextPukWaCDocumentIteratorjava Fixed javadoc modified srceduuclasspacetextUkWaCDocumentIteratorjava Added class javadoc modified srceduuclasspacetoolsNearestNeighborFinderTooljava Updated use class instances instead interface modified srceduuclasspacetoolsSemanticSpaceExplorerjava Updated replace WordComparator PartitioningNearestNeighborFinder modified srceduuclasspacetoolsSimilarityListGeneratorjava Updated replace WordComparator PartitioningNearestNeighborFinder modified srceduuclasspaceutilHashIndexerjava Fixed javadoc modified srceduuclasspaceutilPairCounterjava Fixed javadoc renamed srceduuclasspaceutilNearestNeighborFinderjava srceduuclasspaceutilPartitioningNearestNeighborFinderjava Moved NearestNeighborFinder interface modified srceduuclasspaceutilReflectionUtiljava Removed dead code modified srceduuclasspaceutilprimitiveIntIntHashMultiMapjava Added javadoc modified srceduuclasspaceutilprimitiveIntIntMultiMapjava Added javadoc modified testeduuclasspacegraphDirectedMultigraphTestsjava Uncommented unit tests modified testeduuclasspacedependencyBreadthFirstPathIteratorTestjava modified testeduuclasspacedependencyCoNLLDependencyExtractorTestjava modified testeduuclasspacedependencyWaCKyDependencyExtractorTestjava modified testeduuclasspacetextcorporaPukWacDependencyCorpusReaderTestjava modified testeduuclasspacewordsiDependencyContextExtractorTestjava modified testeduuclasspacewordsiOccurrenceDependencyContextGeneratorTestjava modified testeduuclasspacewordsiOrderingDependencyContextGeneratorTestjava modified testeduuclasspacewordsiPartOfSpeechDependencyContextGeneratorTestjava modified testeduuclasspacewordsipsdPseudoWordDependencyContextExtractorTestjava modified testeduuclasspacewordsisemevalSemEvalDependencyContextExtractorTestjava Fixed unit tests support proper tabdelimiting CoNLL format\n",
      "Name: 400, dtype: object\n",
      "Length: 3869\n",
      "\n",
      "Row Index: 243\n",
      "commit_message          Added support for JDBC3.  The driver will now build under JDBC3 (i.e. Java 1.4).\\nThis concludes my changes that restructured the code to support JDBC3.\\nThe jdbc unit tests were also resturctured to allow different tests between\\njdbc2 and jdbc3, although currently make check (aka ant test) for JDBC3 just\\nruns the JDBC2 tests.  Of special note the largeobject/PGblob and PGclob\\nclasses have been moved under the jdbc2/jdbc3 specific directories as they\\nnow differ by jdbc version.  Also note that this checkin removes the\\nPostgresqlDataSource and files in the xa directory.  A recent checkin has\\nadded new datasource support that replaces the functionality provided by these\\nclasses.\\n\\n Modified Files:\\n \\tjdbc/build.xml\\n \\tjdbc/org/postgresql/jdbc1/AbstractJdbc1DatabaseMetaData.java\\n \\tjdbc/org/postgresql/jdbc1/AbstractJdbc1ResultSet.java\\n \\tjdbc/org/postgresql/jdbc1/AbstractJdbc1ResultSetMetaData.java\\n \\tjdbc/org/postgresql/jdbc1/AbstractJdbc1Statement.java\\n \\tjdbc/org/postgresql/jdbc2/AbstractJdbc2Connection.java\\n \\tjdbc/org/postgresql/jdbc2/AbstractJdbc2DatabaseMetaData.java\\n \\tjdbc/org/postgresql/jdbc2/AbstractJdbc2ResultSet.java\\n \\tjdbc/org/postgresql/jdbc2/AbstractJdbc2ResultSetMetaData.java\\n \\tjdbc/org/postgresql/jdbc2/AbstractJdbc2Statement.java\\n \\tjdbc/org/postgresql/jdbc2/Array.java\\n \\tjdbc/org/postgresql/jdbc2/Jdbc2CallableStatement.java\\n \\tjdbc/org/postgresql/jdbc2/Jdbc2Connection.java\\n \\tjdbc/org/postgresql/jdbc2/Jdbc2DatabaseMetaData.java\\n \\tjdbc/org/postgresql/jdbc2/Jdbc2PreparedStatement.java\\n \\tjdbc/org/postgresql/jdbc2/Jdbc2ResultSet.java\\n \\tjdbc/org/postgresql/jdbc2/Jdbc2ResultSetMetaData.java\\n \\tjdbc/org/postgresql/jdbc2/Jdbc2Statement.java\\n \\tjdbc/org/postgresql/test/jdbc2/BatchExecuteTest.java\\n \\tjdbc/org/postgresql/test/jdbc2/BlobTest.java\\n \\tjdbc/org/postgresql/test/jdbc2/CallableStmtTest.java\\n \\tjdbc/org/postgresql/test/jdbc2/ConnectionTest.java\\n \\tjdbc/org/postgresql/test/jdbc2/DatabaseMetaDataTest.java\\n \\tjdbc/org/postgresql/test/jdbc2/DateTest.java\\n \\tjdbc/org/postgresql/test/jdbc2/DriverTest.java\\n \\tjdbc/org/postgresql/test/jdbc2/JBuilderTest.java\\n \\tjdbc/org/postgresql/test/jdbc2/MiscTest.java\\n \\tjdbc/org/postgresql/test/jdbc2/ResultSetTest.java\\n \\tjdbc/org/postgresql/test/jdbc2/TimeTest.java\\n \\tjdbc/org/postgresql/test/jdbc2/TimestampTest.java\\n \\tjdbc/org/postgresql/test/jdbc2/UpdateableResultTest.java\\n Added Files:\\n \\tjdbc/org/postgresql/jdbc2/AbstractJdbc2Blob.java\\n \\tjdbc/org/postgresql/jdbc2/AbstractJdbc2Clob.java\\n \\tjdbc/org/postgresql/jdbc2/Jdbc2Blob.java\\n \\tjdbc/org/postgresql/jdbc2/Jdbc2Clob.java\\n \\tjdbc/org/postgresql/jdbc3/AbstractJdbc3Blob.java\\n \\tjdbc/org/postgresql/jdbc3/AbstractJdbc3Clob.java\\n \\tjdbc/org/postgresql/jdbc3/AbstractJdbc3Connection.java\\n \\tjdbc/org/postgresql/jdbc3/AbstractJdbc3DatabaseMetaData.java\\n \\tjdbc/org/postgresql/jdbc3/AbstractJdbc3ResultSet.java\\n \\tjdbc/org/postgresql/jdbc3/AbstractJdbc3Statement.java\\n \\tjdbc/org/postgresql/jdbc3/Jdbc3Blob.java\\n \\tjdbc/org/postgresql/jdbc3/Jdbc3CallableStatement.java\\n \\tjdbc/org/postgresql/jdbc3/Jdbc3Clob.java\\n \\tjdbc/org/postgresql/jdbc3/Jdbc3Connection.java\\n \\tjdbc/org/postgresql/jdbc3/Jdbc3DatabaseMetaData.java\\n \\tjdbc/org/postgresql/jdbc3/Jdbc3PreparedStatement.java\\n \\tjdbc/org/postgresql/jdbc3/Jdbc3ResultSet.java\\n \\tjdbc/org/postgresql/jdbc3/Jdbc3ResultSetMetaData.java\\n \\tjdbc/org/postgresql/jdbc3/Jdbc3Statement.java\\n \\tjdbc/org/postgresql/test/TestUtil.java\\n \\tjdbc/org/postgresql/test/jdbc2/Jdbc2TestSuite.java\\n \\tjdbc/org/postgresql/test/jdbc3/Jdbc3TestSuite.java\\n Removed Files:\\n \\tjdbc/org/postgresql/PostgresqlDataSource.java\\n \\tjdbc/org/postgresql/largeobject/PGblob.java\\n \\tjdbc/org/postgresql/largeobject/PGclob.java\\n \\tjdbc/org/postgresql/test/JDBC2Tests.java\\n \\tjdbc/org/postgresql/xa/ClientConnection.java\\n \\tjdbc/org/postgresql/xa/TwoPhaseConnection.java\\n \\tjdbc/org/postgresql/xa/TxConnection.java\\n \\tjdbc/org/postgresql/xa/XAConnectionImpl.java\\n \\tjdbc/org/postgresql/xa/XADataSourceImpl.java\\n\n",
      "category                                                                                                                                                                                                                                                                                                                                                                                                                                                                                                                                                                                                                                                                                                                                                                                                                                                                                                                                                                                                                                                                                                                                                                                                                                                                                                                                                                                                                                                                                                                                                                                                                                                                                                                                                                                                                                                                                                                                                                                                                                                                                                                                                                                                                                                                                                                                                                                                                                                                                                                                                                                                                                                                                                                                                                                                                                                                                                                                                                                                                                                                                                                                                                                                                                                                                                                                                                                                                                                                                                                                                                                                                                                                                                                                                                                                                                                                                                                                                                                                                                                                                                                                                                                                               functional\n",
      "commit_message_clean                                                                                                                                                                                                                                                                                                                                                                                                                                                                                                                                                                                                                                                                                                                                                                                                                                                                                                                            Added support JDBC driver build JDBC ie Java concludes changes restructured code support JDBC jdbc unit tests also resturctured allow different tests jdbc jdbc although currently make check aka ant test JDBC runs JDBC tests special note largeobjectPGblob PGclob classes moved jdbcjdbc specific directories differ jdbc version Also note checkin removes PostgresqlDataSource files xa directory recent checkin added new datasource support replaces functionality provided classes Modified Files jdbcbuildxml jdbcorgpostgresqljdbcAbstractJdbcDatabaseMetaDatajava jdbcorgpostgresqljdbcAbstractJdbcResultSetjava jdbcorgpostgresqljdbcAbstractJdbcResultSetMetaDatajava jdbcorgpostgresqljdbcAbstractJdbcStatementjava jdbcorgpostgresqljdbcAbstractJdbcConnectionjava jdbcorgpostgresqljdbcAbstractJdbcDatabaseMetaDatajava jdbcorgpostgresqljdbcAbstractJdbcResultSetjava jdbcorgpostgresqljdbcAbstractJdbcResultSetMetaDatajava jdbcorgpostgresqljdbcAbstractJdbcStatementjava jdbcorgpostgresqljdbcArrayjava jdbcorgpostgresqljdbcJdbcCallableStatementjava jdbcorgpostgresqljdbcJdbcConnectionjava jdbcorgpostgresqljdbcJdbcDatabaseMetaDatajava jdbcorgpostgresqljdbcJdbcPreparedStatementjava jdbcorgpostgresqljdbcJdbcResultSetjava jdbcorgpostgresqljdbcJdbcResultSetMetaDatajava jdbcorgpostgresqljdbcJdbcStatementjava jdbcorgpostgresqltestjdbcBatchExecuteTestjava jdbcorgpostgresqltestjdbcBlobTestjava jdbcorgpostgresqltestjdbcCallableStmtTestjava jdbcorgpostgresqltestjdbcConnectionTestjava jdbcorgpostgresqltestjdbcDatabaseMetaDataTestjava jdbcorgpostgresqltestjdbcDateTestjava jdbcorgpostgresqltestjdbcDriverTestjava jdbcorgpostgresqltestjdbcJBuilderTestjava jdbcorgpostgresqltestjdbcMiscTestjava jdbcorgpostgresqltestjdbcResultSetTestjava jdbcorgpostgresqltestjdbcTimeTestjava jdbcorgpostgresqltestjdbcTimestampTestjava jdbcorgpostgresqltestjdbcUpdateableResultTestjava Added Files jdbcorgpostgresqljdbcAbstractJdbcBlobjava jdbcorgpostgresqljdbcAbstractJdbcClobjava jdbcorgpostgresqljdbcJdbcBlobjava jdbcorgpostgresqljdbcJdbcClobjava jdbcorgpostgresqljdbcAbstractJdbcBlobjava jdbcorgpostgresqljdbcAbstractJdbcClobjava jdbcorgpostgresqljdbcAbstractJdbcConnectionjava jdbcorgpostgresqljdbcAbstractJdbcDatabaseMetaDatajava jdbcorgpostgresqljdbcAbstractJdbcResultSetjava jdbcorgpostgresqljdbcAbstractJdbcStatementjava jdbcorgpostgresqljdbcJdbcBlobjava jdbcorgpostgresqljdbcJdbcCallableStatementjava jdbcorgpostgresqljdbcJdbcClobjava jdbcorgpostgresqljdbcJdbcConnectionjava jdbcorgpostgresqljdbcJdbcDatabaseMetaDatajava jdbcorgpostgresqljdbcJdbcPreparedStatementjava jdbcorgpostgresqljdbcJdbcResultSetjava jdbcorgpostgresqljdbcJdbcResultSetMetaDatajava jdbcorgpostgresqljdbcJdbcStatementjava jdbcorgpostgresqltestTestUtiljava jdbcorgpostgresqltestjdbcJdbcTestSuitejava jdbcorgpostgresqltestjdbcJdbcTestSuitejava Removed Files jdbcorgpostgresqlPostgresqlDataSourcejava jdbcorgpostgresqllargeobjectPGblobjava jdbcorgpostgresqllargeobjectPGclobjava jdbcorgpostgresqltestJDBCTestsjava jdbcorgpostgresqlxaClientConnectionjava jdbcorgpostgresqlxaTwoPhaseConnectionjava jdbcorgpostgresqlxaTxConnectionjava jdbcorgpostgresqlxaXAConnectionImpljava jdbcorgpostgresqlxaXADataSourceImpljava\n",
      "Name: 243, dtype: object\n",
      "Length: 3153\n",
      "\n",
      "Row Index: 833\n",
      "commit_message          Lots and lots of bug fixes with a few minor functionality enhancements.\\n\\n\\tmodified:   src/main/java/edu/ucla/sspace/common/Similarity.java\\n\\n- Added warnings for invalid KL-divergence computations\\n\\n- Added Kruskal-Goodman Gamma\\n\\n- Discovered Spearman's rho and Kendall's tau are both wrong (not fixed)  :(\\n\\n\\tmodified:   src/main/java/edu/ucla/sspace/common/statistics/LogLikelihoodTest.java\\n\\n- Fixed implementation\\n\\n\\tnew file:   src/main/java/edu/ucla/sspace/graph/ChineseWhispersClustering.java\\n\\n- Added CW clustering, but it does not appear to produce the same results as the\\n  existing code (needs investigation)\\n\\n\\tmodified:   src/main/java/edu/ucla/sspace/graph/GraphIO.java\\n\\n- Tweaked logging\\n\\n\\tmodified:   src/main/java/edu/ucla/sspace/graph/LinkClustering.java\\n\\n- Made thread count based on processors instead of fixed\\n\\n\\tnew file:   src/main/java/edu/ucla/sspace/graph/SimpleWeightedDirectedTypedEdge.java\\n\\tnew file:   src/main/java/edu/ucla/sspace/graph/SimpleWeightedTypedEdge.java\\n\\tnew file:   src/main/java/edu/ucla/sspace/graph/SparseWeightedDirectedEdgeSet.java\\n\\tnew file:   src/main/java/edu/ucla/sspace/graph/SparseWeightedDirectedTypedEdgeSet.java\\n\\tnew file:   src/main/java/edu/ucla/sspace/graph/WeightedDirectedMultigraph.java\\n\\tmodified:   src/main/java/edu/ucla/sspace/graph/WeightedDirectedTypedEdge.java\\n\\n- Added partial support for weighted multigraphs.  More features are probably needed eventually\\n\\n\\tmodified:   src/main/java/edu/ucla/sspace/graph/io/EdgeListReader.java\\n\\n- Added better logging instead of printf\\n\\n\\tnew file:   src/main/java/edu/ucla/sspace/graph/io/GraphMLReader.java\\n\\n- Added initial GraphML implementation for reading large GraphML files.  Only partial support is in place\\n\\n\\tmodified:   src/main/java/edu/ucla/sspace/index/DefaultPermutationFunction.java\\n\\n- Fixed outstanding bug.  Not sure how the bug was there in the first place, as\\n  the code was currently very broken in an odd way.\\n\\n\\tnew file:   src/main/java/edu/ucla/sspace/text/AnnotatedDocument.java\\n\\n- Added support for a new document that has a creation date and a label\\n\\n\\tnew file:   src/main/java/edu/ucla/sspace/text/BufferedFileListDocumentIterator.java\\n\\n- Added a new iterator that pre-caches the contents of files in a file list\\n  using a separate thread to cut down on disk I/O\\n\\n\\tmodified:   src/main/java/edu/ucla/sspace/text/FileDocument.java\\n\\n- Added support for a document back by a file whose contents are loaded into memory on demand\\n\\n\\tnew file:   src/main/java/edu/ucla/sspace/tools/IterativeBigramExtractor.java\\n\\n- Added a tool for finding statistical associations between terms in an\\n  iterative pair-wise manner\\n\\n\\tnew file:   src/main/java/edu/ucla/sspace/tools/LinkClusteringTool.java\\n\\n- Copied over code from the SVN branch for running link clustering from a jar\\n\\n\\tmodified:   src/main/java/edu/ucla/sspace/util/CombinedIterator.java\\n\\n- Corrected the Exception to be thrown in remove()\\n\\n\\tmodified:   src/main/java/edu/ucla/sspace/util/HashMultiMap.java\\n\\n- Correct a few errors in removing keys during iterator\\n\\n- Fixed a bug where null was returned instead of the empty set\\n\\n\\tnew file:   src/main/java/edu/ucla/sspace/util/KrippendorffsAlpha.java\\n\\n- Added a partial implementation of Krippendorff's alpha for ordinal-valued data\\n\\n\\tmodified:   src/main/java/edu/ucla/sspace/util/MultiMap.java\\n\\n- Clarified the javadoc\\n\\n\\tmodified:   src/main/java/edu/ucla/sspace/util/ObjectCounter.java\\n\\n- Implemented max() and min()\\n\\n\\tmodified:   src/main/java/edu/ucla/sspace/util/Pair.java\\n\\n- Made Serializable\\n\\n\\tmodified:   src/main/java/edu/ucla/sspace/util/SetDecorator.java\\n\\n- Clarified javadoc\\n\\n\\tnew file:   src/test/java/edu/ucla/sspace/graph/ChineseWhispersTest.java\\n\\tnew file:   src/test/java/edu/ucla/sspace/graph/SparseWeightedDirectedTypedEdgeSetTest.java\\n\\tnew file:   src/test/java/edu/ucla/sspace/graph/WeightedDirectedMultigraphTest.java\\n\\n- More unit tests\\n\\n\\tmodified:   src/test/java/edu/ucla/sspace/index/DefaultPermutationFunctionTest.java\\n\\n- Added some debugging output\\n\n",
      "category                                                                                                                                                                                                                                                                                                                                                                                                                                                                                                                                                                                                                                                                                                                                                                                                                                                                                                                                                                                                                                                                                                                                                                                                                                                                                                                                                                                                                                                                                                                                                                                                                                                                                                                                                                                                                                                                                                                                                                                                                                                                                                                                                                                                                                                                                                                                                                                                                                                                                                                                                                                                                                                                                                                                                                                                                                                                                                                                                                                                                                                                                                                                                                                                                                                                                                                                                                                                                                                                                                                                                                                                                                                                                                                                                                                                                                                                                                                                                                                                                                                                                                                                                                                                                                                                                                                  bugfix\n",
      "commit_message_clean                                                                                                                                                                                                                                                                                                                                                                                                                                                                                                                                                                                                                                                                                                                                                                                                                                                                                                                                                                                                                                                          Lots lots bug fixes minor functionality enhancements modified srcmainjavaeduuclasspacecommonSimilarityjava Added warnings invalid KLdivergence computations Added KruskalGoodman Gamma Discovered Spearmans rho Kendalls tau wrong fixed modified srcmainjavaeduuclasspacecommonstatisticsLogLikelihoodTestjava Fixed implementation new file srcmainjavaeduuclasspacegraphChineseWhispersClusteringjava Added CW clustering appear produce results existing code needs investigation modified srcmainjavaeduuclasspacegraphGraphIOjava Tweaked logging modified srcmainjavaeduuclasspacegraphLinkClusteringjava Made thread count based processors instead fixed new file srcmainjavaeduuclasspacegraphSimpleWeightedDirectedTypedEdgejava new file srcmainjavaeduuclasspacegraphSimpleWeightedTypedEdgejava new file srcmainjavaeduuclasspacegraphSparseWeightedDirectedEdgeSetjava new file srcmainjavaeduuclasspacegraphSparseWeightedDirectedTypedEdgeSetjava new file srcmainjavaeduuclasspacegraphWeightedDirectedMultigraphjava modified srcmainjavaeduuclasspacegraphWeightedDirectedTypedEdgejava Added partial support weighted multigraphs features probably needed eventually modified srcmainjavaeduuclasspacegraphioEdgeListReaderjava Added better logging instead printf new file srcmainjavaeduuclasspacegraphioGraphMLReaderjava Added initial GraphML implementation reading large GraphML files partial support place modified srcmainjavaeduuclasspaceindexDefaultPermutationFunctionjava Fixed outstanding bug sure bug first place code currently broken odd new file srcmainjavaeduuclasspacetextAnnotatedDocumentjava Added support new document creation date label new file srcmainjavaeduuclasspacetextBufferedFileListDocumentIteratorjava Added new iterator precaches contents files file list using separate thread cut disk IO modified srcmainjavaeduuclasspacetextFileDocumentjava Added support document back file whose contents loaded memory demand new file srcmainjavaeduuclasspacetoolsIterativeBigramExtractorjava Added tool finding statistical associations terms iterative pairwise manner new file srcmainjavaeduuclasspacetoolsLinkClusteringTooljava Copied code branch running link clustering jar modified srcmainjavaeduuclasspaceutilCombinedIteratorjava Corrected Exception thrown remove modified srcmainjavaeduuclasspaceutilHashMultiMapjava Correct errors removing keys iterator Fixed bug null returned instead empty set new file srcmainjavaeduuclasspaceutilKrippendorffsAlphajava Added partial implementation Krippendorffs alpha ordinalvalued data modified srcmainjavaeduuclasspaceutilMultiMapjava Clarified javadoc modified srcmainjavaeduuclasspaceutilObjectCounterjava Implemented max min modified srcmainjavaeduuclasspaceutilPairjava Made Serializable modified srcmainjavaeduuclasspaceutilSetDecoratorjava Clarified javadoc new file srctestjavaeduuclasspacegraphChineseWhispersTestjava new file srctestjavaeduuclasspacegraphSparseWeightedDirectedTypedEdgeSetTestjava new file srctestjavaeduuclasspacegraphWeightedDirectedMultigraphTestjava unit tests modified srctestjavaeduuclasspaceindexDefaultPermutationFunctionTestjava Added debugging output\n",
      "Name: 833, dtype: object\n",
      "Length: 3122\n",
      "\n",
      "Row Index: 50\n",
      "commit_message          - Added target for the nearest neighbor finder tool\\n- Reduced the default timeout for long-running tests\\n\\n- Added a jaccardIndex overload for two sets of elements\\n\\n- Fixed javadoc\\n\\n- Made class serializable\\n\\n- Added support for maximum path length\\n\\n- Reworked to use the new SimpleDependencyPath class\\n\\n- Revised error message for clarity\\n\\n- Updated to use new SimpleDependencyPath features\\n\\n- Updated to use new SimpleDependencyPath features\\n\\n- Major rewrite for clarity\\n\\n- Fixed toString()\\n\\n- Added static methods for testing the category of particular POS tag\\n\\n- Implemented missing methods\\n\\n- Added more imports (not sure why...)\\n\\n- Added logging\\n\\n- Added support for shuffling the edges of a graph using a fixed Random for reproducability\\n\\n- Multithreaded the edge similarity comparison\\n\\n- Probably some bug fixes too\\n\\n- Updated to use IntPair instead of Pair<Integer>\\n\\n- Updated to use IntSet\\n\\n- Major overhaul to bring performance in line with the earlier primitive\\n  collection enhancements\\n\\n- Probably needs a lot of clean up still\\n\\n- Updates to use new primitive collections\\n\\n- Updates to use new primitive collections\\n\\n- Added support for clustering to a fixed number of clusters\\n\\n- Added (limited) support for writing in GEXF format\\n\\n- Added (limited) support for writing in Pajek format\\n\\n- Made default output verbose\\n\\n- Remove extra temporary file that was just hanging around unneeded\\n\\n- Added support for getting the String that backs the document\\n\\n- Added a new class for testing the association between two terms, which is\\n  already partially supported by the BigramExtractor, but this class supports\\n  limiting the number of items being associated which enables better scaling\\n  through iterative association testing.\\n\\n- This class needs a lot of work.\\n\\n- Added an iterator for the documents in WaCkypedia\\n\\n- Fixed HTML bug in javadoc\\n\\n- Added new tool for running the NearestNeighborFinder from the command line\\n\\n- Fixed javadoc\\n\\n- Added support for changing the loging level of any logger namespace\\n\\n- Added new tool for speeding up repeated nearest-neighbor computations by\\n  partitioning a SemanticSpace into clusters (using K-means) and then only\\n  searching a subset.\\n\\n- Added support for reading and writing to streams and byte[] arrays\\n\\n- Updated to be an IntSet\\n\\n- Added Pair implementation\\n\\n- Fixed iterator remove bug\\n\\n- Added more extensive real-world unit tests\\n\\n- Added unit test details that match the example in the Ahn et al. paper\\n\\n- Added more tests\\n\n",
      "category                                                                                                                                                                                                                                                                                                                                                                                                                                                                                                                                                                                                                                                                                                                                                                                                                                                                                                                                                                                                                                                                                                                                                                                                                                                                                                                                                                                                                                                                                                                                                                                                                                                                                                                                                                                                                                                                                                                                                                                                                                                                                                                                                                                                                                                                                                                                                                                                                                                                                                                                                                                                                                                                                                  bugfix\n",
      "commit_message_clean                                                                                                                                                                                                                                                                                                                                                                                                                                                                                                                                                                                                                                                                                                                         Added target nearest neighbor finder tool Reduced default timeout longrunning tests Added jaccardIndex overload two sets elements Fixed javadoc Made class serializable Added support maximum path length Reworked use new SimpleDependencyPath class Revised error message clarity Updated use new SimpleDependencyPath features Updated use new SimpleDependencyPath features Major rewrite clarity Fixed toString Added static methods testing category particular POS tag Implemented missing methods Added imports sure Added logging Added support shuffling edges graph using fixed Random reproducability Multithreaded edge similarity comparison Probably bug fixes Updated use IntPair instead PairInteger Updated use IntSet Major overhaul bring performance line earlier primitive collection enhancements Probably needs clean still Updates use new primitive collections Updates use new primitive collections Added support clustering fixed number clusters Added limited support writing GEXF format Added limited support writing Pajek format Made default output verbose Remove extra temporary file hanging around unneeded Added support getting String backs document Added new class testing association two terms already partially supported BigramExtractor class supports limiting number items associated enables better scaling iterative association testing class needs work Added iterator documents WaCkypedia Fixed HTML bug javadoc Added new tool running NearestNeighborFinder command line Fixed javadoc Added support changing loging level logger namespace Added new tool speeding repeated nearestneighbor computations partitioning SemanticSpace clusters using Kmeans searching subset Added support reading writing streams byte arrays Updated IntSet Added Pair implementation Fixed iterator remove bug Added extensive realworld unit tests Added unit test details match example Ahn et al paper Added tests\n",
      "Name: 50, dtype: object\n",
      "Length: 1891\n",
      "\n",
      "Row Index: 964\n",
      "commit_message          Patch from Laurent Bihanic.  His description is below.\\n\\n-jh-\\n\\nPlease find attached a new version of SAXOutputter patch which include:\\n  - Notification of EntityRef thru ContentHandler.skippedEntity() (new method\\nentityRef())\\n  - Notification of some errors to the registered SAX ErrorHandler (new\\n*protected* method handleError())\\n\\nJDOMSource has been updated to support outputting portions of documents.\\nFinally I rewrote the list vs document handling in JDOMResult to avoid\\ndestroying the original document (setDocument) to recreate it later (getDocument).\\n\\n\\n> Attached is a patch to SAXOutputter that fixes the following:\\n>\\n> - Added support for Comments as Element children;\\n>\\n> - Added support for CDATA (i.e. distinguish CDATA from plain text and\\n> use of the start/endCDATA callbacks of LexicalHandler): new method cdata();\\n>\\n> - Remove support for CDATA as children of the document node\\n> (Method output(Document) used to test on CDATA nodes and fired the\\n> corresponding events which seems invalid according to the XML spec. and\\n> the XML parsers I tried!);\\n>\\n> - Added support for outputting portions of documents (i.e. lists of JDOM\\n> nodes) as such output is valid when used as input of XSLT processors.\\n> This feature will be used by JDOMSource.\\n>\\n> Note: Method elementContent() has been rewritten to support CDATA. The\\n> optimization for text-only content has been removed as it did not seem\\n> to bring any performance improvement and made the code quite\\n> complicated. In order to make code clearer, this method now uses the\\n> same type of loop as used by output(Document).\\n>\\n> Regards,\\n>\\n> Laurent\\n>\\n>\\n> Laurent Bihanic wrote:\\n>\\n>>\\n>> Hi,\\n>>\\n>> While reading the SAXOutputter code (latest from CVS), I found 2\\n>> apparent bugs:\\n>>\\n>> 1. No support for Comments as Element children\\n>> SAXOutputter fires SAX events for Comment nodes in method\\n>> output(Document) but not in method elementContent(Element,\\n>> NamespaceStack). Hence only top level comments are outputted.\\n>>\\n>> 2. No support for CDATA\\n>> The method characters(String) should be changed (adding an argument or\\n>> a new method) to support reporting whether the outputted text is\\n>> regular or CDATA using LexicalHandler's start/endCDATA methods.\\n>>\\n>> Finally, SAXOutputter's code never checks for EntityRef nodes. Thus\\n>> these simply disappear from the outputted document. Is this on\\n>> purpose? Should not JDOM at least use ContentHandler's skippedEntity?\\n>>\\n>> Laurent\\n\n",
      "category                                                                                                                                                                                                                                                                                                                                                                                                                                                                                                                                                                                                                                                                                                                                                                                                                                                                                                                                                                                                                                                                                                                                                                                                                                                                                                                                                                                                                                                                                                                                                                                                                                                                                                                                                                                                                                                                                                                                                                                                                                                                                                                                                                                                                                                                                                                                                                                                                                                                                                                                                                                                                               bugfix\n",
      "commit_message_clean                                                                                                                                                                                                                                                                                                                                                                                                                                                                                                                                                                                                                                                                                                                                                                                                Patch Laurent Bihanic description jh Please find attached new version SAXOutputter patch include Notification EntityRef thru ContentHandlerskippedEntity new method entityRef Notification errors registered SAX ErrorHandler new protected method handleError JDOMSource updated support outputting portions documents Finally rewrote list vs document handling JDOMResult avoid destroying original document setDocument recreate later getDocument Attached patch SAXOutputter fixes following Added support Comments Element children Added support CDATA ie distinguish CDATA plain text use startendCDATA callbacks LexicalHandler new method cdata Remove support CDATA children document node Method outputDocument used test CDATA nodes fired corresponding events seems invalid according XML spec XML parsers tried Added support outputting portions documents ie lists JDOM nodes output valid used input XSLT processors feature used JDOMSource Note Method elementContent rewritten support CDATA optimization textonly content removed seem bring performance improvement made code quite complicated order make code clearer method uses type loop used outputDocument Regards Laurent Laurent Bihanic wrote Hi reading SAXOutputter code latest CVS found apparent bugs support Comments Element children SAXOutputter fires SAX events Comment nodes method outputDocument method elementContentElement NamespaceStack Hence top level comments outputted support CDATA method charactersString changed adding argument new method support reporting whether outputted text regular CDATA using LexicalHandlers startendCDATA methods Finally SAXOutputters code never checks EntityRef nodes Thus simply disappear outputted document purpose JDOM least use ContentHandlers skippedEntity Laurent\n",
      "Name: 964, dtype: object\n",
      "Length: 1753\n"
     ]
    }
   ],
   "source": [
    "top_5_max_lengths = df['commit_message_clean'].str.len().sort_values(ascending=False).head(5)\n",
    "\n",
    "\n",
    "for index, length in top_5_max_lengths.items():\n",
    "  print(f\"\\nRow Index: {index}\")\n",
    "  print(df.loc[index])\n",
    "  print(f\"Length: {length}\")\n",
    "\n"
   ]
  },
  {
   "cell_type": "code",
   "execution_count": 29,
   "metadata": {},
   "outputs": [
    {
     "data": {
      "text/html": [
       "<div>\n",
       "<style scoped>\n",
       "    .dataframe tbody tr th:only-of-type {\n",
       "        vertical-align: middle;\n",
       "    }\n",
       "\n",
       "    .dataframe tbody tr th {\n",
       "        vertical-align: top;\n",
       "    }\n",
       "\n",
       "    .dataframe thead th {\n",
       "        text-align: right;\n",
       "    }\n",
       "</style>\n",
       "<table border=\"1\" class=\"dataframe\">\n",
       "  <thead>\n",
       "    <tr style=\"text-align: right;\">\n",
       "      <th></th>\n",
       "      <th>category</th>\n",
       "      <th>commit_message_clean</th>\n",
       "    </tr>\n",
       "  </thead>\n",
       "  <tbody>\n",
       "    <tr>\n",
       "      <th>0</th>\n",
       "      <td>functional</td>\n",
       "      <td>NIO Reads writes completed caller would compatible old interface functionality connection instance object receive data message multiple OPREAD events</td>\n",
       "    </tr>\n",
       "    <tr>\n",
       "      <th>1</th>\n",
       "      <td>bugfix</td>\n",
       "      <td>temporary fix nonshared JArray objects added generic unittests check jcclucenesolrmontysolr functionality wrote unittest newseman complete processing python side remains call java decide proper behaviour cases tokens addedgrouped</td>\n",
       "    </tr>\n",
       "    <tr>\n",
       "      <th>2</th>\n",
       "      <td>functional</td>\n",
       "      <td>Java Added RCON functionality Source servers Added steamcondensersteampacketsrcon package Added RCONAuthRequestPacket Added RCONAuthResponsePacket Added RCONExecRequestPacket Added RCONExecResponsePacket Added RCONPacket Added RCONNoAuthException Split SteamSocket QuerySocket RCONSocket Stub functionality GoldSrc servers GoldSrc uses UDP needs special implementation Added tests</td>\n",
       "    </tr>\n",
       "    <tr>\n",
       "      <th>3</th>\n",
       "      <td>code smell</td>\n",
       "      <td>Merge changes PullRequest Fix aggregation generation cleanup dead code Update dependencies versions</td>\n",
       "    </tr>\n",
       "    <tr>\n",
       "      <th>4</th>\n",
       "      <td>external</td>\n",
       "      <td>Bug API builder performance bad incremental build</td>\n",
       "    </tr>\n",
       "    <tr>\n",
       "      <th>...</th>\n",
       "      <td>...</td>\n",
       "      <td>...</td>\n",
       "    </tr>\n",
       "    <tr>\n",
       "      <th>1735</th>\n",
       "      <td>functional</td>\n",
       "      <td>working introducing getSpecialFeatureCollection Method general get PrintTemplateFeatures improve numbering</td>\n",
       "    </tr>\n",
       "    <tr>\n",
       "      <th>1736</th>\n",
       "      <td>functional</td>\n",
       "      <td>working next step move calculation handling PrintTemplateFeature handle multiple templateprinting creation still basic though</td>\n",
       "    </tr>\n",
       "    <tr>\n",
       "      <th>1737</th>\n",
       "      <td>functional</td>\n",
       "      <td>working generalized adjustMapForPrintingTemplates ensureVisibilityOfPrintingTemplates method adjustMapForSpecialFeatureClasses ensureVisibilityOfSpecialFeatures</td>\n",
       "    </tr>\n",
       "    <tr>\n",
       "      <th>1738</th>\n",
       "      <td>code smell</td>\n",
       "      <td>working test coverage minor tweaks removing dead code fixing minor bugs adding tests</td>\n",
       "    </tr>\n",
       "    <tr>\n",
       "      <th>1739</th>\n",
       "      <td>internal</td>\n",
       "      <td>changed render routine text fields added tabbing abilities CustomScreen various modifications CustomScreen match new TextField requirements changed size PacketSky</td>\n",
       "    </tr>\n",
       "  </tbody>\n",
       "</table>\n",
       "<p>1714 rows × 2 columns</p>\n",
       "</div>"
      ],
      "text/plain": [
       "        category  \\\n",
       "0     functional   \n",
       "1         bugfix   \n",
       "2     functional   \n",
       "3     code smell   \n",
       "4       external   \n",
       "...          ...   \n",
       "1735  functional   \n",
       "1736  functional   \n",
       "1737  functional   \n",
       "1738  code smell   \n",
       "1739    internal   \n",
       "\n",
       "                                                                                                                                                                                                                                                                                                                                                                              commit_message_clean  \n",
       "0                                                                                                                                                                                                                                            NIO Reads writes completed caller would compatible old interface functionality connection instance object receive data message multiple OPREAD events  \n",
       "1                                                                                                                                                            temporary fix nonshared JArray objects added generic unittests check jcclucenesolrmontysolr functionality wrote unittest newseman complete processing python side remains call java decide proper behaviour cases tokens addedgrouped  \n",
       "2     Java Added RCON functionality Source servers Added steamcondensersteampacketsrcon package Added RCONAuthRequestPacket Added RCONAuthResponsePacket Added RCONExecRequestPacket Added RCONExecResponsePacket Added RCONPacket Added RCONNoAuthException Split SteamSocket QuerySocket RCONSocket Stub functionality GoldSrc servers GoldSrc uses UDP needs special implementation Added tests  \n",
       "3                                                                                                                                                                                                                                                                                              Merge changes PullRequest Fix aggregation generation cleanup dead code Update dependencies versions  \n",
       "4                                                                                                                                                                                                                                                                                                                                                Bug API builder performance bad incremental build  \n",
       "...                                                                                                                                                                                                                                                                                                                                                                                            ...  \n",
       "1735                                                                                                                                                                                                                                                                                    working introducing getSpecialFeatureCollection Method general get PrintTemplateFeatures improve numbering  \n",
       "1736                                                                                                                                                                                                                                                                 working next step move calculation handling PrintTemplateFeature handle multiple templateprinting creation still basic though  \n",
       "1737                                                                                                                                                                                                                              working generalized adjustMapForPrintingTemplates ensureVisibilityOfPrintingTemplates method adjustMapForSpecialFeatureClasses ensureVisibilityOfSpecialFeatures  \n",
       "1738                                                                                                                                                                                                                                                                                                          working test coverage minor tweaks removing dead code fixing minor bugs adding tests  \n",
       "1739                                                                                                                                                                                                                            changed render routine text fields added tabbing abilities CustomScreen various modifications CustomScreen match new TextField requirements changed size PacketSky  \n",
       "\n",
       "[1714 rows x 2 columns]"
      ]
     },
     "execution_count": 29,
     "metadata": {},
     "output_type": "execute_result"
    }
   ],
   "source": [
    "del df['commit_message']\n",
    "\n",
    "df"
   ]
  },
  {
   "cell_type": "code",
   "execution_count": 30,
   "metadata": {},
   "outputs": [],
   "source": [
    "from nltk.tokenize import word_tokenize\n",
    "\n",
    "df['tokens'] = df['commit_message_clean'].apply(word_tokenize)\n"
   ]
  },
  {
   "cell_type": "code",
   "execution_count": 31,
   "metadata": {},
   "outputs": [],
   "source": [
    "from nltk import pos_tag\n",
    "\n",
    "df['pos_tags'] = df['tokens'].apply(pos_tag)\n"
   ]
  },
  {
   "cell_type": "code",
   "execution_count": 32,
   "metadata": {},
   "outputs": [],
   "source": [
    "from nltk.corpus import wordnet\n",
    "from nltk.stem import WordNetLemmatizer\n",
    "\n",
    "lemmatizer = WordNetLemmatizer()\n",
    "\n",
    "# Function to map NLTK position tags\n",
    "def get_wordnet_pos(treebank_tag):\n",
    "    if treebank_tag.startswith('J'):\n",
    "        return wordnet.ADJ\n",
    "    elif treebank_tag.startswith('V'):\n",
    "        return wordnet.VERB\n",
    "    elif treebank_tag.startswith('N'):\n",
    "        return wordnet.NOUN\n",
    "    elif treebank_tag.startswith('R'):\n",
    "        return wordnet.ADV\n",
    "    else:\n",
    "        return wordnet.NOUN  # Default to noun if unknown\n",
    "\n",
    "# Lemmatize a sentence with the appropriate POS tag\n",
    "def lemmatize_with_pos(sentence):\n",
    "    return [lemmatizer.lemmatize(word, get_wordnet_pos(pos_tag)) for word, pos_tag in sentence]\n",
    "\n",
    "# Apply the lemmatization function to the pos tags\n",
    "df['lemmatized'] = df['pos_tags'].apply(lemmatize_with_pos)\n"
   ]
  },
  {
   "cell_type": "code",
   "execution_count": 33,
   "metadata": {},
   "outputs": [],
   "source": [
    "df['lemmatized_text'] = df['lemmatized'].apply(' '.join)\n"
   ]
  },
  {
   "cell_type": "code",
   "execution_count": 34,
   "metadata": {},
   "outputs": [
    {
     "data": {
      "text/html": [
       "<div>\n",
       "<style scoped>\n",
       "    .dataframe tbody tr th:only-of-type {\n",
       "        vertical-align: middle;\n",
       "    }\n",
       "\n",
       "    .dataframe tbody tr th {\n",
       "        vertical-align: top;\n",
       "    }\n",
       "\n",
       "    .dataframe thead th {\n",
       "        text-align: right;\n",
       "    }\n",
       "</style>\n",
       "<table border=\"1\" class=\"dataframe\">\n",
       "  <thead>\n",
       "    <tr style=\"text-align: right;\">\n",
       "      <th></th>\n",
       "      <th>lemmatized_text</th>\n",
       "      <th>category</th>\n",
       "    </tr>\n",
       "  </thead>\n",
       "  <tbody>\n",
       "    <tr>\n",
       "      <th>0</th>\n",
       "      <td>NIO Reads write complete caller would compatible old interface functionality connection instance object receive data message multiple OPREAD event</td>\n",
       "      <td>functional</td>\n",
       "    </tr>\n",
       "    <tr>\n",
       "      <th>1</th>\n",
       "      <td>temporary fix nonshared JArray object add generic unittests check jcclucenesolrmontysolr functionality write unittest newseman complete processing python side remain call java decide proper behaviour case token addedgrouped</td>\n",
       "      <td>bugfix</td>\n",
       "    </tr>\n",
       "    <tr>\n",
       "      <th>2</th>\n",
       "      <td>Java Added RCON functionality Source server Added steamcondensersteampacketsrcon package Added RCONAuthRequestPacket Added RCONAuthResponsePacket Added RCONExecRequestPacket Added RCONExecResponsePacket Added RCONPacket Added RCONNoAuthException Split SteamSocket QuerySocket RCONSocket Stub functionality GoldSrc server GoldSrc use UDP need special implementation Added test</td>\n",
       "      <td>functional</td>\n",
       "    </tr>\n",
       "    <tr>\n",
       "      <th>3</th>\n",
       "      <td>Merge change PullRequest Fix aggregation generation cleanup dead code Update dependency version</td>\n",
       "      <td>code smell</td>\n",
       "    </tr>\n",
       "    <tr>\n",
       "      <th>4</th>\n",
       "      <td>Bug API builder performance bad incremental build</td>\n",
       "      <td>external</td>\n",
       "    </tr>\n",
       "    <tr>\n",
       "      <th>...</th>\n",
       "      <td>...</td>\n",
       "      <td>...</td>\n",
       "    </tr>\n",
       "    <tr>\n",
       "      <th>1735</th>\n",
       "      <td>work introduce getSpecialFeatureCollection Method general get PrintTemplateFeatures improve numbering</td>\n",
       "      <td>functional</td>\n",
       "    </tr>\n",
       "    <tr>\n",
       "      <th>1736</th>\n",
       "      <td>work next step move calculation handle PrintTemplateFeature handle multiple templateprinting creation still basic though</td>\n",
       "      <td>functional</td>\n",
       "    </tr>\n",
       "    <tr>\n",
       "      <th>1737</th>\n",
       "      <td>work generalize adjustMapForPrintingTemplates ensureVisibilityOfPrintingTemplates method adjustMapForSpecialFeatureClasses ensureVisibilityOfSpecialFeatures</td>\n",
       "      <td>functional</td>\n",
       "    </tr>\n",
       "    <tr>\n",
       "      <th>1738</th>\n",
       "      <td>work test coverage minor tweak remove dead code fix minor bug add test</td>\n",
       "      <td>code smell</td>\n",
       "    </tr>\n",
       "    <tr>\n",
       "      <th>1739</th>\n",
       "      <td>change render routine text field add tabbing ability CustomScreen various modification CustomScreen match new TextField requirement change size PacketSky</td>\n",
       "      <td>internal</td>\n",
       "    </tr>\n",
       "  </tbody>\n",
       "</table>\n",
       "<p>1714 rows × 2 columns</p>\n",
       "</div>"
      ],
      "text/plain": [
       "                                                                                                                                                                                                                                                                                                                                                                              lemmatized_text  \\\n",
       "0                                                                                                                                                                                                                                          NIO Reads write complete caller would compatible old interface functionality connection instance object receive data message multiple OPREAD event   \n",
       "1                                                                                                                                                             temporary fix nonshared JArray object add generic unittests check jcclucenesolrmontysolr functionality write unittest newseman complete processing python side remain call java decide proper behaviour case token addedgrouped   \n",
       "2     Java Added RCON functionality Source server Added steamcondensersteampacketsrcon package Added RCONAuthRequestPacket Added RCONAuthResponsePacket Added RCONExecRequestPacket Added RCONExecResponsePacket Added RCONPacket Added RCONNoAuthException Split SteamSocket QuerySocket RCONSocket Stub functionality GoldSrc server GoldSrc use UDP need special implementation Added test   \n",
       "3                                                                                                                                                                                                                                                                                             Merge change PullRequest Fix aggregation generation cleanup dead code Update dependency version   \n",
       "4                                                                                                                                                                                                                                                                                                                                           Bug API builder performance bad incremental build   \n",
       "...                                                                                                                                                                                                                                                                                                                                                                                       ...   \n",
       "1735                                                                                                                                                                                                                                                                                    work introduce getSpecialFeatureCollection Method general get PrintTemplateFeatures improve numbering   \n",
       "1736                                                                                                                                                                                                                                                                 work next step move calculation handle PrintTemplateFeature handle multiple templateprinting creation still basic though   \n",
       "1737                                                                                                                                                                                                                             work generalize adjustMapForPrintingTemplates ensureVisibilityOfPrintingTemplates method adjustMapForSpecialFeatureClasses ensureVisibilityOfSpecialFeatures   \n",
       "1738                                                                                                                                                                                                                                                                                                                   work test coverage minor tweak remove dead code fix minor bug add test   \n",
       "1739                                                                                                                                                                                                                                change render routine text field add tabbing ability CustomScreen various modification CustomScreen match new TextField requirement change size PacketSky   \n",
       "\n",
       "        category  \n",
       "0     functional  \n",
       "1         bugfix  \n",
       "2     functional  \n",
       "3     code smell  \n",
       "4       external  \n",
       "...          ...  \n",
       "1735  functional  \n",
       "1736  functional  \n",
       "1737  functional  \n",
       "1738  code smell  \n",
       "1739    internal  \n",
       "\n",
       "[1714 rows x 2 columns]"
      ]
     },
     "execution_count": 34,
     "metadata": {},
     "output_type": "execute_result"
    }
   ],
   "source": [
    "# del df['commit_message_clean', 'tokens', 'pos_tags', 'lemmatized']\n",
    "\n",
    "df = df[['lemmatized_text', 'category']]\n",
    "\n",
    "df"
   ]
  },
  {
   "cell_type": "code",
   "execution_count": 35,
   "metadata": {},
   "outputs": [
    {
     "name": "stderr",
     "output_type": "stream",
     "text": [
      "C:\\Users\\onkar\\AppData\\Local\\Temp\\ipykernel_25348\\540129122.py:1: SettingWithCopyWarning: \n",
      "A value is trying to be set on a copy of a slice from a DataFrame.\n",
      "Try using .loc[row_indexer,col_indexer] = value instead\n",
      "\n",
      "See the caveats in the documentation: https://pandas.pydata.org/pandas-docs/stable/user_guide/indexing.html#returning-a-view-versus-a-copy\n",
      "  df['lemmatized_text'] = df['lemmatized_text'].apply(clean_text)\n",
      "C:\\Users\\onkar\\AppData\\Local\\Temp\\ipykernel_25348\\540129122.py:2: SettingWithCopyWarning: \n",
      "A value is trying to be set on a copy of a slice from a DataFrame.\n",
      "Try using .loc[row_indexer,col_indexer] = value instead\n",
      "\n",
      "See the caveats in the documentation: https://pandas.pydata.org/pandas-docs/stable/user_guide/indexing.html#returning-a-view-versus-a-copy\n",
      "  df['lemmatized_text'] = df['lemmatized_text'].apply(remove_stopwords)\n"
     ]
    }
   ],
   "source": [
    "df['lemmatized_text'] = df['lemmatized_text'].apply(clean_text)\n",
    "df['lemmatized_text'] = df['lemmatized_text'].apply(remove_stopwords)"
   ]
  },
  {
   "cell_type": "code",
   "execution_count": 36,
   "metadata": {},
   "outputs": [
    {
     "name": "stdout",
     "output_type": "stream",
     "text": [
      "\n",
      "Row Index: 400\n",
      "lemmatized_text    Changes base Keiths review tweaks EdgeSet help track edge removal modify srceduuclasspacecommonSimilarityjava Updated use VectorMathdotProduct Tanimoto coefficient delete srceduuclasspacecommonWordComparatorjava Moved SimpleNearestNeighborFinder modify srceduuclasspacedependencySimpleDependencyPathjava Removed println modify srceduuclasspacegraphAbstractGraphjava Added miss implementation Subgraph class unit test pass modify srceduuclasspacegraphDirectedMultigraphjava Added miss implementation Subgraph class unit test pass Fixed bug reporting correct edge type removal Removed dead code modify srceduuclasspacegraphEdgeSetjava Updated disconnect return number edge remove modified srceduuclasspacegraphGenericEdgeSetjava modify srceduuclasspacegraphSparseDirectedEdgeSetjava modify srceduuclasspacegraphSparseDirectedTypedEdgeSetjava modify srceduuclasspacegraphSparseTypedEdgeSetjava modify srceduuclasspacegraphSparseUndirectedEdgeSetjava modify srceduuclasspacegraphSparseWeightedEdgeSetjava Updated support EdgeSet interface change delete srceduuclasspacegraphGraphRandomizerjava Removed dead class functionality Graphsjava modify srceduuclasspacegraphSimpleWeightedEdgejava Fixed hashCode delete srceduuclasspacegraphSparseSymmetricEdgeSetjava Removed dead class modify srceduuclasspacegraphUndirectedMultigraphjava Added miss implementation Subgraph class unit test pass Fixed bug reporting correct edge type removal Removed dead code modify srceduuclasspacemainsFixedDurationTemporalRandomIndexingMainjava Updated replace WordComparator SimpleNearestNeighborFinder modify srceduuclasspacemainsLexSubWordsiMainjava Updated replace WordComparator SimpleNearestNeighborFinder modify srceduuclasspacetextLabeledParsedStringDocumentjava Updated new ParsedDocument interface modify srceduuclasspacetextParsedDocumentjava Updated specify format text tokens white space delimiters Added new prettyPrintText attempt nicely format token would originally modify srceduuclasspacetextPukWaCDocumentIteratorjava Fixed javadoc modify srceduuclasspacetextUkWaCDocumentIteratorjava Added class javadoc modify srceduuclasspacetoolsNearestNeighborFinderTooljava Updated use class instance instead interface modified srceduuclasspacetoolsSemanticSpaceExplorerjava Updated replace WordComparator PartitioningNearestNeighborFinder modify srceduuclasspacetoolsSimilarityListGeneratorjava Updated replace WordComparator PartitioningNearestNeighborFinder modify srceduuclasspaceutilHashIndexerjava Fixed javadoc modify srceduuclasspaceutilPairCounterjava Fixed javadoc rename srceduuclasspaceutilNearestNeighborFinderjava srceduuclasspaceutilPartitioningNearestNeighborFinderjava Moved NearestNeighborFinder interface modify srceduuclasspaceutilReflectionUtiljava Removed dead code modify srceduuclasspaceutilprimitiveIntIntHashMultiMapjava Added javadoc modify srceduuclasspaceutilprimitiveIntIntMultiMapjava Added javadoc modify testeduuclasspacegraphDirectedMultigraphTestsjava Uncommented unit test modify testeduuclasspacedependencyBreadthFirstPathIteratorTestjava modify testeduuclasspacedependencyCoNLLDependencyExtractorTestjava modify testeduuclasspacedependencyWaCKyDependencyExtractorTestjava modify testeduuclasspacetextcorporaPukWacDependencyCorpusReaderTestjava modify testeduuclasspacewordsiDependencyContextExtractorTestjava modify testeduuclasspacewordsiOccurrenceDependencyContextGeneratorTestjava modify testeduuclasspacewordsiOrderingDependencyContextGeneratorTestjava modify testeduuclasspacewordsiPartOfSpeechDependencyContextGeneratorTestjava modify testeduuclasspacewordsipsdPseudoWordDependencyContextExtractorTestjava modify testeduuclasspacewordsisemevalSemEvalDependencyContextExtractorTestjava Fixed unit test support proper tabdelimiting CoNLL format\n",
      "category                                                                                                                                                                                                                                                                                                                                                                                                                                                                                                                                                                                                                                                                                                                                                                                                                                                                                                                                                                                                                                                                                                                                                                                                                                                                                                                                                                                                                                                                                                                                                                                                                                                                                                                                                                                                                                                                                                                                                                                                                                                                                                                                                                                                                                                                                                                                                                                                                                                                                                                                                                                                                                                                                                                                                                                                                                                                                                                                                                                                                                                                                                                                                                                                                                                                                                                                                                                                                                                                                                                                                                                                                                                                                                                                                                                                                                                                                                                             bugfix\n",
      "Name: 400, dtype: object\n",
      "Length: 3768\n",
      "\n",
      "Row Index: 243\n",
      "lemmatized_text    Added support JDBC driver build JDBC ie Java conclude change restructure code support JDBC jdbc unit test also resturctured allow different test jdbc jdbc although currently make check aka ant test JDBC run JDBC test special note largeobjectPGblob PGclob class move jdbcjdbc specific directory differ jdbc version Also note checkin remove PostgresqlDataSource file xa directory recent checkin add new datasource support replaces functionality provide class Modified Files jdbcbuildxml jdbcorgpostgresqljdbcAbstractJdbcDatabaseMetaDatajava jdbcorgpostgresqljdbcAbstractJdbcResultSetjava jdbcorgpostgresqljdbcAbstractJdbcResultSetMetaDatajava jdbcorgpostgresqljdbcAbstractJdbcStatementjava jdbcorgpostgresqljdbcAbstractJdbcConnectionjava jdbcorgpostgresqljdbcAbstractJdbcDatabaseMetaDatajava jdbcorgpostgresqljdbcAbstractJdbcResultSetjava jdbcorgpostgresqljdbcAbstractJdbcResultSetMetaDatajava jdbcorgpostgresqljdbcAbstractJdbcStatementjava jdbcorgpostgresqljdbcArrayjava jdbcorgpostgresqljdbcJdbcCallableStatementjava jdbcorgpostgresqljdbcJdbcConnectionjava jdbcorgpostgresqljdbcJdbcDatabaseMetaDatajava jdbcorgpostgresqljdbcJdbcPreparedStatementjava jdbcorgpostgresqljdbcJdbcResultSetjava jdbcorgpostgresqljdbcJdbcResultSetMetaDatajava jdbcorgpostgresqljdbcJdbcStatementjava jdbcorgpostgresqltestjdbcBatchExecuteTestjava jdbcorgpostgresqltestjdbcBlobTestjava jdbcorgpostgresqltestjdbcCallableStmtTestjava jdbcorgpostgresqltestjdbcConnectionTestjava jdbcorgpostgresqltestjdbcDatabaseMetaDataTestjava jdbcorgpostgresqltestjdbcDateTestjava jdbcorgpostgresqltestjdbcDriverTestjava jdbcorgpostgresqltestjdbcJBuilderTestjava jdbcorgpostgresqltestjdbcMiscTestjava jdbcorgpostgresqltestjdbcResultSetTestjava jdbcorgpostgresqltestjdbcTimeTestjava jdbcorgpostgresqltestjdbcTimestampTestjava jdbcorgpostgresqltestjdbcUpdateableResultTestjava Added Files jdbcorgpostgresqljdbcAbstractJdbcBlobjava jdbcorgpostgresqljdbcAbstractJdbcClobjava jdbcorgpostgresqljdbcJdbcBlobjava jdbcorgpostgresqljdbcJdbcClobjava jdbcorgpostgresqljdbcAbstractJdbcBlobjava jdbcorgpostgresqljdbcAbstractJdbcClobjava jdbcorgpostgresqljdbcAbstractJdbcConnectionjava jdbcorgpostgresqljdbcAbstractJdbcDatabaseMetaDatajava jdbcorgpostgresqljdbcAbstractJdbcResultSetjava jdbcorgpostgresqljdbcAbstractJdbcStatementjava jdbcorgpostgresqljdbcJdbcBlobjava jdbcorgpostgresqljdbcJdbcCallableStatementjava jdbcorgpostgresqljdbcJdbcClobjava jdbcorgpostgresqljdbcJdbcConnectionjava jdbcorgpostgresqljdbcJdbcDatabaseMetaDatajava jdbcorgpostgresqljdbcJdbcPreparedStatementjava jdbcorgpostgresqljdbcJdbcResultSetjava jdbcorgpostgresqljdbcJdbcResultSetMetaDatajava jdbcorgpostgresqljdbcJdbcStatementjava jdbcorgpostgresqltestTestUtiljava jdbcorgpostgresqltestjdbcJdbcTestSuitejava jdbcorgpostgresqltestjdbcJdbcTestSuitejava Removed Files jdbcorgpostgresqlPostgresqlDataSourcejava jdbcorgpostgresqllargeobjectPGblobjava jdbcorgpostgresqllargeobjectPGclobjava jdbcorgpostgresqltestJDBCTestsjava jdbcorgpostgresqlxaClientConnectionjava jdbcorgpostgresqlxaTwoPhaseConnectionjava jdbcorgpostgresqlxaTxConnectionjava jdbcorgpostgresqlxaXAConnectionImpljava jdbcorgpostgresqlxaXADataSourceImpljava\n",
      "category                                                                                                                                                                                                                                                                                                                                                                                                                                                                                                                                                                                                                                                                                                                                                                                                                                                                                                                                                                                                                                                                                                                                                                                                                                                                                                                                                                                                                                                                                                                                                                                                                                                                                                                                                                                                                                                                                                                                                                                                                                                                                                                                                                                                                                                                                                                                                                                                                                                                                                                                                                                                                                                                                                                                                                                                                                                                                                                                                                                                                                                                                                                                                                                                                                                               functional\n",
      "Name: 243, dtype: object\n",
      "Length: 3134\n",
      "\n",
      "Row Index: 833\n",
      "lemmatized_text    Lots bug fix minor functionality enhancement modify srcmainjavaeduuclasspacecommonSimilarityjava Added warning invalid KLdivergence computation Added KruskalGoodman Gamma Discovered Spearmans rho Kendalls tau wrong fix modify srcmainjavaeduuclasspacecommonstatisticsLogLikelihoodTestjava Fixed implementation new file srcmainjavaeduuclasspacegraphChineseWhispersClusteringjava Added CW cluster appear produce result exist code need investigation modify srcmainjavaeduuclasspacegraphGraphIOjava Tweaked logging modify srcmainjavaeduuclasspacegraphLinkClusteringjava Made thread count base processor instead fix new file srcmainjavaeduuclasspacegraphSimpleWeightedDirectedTypedEdgejava new file srcmainjavaeduuclasspacegraphSimpleWeightedTypedEdgejava new file srcmainjavaeduuclasspacegraphSparseWeightedDirectedEdgeSetjava new file srcmainjavaeduuclasspacegraphSparseWeightedDirectedTypedEdgeSetjava new file srcmainjavaeduuclasspacegraphWeightedDirectedMultigraphjava modify srcmainjavaeduuclasspacegraphWeightedDirectedTypedEdgejava Added partial support weight multigraphs feature probably need eventually modify srcmainjavaeduuclasspacegraphioEdgeListReaderjava Added well log instead printf new file srcmainjavaeduuclasspacegraphioGraphMLReaderjava Added initial GraphML implementation read large GraphML file partial support place modify srcmainjavaeduuclasspaceindexDefaultPermutationFunctionjava Fixed outstanding bug sure bug first place code currently break odd new file srcmainjavaeduuclasspacetextAnnotatedDocumentjava Added support new document creation date label new file srcmainjavaeduuclasspacetextBufferedFileListDocumentIteratorjava Added new iterator precaches content file file list use separate thread cut disk IO modify srcmainjavaeduuclasspacetextFileDocumentjava Added support document back file whose content load memory demand new file srcmainjavaeduuclasspacetoolsIterativeBigramExtractorjava Added tool find statistical association term iterative pairwise manner new file srcmainjavaeduuclasspacetoolsLinkClusteringTooljava Copied code branch run link cluster jar modify srcmainjavaeduuclasspaceutilCombinedIteratorjava Corrected Exception thrown remove modify srcmainjavaeduuclasspaceutilHashMultiMapjava Correct error remove key iterator Fixed bug null return instead empty set new file srcmainjavaeduuclasspaceutilKrippendorffsAlphajava Added partial implementation Krippendorffs alpha ordinalvalued data modify srcmainjavaeduuclasspaceutilMultiMapjava Clarified javadoc modify srcmainjavaeduuclasspaceutilObjectCounterjava Implemented max min modify srcmainjavaeduuclasspaceutilPairjava Made Serializable modify srcmainjavaeduuclasspaceutilSetDecoratorjava Clarified javadoc new file srctestjavaeduuclasspacegraphChineseWhispersTestjava new file srctestjavaeduuclasspacegraphSparseWeightedDirectedTypedEdgeSetTestjava new file srctestjavaeduuclasspacegraphWeightedDirectedMultigraphTestjava unit test modify srctestjavaeduuclasspaceindexDefaultPermutationFunctionTestjava Added debugging output\n",
      "category                                                                                                                                                                                                                                                                                                                                                                                                                                                                                                                                                                                                                                                                                                                                                                                                                                                                                                                                                                                                                                                                                                                                                                                                                                                                                                                                                                                                                                                                                                                                                                                                                                                                                                                                                                                                                                                                                                                                                                                                                                                                                                                                                                                                                                                                                                                                                                                                                                                                                                                                                                                                                                                                                                                                                                                                                                                                                                                                                                                                                                                                                                                                                       bugfix\n",
      "Name: 833, dtype: object\n",
      "Length: 3026\n",
      "\n",
      "Row Index: 50\n",
      "lemmatized_text    Added target near neighbor finder tool Reduced default timeout longrunning test Added jaccardIndex overload two set element Fixed javadoc Made class serializable Added support maximum path length Reworked use new SimpleDependencyPath class Revised error message clarity Updated use new SimpleDependencyPath feature Updated use new SimpleDependencyPath feature Major rewrite clarity Fixed toString Added static method test category particular POS tag Implemented miss method Added import sure Added logging Added support shuffle edge graph use fix Random reproducability Multithreaded edge similarity comparison Probably bug fix Updated use IntPair instead PairInteger Updated use IntSet Major overhaul bring performance line earlier primitive collection enhancement Probably need clean still Updates use new primitive collection Updates use new primitive collection Added support cluster fix number cluster Added limited support write GEXF format Added limit support write Pajek format Made default output verbose Remove extra temporary file hang around unneeded Added support get String back document Added new class test association two term already partially support BigramExtractor class support limit number item associate enables well scale iterative association test class need work Added iterator document WaCkypedia Fixed HTML bug javadoc Added new tool run NearestNeighborFinder command line Fixed javadoc Added support change log level logger namespace Added new tool speeding repeat nearestneighbor computation partition SemanticSpace cluster use Kmeans search subset Added support read write stream byte array Updated IntSet Added Pair implementation Fixed iterator remove bug Added extensive realworld unit test Added unit test detail match example Ahn et al paper Added test\n",
      "category                                                                                                                                                                                                                                                                                                                                                                                                                                                                                                                                                                                                                                                                                                                                                                                                                                                                                                                                                                                                                                                                                                                                                                                                                                                                                                                                                                                                                                                                                                                                                                                                                                                                                                                                                                                                                                                                  bugfix\n",
      "Name: 50, dtype: object\n",
      "Length: 1789\n",
      "\n",
      "Row Index: 964\n",
      "lemmatized_text    Patch Laurent Bihanic description jh Please find attached new version SAXOutputter patch include Notification EntityRef thru ContentHandlerskippedEntity new method entityRef Notification error register SAX ErrorHandler new protect method handleError JDOMSource update support output portion document Finally rewrite list document handle JDOMResult avoid destroy original document setDocument recreate later getDocument Attached patch SAXOutputter fix follow Added support Comments Element child Added support CDATA ie distinguish CDATA plain text use startendCDATA callback LexicalHandler new method cdata Remove support CDATA child document node Method outputDocument use test CDATA node fire corresponding event seem invalid accord XML spec XML parser try Added support output portion document ie list JDOM node output valid use input XSLT processor feature use JDOMSource Note Method elementContent rewrite support CDATA optimization textonly content remove seem bring performance improvement make code quite complicate order make code clearer method use type loop use outputDocument Regards Laurent Laurent Bihanic write Hi read SAXOutputter code late CVS find apparent bug support Comments Element child SAXOutputter fire SAX event Comment node method outputDocument method elementContentElement NamespaceStack Hence top level comment output support CDATA method charactersString change add argument new method support report whether output text regular CDATA use LexicalHandlers startendCDATA method Finally SAXOutputters code never check EntityRef node Thus simply disappear output document purpose JDOM least use ContentHandlers skippedEntity Laurent\n",
      "category                                                                                                                                                                                                                                                                                                                                                                                                                                                                                                                                                                                                                                                                                                                                                                                                                                                                                                                                                                                                                                                                                                                                                                                                                                                                                                                                                                                                                                                                                                                                                                                                                                                                                                                               bugfix\n",
      "Name: 964, dtype: object\n",
      "Length: 1658\n"
     ]
    }
   ],
   "source": [
    "\n",
    "top_5_max_lengths = df['lemmatized_text'].str.len().sort_values(ascending=False).head(5)\n",
    "\n",
    "\n",
    "for index, length in top_5_max_lengths.items():\n",
    "  print(f\"\\nRow Index: {index}\")\n",
    "  print(df.loc[index])\n",
    "  print(f\"Length: {length}\")\n",
    "\n",
    "####### LOWER CASE --> LAMMETIZATION --> pre-processing"
   ]
  },
  {
   "cell_type": "code",
   "execution_count": 37,
   "metadata": {},
   "outputs": [
    {
     "data": {
      "text/plain": [
       "10"
      ]
     },
     "execution_count": 37,
     "metadata": {},
     "output_type": "execute_result"
    }
   ],
   "source": [
    "df.duplicated().sum()"
   ]
  },
  {
   "cell_type": "code",
   "execution_count": 38,
   "metadata": {},
   "outputs": [],
   "source": [
    "df = df.drop_duplicates()"
   ]
  },
  {
   "cell_type": "code",
   "execution_count": 39,
   "metadata": {},
   "outputs": [
    {
     "data": {
      "text/plain": [
       "0"
      ]
     },
     "execution_count": 39,
     "metadata": {},
     "output_type": "execute_result"
    }
   ],
   "source": [
    "df.duplicated().sum()"
   ]
  },
  {
   "cell_type": "code",
   "execution_count": 40,
   "metadata": {},
   "outputs": [
    {
     "data": {
      "text/plain": [
       "lemmatized_text    1704\n",
       "category           1704\n",
       "dtype: int64"
      ]
     },
     "execution_count": 40,
     "metadata": {},
     "output_type": "execute_result"
    }
   ],
   "source": [
    "df.isnull().count()"
   ]
  },
  {
   "cell_type": "code",
   "execution_count": 41,
   "metadata": {},
   "outputs": [],
   "source": [
    "# For rows\n",
    "df = df.dropna(how='all')\n",
    "\n"
   ]
  },
  {
   "cell_type": "code",
   "execution_count": 42,
   "metadata": {},
   "outputs": [
    {
     "data": {
      "text/plain": [
       "lemmatized_text    1704\n",
       "category           1704\n",
       "dtype: int64"
      ]
     },
     "execution_count": 42,
     "metadata": {},
     "output_type": "execute_result"
    }
   ],
   "source": [
    "df.count()"
   ]
  },
  {
   "cell_type": "code",
   "execution_count": 43,
   "metadata": {},
   "outputs": [
    {
     "data": {
      "text/plain": [
       "0"
      ]
     },
     "execution_count": 43,
     "metadata": {},
     "output_type": "execute_result"
    }
   ],
   "source": [
    "df['lemmatized_text'].duplicated().sum()\n"
   ]
  },
  {
   "cell_type": "code",
   "execution_count": 44,
   "metadata": {},
   "outputs": [
    {
     "data": {
      "text/html": [
       "<div>\n",
       "<style scoped>\n",
       "    .dataframe tbody tr th:only-of-type {\n",
       "        vertical-align: middle;\n",
       "    }\n",
       "\n",
       "    .dataframe tbody tr th {\n",
       "        vertical-align: top;\n",
       "    }\n",
       "\n",
       "    .dataframe thead th {\n",
       "        text-align: right;\n",
       "    }\n",
       "</style>\n",
       "<table border=\"1\" class=\"dataframe\">\n",
       "  <thead>\n",
       "    <tr style=\"text-align: right;\">\n",
       "      <th></th>\n",
       "      <th>lemmatized_text</th>\n",
       "      <th>category</th>\n",
       "    </tr>\n",
       "  </thead>\n",
       "  <tbody>\n",
       "  </tbody>\n",
       "</table>\n",
       "</div>"
      ],
      "text/plain": [
       "Empty DataFrame\n",
       "Columns: [lemmatized_text, category]\n",
       "Index: []"
      ]
     },
     "execution_count": 44,
     "metadata": {},
     "output_type": "execute_result"
    }
   ],
   "source": [
    "\n",
    "df1 = df[df['lemmatized_text'].duplicated(keep=False)]\n",
    "\n",
    "df1"
   ]
  },
  {
   "cell_type": "code",
   "execution_count": 45,
   "metadata": {},
   "outputs": [],
   "source": [
    "# 508, 509, 577, 578, 796, 797, 862, 863, 1241, 1242, 1346, 1347"
   ]
  },
  {
   "cell_type": "code",
   "execution_count": 46,
   "metadata": {},
   "outputs": [],
   "source": [
    "# # Identify non-duplicated rows based on 'lemmatized_text'\n",
    "# non_duplicated_rows = df.duplicated(subset='lemmatized_text', keep=False)\n",
    "\n",
    "# # Keep only non-duplicated rows in the DataFrame\n",
    "# df = df[~non_duplicated_rows]\n",
    "\n",
    "# df\n"
   ]
  },
  {
   "cell_type": "code",
   "execution_count": 47,
   "metadata": {},
   "outputs": [],
   "source": [
    "# df.count()"
   ]
  },
  {
   "cell_type": "code",
   "execution_count": 48,
   "metadata": {},
   "outputs": [
    {
     "name": "stdout",
     "output_type": "stream",
     "text": [
      "lemmatized_text    False\n",
      "category           False\n",
      "dtype: bool\n",
      "[]\n"
     ]
    },
    {
     "name": "stderr",
     "output_type": "stream",
     "text": [
      "C:\\Users\\onkar\\AppData\\Local\\Temp\\ipykernel_25348\\370267273.py:6: FutureWarning: DataFrame.applymap has been deprecated. Use DataFrame.map instead.\n",
      "  spaces_mask = df.applymap(is_only_spaces)\n"
     ]
    }
   ],
   "source": [
    "# Define a function that checks if a cell is only space characters\n",
    "def is_only_spaces(x):\n",
    "    return isinstance(x, str) and x.strip() == ''\n",
    "\n",
    "# Apply the function to each element of the DataFrame\n",
    "spaces_mask = df.applymap(is_only_spaces)\n",
    "\n",
    "# all() to check if all values in each column are True (only spaces)\n",
    "columns_only_spaces = spaces_mask.all()\n",
    "\n",
    "print(columns_only_spaces)\n",
    "\n",
    "columns_with_only_spaces = columns_only_spaces[columns_only_spaces].index.tolist()\n",
    "print(columns_with_only_spaces)\n"
   ]
  },
  {
   "cell_type": "code",
   "execution_count": 49,
   "metadata": {},
   "outputs": [
    {
     "data": {
      "text/plain": [
       "lemmatized_text    1704\n",
       "category           1704\n",
       "dtype: int64"
      ]
     },
     "execution_count": 49,
     "metadata": {},
     "output_type": "execute_result"
    }
   ],
   "source": [
    "df.count()"
   ]
  },
  {
   "cell_type": "markdown",
   "metadata": {},
   "source": [
    "### Training/Testing Split"
   ]
  },
  {
   "cell_type": "code",
   "execution_count": 50,
   "metadata": {},
   "outputs": [],
   "source": [
    "from sklearn.model_selection import train_test_split\n",
    "\n",
    "X = df['lemmatized_text']  \n",
    "y = df['category']    \n",
    "\n",
    "\n",
    "x_train, x_test, y_train, y_test = train_test_split(\n",
    "    X, y,\n",
    "    test_size=0.25,       # 25% of the data will be allocated to the test set\n",
    "    stratify=y,           # Stratify based on the labels to maintain distribution\n",
    "    random_state=42       \n",
    ")\n"
   ]
  },
  {
   "cell_type": "code",
   "execution_count": 51,
   "metadata": {},
   "outputs": [
    {
     "data": {
      "text/plain": [
       "1119                                                                                                                                                                                                                                                                                    Removed duplicate code add outline add version start log entry\n",
       "944                                                                                                                                                                                                                                                                                                                  compiler support switch statement\n",
       "1195                                                                                                                                                                                                                                                                                                   SONARPHP Add parameter Functions many parameter\n",
       "1154                                                                                                                                                                    Replace coordinate index throughout application also fix bug physicsgridGridgetGaussContraintSquared coor coor reset loop increasingdecreasing individual direction coordinate\n",
       "140                                       Add new Google Calendar functionality Implemented package orgspringframeworksocialgoogleapicalendarimpl orgspringframeworksocialgoogleapicalendarimpl autotests Also see springsocialgoogleexample update Moved encode level QueryBuilderImpl available builder Fix issue wrong time format QueryBuilderImpl\n",
       "                                                                                                                                                                             ...                                                                                                                                                                      \n",
       "487                                                                                                                                                                                                                                                                                               Dramastically increase performance Maybe fix low tps\n",
       "857     Major refactoring FormModel related code Reorganized interface implementation Reorganized package structure Improved JavaDoc Introduced validation abstraction Removed dependency Rules validation Dirty track work unbuffered form model Dirty track fire property change event Revert work unbuffered form model Improved unit test coverage\n",
       "1396                                                                                                                                                                                                                                                      SUREFIRE runlevel RunListener method support junit Updated cover provider feature fbbffaedef\n",
       "753                                                                                                                                                                                                                                                                                                                Improve LoggerManager compatibility\n",
       "845                                                                                             MODE Fixes issue many parameter clause commit change query get send DB number parameter exceed certain limit clause get broken multiple clause also add Docker support modeshapepersistencerelational module low level DB operation test different DBs\n",
       "Name: lemmatized_text, Length: 1278, dtype: object"
      ]
     },
     "execution_count": 51,
     "metadata": {},
     "output_type": "execute_result"
    }
   ],
   "source": [
    "x_train"
   ]
  },
  {
   "cell_type": "code",
   "execution_count": 52,
   "metadata": {},
   "outputs": [
    {
     "name": "stdout",
     "output_type": "stream",
     "text": [
      "category\n",
      "bugfix        87\n",
      "functional    87\n",
      "external      86\n",
      "internal      84\n",
      "code smell    82\n",
      "Name: count, dtype: int64\n"
     ]
    }
   ],
   "source": [
    "category_counts = y_test.value_counts()\n",
    "\n",
    "print(category_counts)\n"
   ]
  },
  {
   "cell_type": "code",
   "execution_count": 53,
   "metadata": {},
   "outputs": [
    {
     "name": "stdout",
     "output_type": "stream",
     "text": [
      "category\n",
      "bugfix        260\n",
      "functional    259\n",
      "external      258\n",
      "internal      254\n",
      "code smell    247\n",
      "Name: count, dtype: int64\n"
     ]
    }
   ],
   "source": [
    "category_counts = y_train.value_counts()\n",
    "print(category_counts)"
   ]
  },
  {
   "cell_type": "code",
   "execution_count": 54,
   "metadata": {},
   "outputs": [
    {
     "data": {
      "text/plain": [
       "1278"
      ]
     },
     "execution_count": 54,
     "metadata": {},
     "output_type": "execute_result"
    }
   ],
   "source": [
    "y_train.count()"
   ]
  },
  {
   "cell_type": "code",
   "execution_count": 55,
   "metadata": {},
   "outputs": [],
   "source": [
    "x_train_path = r\"D:\\Rochester Institute of Technology\\DSCI 644 Software Engineering for Data Science\\Automated-Software-Refactoring-Commit-Classifier\\dataset\\x_train.csv\"\n",
    "\n",
    "x_train.to_csv(x_train_path, index=False)"
   ]
  },
  {
   "cell_type": "code",
   "execution_count": 56,
   "metadata": {},
   "outputs": [],
   "source": [
    "y_train_path = r\"D:\\Rochester Institute of Technology\\DSCI 644 Software Engineering for Data Science\\Automated-Software-Refactoring-Commit-Classifier\\dataset\\y_train.csv\"\n",
    "\n",
    "y_train.to_csv(y_train_path, index=False)"
   ]
  },
  {
   "cell_type": "code",
   "execution_count": 57,
   "metadata": {},
   "outputs": [],
   "source": [
    "x_test_path = r\"D:\\Rochester Institute of Technology\\DSCI 644 Software Engineering for Data Science\\Automated-Software-Refactoring-Commit-Classifier\\dataset\\x_test.csv\"\n",
    "\n",
    "x_test.to_csv(x_test_path, index=False)"
   ]
  },
  {
   "cell_type": "code",
   "execution_count": 58,
   "metadata": {},
   "outputs": [],
   "source": [
    "y_test_path = r\"D:\\Rochester Institute of Technology\\DSCI 644 Software Engineering for Data Science\\Automated-Software-Refactoring-Commit-Classifier\\dataset\\y_test.csv\"\n",
    "\n",
    "y_test.to_csv(y_test_path, index=False)"
   ]
  },
  {
   "cell_type": "code",
   "execution_count": 59,
   "metadata": {},
   "outputs": [],
   "source": [
    "from sklearn.feature_extraction.text import TfidfVectorizer"
   ]
  },
  {
   "cell_type": "code",
   "execution_count": 60,
   "metadata": {},
   "outputs": [],
   "source": [
    "# Initialize TfidfVectorizer\n",
    "vectorizer = TfidfVectorizer(ngram_range=(1, 3), max_features=10000)\n",
    "\n",
    "# Fit and transform the training data\n",
    "x_train_tfidf = vectorizer.fit_transform(x_train)\n",
    "\n",
    "# Only transform the testing data\n",
    "x_test_tfidf = vectorizer.transform(x_test)"
   ]
  },
  {
   "cell_type": "code",
   "execution_count": 61,
   "metadata": {},
   "outputs": [],
   "source": [
    "# from sklearn.ensemble import RandomForestClassifier\n",
    "# from sklearn.linear_model import LogisticRegression\n",
    "# from sklearn.naive_bayes import MultinomialNB\n",
    "# from sklearn.neighbors import KNeighborsClassifier\n",
    "# from sklearn.svm import SVC\n",
    "# from sklearn.tree import DecisionTreeClassifier\n",
    "# from sklearn.metrics import accuracy_score\n",
    "\n",
    "# # Initialize classifiers\n",
    "# classifiers = {\n",
    "#     \"Random Forest\": RandomForestClassifier(),\n",
    "#     \"Logistic Regression\": LogisticRegression(),\n",
    "#     \"Multinomial Naive Bayes\": MultinomialNB(),\n",
    "#     \"K-Nearest Neighbors\": KNeighborsClassifier(),\n",
    "#     \"Support Vector Classification\": SVC(),\n",
    "#     \"Decision Tree\": DecisionTreeClassifier()\n",
    "# }\n",
    "\n",
    "# # Dictionary to store the accuracy of each classifier\n",
    "# accuracy_results = {}\n",
    "\n",
    "# # Train and evaluate each classifier\n",
    "# for classifier_name, classifier in classifiers.items():\n",
    "#     # Train the classifier\n",
    "#     classifier.fit(x_train_tfidf, y_train)\n",
    "    \n",
    "#     # Predict on the test set\n",
    "#     y_pred = classifier.predict(x_test_tfidf)\n",
    "    \n",
    "#     # Evaluate the accuracy\n",
    "#     accuracy = accuracy_score(y_test, y_pred)\n",
    "#     accuracy_results[classifier_name] = accuracy\n",
    "#     print(f\"{classifier_name} Accuracy: {accuracy}\")\n"
   ]
  },
  {
   "cell_type": "code",
   "execution_count": 62,
   "metadata": {},
   "outputs": [],
   "source": [
    "# k-fold"
   ]
  },
  {
   "cell_type": "code",
   "execution_count": 63,
   "metadata": {},
   "outputs": [],
   "source": [
    "from sklearn.ensemble import RandomForestClassifier\n",
    "from sklearn.svm import SVC\n",
    "from sklearn.tree import DecisionTreeClassifier\n",
    "from sklearn.linear_model import LogisticRegression\n",
    "from sklearn.naive_bayes import MultinomialNB\n",
    "from sklearn.neighbors import KNeighborsClassifier\n",
    "from sklearn.metrics import accuracy_score\n",
    "\n",
    "# # Initialize classifiers with specified hyperparameters\n",
    "# classifiers = {\n",
    "#     \"Random Forest\": RandomForestClassifier(max_depth=70, n_estimators=58, criterion='gini', bootstrap=False),\n",
    "#     \"Support Vector Classification\": SVC(gamma=1.9, kernel='linear', C=1.0),\n",
    "#     \"Decision Tree\": DecisionTreeClassifier(max_depth=75, criterion='gini'),\n",
    "#     \"Logistic Regression\": LogisticRegression(penalty='l2', C=1.0, solver='liblinear'),\n",
    "#     \"Multinomial Naive Bayes\": MultinomialNB(alpha=0.63),\n",
    "#     \"K-Nearest Neighbors\": KNeighborsClassifier(n_neighbors=69, weights='uniform')\n",
    "# }\n",
    "\n",
    "# # Train and evaluate each classifier\n",
    "# for classifier_name, classifier in classifiers.items():\n",
    "#     # Train the classifier\n",
    "#     classifier.fit(x_train_tfidf, y_train)\n",
    "    \n",
    "#     # Predict on the test set\n",
    "#     y_pred = classifier.predict(x_test_tfidf)\n",
    "    \n",
    "#     # Calculate accuracy\n",
    "#     accuracy = accuracy_score(y_test, y_pred)\n",
    "#     print(f\"{classifier_name} Accuracy: {accuracy}\")\n"
   ]
  },
  {
   "cell_type": "code",
   "execution_count": 64,
   "metadata": {},
   "outputs": [
    {
     "name": "stdout",
     "output_type": "stream",
     "text": [
      "Training Random Forest...\n"
     ]
    },
    {
     "name": "stdout",
     "output_type": "stream",
     "text": [
      "Random Forest Accuracy: 0.8309859154929577\n",
      "Random Forest Classification Report:\n",
      "              precision    recall  f1-score   support\n",
      "\n",
      "      bugfix       0.82      0.76      0.79        87\n",
      "  code smell       0.95      0.98      0.96        82\n",
      "    external       0.72      0.84      0.77        86\n",
      "  functional       0.82      0.69      0.75        87\n",
      "    internal       0.85      0.90      0.88        84\n",
      "\n",
      "    accuracy                           0.83       426\n",
      "   macro avg       0.83      0.83      0.83       426\n",
      "weighted avg       0.83      0.83      0.83       426\n",
      "\n",
      "Training Support Vector Classification...\n",
      "Support Vector Classification Accuracy: 0.8051643192488263\n",
      "Support Vector Classification Classification Report:\n",
      "              precision    recall  f1-score   support\n",
      "\n",
      "      bugfix       0.67      0.68      0.67        87\n",
      "  code smell       0.92      0.93      0.92        82\n",
      "    external       0.78      0.81      0.80        86\n",
      "  functional       0.74      0.77      0.76        87\n",
      "    internal       0.95      0.85      0.89        84\n",
      "\n",
      "    accuracy                           0.81       426\n",
      "   macro avg       0.81      0.81      0.81       426\n",
      "weighted avg       0.81      0.81      0.81       426\n",
      "\n",
      "Training Decision Tree...\n",
      "Decision Tree Accuracy: 0.7699530516431925\n",
      "Decision Tree Classification Report:\n",
      "              precision    recall  f1-score   support\n",
      "\n",
      "      bugfix       0.76      0.68      0.72        87\n",
      "  code smell       0.90      0.90      0.90        82\n",
      "    external       0.62      0.79      0.70        86\n",
      "  functional       0.82      0.69      0.75        87\n",
      "    internal       0.80      0.80      0.80        84\n",
      "\n",
      "    accuracy                           0.77       426\n",
      "   macro avg       0.78      0.77      0.77       426\n",
      "weighted avg       0.78      0.77      0.77       426\n",
      "\n",
      "Training Logistic Regression...\n",
      "Logistic Regression Accuracy: 0.8075117370892019\n",
      "Logistic Regression Classification Report:\n",
      "              precision    recall  f1-score   support\n",
      "\n",
      "      bugfix       0.80      0.68      0.73        87\n",
      "  code smell       0.93      0.96      0.95        82\n",
      "    external       0.72      0.80      0.76        86\n",
      "  functional       0.69      0.76      0.73        87\n",
      "    internal       0.93      0.85      0.89        84\n",
      "\n",
      "    accuracy                           0.81       426\n",
      "   macro avg       0.81      0.81      0.81       426\n",
      "weighted avg       0.81      0.81      0.81       426\n",
      "\n",
      "Training Multinomial Naive Bayes...\n",
      "Multinomial Naive Bayes Accuracy: 0.7723004694835681\n",
      "Multinomial Naive Bayes Classification Report:\n",
      "              precision    recall  f1-score   support\n",
      "\n",
      "      bugfix       0.59      0.76      0.66        87\n",
      "  code smell       0.91      0.95      0.93        82\n",
      "    external       0.89      0.66      0.76        86\n",
      "  functional       0.66      0.74      0.70        87\n",
      "    internal       0.96      0.76      0.85        84\n",
      "\n",
      "    accuracy                           0.77       426\n",
      "   macro avg       0.80      0.77      0.78       426\n",
      "weighted avg       0.80      0.77      0.78       426\n",
      "\n",
      "Training K-Nearest Neighbors...\n",
      "K-Nearest Neighbors Accuracy: 0.744131455399061\n",
      "K-Nearest Neighbors Classification Report:\n",
      "              precision    recall  f1-score   support\n",
      "\n",
      "      bugfix       0.62      0.67      0.64        87\n",
      "  code smell       0.78      0.99      0.87        82\n",
      "    external       0.73      0.73      0.73        86\n",
      "  functional       0.74      0.59      0.65        87\n",
      "    internal       0.88      0.76      0.82        84\n",
      "\n",
      "    accuracy                           0.74       426\n",
      "   macro avg       0.75      0.75      0.74       426\n",
      "weighted avg       0.75      0.74      0.74       426\n",
      "\n"
     ]
    }
   ],
   "source": [
    "from sklearn.metrics import classification_report\n",
    "\n",
    "classifiers = {\n",
    "    \"Random Forest\": RandomForestClassifier(max_depth=78, n_estimators=500, criterion='gini', bootstrap=False),\n",
    "    \"Support Vector Classification\": SVC(gamma='scale', kernel='linear', C=1.99),\n",
    "    \"Decision Tree\": DecisionTreeClassifier(max_depth=75, criterion='gini'),\n",
    "    \"Logistic Regression\": LogisticRegression(penalty='l1', C=1.0, solver='liblinear'),\n",
    "    \"Multinomial Naive Bayes\": MultinomialNB(alpha=2.63),\n",
    "    \"K-Nearest Neighbors\": KNeighborsClassifier(n_neighbors=69, weights='uniform')\n",
    "}\n",
    "\n",
    "evaluation_reports = {}\n",
    "\n",
    "# Train, predict, and evaluate each classifier separately\n",
    "for classifier_name, classifier in classifiers.items():\n",
    "    print(f\"Training {classifier_name}...\")\n",
    "    \n",
    "    # Train the classifier\n",
    "    classifier.fit(x_train_tfidf, y_train)\n",
    "    \n",
    "    # Predict on the test set\n",
    "    y_pred = classifier.predict(x_test_tfidf)\n",
    "    \n",
    "    # Generate a classification report\n",
    "    report = classification_report(y_test, y_pred, output_dict=True)\n",
    "    \n",
    "    # Print accuracy and store the report for further analysis\n",
    "    print(f\"{classifier_name} Accuracy: {report['accuracy']}\")\n",
    "    evaluation_reports[classifier_name] = report\n",
    "    \n",
    "    # Detailed report\n",
    "    print(f\"{classifier_name} Classification Report:\")\n",
    "    print(classification_report(y_test, y_pred))\n",
    "    \n"
   ]
  },
  {
   "cell_type": "code",
   "execution_count": 65,
   "metadata": {},
   "outputs": [],
   "source": [
    "    # def fit(self, X, y):\n",
    "        \n",
    "    #     X_preprocessed = preprocess(X.copy())\n",
    "        \n",
    "    #     # Separating text data for TF-IDF transformation\n",
    "    #     text_data = X_preprocessed.pop('combined_text')\n",
    "        \n",
    "    #     text_features = self.tfidf_vectorizer.fit_transform(text_data)\n",
    "        \n",
    "    #     # Combining text features with other features\n",
    "    #     X_combined = np.hstack((text_features.toarray(), X_preprocessed.values))\n",
    "        \n",
    "    #     self.classifier.fit(X_combined, y)\n",
    "        \n",
    "    #     # # Define a broad range of parameters for RandomizedSearchCV\n",
    "    #     # rf_random_params = {\n",
    "    #     #     'n_estimators': np.arange(100, 1001, 100),\n",
    "    #     #     'max_depth': np.arange(10, 101, 10),\n",
    "    #     #     'min_samples_split': np.arange(2, 11, 1),\n",
    "    #     #     'criterion': ['gini', 'entropy']\n",
    "    #     # }\n",
    "        \n",
    "    #     # # Randomized Search with Cross-Validation\n",
    "    #     # self.rfc = RandomForestClassifier(class_weight=\"balanced\", random_state=42)\n",
    "    #     # random_search = RandomizedSearchCV(self.rfc, rf_random_params, n_iter=100, cv=5, scoring='f1', n_jobs=-1, random_state=42)\n",
    "    #     # random_search.fit(X_combined, y)\n",
    "    #     # print(\"Best parameters from RandomizedSearch: \", random_search.best_params_)\n",
    "\n",
    "    #     # # Refine search with GridSearchCV around the best parameters found\n",
    "    #     # best_params = random_search.best_params_\n",
    "    #     # rf_grid_params = {\n",
    "    #     #     'n_estimators': [best_params['n_estimators'] - 50, best_params['n_estimators'], best_params['n_estimators'] + 50],\n",
    "    #     #     'max_depth': [best_params['max_depth'] - 10, best_params['max_depth'], best_params['max_depth'] + 10],\n",
    "    #     #     'min_samples_split': [best_params['min_samples_split'] - 1, best_params['min_samples_split'], best_params['min_samples_split'] + 1],\n",
    "    #     #     'criterion': [best_params['criterion']]\n",
    "    #     # }\n",
    "    #     # self.rscv = GridSearchCV(self.rfc, rf_grid_params, cv=5, scoring='f1', n_jobs=-1)\n",
    "    #     # self.rscv.fit(X_combined, y)\n",
    "    #     # print(\"Refined best parameters from GridSearchCV: \", self.rscv.best_params_)"
   ]
  },
  {
   "cell_type": "code",
   "execution_count": 66,
   "metadata": {},
   "outputs": [],
   "source": [
    "# from sklearn.model_selection import RandomizedSearchCV, GridSearchCV\n",
    "# from sklearn.ensemble import RandomForestClassifier\n",
    "# import numpy as np\n",
    "\n",
    "# # Assuming x_train_tfidf and y_train are already defined as your training dataset and labels\n",
    "\n",
    "# # Initialize RandomForestClassifier\n",
    "# rf_classifier = RandomForestClassifier(class_weight=\"balanced\", random_state=42)\n",
    "\n",
    "# # Define the parameter space for RandomizedSearchCV\n",
    "# random_grid = {\n",
    "#     'n_estimators': np.arange(100, 1001, 100),  # Number of trees in the forest\n",
    "#     'max_depth': np.arange(10, 101, 10),  # Maximum depth of the tree\n",
    "#     'bootstrap': [True, False],  # Method of selecting samples for training each tree\n",
    "#     'criterion': ['gini', 'entropy']  # The function to measure the quality of a split\n",
    "# }\n",
    "\n",
    "# # Random search of parameters, using 3 fold cross validation,\n",
    "# # search across 100 different combinations, and use all available cores\n",
    "# rf_random = RandomizedSearchCV(estimator=rf_classifier, param_distributions=random_grid, n_iter=100, cv=3, verbose=2, random_state=42, n_jobs=-1)\n",
    "\n",
    "# # Fit the random search model\n",
    "# rf_random.fit(x_train_tfidf, y_train)\n",
    "\n",
    "# # Output the best parameters from RandomizedSearchCV\n",
    "# print(\"Best parameters found by RandomizedSearchCV:\")\n",
    "# print(rf_random.best_params_)\n",
    "\n",
    "# # You can now take the best parameters from the random search and use them to\n",
    "# # create a more focused search with GridSearchCV (if necessary). This might involve\n",
    "# # narrower ranges of parameters or specific combinations that you want to test exhaustively.\n",
    "\n",
    "# # Refine search with GridSearchCV around the best parameters found\n",
    "# best_params = rf_random.best_params_\n",
    "# rf_grid_params = {\n",
    "#             'n_estimators': [best_params['n_estimators'] - 50, best_params['n_estimators'], best_params['n_estimators'] + 50],\n",
    "#             'max_depth': [best_params['max_depth'] - 10, best_params['max_depth'], best_params['max_depth'] + 10],            \n",
    "#             'criterion': [best_params['criterion']],\n",
    "#             'bootstrap': [best_params['bootstrap']]\n",
    "# }\n",
    "# rscv = GridSearchCV(rf_classifier, rf_grid_params, cv=5, scoring='f1', n_jobs=-1)\n",
    "# rscv.fit(x_train_tfidf, y_train)\n",
    "# print(\"Refined best parameters from GridSearchCV: \", rscv.best_params_)\n",
    "\n",
    "\n",
    "# # {'n_estimators': 1000, 'min_samples_split': 8, 'max_depth': 90, 'criterion': 'gini', 'bootstrap': False}\n",
    "# # Refined best parameters from GridSearchCV:  {'criterion': 'gini', 'max_depth': 80, 'min_samples_split': 7, 'n_estimators': 950}\n",
    "\n",
    "# # {'n_estimators': 200, 'max_depth': 40, 'criterion': 'gini', 'bootstrap': False}\n",
    "# # Refined best parameters from GridSearchCV:  {'bootstrap': False, 'criterion': 'gini', 'max_depth': 30, 'n_estimators': 150}\n",
    "\n",
    "# # {'bootstrap': False, 'criterion': 'gini', 'max_depth': 80, 'n_estimators': 950}"
   ]
  },
  {
   "cell_type": "code",
   "execution_count": 67,
   "metadata": {},
   "outputs": [],
   "source": [
    "# from sklearn.model_selection import RandomizedSearchCV, GridSearchCV\n",
    "# from sklearn.svm import SVC\n",
    "# import numpy as np\n",
    "\n",
    "# # Assuming x_train_tfidf and y_train are already defined\n",
    "\n",
    "# # Initialize the SVC model\n",
    "# svc = SVC(random_state=42)\n",
    "\n",
    "# # Define a parameter space for RandomizedSearchCV\n",
    "# param_distributions = {\n",
    "#     'C': np.logspace(-4, 4, 20),  # Regularization parameter\n",
    "#     'gamma': ['scale', 'auto'],  # Kernel coefficient for 'rbf', 'poly' and 'sigmoid'\n",
    "#     'kernel': ['linear', 'poly', 'rbf', 'sigmoid']  # Specifies the kernel type to be used in the algorithm\n",
    "# }\n",
    "\n",
    "# # Random search of parameters, using 3 fold cross validation,\n",
    "# # search across a wide range of combinations, and use all available cores\n",
    "# svm_random = RandomizedSearchCV(estimator=svc, param_distributions=param_distributions, n_iter=100, cv=3, verbose=2, random_state=42, n_jobs=-1)\n",
    "\n",
    "# # Fit the random search model\n",
    "# svm_random.fit(x_train_tfidf, y_train)\n",
    "\n",
    "# # Output the best parameters from RandomizedSearchCV\n",
    "# print(\"Best parameters found by RandomizedSearchCV for SVM:\")\n",
    "# print(svm_random.best_params_)\n",
    "\n",
    "\n",
    "# # Extract the best parameters found by RandomizedSearchCV\n",
    "# best_params = svm_random.best_params_\n",
    "\n",
    "# # Create a parameter grid focused around the best parameters found\n",
    "# param_grid = {\n",
    "#     'C': [best_params['C'] * 0.5, best_params['C'], best_params['C'] * 2],\n",
    "#     'gamma': [best_params['gamma']],\n",
    "#     'kernel': [best_params['kernel']]\n",
    "# }\n",
    "\n",
    "# # Create a GridSearchCV for a more focused search\n",
    "# svm_grid = GridSearchCV(estimator=SVC(random_state=42), param_grid=param_grid, cv=5, verbose=2, n_jobs=-1)\n",
    "\n",
    "# # Fit GridSearchCV\n",
    "# svm_grid.fit(x_train_tfidf, y_train)\n",
    "\n",
    "# # Output the best parameters from GridSearchCV\n",
    "# print(\"Refined best parameters from GridSearchCV for SVM:\")\n",
    "# print(svm_grid.best_params_)\n",
    "\n",
    "\n",
    "\n",
    "\n",
    "# # Fitting 3 folds for each of 100 candidates, totalling 300 fits\n",
    "# # Best parameters found by RandomizedSearchCV for SVM:\n",
    "# # {'kernel': 'rbf', 'gamma': 0.001, 'C': 545.5594781168514}\n",
    "# # Fitting 5 folds for each of 9 candidates, totalling 45 fits\n",
    "# # Refined best parameters from GridSearchCV for SVM:\n",
    "# # {'C': 272.7797390584257, 'gamma': 0.002, 'kernel': 'rbf'}\n",
    "# # {'C': 5000.0, 'gamma': 'auto', 'kernel': 'rbf'}"
   ]
  },
  {
   "cell_type": "code",
   "execution_count": 68,
   "metadata": {},
   "outputs": [],
   "source": [
    "# from sklearn.model_selection import RandomizedSearchCV, GridSearchCV\n",
    "# from sklearn.tree import DecisionTreeClassifier\n",
    "# import numpy as np\n",
    "\n",
    "# # Assuming x_train_tfidf and y_train are defined\n",
    "\n",
    "# # Initialize DecisionTreeClassifier\n",
    "# dt_classifier = DecisionTreeClassifier(random_state=42)\n",
    "\n",
    "# # Define the parameter space for RandomizedSearchCV\n",
    "# param_distributions = {\n",
    "#     'max_depth': np.arange(10, 101, 10),  # Maximum depth of the tree\n",
    "#     'criterion': ['gini', 'entropy']  # The function to measure the quality of a split\n",
    "# }\n",
    "\n",
    "# # Random search of parameters, using 3 fold cross validation,\n",
    "# # search across a wide range of combinations, and use all available cores\n",
    "# dt_random = RandomizedSearchCV(estimator=dt_classifier, param_distributions=param_distributions, n_iter=100, cv=3, verbose=2, random_state=42, n_jobs=-1)\n",
    "\n",
    "# # Fit the random search model\n",
    "# dt_random.fit(x_train_tfidf, y_train)\n",
    "\n",
    "# # Output the best parameters from RandomizedSearchCV\n",
    "# print(\"Best parameters found by RandomizedSearchCV for Decision Tree:\")\n",
    "# print(dt_random.best_params_)\n",
    "\n",
    "# # Extract the best parameters found by RandomizedSearchCV\n",
    "# best_params = dt_random.best_params_\n",
    "\n",
    "# # Create a parameter grid focused around the best parameters found\n",
    "# param_grid = {\n",
    "#     'max_depth': [best_params['max_depth'] - 10, best_params['max_depth'], best_params['max_depth'] + 10] if best_params['max_depth'] is not None else np.arange(5, 16, 5),\n",
    "#     'criterion': [best_params['criterion']]\n",
    "# }\n",
    "\n",
    "# # Create a GridSearchCV for a more focused search\n",
    "# dt_grid = GridSearchCV(estimator=DecisionTreeClassifier(random_state=42), param_grid=param_grid, cv=5, verbose=2, n_jobs=-1)\n",
    "\n",
    "# # Fit GridSearchCV\n",
    "# dt_grid.fit(x_train_tfidf, y_train)\n",
    "\n",
    "# # Output the best parameters from GridSearchCV\n",
    "# print(\"Refined best parameters from GridSearchCV for Decision Tree:\")\n",
    "# print(dt_grid.best_params_)\n",
    "\n",
    "# # {'criterion': 'gini', 'max_depth': 30}"
   ]
  },
  {
   "cell_type": "code",
   "execution_count": 69,
   "metadata": {},
   "outputs": [],
   "source": [
    "# from sklearn.model_selection import RandomizedSearchCV, GridSearchCV\n",
    "# from sklearn.linear_model import LogisticRegression\n",
    "# import numpy as np\n",
    "\n",
    "# # Assuming x_train_tfidf and y_train are defined\n",
    "\n",
    "# # Initialize LogisticRegression\n",
    "# logistic_regression = LogisticRegression(random_state=42, max_iter=10000)\n",
    "\n",
    "# # Define the parameter space for RandomizedSearchCV\n",
    "# param_distributions = {\n",
    "#     'C': np.logspace(-4, 4, 20),  # Regularization strength\n",
    "#     'penalty': ['l1', 'l2', 'elasticnet', 'none'],  # Type of regularization\n",
    "#     'solver': ['newton-cg', 'lbfgs', 'liblinear', 'sag', 'saga']  # Algorithm to use in the optimization problem\n",
    "# }\n",
    "\n",
    "# # Random search of parameters, using 3 fold cross validation,\n",
    "# # search across a wide range of combinations, and use all available cores\n",
    "# lr_random = RandomizedSearchCV(estimator=logistic_regression, param_distributions=param_distributions, n_iter=100, cv=3, verbose=2, random_state=42, n_jobs=-1)\n",
    "\n",
    "# # Fit the random search model\n",
    "# lr_random.fit(x_train_tfidf, y_train)\n",
    "\n",
    "# # Output the best parameters from RandomizedSearchCV\n",
    "# print(\"Best parameters found by RandomizedSearchCV for Logistic Regression:\")\n",
    "# print(lr_random.best_params_)\n",
    "\n",
    "# # Extract the best parameters found by RandomizedSearchCV\n",
    "# best_params = lr_random.best_params_\n",
    "\n",
    "# # Create a parameter grid focused around the best parameters found\n",
    "# param_grid = {\n",
    "#     'C': [best_params['C'] * 0.5, best_params['C'], best_params['C'] * 2],\n",
    "#     'penalty': [best_params['penalty']] if best_params['penalty'] != 'elasticnet' else ['l1', 'l2'],\n",
    "#     'solver': ['liblinear', 'saga'] if best_params['penalty'] == 'l1' else ['newton-cg', 'lbfgs', 'sag', 'saga']\n",
    "# }\n",
    "\n",
    "# # Some combinations might not be compatible, adjust the grid as needed\n",
    "# # Create a GridSearchCV for a more focused search\n",
    "# lr_grid = GridSearchCV(estimator=LogisticRegression(random_state=42, max_iter=10000), param_grid=param_grid, cv=5, verbose=2, n_jobs=-1)\n",
    "\n",
    "# # Fit GridSearchCV\n",
    "# lr_grid.fit(x_train_tfidf, y_train)\n",
    "\n",
    "# # Output the best parameters from GridSearchCV\n",
    "# print(\"Refined best parameters from GridSearchCV for Logistic Regression:\")\n",
    "# print(lr_grid.best_params_)\n",
    "\n",
    "# # {'C': 2.140666199359698, 'penalty': 'l2', 'solver': 'newton-cg'}"
   ]
  },
  {
   "cell_type": "code",
   "execution_count": 70,
   "metadata": {},
   "outputs": [],
   "source": [
    "# from sklearn.model_selection import RandomizedSearchCV, GridSearchCV\n",
    "# from sklearn.naive_bayes import MultinomialNB\n",
    "# import numpy as np\n",
    "\n",
    "# # Assuming x_train_tfidf and y_train are defined\n",
    "\n",
    "# # Initialize MultinomialNB\n",
    "# mnb = MultinomialNB()\n",
    "\n",
    "# # Define the parameter space for RandomizedSearchCV\n",
    "# param_distributions = {\n",
    "#     'alpha': np.linspace(0, 1, 10)  # Additive (Laplace/Lidstone) smoothing parameter\n",
    "# }\n",
    "\n",
    "# # Since it's just one parameter, we're technically not \"randomizing\" much here\n",
    "# mnb_random = RandomizedSearchCV(estimator=mnb, param_distributions=param_distributions, n_iter=10, cv=3, verbose=2, random_state=42, n_jobs=-1)\n",
    "\n",
    "# # Fit the random search model\n",
    "# mnb_random.fit(x_train_tfidf, y_train)\n",
    "\n",
    "# # Output the best parameters from RandomizedSearchCV\n",
    "# print(\"Best parameters found by RandomizedSearchCV for Multinomial Naive Bayes:\")\n",
    "# print(mnb_random.best_params_)\n",
    "\n",
    "# # Extract the best alpha found by RandomizedSearchCV\n",
    "# best_alpha = mnb_random.best_params_['alpha']\n",
    "\n",
    "# # Create a parameter grid focused around the best alpha found\n",
    "# param_grid = {\n",
    "#     'alpha': [max(0, best_alpha - 0.1), best_alpha, best_alpha + 0.1]\n",
    "# }\n",
    "\n",
    "# # Create a GridSearchCV for a more focused search\n",
    "# mnb_grid = GridSearchCV(estimator=MultinomialNB(), param_grid=param_grid, cv=5, verbose=2, n_jobs=-1)\n",
    "\n",
    "# # Fit GridSearchCV\n",
    "# mnb_grid.fit(x_train_tfidf, y_train)\n",
    "\n",
    "# # Output the best parameters from GridSearchCV\n",
    "# print(\"Refined best parameters from GridSearchCV for Multinomial Naive Bayes:\")\n",
    "# print(mnb_grid.best_params_)\n",
    "\n",
    "# # {'alpha': 1.1}"
   ]
  },
  {
   "cell_type": "code",
   "execution_count": 71,
   "metadata": {},
   "outputs": [],
   "source": [
    "# from sklearn.model_selection import RandomizedSearchCV, GridSearchCV\n",
    "# from sklearn.neighbors import KNeighborsClassifier\n",
    "# import numpy as np\n",
    "\n",
    "# # Assuming x_train_tfidf and y_train are defined\n",
    "\n",
    "# # Initialize KNeighborsClassifier\n",
    "# knn = KNeighborsClassifier()\n",
    "\n",
    "# # Define the parameter space for RandomizedSearchCV\n",
    "# param_distributions = {\n",
    "#     'n_neighbors': np.arange(1, 50),  # Number of neighbors to use\n",
    "#     'weights': ['uniform', 'distance'],  # Weight function used in prediction\n",
    "# }\n",
    "\n",
    "# # Random search of parameters, using 3 fold cross validation,\n",
    "# # search across a wide range of combinations, and use all available cores\n",
    "# knn_random = RandomizedSearchCV(estimator=knn, param_distributions=param_distributions, n_iter=100, cv=3, verbose=2, random_state=42, n_jobs=-1)\n",
    "\n",
    "# # Fit the random search model\n",
    "# knn_random.fit(x_train_tfidf, y_train)\n",
    "\n",
    "# # Output the best parameters from RandomizedSearchCV\n",
    "# print(\"Best parameters found by RandomizedSearchCV for KNN:\")\n",
    "# print(knn_random.best_params_)\n",
    "\n",
    "# # Extract the best parameters found by RandomizedSearchCV\n",
    "# best_params = knn_random.best_params_\n",
    "\n",
    "# # Create a parameter grid focused around the best parameters found\n",
    "# param_grid = {\n",
    "#     'n_neighbors': [best_params['n_neighbors'] - 2, best_params['n_neighbors'] - 1, best_params['n_neighbors'], best_params['n_neighbors'] + 1, best_params['n_neighbors'] + 2],\n",
    "#     'weights': [best_params['weights']],\n",
    "# }\n",
    "\n",
    "# # Ensure values are within valid ranges\n",
    "# param_grid['n_neighbors'] = [n for n in param_grid['n_neighbors'] if n > 0]\n",
    "\n",
    "# # Create a GridSearchCV for a more focused search\n",
    "# knn_grid = GridSearchCV(estimator=KNeighborsClassifier(), param_grid=param_grid, cv=5, verbose=2, n_jobs=-1)\n",
    "\n",
    "# # Fit GridSearchCV\n",
    "# knn_grid.fit(x_train_tfidf, y_train)\n",
    "\n",
    "# # Output the best parameters from GridSearchCV\n",
    "# print(\"Refined best parameters from GridSearchCV for KNN:\")\n",
    "# print(knn_grid.best_params_)\n",
    "\n",
    "# # {'n_neighbors': 43, 'weights': 'distance'}"
   ]
  },
  {
   "cell_type": "code",
   "execution_count": 72,
   "metadata": {},
   "outputs": [
    {
     "name": "stdout",
     "output_type": "stream",
     "text": [
      "Training Random Forest...\n"
     ]
    },
    {
     "name": "stdout",
     "output_type": "stream",
     "text": [
      "Random Forest Accuracy: 0.8403755868544601\n",
      "Random Forest Classification Report:\n",
      "              precision    recall  f1-score   support\n",
      "\n",
      "      bugfix       0.83      0.77      0.80        87\n",
      "  code smell       0.95      0.98      0.96        82\n",
      "    external       0.73      0.85      0.78        86\n",
      "  functional       0.84      0.70      0.76        87\n",
      "    internal       0.88      0.92      0.90        84\n",
      "\n",
      "    accuracy                           0.84       426\n",
      "   macro avg       0.84      0.84      0.84       426\n",
      "weighted avg       0.84      0.84      0.84       426\n",
      "\n",
      "Training Support Vector Classification...\n",
      "Support Vector Classification Accuracy: 0.812206572769953\n",
      "Support Vector Classification Classification Report:\n",
      "              precision    recall  f1-score   support\n",
      "\n",
      "      bugfix       0.70      0.67      0.68        87\n",
      "  code smell       0.91      0.91      0.91        82\n",
      "    external       0.80      0.84      0.82        86\n",
      "  functional       0.73      0.82      0.77        87\n",
      "    internal       0.95      0.83      0.89        84\n",
      "\n",
      "    accuracy                           0.81       426\n",
      "   macro avg       0.82      0.81      0.81       426\n",
      "weighted avg       0.82      0.81      0.81       426\n",
      "\n",
      "Training Decision Tree...\n",
      "Decision Tree Accuracy: 0.7582159624413145\n",
      "Decision Tree Classification Report:\n",
      "              precision    recall  f1-score   support\n",
      "\n",
      "      bugfix       0.77      0.64      0.70        87\n",
      "  code smell       0.88      0.91      0.90        82\n",
      "    external       0.60      0.80      0.69        86\n",
      "  functional       0.79      0.70      0.74        87\n",
      "    internal       0.82      0.74      0.78        84\n",
      "\n",
      "    accuracy                           0.76       426\n",
      "   macro avg       0.77      0.76      0.76       426\n",
      "weighted avg       0.77      0.76      0.76       426\n",
      "\n",
      "Training Logistic Regression...\n",
      "Logistic Regression Accuracy: 0.8215962441314554\n",
      "Logistic Regression Classification Report:\n",
      "              precision    recall  f1-score   support\n",
      "\n",
      "      bugfix       0.70      0.71      0.71        87\n",
      "  code smell       0.95      0.94      0.94        82\n",
      "    external       0.82      0.81      0.82        86\n",
      "  functional       0.72      0.84      0.78        87\n",
      "    internal       0.96      0.81      0.88        84\n",
      "\n",
      "    accuracy                           0.82       426\n",
      "   macro avg       0.83      0.82      0.83       426\n",
      "weighted avg       0.83      0.82      0.82       426\n",
      "\n",
      "Training Multinomial Naive Bayes...\n",
      "Multinomial Naive Bayes Accuracy: 0.7723004694835681\n",
      "Multinomial Naive Bayes Classification Report:\n",
      "              precision    recall  f1-score   support\n",
      "\n",
      "      bugfix       0.58      0.76      0.66        87\n",
      "  code smell       0.93      0.94      0.93        82\n",
      "    external       0.85      0.67      0.75        86\n",
      "  functional       0.67      0.72      0.70        87\n",
      "    internal       0.96      0.77      0.86        84\n",
      "\n",
      "    accuracy                           0.77       426\n",
      "   macro avg       0.80      0.77      0.78       426\n",
      "weighted avg       0.80      0.77      0.78       426\n",
      "\n",
      "Training K-Nearest Neighbors...\n",
      "K-Nearest Neighbors Accuracy: 0.7089201877934272\n",
      "K-Nearest Neighbors Classification Report:\n",
      "              precision    recall  f1-score   support\n",
      "\n",
      "      bugfix       0.63      0.61      0.62        87\n",
      "  code smell       0.77      1.00      0.87        82\n",
      "    external       0.65      0.66      0.66        86\n",
      "  functional       0.66      0.51      0.57        87\n",
      "    internal       0.81      0.79      0.80        84\n",
      "\n",
      "    accuracy                           0.71       426\n",
      "   macro avg       0.70      0.71      0.70       426\n",
      "weighted avg       0.70      0.71      0.70       426\n",
      "\n"
     ]
    }
   ],
   "source": [
    "from sklearn.metrics import classification_report\n",
    "\n",
    "classifiers = {\n",
    "    \"Random Forest\": RandomForestClassifier(max_depth=80, n_estimators=950, criterion='gini', bootstrap=False),\n",
    "    \"Support Vector Classification\": SVC(gamma='auto', kernel='rbf', C=5000.0),\n",
    "    \"Decision Tree\": DecisionTreeClassifier(max_depth=30, criterion='gini'),\n",
    "    \"Logistic Regression\": LogisticRegression(penalty='l2', C=2.14, solver='newton-cg'),\n",
    "    \"Multinomial Naive Bayes\": MultinomialNB(alpha=1.1),\n",
    "    \"K-Nearest Neighbors\": KNeighborsClassifier(n_neighbors=43, weights='distance')\n",
    "}\n",
    "\n",
    "evaluation_reports = {}\n",
    "\n",
    "# Train, predict, and evaluate each classifier separately\n",
    "for classifier_name, classifier in classifiers.items():\n",
    "    print(f\"Training {classifier_name}...\")\n",
    "    \n",
    "    # Train the classifier\n",
    "    classifier.fit(x_train_tfidf, y_train)\n",
    "    \n",
    "    # Predict on the test set\n",
    "    y_pred = classifier.predict(x_test_tfidf)\n",
    "    \n",
    "    # Generate a classification report\n",
    "    report = classification_report(y_test, y_pred, output_dict=True)\n",
    "    \n",
    "    # Print accuracy and store the report for further analysis\n",
    "    print(f\"{classifier_name} Accuracy: {report['accuracy']}\")\n",
    "    evaluation_reports[classifier_name] = report\n",
    "    \n",
    "    # Detailed report\n",
    "    print(f\"{classifier_name} Classification Report:\")\n",
    "    print(classification_report(y_test, y_pred))\n",
    "    \n"
   ]
  },
  {
   "cell_type": "code",
   "execution_count": 73,
   "metadata": {},
   "outputs": [
    {
     "name": "stdout",
     "output_type": "stream",
     "text": [
      "[[53  7 10 13  4]\n",
      " [ 0 82  0  0  0]\n",
      " [10  7 57  8  4]\n",
      " [16  4 16 44  7]\n",
      " [ 5  6  5  2 66]]\n"
     ]
    }
   ],
   "source": [
    "from sklearn.metrics import confusion_matrix\n",
    "\n",
    "class_names = ['internal', 'bugfix', 'external', 'functional', 'code smell']\n",
    "\n",
    "\n",
    "cm = confusion_matrix(y_test, y_pred)\n",
    "print(cm)"
   ]
  },
  {
   "cell_type": "code",
   "execution_count": 74,
   "metadata": {},
   "outputs": [
    {
     "data": {
      "image/png": "[encoded data removed]",
      "text/plain": [
       "<Figure size 640x480 with 2 Axes>"
      ]
     },
     "metadata": {},
     "output_type": "display_data"
    }
   ],
   "source": [
    "import seaborn as sns\n",
    "import matplotlib.pyplot as plt\n",
    "\n",
    "\n",
    "sns.heatmap(cm, annot=True, fmt=\"d\", cmap=\"Blues\", xticklabels=class_names, yticklabels=class_names)\n",
    "plt.xlabel('Predicted Label')\n",
    "plt.ylabel('True Label')\n",
    "plt.title('Confusion Matrix with Class Names')\n",
    "plt.show()\n"
   ]
  },
  {
   "cell_type": "code",
   "execution_count": 75,
   "metadata": {},
   "outputs": [],
   "source": [
    "# y_test.unique()"
   ]
  },
  {
   "cell_type": "code",
   "execution_count": 76,
   "metadata": {},
   "outputs": [],
   "source": [
    "# !pip install deap"
   ]
  },
  {
   "cell_type": "code",
   "execution_count": 77,
   "metadata": {},
   "outputs": [],
   "source": [
    "# from deap import base, creator, tools, algorithms\n",
    "# import numpy as np\n",
    "# from sklearn.model_selection import cross_val_score\n",
    "# from sklearn.ensemble import RandomForestClassifier\n",
    "# import random\n"
   ]
  },
  {
   "cell_type": "code",
   "execution_count": 78,
   "metadata": {},
   "outputs": [],
   "source": [
    "# def evalModel(individual):\n",
    "#     # Unpack individual parameters\n",
    "#     n_estimators, max_depth, criterion, bootstrap = individual\n",
    "    \n",
    "#     # Convert binary to boolean for bootstrap\n",
    "#     bootstrap = True if bootstrap == 1 else False\n",
    "    \n",
    "#     # Convert criterion to proper format\n",
    "#     criterion = \"gini\" if criterion == 1 else \"entropy\"\n",
    "    \n",
    "#     # Initialize the model with the individual's parameters\n",
    "#     model = RandomForestClassifier(n_estimators=n_estimators, \n",
    "#                                    max_depth=max_depth, \n",
    "#                                    criterion=criterion, \n",
    "#                                    bootstrap=bootstrap, \n",
    "#                                    random_state=42)\n",
    "\n",
    "#     # Perform 3-fold cross-validation\n",
    "#     scores = cross_val_score(model, x_train_tfidf, y_train, cv=3)\n",
    "    \n",
    "#     # Return the average accuracy\n",
    "#     return (np.mean(scores),)\n"
   ]
  },
  {
   "cell_type": "code",
   "execution_count": 79,
   "metadata": {},
   "outputs": [],
   "source": [
    "# # Define fitness and individual\n",
    "# creator.create(\"FitnessMax\", base.Fitness, weights=(1.0,))\n",
    "# creator.create(\"Individual\", list, fitness=creator.FitnessMax)\n",
    "\n",
    "# toolbox = base.Toolbox()\n",
    "\n",
    "# # Attribute generators for our individual components\n",
    "# toolbox.register(\"attr_n_estimators\", random.randint, 100, 1000)\n",
    "# toolbox.register(\"attr_max_depth\", random.randint, 10, 100)\n",
    "# toolbox.register(\"attr_criterion\", random.randint, 1, 2)  # 1 for gini, 2 for entropy\n",
    "# toolbox.register(\"attr_bootstrap\", random.randint, 0, 1)  # 0 for False, 1 for True\n",
    "\n",
    "# # Structure initializers for individuals and the population\n",
    "# toolbox.register(\"individual\", tools.initCycle, creator.Individual,\n",
    "#                  (toolbox.attr_n_estimators, toolbox.attr_max_depth, toolbox.attr_criterion, toolbox.attr_bootstrap), n=1)\n",
    "\n",
    "# toolbox.register(\"population\", tools.initRepeat, list, toolbox.individual)\n",
    "\n",
    "# # Genetic operators\n",
    "# toolbox.register(\"evaluate\", evalModel)\n",
    "# toolbox.register(\"mate\", tools.cxTwoPoint)\n",
    "# toolbox.register(\"mutate\", tools.mutUniformInt, low=[100, 10, 1, 0], up=[1000, 100, 2, 1], indpb=0.2)\n",
    "# toolbox.register(\"select\", tools.selTournament, tournsize=3)\n"
   ]
  },
  {
   "cell_type": "code",
   "execution_count": 80,
   "metadata": {},
   "outputs": [],
   "source": [
    "# def main():\n",
    "#     random.seed(42)\n",
    "#     pop = toolbox.population(n=50)\n",
    "#     hof = tools.HallOfFame(1)\n",
    "    \n",
    "#     stats = tools.Statistics(lambda ind: ind.fitness.values)\n",
    "#     stats.register(\"avg\", np.mean)\n",
    "#     stats.register(\"std\", np.std)\n",
    "#     stats.register(\"min\", np.min)\n",
    "#     stats.register(\"max\", np.max)\n",
    "    \n",
    "#     algorithms.eaSimple(pop, toolbox, cxpb=0.5, mutpb=0.2, ngen=40, \n",
    "#                         stats=stats, halloffame=hof, verbose=True)\n",
    "    \n",
    "#     return pop, stats, hof\n",
    "\n",
    "# if __name__ == \"__main__\":\n",
    "#     population, stats, hof = main()\n",
    "#     print(\"Best individual is:\", hof[0], \"with fitness:\", hof[0].fitness)\n"
   ]
  },
  {
   "cell_type": "code",
   "execution_count": null,
   "metadata": {},
   "outputs": [],
   "source": []
  }
 ],
 "metadata": {
  "kernelspec": {
   "display_name": "Python 3 (ipykernel)",
   "language": "python",
   "name": "python3"
  },
  "language_info": {
   "codemirror_mode": {
    "name": "ipython",
    "version": 3
   },
   "file_extension": ".py",
   "mimetype": "text/x-python",
   "name": "python",
   "nbconvert_exporter": "python",
   "pygments_lexer": "ipython3",
   "version": "3.12.0"
  }
 },
 "nbformat": 4,
 "nbformat_minor": 4
}
