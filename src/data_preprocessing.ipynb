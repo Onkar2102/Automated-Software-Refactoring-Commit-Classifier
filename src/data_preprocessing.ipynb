{
 "cells": [
  {
   "cell_type": "markdown",
   "metadata": {},
   "source": [
    "### importing the required libraries"
   ]
  },
  {
   "cell_type": "code",
   "execution_count": 1,
   "metadata": {},
   "outputs": [
    {
     "name": "stdout",
     "output_type": "stream",
     "text": [
      "Requirement already satisfied: pandas in /Users/onkars/Documents/AIProjects/Automated-Software-Refactoring-Commit-Classifier/myenv/lib/python3.12/site-packages (2.2.2)\n",
      "Requirement already satisfied: numpy>=1.26.0 in /Users/onkars/Documents/AIProjects/Automated-Software-Refactoring-Commit-Classifier/myenv/lib/python3.12/site-packages (from pandas) (1.26.4)\n",
      "Requirement already satisfied: python-dateutil>=2.8.2 in /Users/onkars/Documents/AIProjects/Automated-Software-Refactoring-Commit-Classifier/myenv/lib/python3.12/site-packages (from pandas) (2.9.0.post0)\n",
      "Requirement already satisfied: pytz>=2020.1 in /Users/onkars/Documents/AIProjects/Automated-Software-Refactoring-Commit-Classifier/myenv/lib/python3.12/site-packages (from pandas) (2024.1)\n",
      "Requirement already satisfied: tzdata>=2022.7 in /Users/onkars/Documents/AIProjects/Automated-Software-Refactoring-Commit-Classifier/myenv/lib/python3.12/site-packages (from pandas) (2024.1)\n",
      "Requirement already satisfied: six>=1.5 in /Users/onkars/Documents/AIProjects/Automated-Software-Refactoring-Commit-Classifier/myenv/lib/python3.12/site-packages (from python-dateutil>=2.8.2->pandas) (1.16.0)\n"
     ]
    }
   ],
   "source": [
    "!pip install pandas"
   ]
  },
  {
   "cell_type": "code",
   "execution_count": 2,
   "metadata": {},
   "outputs": [],
   "source": [
    "import pandas as pd\n",
    "\n",
    "\n",
    "pd.set_option('display.max_colwidth', None)\n",
    "# pd.set_option('display.max_rows', None)"
   ]
  },
  {
   "cell_type": "markdown",
   "metadata": {},
   "source": [
    "### creating a dataframe from imported dataset"
   ]
  },
  {
   "cell_type": "code",
   "execution_count": 3,
   "metadata": {},
   "outputs": [],
   "source": [
    "filePath = r\"../dataset/ESWA20_manualclassification.csv\""
   ]
  },
  {
   "cell_type": "code",
   "execution_count": 4,
   "metadata": {},
   "outputs": [
    {
     "data": {
      "text/html": [
       "<div>\n",
       "<style scoped>\n",
       "    .dataframe tbody tr th:only-of-type {\n",
       "        vertical-align: middle;\n",
       "    }\n",
       "\n",
       "    .dataframe tbody tr th {\n",
       "        vertical-align: top;\n",
       "    }\n",
       "\n",
       "    .dataframe thead th {\n",
       "        text-align: right;\n",
       "    }\n",
       "</style>\n",
       "<table border=\"1\" class=\"dataframe\">\n",
       "  <thead>\n",
       "    <tr style=\"text-align: right;\">\n",
       "      <th></th>\n",
       "      <th>Commit Message</th>\n",
       "      <th>Category</th>\n",
       "    </tr>\n",
       "  </thead>\n",
       "  <tbody>\n",
       "    <tr>\n",
       "      <th>0</th>\n",
       "      <td>\\tNIO Reads writes are completed in the caller thered;\\n\\t100% compatible with old interface and functionality.\\n\\tEach connection has an instance of this object to\\n\\treceive data for a message in multiple OP_READ events.\\n</td>\n",
       "      <td>functional</td>\n",
       "    </tr>\n",
       "    <tr>\n",
       "      <th>1</th>\n",
       "      <td>* temporary fix for non-shared JArray objects\\n  * added generic unittests to check jcc/lucene/solr/montysolr functionality\\n  * wrote unittest for newseman (it does a complete processing from python side)\\n    - now what remains is to call it from java\\n    - decide on proper behaviour for cases when tokens are added/grouped\\n</td>\n",
       "      <td>bugfix</td>\n",
       "    </tr>\n",
       "    <tr>\n",
       "      <th>2</th>\n",
       "      <td>* Java:\\n   * Added RCON functionality for Source servers:\\n     * Added steamcondenser.steam.packets.rcon package\\n     * Added RCONAuthRequestPacket\\n     * Added RCONAuthResponsePacket\\n     * Added RCONExecRequestPacket\\n     * Added RCONExecResponsePacket\\n     * Added RCONPacket\\n     * Added RCONNoAuthException\\n   * Split SteamSocket into QuerySocket and RCONSocket\\n   * Stub functionality for GoldSrc servers\\n     * GoldSrc uses UDP and needs a special implementation\\n   * Added tests\\n</td>\n",
       "      <td>functional</td>\n",
       "    </tr>\n",
       "    <tr>\n",
       "      <th>3</th>\n",
       "      <td>- Merge changes from Pull-Request #6 \\t - Fix aggregation generation and cleanup dead code  - Update dependencies versions</td>\n",
       "      <td>code smell</td>\n",
       "    </tr>\n",
       "    <tr>\n",
       "      <th>4</th>\n",
       "      <td>Bug 233643 -  API builder performance bad for incremental build</td>\n",
       "      <td>external</td>\n",
       "    </tr>\n",
       "    <tr>\n",
       "      <th>...</th>\n",
       "      <td>...</td>\n",
       "      <td>...</td>\n",
       "    </tr>\n",
       "    <tr>\n",
       "      <th>1735</th>\n",
       "      <td>working on #339: introducing the getSpecialFeatureCollection Method as a more general way to get all the PrintTemplateFeatures. improve the numbering\\n</td>\n",
       "      <td>functional</td>\n",
       "    </tr>\n",
       "    <tr>\n",
       "      <th>1736</th>\n",
       "      <td>working on #339: next step. i\\n\\nmove all the calculation and handling into the PrintTemplateFeature to handle\\nmultiple templateprinting.\\n\\nThe creation is still very basic though\\n</td>\n",
       "      <td>functional</td>\n",
       "    </tr>\n",
       "    <tr>\n",
       "      <th>1737</th>\n",
       "      <td>working on #369: generalized the adjustMapForPrintingTemplates and ensureVisibilityOfPrintingTemplates method to adjustMapForSpecialFeatureClasses and ensureVisibilityOfSpecialFeatures\\n</td>\n",
       "      <td>functional</td>\n",
       "    </tr>\n",
       "    <tr>\n",
       "      <th>1738</th>\n",
       "      <td>working up test coverage; minor tweaks; removing dead code; fixing very minor bugs; adding tests</td>\n",
       "      <td>code smell</td>\n",
       "    </tr>\n",
       "    <tr>\n",
       "      <th>1739</th>\n",
       "      <td> changed render routine for text fields  added tabbing abilities to CustomScreen  various modifications on CustomScreen to match the new TextField requirements  changed size of PacketSky</td>\n",
       "      <td>internal</td>\n",
       "    </tr>\n",
       "  </tbody>\n",
       "</table>\n",
       "<p>1740 rows × 2 columns</p>\n",
       "</div>"
      ],
      "text/plain": [
       "                                                                                                                                                                                                                                                                                                                                                                                                                                                                                                             Commit Message  \\\n",
       "0                                                                                                                                                                                                                                                                                          \\tNIO Reads writes are completed in the caller thered;\\n\\t100% compatible with old interface and functionality.\\n\\tEach connection has an instance of this object to\\n\\treceive data for a message in multiple OP_READ events.\\n   \n",
       "1                                                                                                                                                                                 * temporary fix for non-shared JArray objects\\n  * added generic unittests to check jcc/lucene/solr/montysolr functionality\\n  * wrote unittest for newseman (it does a complete processing from python side)\\n    - now what remains is to call it from java\\n    - decide on proper behaviour for cases when tokens are added/grouped\\n   \n",
       "2      * Java:\\n   * Added RCON functionality for Source servers:\\n     * Added steamcondenser.steam.packets.rcon package\\n     * Added RCONAuthRequestPacket\\n     * Added RCONAuthResponsePacket\\n     * Added RCONExecRequestPacket\\n     * Added RCONExecResponsePacket\\n     * Added RCONPacket\\n     * Added RCONNoAuthException\\n   * Split SteamSocket into QuerySocket and RCONSocket\\n   * Stub functionality for GoldSrc servers\\n     * GoldSrc uses UDP and needs a special implementation\\n   * Added tests\\n   \n",
       "3                                                                                                                                                                                                                                                                                                                                                                                                - Merge changes from Pull-Request #6 \\t - Fix aggregation generation and cleanup dead code  - Update dependencies versions   \n",
       "4                                                                                                                                                                                                                                                                                                                                                                                                                                                           Bug 233643 -  API builder performance bad for incremental build   \n",
       "...                                                                                                                                                                                                                                                                                                                                                                                                                                                                                                                     ...   \n",
       "1735                                                                                                                                                                                                                                                                                                                                                                working on #339: introducing the getSpecialFeatureCollection Method as a more general way to get all the PrintTemplateFeatures. improve the numbering\\n   \n",
       "1736                                                                                                                                                                                                                                                                                                                                working on #339: next step. i\\n\\nmove all the calculation and handling into the PrintTemplateFeature to handle\\nmultiple templateprinting.\\n\\nThe creation is still very basic though\\n   \n",
       "1737                                                                                                                                                                                                                                                                                                                             working on #369: generalized the adjustMapForPrintingTemplates and ensureVisibilityOfPrintingTemplates method to adjustMapForSpecialFeatureClasses and ensureVisibilityOfSpecialFeatures\\n   \n",
       "1738                                                                                                                                                                                                                                                                                                                                                                                                                       working up test coverage; minor tweaks; removing dead code; fixing very minor bugs; adding tests   \n",
       "1739                                                                                                                                                                                                                                                                                                                          changed render routine for text fields  added tabbing abilities to CustomScreen  various modifications on CustomScreen to match the new TextField requirements  changed size of PacketSky   \n",
       "\n",
       "        Category  \n",
       "0     functional  \n",
       "1         bugfix  \n",
       "2     functional  \n",
       "3     code smell  \n",
       "4       external  \n",
       "...          ...  \n",
       "1735  functional  \n",
       "1736  functional  \n",
       "1737  functional  \n",
       "1738  code smell  \n",
       "1739    internal  \n",
       "\n",
       "[1740 rows x 2 columns]"
      ]
     },
     "execution_count": 4,
     "metadata": {},
     "output_type": "execute_result"
    }
   ],
   "source": [
    "df = pd.read_csv(filePath, encoding='ISO-8859-1')\n",
    "\n",
    "df"
   ]
  },
  {
   "cell_type": "code",
   "execution_count": 5,
   "metadata": {},
   "outputs": [
    {
     "data": {
      "text/html": [
       "<div>\n",
       "<style scoped>\n",
       "    .dataframe tbody tr th:only-of-type {\n",
       "        vertical-align: middle;\n",
       "    }\n",
       "\n",
       "    .dataframe tbody tr th {\n",
       "        vertical-align: top;\n",
       "    }\n",
       "\n",
       "    .dataframe thead th {\n",
       "        text-align: right;\n",
       "    }\n",
       "</style>\n",
       "<table border=\"1\" class=\"dataframe\">\n",
       "  <thead>\n",
       "    <tr style=\"text-align: right;\">\n",
       "      <th></th>\n",
       "      <th>commit_message</th>\n",
       "      <th>category</th>\n",
       "    </tr>\n",
       "  </thead>\n",
       "  <tbody>\n",
       "    <tr>\n",
       "      <th>0</th>\n",
       "      <td>\\tNIO Reads writes are completed in the caller thered;\\n\\t100% compatible with old interface and functionality.\\n\\tEach connection has an instance of this object to\\n\\treceive data for a message in multiple OP_READ events.\\n</td>\n",
       "      <td>functional</td>\n",
       "    </tr>\n",
       "    <tr>\n",
       "      <th>1</th>\n",
       "      <td>* temporary fix for non-shared JArray objects\\n  * added generic unittests to check jcc/lucene/solr/montysolr functionality\\n  * wrote unittest for newseman (it does a complete processing from python side)\\n    - now what remains is to call it from java\\n    - decide on proper behaviour for cases when tokens are added/grouped\\n</td>\n",
       "      <td>bugfix</td>\n",
       "    </tr>\n",
       "    <tr>\n",
       "      <th>2</th>\n",
       "      <td>* Java:\\n   * Added RCON functionality for Source servers:\\n     * Added steamcondenser.steam.packets.rcon package\\n     * Added RCONAuthRequestPacket\\n     * Added RCONAuthResponsePacket\\n     * Added RCONExecRequestPacket\\n     * Added RCONExecResponsePacket\\n     * Added RCONPacket\\n     * Added RCONNoAuthException\\n   * Split SteamSocket into QuerySocket and RCONSocket\\n   * Stub functionality for GoldSrc servers\\n     * GoldSrc uses UDP and needs a special implementation\\n   * Added tests\\n</td>\n",
       "      <td>functional</td>\n",
       "    </tr>\n",
       "    <tr>\n",
       "      <th>3</th>\n",
       "      <td>- Merge changes from Pull-Request #6 \\t - Fix aggregation generation and cleanup dead code  - Update dependencies versions</td>\n",
       "      <td>code smell</td>\n",
       "    </tr>\n",
       "    <tr>\n",
       "      <th>4</th>\n",
       "      <td>Bug 233643 -  API builder performance bad for incremental build</td>\n",
       "      <td>external</td>\n",
       "    </tr>\n",
       "    <tr>\n",
       "      <th>...</th>\n",
       "      <td>...</td>\n",
       "      <td>...</td>\n",
       "    </tr>\n",
       "    <tr>\n",
       "      <th>1735</th>\n",
       "      <td>working on #339: introducing the getSpecialFeatureCollection Method as a more general way to get all the PrintTemplateFeatures. improve the numbering\\n</td>\n",
       "      <td>functional</td>\n",
       "    </tr>\n",
       "    <tr>\n",
       "      <th>1736</th>\n",
       "      <td>working on #339: next step. i\\n\\nmove all the calculation and handling into the PrintTemplateFeature to handle\\nmultiple templateprinting.\\n\\nThe creation is still very basic though\\n</td>\n",
       "      <td>functional</td>\n",
       "    </tr>\n",
       "    <tr>\n",
       "      <th>1737</th>\n",
       "      <td>working on #369: generalized the adjustMapForPrintingTemplates and ensureVisibilityOfPrintingTemplates method to adjustMapForSpecialFeatureClasses and ensureVisibilityOfSpecialFeatures\\n</td>\n",
       "      <td>functional</td>\n",
       "    </tr>\n",
       "    <tr>\n",
       "      <th>1738</th>\n",
       "      <td>working up test coverage; minor tweaks; removing dead code; fixing very minor bugs; adding tests</td>\n",
       "      <td>code smell</td>\n",
       "    </tr>\n",
       "    <tr>\n",
       "      <th>1739</th>\n",
       "      <td> changed render routine for text fields  added tabbing abilities to CustomScreen  various modifications on CustomScreen to match the new TextField requirements  changed size of PacketSky</td>\n",
       "      <td>internal</td>\n",
       "    </tr>\n",
       "  </tbody>\n",
       "</table>\n",
       "<p>1740 rows × 2 columns</p>\n",
       "</div>"
      ],
      "text/plain": [
       "                                                                                                                                                                                                                                                                                                                                                                                                                                                                                                             commit_message  \\\n",
       "0                                                                                                                                                                                                                                                                                          \\tNIO Reads writes are completed in the caller thered;\\n\\t100% compatible with old interface and functionality.\\n\\tEach connection has an instance of this object to\\n\\treceive data for a message in multiple OP_READ events.\\n   \n",
       "1                                                                                                                                                                                 * temporary fix for non-shared JArray objects\\n  * added generic unittests to check jcc/lucene/solr/montysolr functionality\\n  * wrote unittest for newseman (it does a complete processing from python side)\\n    - now what remains is to call it from java\\n    - decide on proper behaviour for cases when tokens are added/grouped\\n   \n",
       "2      * Java:\\n   * Added RCON functionality for Source servers:\\n     * Added steamcondenser.steam.packets.rcon package\\n     * Added RCONAuthRequestPacket\\n     * Added RCONAuthResponsePacket\\n     * Added RCONExecRequestPacket\\n     * Added RCONExecResponsePacket\\n     * Added RCONPacket\\n     * Added RCONNoAuthException\\n   * Split SteamSocket into QuerySocket and RCONSocket\\n   * Stub functionality for GoldSrc servers\\n     * GoldSrc uses UDP and needs a special implementation\\n   * Added tests\\n   \n",
       "3                                                                                                                                                                                                                                                                                                                                                                                                - Merge changes from Pull-Request #6 \\t - Fix aggregation generation and cleanup dead code  - Update dependencies versions   \n",
       "4                                                                                                                                                                                                                                                                                                                                                                                                                                                           Bug 233643 -  API builder performance bad for incremental build   \n",
       "...                                                                                                                                                                                                                                                                                                                                                                                                                                                                                                                     ...   \n",
       "1735                                                                                                                                                                                                                                                                                                                                                                working on #339: introducing the getSpecialFeatureCollection Method as a more general way to get all the PrintTemplateFeatures. improve the numbering\\n   \n",
       "1736                                                                                                                                                                                                                                                                                                                                working on #339: next step. i\\n\\nmove all the calculation and handling into the PrintTemplateFeature to handle\\nmultiple templateprinting.\\n\\nThe creation is still very basic though\\n   \n",
       "1737                                                                                                                                                                                                                                                                                                                             working on #369: generalized the adjustMapForPrintingTemplates and ensureVisibilityOfPrintingTemplates method to adjustMapForSpecialFeatureClasses and ensureVisibilityOfSpecialFeatures\\n   \n",
       "1738                                                                                                                                                                                                                                                                                                                                                                                                                       working up test coverage; minor tweaks; removing dead code; fixing very minor bugs; adding tests   \n",
       "1739                                                                                                                                                                                                                                                                                                                          changed render routine for text fields  added tabbing abilities to CustomScreen  various modifications on CustomScreen to match the new TextField requirements  changed size of PacketSky   \n",
       "\n",
       "        category  \n",
       "0     functional  \n",
       "1         bugfix  \n",
       "2     functional  \n",
       "3     code smell  \n",
       "4       external  \n",
       "...          ...  \n",
       "1735  functional  \n",
       "1736  functional  \n",
       "1737  functional  \n",
       "1738  code smell  \n",
       "1739    internal  \n",
       "\n",
       "[1740 rows x 2 columns]"
      ]
     },
     "execution_count": 5,
     "metadata": {},
     "output_type": "execute_result"
    }
   ],
   "source": [
    "df['commit_message'] = df['Commit Message']\n",
    "del df['Commit Message']\n",
    "\n",
    "df['category'] = df['Category']\n",
    "del df['Category']\n",
    "\n",
    "df"
   ]
  },
  {
   "cell_type": "markdown",
   "metadata": {},
   "source": [
    "### understanding the dataset"
   ]
  },
  {
   "cell_type": "code",
   "execution_count": 6,
   "metadata": {},
   "outputs": [
    {
     "data": {
      "text/plain": [
       "(1740, 2)"
      ]
     },
     "execution_count": 6,
     "metadata": {},
     "output_type": "execute_result"
    }
   ],
   "source": [
    "df.shape"
   ]
  },
  {
   "cell_type": "markdown",
   "metadata": {},
   "source": [
    "There are 1740 records and 2 features in the dataset (including the target feature)"
   ]
  },
  {
   "cell_type": "code",
   "execution_count": 7,
   "metadata": {},
   "outputs": [
    {
     "data": {
      "text/plain": [
       "commit_message    object\n",
       "category          object\n",
       "dtype: object"
      ]
     },
     "execution_count": 7,
     "metadata": {},
     "output_type": "execute_result"
    }
   ],
   "source": [
    "df.dtypes"
   ]
  },
  {
   "cell_type": "markdown",
   "metadata": {},
   "source": [
    "both the features have object as a data type"
   ]
  },
  {
   "cell_type": "code",
   "execution_count": 8,
   "metadata": {},
   "outputs": [
    {
     "data": {
      "text/html": [
       "<div>\n",
       "<style scoped>\n",
       "    .dataframe tbody tr th:only-of-type {\n",
       "        vertical-align: middle;\n",
       "    }\n",
       "\n",
       "    .dataframe tbody tr th {\n",
       "        vertical-align: top;\n",
       "    }\n",
       "\n",
       "    .dataframe thead th {\n",
       "        text-align: right;\n",
       "    }\n",
       "</style>\n",
       "<table border=\"1\" class=\"dataframe\">\n",
       "  <thead>\n",
       "    <tr style=\"text-align: right;\">\n",
       "      <th></th>\n",
       "      <th>commit_message</th>\n",
       "      <th>category</th>\n",
       "    </tr>\n",
       "  </thead>\n",
       "  <tbody>\n",
       "    <tr>\n",
       "      <th>0</th>\n",
       "      <td>\\tNIO Reads writes are completed in the caller thered;\\n\\t100% compatible with old interface and functionality.\\n\\tEach connection has an instance of this object to\\n\\treceive data for a message in multiple OP_READ events.\\n</td>\n",
       "      <td>functional</td>\n",
       "    </tr>\n",
       "    <tr>\n",
       "      <th>1</th>\n",
       "      <td>* temporary fix for non-shared JArray objects\\n  * added generic unittests to check jcc/lucene/solr/montysolr functionality\\n  * wrote unittest for newseman (it does a complete processing from python side)\\n    - now what remains is to call it from java\\n    - decide on proper behaviour for cases when tokens are added/grouped\\n</td>\n",
       "      <td>bugfix</td>\n",
       "    </tr>\n",
       "    <tr>\n",
       "      <th>2</th>\n",
       "      <td>* Java:\\n   * Added RCON functionality for Source servers:\\n     * Added steamcondenser.steam.packets.rcon package\\n     * Added RCONAuthRequestPacket\\n     * Added RCONAuthResponsePacket\\n     * Added RCONExecRequestPacket\\n     * Added RCONExecResponsePacket\\n     * Added RCONPacket\\n     * Added RCONNoAuthException\\n   * Split SteamSocket into QuerySocket and RCONSocket\\n   * Stub functionality for GoldSrc servers\\n     * GoldSrc uses UDP and needs a special implementation\\n   * Added tests\\n</td>\n",
       "      <td>functional</td>\n",
       "    </tr>\n",
       "    <tr>\n",
       "      <th>3</th>\n",
       "      <td>- Merge changes from Pull-Request #6 \\t - Fix aggregation generation and cleanup dead code  - Update dependencies versions</td>\n",
       "      <td>code smell</td>\n",
       "    </tr>\n",
       "    <tr>\n",
       "      <th>4</th>\n",
       "      <td>Bug 233643 -  API builder performance bad for incremental build</td>\n",
       "      <td>external</td>\n",
       "    </tr>\n",
       "  </tbody>\n",
       "</table>\n",
       "</div>"
      ],
      "text/plain": [
       "                                                                                                                                                                                                                                                                                                                                                                                                                                                                                                          commit_message  \\\n",
       "0                                                                                                                                                                                                                                                                                       \\tNIO Reads writes are completed in the caller thered;\\n\\t100% compatible with old interface and functionality.\\n\\tEach connection has an instance of this object to\\n\\treceive data for a message in multiple OP_READ events.\\n   \n",
       "1                                                                                                                                                                              * temporary fix for non-shared JArray objects\\n  * added generic unittests to check jcc/lucene/solr/montysolr functionality\\n  * wrote unittest for newseman (it does a complete processing from python side)\\n    - now what remains is to call it from java\\n    - decide on proper behaviour for cases when tokens are added/grouped\\n   \n",
       "2   * Java:\\n   * Added RCON functionality for Source servers:\\n     * Added steamcondenser.steam.packets.rcon package\\n     * Added RCONAuthRequestPacket\\n     * Added RCONAuthResponsePacket\\n     * Added RCONExecRequestPacket\\n     * Added RCONExecResponsePacket\\n     * Added RCONPacket\\n     * Added RCONNoAuthException\\n   * Split SteamSocket into QuerySocket and RCONSocket\\n   * Stub functionality for GoldSrc servers\\n     * GoldSrc uses UDP and needs a special implementation\\n   * Added tests\\n   \n",
       "3                                                                                                                                                                                                                                                                                                                                                                                             - Merge changes from Pull-Request #6 \\t - Fix aggregation generation and cleanup dead code  - Update dependencies versions   \n",
       "4                                                                                                                                                                                                                                                                                                                                                                                                                                                        Bug 233643 -  API builder performance bad for incremental build   \n",
       "\n",
       "     category  \n",
       "0  functional  \n",
       "1      bugfix  \n",
       "2  functional  \n",
       "3  code smell  \n",
       "4    external  "
      ]
     },
     "execution_count": 8,
     "metadata": {},
     "output_type": "execute_result"
    }
   ],
   "source": [
    "df.head()"
   ]
  },
  {
   "cell_type": "code",
   "execution_count": 9,
   "metadata": {},
   "outputs": [
    {
     "data": {
      "text/html": [
       "<div>\n",
       "<style scoped>\n",
       "    .dataframe tbody tr th:only-of-type {\n",
       "        vertical-align: middle;\n",
       "    }\n",
       "\n",
       "    .dataframe tbody tr th {\n",
       "        vertical-align: top;\n",
       "    }\n",
       "\n",
       "    .dataframe thead th {\n",
       "        text-align: right;\n",
       "    }\n",
       "</style>\n",
       "<table border=\"1\" class=\"dataframe\">\n",
       "  <thead>\n",
       "    <tr style=\"text-align: right;\">\n",
       "      <th></th>\n",
       "      <th>commit_message</th>\n",
       "      <th>category</th>\n",
       "    </tr>\n",
       "  </thead>\n",
       "  <tbody>\n",
       "    <tr>\n",
       "      <th>1735</th>\n",
       "      <td>working on #339: introducing the getSpecialFeatureCollection Method as a more general way to get all the PrintTemplateFeatures. improve the numbering\\n</td>\n",
       "      <td>functional</td>\n",
       "    </tr>\n",
       "    <tr>\n",
       "      <th>1736</th>\n",
       "      <td>working on #339: next step. i\\n\\nmove all the calculation and handling into the PrintTemplateFeature to handle\\nmultiple templateprinting.\\n\\nThe creation is still very basic though\\n</td>\n",
       "      <td>functional</td>\n",
       "    </tr>\n",
       "    <tr>\n",
       "      <th>1737</th>\n",
       "      <td>working on #369: generalized the adjustMapForPrintingTemplates and ensureVisibilityOfPrintingTemplates method to adjustMapForSpecialFeatureClasses and ensureVisibilityOfSpecialFeatures\\n</td>\n",
       "      <td>functional</td>\n",
       "    </tr>\n",
       "    <tr>\n",
       "      <th>1738</th>\n",
       "      <td>working up test coverage; minor tweaks; removing dead code; fixing very minor bugs; adding tests</td>\n",
       "      <td>code smell</td>\n",
       "    </tr>\n",
       "    <tr>\n",
       "      <th>1739</th>\n",
       "      <td> changed render routine for text fields  added tabbing abilities to CustomScreen  various modifications on CustomScreen to match the new TextField requirements  changed size of PacketSky</td>\n",
       "      <td>internal</td>\n",
       "    </tr>\n",
       "  </tbody>\n",
       "</table>\n",
       "</div>"
      ],
      "text/plain": [
       "                                                                                                                                                                                      commit_message  \\\n",
       "1735                                         working on #339: introducing the getSpecialFeatureCollection Method as a more general way to get all the PrintTemplateFeatures. improve the numbering\\n   \n",
       "1736         working on #339: next step. i\\n\\nmove all the calculation and handling into the PrintTemplateFeature to handle\\nmultiple templateprinting.\\n\\nThe creation is still very basic though\\n   \n",
       "1737      working on #369: generalized the adjustMapForPrintingTemplates and ensureVisibilityOfPrintingTemplates method to adjustMapForSpecialFeatureClasses and ensureVisibilityOfSpecialFeatures\\n   \n",
       "1738                                                                                                working up test coverage; minor tweaks; removing dead code; fixing very minor bugs; adding tests   \n",
       "1739   changed render routine for text fields  added tabbing abilities to CustomScreen  various modifications on CustomScreen to match the new TextField requirements  changed size of PacketSky   \n",
       "\n",
       "        category  \n",
       "1735  functional  \n",
       "1736  functional  \n",
       "1737  functional  \n",
       "1738  code smell  \n",
       "1739    internal  "
      ]
     },
     "execution_count": 9,
     "metadata": {},
     "output_type": "execute_result"
    }
   ],
   "source": [
    "df.tail()"
   ]
  },
  {
   "cell_type": "code",
   "execution_count": 10,
   "metadata": {},
   "outputs": [
    {
     "data": {
      "text/html": [
       "<div>\n",
       "<style scoped>\n",
       "    .dataframe tbody tr th:only-of-type {\n",
       "        vertical-align: middle;\n",
       "    }\n",
       "\n",
       "    .dataframe tbody tr th {\n",
       "        vertical-align: top;\n",
       "    }\n",
       "\n",
       "    .dataframe thead th {\n",
       "        text-align: right;\n",
       "    }\n",
       "</style>\n",
       "<table border=\"1\" class=\"dataframe\">\n",
       "  <thead>\n",
       "    <tr style=\"text-align: right;\">\n",
       "      <th></th>\n",
       "      <th>commit_message</th>\n",
       "      <th>category</th>\n",
       "    </tr>\n",
       "  </thead>\n",
       "  <tbody>\n",
       "    <tr>\n",
       "      <th>453</th>\n",
       "      <td>Created new ExternalRequirement component interface to represent external requirements of the EMR\\n* Implemented the CIEL version checking functionality as one of these components\\n</td>\n",
       "      <td>functional</td>\n",
       "    </tr>\n",
       "    <tr>\n",
       "      <th>626</th>\n",
       "      <td>Fixed file and directory size calculation in MapView.</td>\n",
       "      <td>internal</td>\n",
       "    </tr>\n",
       "    <tr>\n",
       "      <th>146</th>\n",
       "      <td>Add quick issue addition feature - resolves issue:76.\\nInserts a row in every issue list table when add button pressed.\\nAdded IssueTypeDropDownChoice to render IssueTypeSelection.\\n</td>\n",
       "      <td>functional</td>\n",
       "    </tr>\n",
       "    <tr>\n",
       "      <th>1362</th>\n",
       "      <td>[FIXED HUDSON-3028] in 1.319. In a long run, I believe doing this control in the queue with ResourceController is better, because (1) scheduling one at a time can create unnecessary wait time --- say if one of the configuration needs to run on a slave that's blocked, then it's better to schedule others first, and (2) the notion of shared resources spans beyond a single job, so doing that coordination at a job level isn't general enough. That said, I think it'll be easy enough to maintain data compatibility when this happens, so I'm committing this change now.\\n\\ngit-svn-id: https://hudson.dev.java.net/svn/hudson/trunk/hudson/main@20445 71c3de6d-444a-0410-be80-ed276b4c234a\\n\\nOriginally-Committed-As: ae28f88a1ff99214da66fa495e06b26032209f0d\\n</td>\n",
       "      <td>bugfix</td>\n",
       "    </tr>\n",
       "    <tr>\n",
       "      <th>1551</th>\n",
       "      <td>fixes JOO-58; new test for compiler added; integration test for recursive functions added. Yes, we know that fib can be implemented more efficiently.\\n</td>\n",
       "      <td>functional</td>\n",
       "    </tr>\n",
       "  </tbody>\n",
       "</table>\n",
       "</div>"
      ],
      "text/plain": [
       "                                                                                                                                                                                                                                                                                                                                                                                                                                                                                                                                                                                                                                                                                                                                                                       commit_message  \\\n",
       "453                                                                                                                                                                                                                                                                                                                                                                                                                                                                                                                                                                                             Created new ExternalRequirement component interface to represent external requirements of the EMR\\n* Implemented the CIEL version checking functionality as one of these components\\n   \n",
       "626                                                                                                                                                                                                                                                                                                                                                                                                                                                                                                                                                                                                                                                                                                                             Fixed file and directory size calculation in MapView.   \n",
       "146                                                                                                                                                                                                                                                                                                                                                                                                                                                                                                                                                                                            Add quick issue addition feature - resolves issue:76.\\nInserts a row in every issue list table when add button pressed.\\nAdded IssueTypeDropDownChoice to render IssueTypeSelection.\\n   \n",
       "1362  [FIXED HUDSON-3028] in 1.319. In a long run, I believe doing this control in the queue with ResourceController is better, because (1) scheduling one at a time can create unnecessary wait time --- say if one of the configuration needs to run on a slave that's blocked, then it's better to schedule others first, and (2) the notion of shared resources spans beyond a single job, so doing that coordination at a job level isn't general enough. That said, I think it'll be easy enough to maintain data compatibility when this happens, so I'm committing this change now.\\n\\ngit-svn-id: https://hudson.dev.java.net/svn/hudson/trunk/hudson/main@20445 71c3de6d-444a-0410-be80-ed276b4c234a\\n\\nOriginally-Committed-As: ae28f88a1ff99214da66fa495e06b26032209f0d\\n   \n",
       "1551                                                                                                                                                                                                                                                                                                                                                                                                                                                                                                                                                                                                                          fixes JOO-58; new test for compiler added; integration test for recursive functions added. Yes, we know that fib can be implemented more efficiently.\\n   \n",
       "\n",
       "        category  \n",
       "453   functional  \n",
       "626     internal  \n",
       "146   functional  \n",
       "1362      bugfix  \n",
       "1551  functional  "
      ]
     },
     "execution_count": 10,
     "metadata": {},
     "output_type": "execute_result"
    }
   ],
   "source": [
    "df.sample(5)"
   ]
  },
  {
   "cell_type": "code",
   "execution_count": 11,
   "metadata": {},
   "outputs": [
    {
     "name": "stdout",
     "output_type": "stream",
     "text": [
      "<class 'pandas.core.frame.DataFrame'>\n",
      "RangeIndex: 1740 entries, 0 to 1739\n",
      "Data columns (total 2 columns):\n",
      " #   Column          Non-Null Count  Dtype \n",
      "---  ------          --------------  ----- \n",
      " 0   commit_message  1740 non-null   object\n",
      " 1   category        1740 non-null   object\n",
      "dtypes: object(2)\n",
      "memory usage: 27.3+ KB\n"
     ]
    }
   ],
   "source": [
    "df.info()"
   ]
  },
  {
   "cell_type": "markdown",
   "metadata": {},
   "source": [
    "### EDA"
   ]
  },
  {
   "cell_type": "code",
   "execution_count": 12,
   "metadata": {},
   "outputs": [
    {
     "data": {
      "text/html": [
       "<div>\n",
       "<style scoped>\n",
       "    .dataframe tbody tr th:only-of-type {\n",
       "        vertical-align: middle;\n",
       "    }\n",
       "\n",
       "    .dataframe tbody tr th {\n",
       "        vertical-align: top;\n",
       "    }\n",
       "\n",
       "    .dataframe thead th {\n",
       "        text-align: right;\n",
       "    }\n",
       "</style>\n",
       "<table border=\"1\" class=\"dataframe\">\n",
       "  <thead>\n",
       "    <tr style=\"text-align: right;\">\n",
       "      <th></th>\n",
       "      <th>commit_message</th>\n",
       "      <th>category</th>\n",
       "    </tr>\n",
       "  </thead>\n",
       "  <tbody>\n",
       "    <tr>\n",
       "      <th>count</th>\n",
       "      <td>1740</td>\n",
       "      <td>1740</td>\n",
       "    </tr>\n",
       "    <tr>\n",
       "      <th>unique</th>\n",
       "      <td>1716</td>\n",
       "      <td>5</td>\n",
       "    </tr>\n",
       "    <tr>\n",
       "      <th>top</th>\n",
       "      <td>Removed duplicate code and added outlines for how to add version to the start log entry.</td>\n",
       "      <td>functional</td>\n",
       "    </tr>\n",
       "    <tr>\n",
       "      <th>freq</th>\n",
       "      <td>3</td>\n",
       "      <td>348</td>\n",
       "    </tr>\n",
       "  </tbody>\n",
       "</table>\n",
       "</div>"
      ],
      "text/plain": [
       "                                                                                  commit_message  \\\n",
       "count                                                                                       1740   \n",
       "unique                                                                                      1716   \n",
       "top     Removed duplicate code and added outlines for how to add version to the start log entry.   \n",
       "freq                                                                                           3   \n",
       "\n",
       "          category  \n",
       "count         1740  \n",
       "unique           5  \n",
       "top     functional  \n",
       "freq           348  "
      ]
     },
     "execution_count": 12,
     "metadata": {},
     "output_type": "execute_result"
    }
   ],
   "source": [
    "df.describe(include='object')"
   ]
  },
  {
   "cell_type": "code",
   "execution_count": 13,
   "metadata": {},
   "outputs": [
    {
     "data": {
      "text/plain": [
       "array(['functional', 'bugfix', 'code smell', 'external', 'internal'],\n",
       "      dtype=object)"
      ]
     },
     "execution_count": 13,
     "metadata": {},
     "output_type": "execute_result"
    }
   ],
   "source": [
    "df.category.unique()"
   ]
  },
  {
   "cell_type": "code",
   "execution_count": 14,
   "metadata": {},
   "outputs": [
    {
     "name": "stdout",
     "output_type": "stream",
     "text": [
      "Requirement already satisfied: seaborn in /Users/onkars/Documents/AIProjects/Automated-Software-Refactoring-Commit-Classifier/myenv/lib/python3.12/site-packages (0.13.2)\n",
      "Requirement already satisfied: numpy!=1.24.0,>=1.20 in /Users/onkars/Documents/AIProjects/Automated-Software-Refactoring-Commit-Classifier/myenv/lib/python3.12/site-packages (from seaborn) (1.26.4)\n",
      "Requirement already satisfied: pandas>=1.2 in /Users/onkars/Documents/AIProjects/Automated-Software-Refactoring-Commit-Classifier/myenv/lib/python3.12/site-packages (from seaborn) (2.2.2)\n",
      "Requirement already satisfied: matplotlib!=3.6.1,>=3.4 in /Users/onkars/Documents/AIProjects/Automated-Software-Refactoring-Commit-Classifier/myenv/lib/python3.12/site-packages (from seaborn) (3.8.4)\n",
      "Requirement already satisfied: contourpy>=1.0.1 in /Users/onkars/Documents/AIProjects/Automated-Software-Refactoring-Commit-Classifier/myenv/lib/python3.12/site-packages (from matplotlib!=3.6.1,>=3.4->seaborn) (1.2.1)\n",
      "Requirement already satisfied: cycler>=0.10 in /Users/onkars/Documents/AIProjects/Automated-Software-Refactoring-Commit-Classifier/myenv/lib/python3.12/site-packages (from matplotlib!=3.6.1,>=3.4->seaborn) (0.12.1)\n",
      "Requirement already satisfied: fonttools>=4.22.0 in /Users/onkars/Documents/AIProjects/Automated-Software-Refactoring-Commit-Classifier/myenv/lib/python3.12/site-packages (from matplotlib!=3.6.1,>=3.4->seaborn) (4.51.0)\n",
      "Requirement already satisfied: kiwisolver>=1.3.1 in /Users/onkars/Documents/AIProjects/Automated-Software-Refactoring-Commit-Classifier/myenv/lib/python3.12/site-packages (from matplotlib!=3.6.1,>=3.4->seaborn) (1.4.5)\n",
      "Requirement already satisfied: packaging>=20.0 in /Users/onkars/Documents/AIProjects/Automated-Software-Refactoring-Commit-Classifier/myenv/lib/python3.12/site-packages (from matplotlib!=3.6.1,>=3.4->seaborn) (24.0)\n",
      "Requirement already satisfied: pillow>=8 in /Users/onkars/Documents/AIProjects/Automated-Software-Refactoring-Commit-Classifier/myenv/lib/python3.12/site-packages (from matplotlib!=3.6.1,>=3.4->seaborn) (10.3.0)\n",
      "Requirement already satisfied: pyparsing>=2.3.1 in /Users/onkars/Documents/AIProjects/Automated-Software-Refactoring-Commit-Classifier/myenv/lib/python3.12/site-packages (from matplotlib!=3.6.1,>=3.4->seaborn) (3.1.2)\n",
      "Requirement already satisfied: python-dateutil>=2.7 in /Users/onkars/Documents/AIProjects/Automated-Software-Refactoring-Commit-Classifier/myenv/lib/python3.12/site-packages (from matplotlib!=3.6.1,>=3.4->seaborn) (2.9.0.post0)\n",
      "Requirement already satisfied: pytz>=2020.1 in /Users/onkars/Documents/AIProjects/Automated-Software-Refactoring-Commit-Classifier/myenv/lib/python3.12/site-packages (from pandas>=1.2->seaborn) (2024.1)\n",
      "Requirement already satisfied: tzdata>=2022.7 in /Users/onkars/Documents/AIProjects/Automated-Software-Refactoring-Commit-Classifier/myenv/lib/python3.12/site-packages (from pandas>=1.2->seaborn) (2024.1)\n",
      "Requirement already satisfied: six>=1.5 in /Users/onkars/Documents/AIProjects/Automated-Software-Refactoring-Commit-Classifier/myenv/lib/python3.12/site-packages (from python-dateutil>=2.7->matplotlib!=3.6.1,>=3.4->seaborn) (1.16.0)\n"
     ]
    }
   ],
   "source": [
    "!pip install seaborn"
   ]
  },
  {
   "cell_type": "code",
   "execution_count": 15,
   "metadata": {},
   "outputs": [],
   "source": [
    "import seaborn as sns\n",
    "sns.set_style(style=\"whitegrid\")"
   ]
  },
  {
   "cell_type": "code",
   "execution_count": 16,
   "metadata": {},
   "outputs": [],
   "source": [
    "import matplotlib.pyplot as plt"
   ]
  },
  {
   "cell_type": "code",
   "execution_count": 17,
   "metadata": {},
   "outputs": [
    {
     "data": {
      "image/png": "[encoded data removed]",
      "text/plain": [
       "<Figure size 640x480 with 1 Axes>"
      ]
     },
     "metadata": {},
     "output_type": "display_data"
    }
   ],
   "source": [
    "ax = sns.countplot(x=df.category, data=df, palette='coolwarm', hue=df.category, legend=False)\n",
    "\n",
    "plt.title('Count of Categories')\n",
    "plt.ylabel('Frequency')\n",
    "plt.xlabel('Categories')\n",
    "\n",
    "# annotate each bar with the number of occurences\n",
    "for p in ax.patches:\n",
    "    ax.annotate(f'{int(p.get_height())}', # The number to annotate\n",
    "        (p.get_x() + p.get_width() / 2., p.get_height()), # Position\n",
    "        ha = 'center', # center horizontally\n",
    "        va = 'center', # center vertically\n",
    "        xytext = (0, 9), # Text offset\n",
    "        textcoords = 'offset points')\n",
    "\n",
    "plt.show()"
   ]
  },
  {
   "cell_type": "code",
   "execution_count": 18,
   "metadata": {},
   "outputs": [
    {
     "name": "stdout",
     "output_type": "stream",
     "text": [
      "The sum of duplicate records is \n"
     ]
    },
    {
     "data": {
      "text/plain": [
       "19"
      ]
     },
     "execution_count": 18,
     "metadata": {},
     "output_type": "execute_result"
    }
   ],
   "source": [
    "print(\"The sum of duplicate records is \")\n",
    "df.duplicated().sum()\n"
   ]
  },
  {
   "cell_type": "code",
   "execution_count": 19,
   "metadata": {},
   "outputs": [
    {
     "data": {
      "text/plain": [
       "commit_message    1721\n",
       "category          1721\n",
       "dtype: int64"
      ]
     },
     "execution_count": 19,
     "metadata": {},
     "output_type": "execute_result"
    }
   ],
   "source": [
    "# removing the duplicates\n",
    "\n",
    "df = df.drop_duplicates()\n",
    "\n",
    "df.count()"
   ]
  },
  {
   "cell_type": "code",
   "execution_count": 20,
   "metadata": {},
   "outputs": [
    {
     "data": {
      "text/plain": [
       "commit_message    0\n",
       "category          0\n",
       "dtype: int64"
      ]
     },
     "execution_count": 20,
     "metadata": {},
     "output_type": "execute_result"
    }
   ],
   "source": [
    "# checking for null values\n",
    "\n",
    "df.isnull().sum()"
   ]
  },
  {
   "cell_type": "code",
   "execution_count": 21,
   "metadata": {},
   "outputs": [
    {
     "data": {
      "text/plain": [
       "commit_message    0\n",
       "category          0\n",
       "dtype: int64"
      ]
     },
     "execution_count": 21,
     "metadata": {},
     "output_type": "execute_result"
    }
   ],
   "source": [
    "# checking for NaN values\n",
    "\n",
    "df.isna().sum()"
   ]
  },
  {
   "cell_type": "code",
   "execution_count": 22,
   "metadata": {},
   "outputs": [
    {
     "data": {
      "text/plain": [
       "0"
      ]
     },
     "execution_count": 22,
     "metadata": {},
     "output_type": "execute_result"
    }
   ],
   "source": [
    "# checking for records with only spaces in the commit_message columns\n",
    "\n",
    "only_spaces_count = df['commit_message'].apply(lambda x: x.isspace() if pd.notnull(x) else False).sum()\n",
    "\n",
    "only_spaces_count\n"
   ]
  },
  {
   "cell_type": "code",
   "execution_count": 23,
   "metadata": {},
   "outputs": [
    {
     "data": {
      "text/plain": [
       "(commit_message    1721\n",
       " category          1721\n",
       " dtype: int64,\n",
       " commit_message    1716\n",
       " category             5\n",
       " dtype: int64)"
      ]
     },
     "execution_count": 23,
     "metadata": {},
     "output_type": "execute_result"
    }
   ],
   "source": [
    "df.count(), df.nunique()"
   ]
  },
  {
   "cell_type": "markdown",
   "metadata": {},
   "source": [
    "### found out the data descrepancy\n",
    "\n",
    "the total records are 1721 and the unique records are 1716 and 5 in columns commit_messages and categories, respectively\n",
    "\n",
    "I have done the root-cause analysis of this issue, to determine whether to keep the record or remove it completely"
   ]
  },
  {
   "cell_type": "code",
   "execution_count": 24,
   "metadata": {},
   "outputs": [
    {
     "data": {
      "text/html": [
       "<div>\n",
       "<style scoped>\n",
       "    .dataframe tbody tr th:only-of-type {\n",
       "        vertical-align: middle;\n",
       "    }\n",
       "\n",
       "    .dataframe tbody tr th {\n",
       "        vertical-align: top;\n",
       "    }\n",
       "\n",
       "    .dataframe thead th {\n",
       "        text-align: right;\n",
       "    }\n",
       "</style>\n",
       "<table border=\"1\" class=\"dataframe\">\n",
       "  <thead>\n",
       "    <tr style=\"text-align: right;\">\n",
       "      <th></th>\n",
       "      <th>commit_message</th>\n",
       "      <th>category</th>\n",
       "    </tr>\n",
       "  </thead>\n",
       "  <tbody>\n",
       "    <tr>\n",
       "      <th>508</th>\n",
       "      <td>Enhanced tool palette composition functionality. Added Morph Activity/Gateway features.</td>\n",
       "      <td>internal</td>\n",
       "    </tr>\n",
       "    <tr>\n",
       "      <th>509</th>\n",
       "      <td>Enhanced tool palette composition functionality. Added Morph Activity/Gateway features.</td>\n",
       "      <td>external</td>\n",
       "    </tr>\n",
       "    <tr>\n",
       "      <th>796</th>\n",
       "      <td>Issue 176: size can now test compatibility with images; refactored vcloud config logic; updated to support latest bluelock</td>\n",
       "      <td>internal</td>\n",
       "    </tr>\n",
       "    <tr>\n",
       "      <th>797</th>\n",
       "      <td>Issue 176: size can now test compatibility with images; refactored vcloud config logic; updated to support latest bluelock</td>\n",
       "      <td>external</td>\n",
       "    </tr>\n",
       "    <tr>\n",
       "      <th>862</th>\n",
       "      <td>Make bitcoinSerialize() return a copy by default  provide an unsafeBitcoinSerialize() method for high performance applications that are willing to deal with the extra API complexity.</td>\n",
       "      <td>internal</td>\n",
       "    </tr>\n",
       "    <tr>\n",
       "      <th>863</th>\n",
       "      <td>Make bitcoinSerialize() return a copy by default  provide an unsafeBitcoinSerialize() method for high performance applications that are willing to deal with the extra API complexity.</td>\n",
       "      <td>external</td>\n",
       "    </tr>\n",
       "    <tr>\n",
       "      <th>1241</th>\n",
       "      <td>StewartSingularValueDecomposition: re-factor monolithic code and ugly switch statement into multiple methods</td>\n",
       "      <td>internal</td>\n",
       "    </tr>\n",
       "    <tr>\n",
       "      <th>1242</th>\n",
       "      <td>StewartSingularValueDecomposition: re-factor monolithic code and ugly switch statement into multiple methods</td>\n",
       "      <td>code smell</td>\n",
       "    </tr>\n",
       "    <tr>\n",
       "      <th>1346</th>\n",
       "      <td>[BACKLOG-4709] - Small changes in platform to improve performance - UserSettingService    - replace keySet() + get() combination with entrySet()    - remove useless object instantiation    - remove useless explicit map.remove() - AbstractSpringPentahoObjectFactory    - add logger.isDebugEnabled()    - remove useless non-null validation - OrderedApplicationEventMulticaster    - replace ArrayList with array for faster sorting    - extract stateless Comparator to a final field to avoid useless instantiation    - replace new Integer.compareTo() with Integer.compare()    - add tests - RoleAuthorizationPolicy    - create ArrayLists of exact size - JcrRepositoryFileAclUtils    - iterate through List  not Set - DefaultPermissionConversionHelper    - replace indexOf(\":\") with indexOf(':') as it is more effective - AuditConnection    - change the order: first try to obtain a connection and only then sleep</td>\n",
       "      <td>internal</td>\n",
       "    </tr>\n",
       "    <tr>\n",
       "      <th>1347</th>\n",
       "      <td>[BACKLOG-4709] - Small changes in platform to improve performance - UserSettingService    - replace keySet() + get() combination with entrySet()    - remove useless object instantiation    - remove useless explicit map.remove() - AbstractSpringPentahoObjectFactory    - add logger.isDebugEnabled()    - remove useless non-null validation - OrderedApplicationEventMulticaster    - replace ArrayList with array for faster sorting    - extract stateless Comparator to a final field to avoid useless instantiation    - replace new Integer.compareTo() with Integer.compare()    - add tests - RoleAuthorizationPolicy    - create ArrayLists of exact size - JcrRepositoryFileAclUtils    - iterate through List  not Set - DefaultPermissionConversionHelper    - replace indexOf(\":\") with indexOf(':') as it is more effective - AuditConnection    - change the order: first try to obtain a connection and only then sleep</td>\n",
       "      <td>external</td>\n",
       "    </tr>\n",
       "  </tbody>\n",
       "</table>\n",
       "</div>"
      ],
      "text/plain": [
       "                                                                                                                                                                                                                                                                                                                                                                                                                                                                                                                                                                                                                                                                                                                                                                                                                                                                                                                                    commit_message  \\\n",
       "508                                                                                                                                                                                                                                                                                                                                                                                                                                                                                                                                                                                                                                                                                                                                                                                                                                                        Enhanced tool palette composition functionality. Added Morph Activity/Gateway features.   \n",
       "509                                                                                                                                                                                                                                                                                                                                                                                                                                                                                                                                                                                                                                                                                                                                                                                                                                                        Enhanced tool palette composition functionality. Added Morph Activity/Gateway features.   \n",
       "796                                                                                                                                                                                                                                                                                                                                                                                                                                                                                                                                                                                                                                                                                                                                                                                                                     Issue 176: size can now test compatibility with images; refactored vcloud config logic; updated to support latest bluelock   \n",
       "797                                                                                                                                                                                                                                                                                                                                                                                                                                                                                                                                                                                                                                                                                                                                                                                                                     Issue 176: size can now test compatibility with images; refactored vcloud config logic; updated to support latest bluelock   \n",
       "862                                                                                                                                                                                                                                                                                                                                                                                                                                                                                                                                                                                                                                                                                                                                                         Make bitcoinSerialize() return a copy by default  provide an unsafeBitcoinSerialize() method for high performance applications that are willing to deal with the extra API complexity.   \n",
       "863                                                                                                                                                                                                                                                                                                                                                                                                                                                                                                                                                                                                                                                                                                                                                         Make bitcoinSerialize() return a copy by default  provide an unsafeBitcoinSerialize() method for high performance applications that are willing to deal with the extra API complexity.   \n",
       "1241                                                                                                                                                                                                                                                                                                                                                                                                                                                                                                                                                                                                                                                                                                                                                                                                                                  StewartSingularValueDecomposition: re-factor monolithic code and ugly switch statement into multiple methods   \n",
       "1242                                                                                                                                                                                                                                                                                                                                                                                                                                                                                                                                                                                                                                                                                                                                                                                                                                  StewartSingularValueDecomposition: re-factor monolithic code and ugly switch statement into multiple methods   \n",
       "1346  [BACKLOG-4709] - Small changes in platform to improve performance - UserSettingService    - replace keySet() + get() combination with entrySet()    - remove useless object instantiation    - remove useless explicit map.remove() - AbstractSpringPentahoObjectFactory    - add logger.isDebugEnabled()    - remove useless non-null validation - OrderedApplicationEventMulticaster    - replace ArrayList with array for faster sorting    - extract stateless Comparator to a final field to avoid useless instantiation    - replace new Integer.compareTo() with Integer.compare()    - add tests - RoleAuthorizationPolicy    - create ArrayLists of exact size - JcrRepositoryFileAclUtils    - iterate through List  not Set - DefaultPermissionConversionHelper    - replace indexOf(\":\") with indexOf(':') as it is more effective - AuditConnection    - change the order: first try to obtain a connection and only then sleep   \n",
       "1347  [BACKLOG-4709] - Small changes in platform to improve performance - UserSettingService    - replace keySet() + get() combination with entrySet()    - remove useless object instantiation    - remove useless explicit map.remove() - AbstractSpringPentahoObjectFactory    - add logger.isDebugEnabled()    - remove useless non-null validation - OrderedApplicationEventMulticaster    - replace ArrayList with array for faster sorting    - extract stateless Comparator to a final field to avoid useless instantiation    - replace new Integer.compareTo() with Integer.compare()    - add tests - RoleAuthorizationPolicy    - create ArrayLists of exact size - JcrRepositoryFileAclUtils    - iterate through List  not Set - DefaultPermissionConversionHelper    - replace indexOf(\":\") with indexOf(':') as it is more effective - AuditConnection    - change the order: first try to obtain a connection and only then sleep   \n",
       "\n",
       "        category  \n",
       "508     internal  \n",
       "509     external  \n",
       "796     internal  \n",
       "797     external  \n",
       "862     internal  \n",
       "863     external  \n",
       "1241    internal  \n",
       "1242  code smell  \n",
       "1346    internal  \n",
       "1347    external  "
      ]
     },
     "execution_count": 24,
     "metadata": {},
     "output_type": "execute_result"
    }
   ],
   "source": [
    "\n",
    "duplicate_records = df[df['commit_message'].duplicated(keep=False)]\n",
    "\n",
    "duplicate_records\n",
    "\n",
    "# 508, 796, 862, 1242, 1346"
   ]
  },
  {
   "cell_type": "markdown",
   "metadata": {},
   "source": [
    "**508, 509**: maybe new functionality, thus **internal** seems correct as it does not specifically mention fixing bugs or issues.\n",
    "\n",
    "**796, 797**: seems like internal enhancements and updates to existing systems, so **internal** \n",
    "\n",
    "**862, 863**: change in functionality to enhance performance and security, so **internal**\n",
    "\n",
    "**1241, 1242**: This is clearly a code maintenance task, thats why the **code smell** category\n",
    "\n",
    "**1346, 1347**: If \"external\" refers to changes that affect end-users or outside systems, and \"internal\" refers to changes within the codebase that do not affect external interfaces, then it's likely that both should be categorized as **internal**."
   ]
  },
  {
   "cell_type": "markdown",
   "metadata": {},
   "source": [
    "**508, 509**: maybe new functionality, thus **internal** seems correct as it does not specifically mention fixing bugs or issues.\n",
    "\n",
    "**577, 578**: use of the word \"Fix\" suggests that it is **bugfix** entry, as it address a performance issue.\n",
    "\n",
    "**796, 797**: seems like internal enhancements and updates to existing systems, so **internal** \n",
    "\n",
    "**862, 863**: change in functionality to enhance performance and security, so **internal**\n",
    "\n",
    "**1241, 1242**: This is clearly a code maintenance task, thats why the **code smell** category\n",
    "\n",
    "**1346, 1347**: If \"external\" refers to changes that affect end-users or outside systems, and \"internal\" refers to changes within the codebase that do not affect external interfaces, then it's likely that both should be categorized as **internal**."
   ]
  },
  {
   "cell_type": "code",
   "execution_count": 25,
   "metadata": {},
   "outputs": [
    {
     "data": {
      "text/html": [
       "<div>\n",
       "<style scoped>\n",
       "    .dataframe tbody tr th:only-of-type {\n",
       "        vertical-align: middle;\n",
       "    }\n",
       "\n",
       "    .dataframe tbody tr th {\n",
       "        vertical-align: top;\n",
       "    }\n",
       "\n",
       "    .dataframe thead th {\n",
       "        text-align: right;\n",
       "    }\n",
       "</style>\n",
       "<table border=\"1\" class=\"dataframe\">\n",
       "  <thead>\n",
       "    <tr style=\"text-align: right;\">\n",
       "      <th></th>\n",
       "      <th>commit_message</th>\n",
       "      <th>category</th>\n",
       "    </tr>\n",
       "  </thead>\n",
       "  <tbody>\n",
       "    <tr>\n",
       "      <th>508</th>\n",
       "      <td>Enhanced tool palette composition functionality. Added Morph Activity/Gateway features.</td>\n",
       "      <td>internal</td>\n",
       "    </tr>\n",
       "    <tr>\n",
       "      <th>509</th>\n",
       "      <td>Enhanced tool palette composition functionality. Added Morph Activity/Gateway features.</td>\n",
       "      <td>external</td>\n",
       "    </tr>\n",
       "    <tr>\n",
       "      <th>577</th>\n",
       "      <td>Fix performance regresssion introduced by using InetSocketAddress\\ngetHostName()\\nPatch provided by Scott Harrington, improved upon by Kris Jurka\\n</td>\n",
       "      <td>bugfix</td>\n",
       "    </tr>\n",
       "    <tr>\n",
       "      <th>578</th>\n",
       "      <td>Fix performance regresssion introduced by using InetSocketAddress getHostName() Patch provided by Scott Harrington  improved upon by Kris Jurka</td>\n",
       "      <td>external</td>\n",
       "    </tr>\n",
       "    <tr>\n",
       "      <th>796</th>\n",
       "      <td>Issue 176: size can now test compatibility with images; refactored vcloud config logic; updated to support latest bluelock</td>\n",
       "      <td>internal</td>\n",
       "    </tr>\n",
       "    <tr>\n",
       "      <th>797</th>\n",
       "      <td>Issue 176: size can now test compatibility with images; refactored vcloud config logic; updated to support latest bluelock</td>\n",
       "      <td>external</td>\n",
       "    </tr>\n",
       "    <tr>\n",
       "      <th>862</th>\n",
       "      <td>Make bitcoinSerialize() return a copy by default  provide an unsafeBitcoinSerialize() method for high performance applications that are willing to deal with the extra API complexity.</td>\n",
       "      <td>internal</td>\n",
       "    </tr>\n",
       "    <tr>\n",
       "      <th>863</th>\n",
       "      <td>Make bitcoinSerialize() return a copy by default  provide an unsafeBitcoinSerialize() method for high performance applications that are willing to deal with the extra API complexity.</td>\n",
       "      <td>external</td>\n",
       "    </tr>\n",
       "    <tr>\n",
       "      <th>1241</th>\n",
       "      <td>StewartSingularValueDecomposition: re-factor monolithic code and ugly switch statement into multiple methods</td>\n",
       "      <td>internal</td>\n",
       "    </tr>\n",
       "    <tr>\n",
       "      <th>1242</th>\n",
       "      <td>StewartSingularValueDecomposition: re-factor monolithic code and ugly switch statement into multiple methods</td>\n",
       "      <td>code smell</td>\n",
       "    </tr>\n",
       "    <tr>\n",
       "      <th>1346</th>\n",
       "      <td>[BACKLOG-4709] - Small changes in platform to improve performance - UserSettingService    - replace keySet() + get() combination with entrySet()    - remove useless object instantiation    - remove useless explicit map.remove() - AbstractSpringPentahoObjectFactory    - add logger.isDebugEnabled()    - remove useless non-null validation - OrderedApplicationEventMulticaster    - replace ArrayList with array for faster sorting    - extract stateless Comparator to a final field to avoid useless instantiation    - replace new Integer.compareTo() with Integer.compare()    - add tests - RoleAuthorizationPolicy    - create ArrayLists of exact size - JcrRepositoryFileAclUtils    - iterate through List  not Set - DefaultPermissionConversionHelper    - replace indexOf(\":\") with indexOf(':') as it is more effective - AuditConnection    - change the order: first try to obtain a connection and only then sleep</td>\n",
       "      <td>internal</td>\n",
       "    </tr>\n",
       "    <tr>\n",
       "      <th>1347</th>\n",
       "      <td>[BACKLOG-4709] - Small changes in platform to improve performance - UserSettingService    - replace keySet() + get() combination with entrySet()    - remove useless object instantiation    - remove useless explicit map.remove() - AbstractSpringPentahoObjectFactory    - add logger.isDebugEnabled()    - remove useless non-null validation - OrderedApplicationEventMulticaster    - replace ArrayList with array for faster sorting    - extract stateless Comparator to a final field to avoid useless instantiation    - replace new Integer.compareTo() with Integer.compare()    - add tests - RoleAuthorizationPolicy    - create ArrayLists of exact size - JcrRepositoryFileAclUtils    - iterate through List  not Set - DefaultPermissionConversionHelper    - replace indexOf(\":\") with indexOf(':') as it is more effective - AuditConnection    - change the order: first try to obtain a connection and only then sleep</td>\n",
       "      <td>external</td>\n",
       "    </tr>\n",
       "  </tbody>\n",
       "</table>\n",
       "</div>"
      ],
      "text/plain": [
       "                                                                                                                                                                                                                                                                                                                                                                                                                                                                                                                                                                                                                                                                                                                                                                                                                                                                                                                                    commit_message  \\\n",
       "508                                                                                                                                                                                                                                                                                                                                                                                                                                                                                                                                                                                                                                                                                                                                                                                                                                                        Enhanced tool palette composition functionality. Added Morph Activity/Gateway features.   \n",
       "509                                                                                                                                                                                                                                                                                                                                                                                                                                                                                                                                                                                                                                                                                                                                                                                                                                                        Enhanced tool palette composition functionality. Added Morph Activity/Gateway features.   \n",
       "577                                                                                                                                                                                                                                                                                                                                                                                                                                                                                                                                                                                                                                                                                                                                                                                            Fix performance regresssion introduced by using InetSocketAddress\\ngetHostName()\\nPatch provided by Scott Harrington, improved upon by Kris Jurka\\n   \n",
       "578                                                                                                                                                                                                                                                                                                                                                                                                                                                                                                                                                                                                                                                                                                                                                                                                Fix performance regresssion introduced by using InetSocketAddress getHostName() Patch provided by Scott Harrington  improved upon by Kris Jurka   \n",
       "796                                                                                                                                                                                                                                                                                                                                                                                                                                                                                                                                                                                                                                                                                                                                                                                                                     Issue 176: size can now test compatibility with images; refactored vcloud config logic; updated to support latest bluelock   \n",
       "797                                                                                                                                                                                                                                                                                                                                                                                                                                                                                                                                                                                                                                                                                                                                                                                                                     Issue 176: size can now test compatibility with images; refactored vcloud config logic; updated to support latest bluelock   \n",
       "862                                                                                                                                                                                                                                                                                                                                                                                                                                                                                                                                                                                                                                                                                                                                                         Make bitcoinSerialize() return a copy by default  provide an unsafeBitcoinSerialize() method for high performance applications that are willing to deal with the extra API complexity.   \n",
       "863                                                                                                                                                                                                                                                                                                                                                                                                                                                                                                                                                                                                                                                                                                                                                         Make bitcoinSerialize() return a copy by default  provide an unsafeBitcoinSerialize() method for high performance applications that are willing to deal with the extra API complexity.   \n",
       "1241                                                                                                                                                                                                                                                                                                                                                                                                                                                                                                                                                                                                                                                                                                                                                                                                                                  StewartSingularValueDecomposition: re-factor monolithic code and ugly switch statement into multiple methods   \n",
       "1242                                                                                                                                                                                                                                                                                                                                                                                                                                                                                                                                                                                                                                                                                                                                                                                                                                  StewartSingularValueDecomposition: re-factor monolithic code and ugly switch statement into multiple methods   \n",
       "1346  [BACKLOG-4709] - Small changes in platform to improve performance - UserSettingService    - replace keySet() + get() combination with entrySet()    - remove useless object instantiation    - remove useless explicit map.remove() - AbstractSpringPentahoObjectFactory    - add logger.isDebugEnabled()    - remove useless non-null validation - OrderedApplicationEventMulticaster    - replace ArrayList with array for faster sorting    - extract stateless Comparator to a final field to avoid useless instantiation    - replace new Integer.compareTo() with Integer.compare()    - add tests - RoleAuthorizationPolicy    - create ArrayLists of exact size - JcrRepositoryFileAclUtils    - iterate through List  not Set - DefaultPermissionConversionHelper    - replace indexOf(\":\") with indexOf(':') as it is more effective - AuditConnection    - change the order: first try to obtain a connection and only then sleep   \n",
       "1347  [BACKLOG-4709] - Small changes in platform to improve performance - UserSettingService    - replace keySet() + get() combination with entrySet()    - remove useless object instantiation    - remove useless explicit map.remove() - AbstractSpringPentahoObjectFactory    - add logger.isDebugEnabled()    - remove useless non-null validation - OrderedApplicationEventMulticaster    - replace ArrayList with array for faster sorting    - extract stateless Comparator to a final field to avoid useless instantiation    - replace new Integer.compareTo() with Integer.compare()    - add tests - RoleAuthorizationPolicy    - create ArrayLists of exact size - JcrRepositoryFileAclUtils    - iterate through List  not Set - DefaultPermissionConversionHelper    - replace indexOf(\":\") with indexOf(':') as it is more effective - AuditConnection    - change the order: first try to obtain a connection and only then sleep   \n",
       "\n",
       "        category  \n",
       "508     internal  \n",
       "509     external  \n",
       "577       bugfix  \n",
       "578     external  \n",
       "796     internal  \n",
       "797     external  \n",
       "862     internal  \n",
       "863     external  \n",
       "1241    internal  \n",
       "1242  code smell  \n",
       "1346    internal  \n",
       "1347    external  "
      ]
     },
     "metadata": {},
     "output_type": "display_data"
    }
   ],
   "source": [
    "display(df.loc[[508, 509, 577, 578, 796, 797, 862, 863, 1241, 1242, 1346, 1347]])"
   ]
  },
  {
   "cell_type": "code",
   "execution_count": 26,
   "metadata": {},
   "outputs": [],
   "source": [
    "# df = df.drop(labels=[508, 796, 862, 1240, 1346], axis=0)\n",
    "\n",
    "df = df.drop(labels=[509, 797, 863, 1241, 1347], axis=0)\n",
    "\n",
    "\n",
    "\n",
    "# to drop 509, 797, 863, 1241, 1347"
   ]
  },
  {
   "cell_type": "code",
   "execution_count": 27,
   "metadata": {},
   "outputs": [],
   "source": [
    "# display(df.loc[[508, 509, 577, 578, 796, 797, 862, 863, 1241, 1242, 1346, 1347]])"
   ]
  },
  {
   "cell_type": "code",
   "execution_count": 28,
   "metadata": {},
   "outputs": [
    {
     "data": {
      "text/html": [
       "<div>\n",
       "<style scoped>\n",
       "    .dataframe tbody tr th:only-of-type {\n",
       "        vertical-align: middle;\n",
       "    }\n",
       "\n",
       "    .dataframe tbody tr th {\n",
       "        vertical-align: top;\n",
       "    }\n",
       "\n",
       "    .dataframe thead th {\n",
       "        text-align: right;\n",
       "    }\n",
       "</style>\n",
       "<table border=\"1\" class=\"dataframe\">\n",
       "  <thead>\n",
       "    <tr style=\"text-align: right;\">\n",
       "      <th></th>\n",
       "      <th>commit_message</th>\n",
       "      <th>category</th>\n",
       "    </tr>\n",
       "  </thead>\n",
       "  <tbody>\n",
       "    <tr>\n",
       "      <th>508</th>\n",
       "      <td>Enhanced tool palette composition functionality. Added Morph Activity/Gateway features.</td>\n",
       "      <td>internal</td>\n",
       "    </tr>\n",
       "    <tr>\n",
       "      <th>796</th>\n",
       "      <td>Issue 176: size can now test compatibility with images; refactored vcloud config logic; updated to support latest bluelock</td>\n",
       "      <td>internal</td>\n",
       "    </tr>\n",
       "    <tr>\n",
       "      <th>862</th>\n",
       "      <td>Make bitcoinSerialize() return a copy by default  provide an unsafeBitcoinSerialize() method for high performance applications that are willing to deal with the extra API complexity.</td>\n",
       "      <td>internal</td>\n",
       "    </tr>\n",
       "    <tr>\n",
       "      <th>1242</th>\n",
       "      <td>StewartSingularValueDecomposition: re-factor monolithic code and ugly switch statement into multiple methods</td>\n",
       "      <td>code smell</td>\n",
       "    </tr>\n",
       "    <tr>\n",
       "      <th>1346</th>\n",
       "      <td>[BACKLOG-4709] - Small changes in platform to improve performance - UserSettingService    - replace keySet() + get() combination with entrySet()    - remove useless object instantiation    - remove useless explicit map.remove() - AbstractSpringPentahoObjectFactory    - add logger.isDebugEnabled()    - remove useless non-null validation - OrderedApplicationEventMulticaster    - replace ArrayList with array for faster sorting    - extract stateless Comparator to a final field to avoid useless instantiation    - replace new Integer.compareTo() with Integer.compare()    - add tests - RoleAuthorizationPolicy    - create ArrayLists of exact size - JcrRepositoryFileAclUtils    - iterate through List  not Set - DefaultPermissionConversionHelper    - replace indexOf(\":\") with indexOf(':') as it is more effective - AuditConnection    - change the order: first try to obtain a connection and only then sleep</td>\n",
       "      <td>internal</td>\n",
       "    </tr>\n",
       "  </tbody>\n",
       "</table>\n",
       "</div>"
      ],
      "text/plain": [
       "                                                                                                                                                                                                                                                                                                                                                                                                                                                                                                                                                                                                                                                                                                                                                                                                                                                                                                                                    commit_message  \\\n",
       "508                                                                                                                                                                                                                                                                                                                                                                                                                                                                                                                                                                                                                                                                                                                                                                                                                                                        Enhanced tool palette composition functionality. Added Morph Activity/Gateway features.   \n",
       "796                                                                                                                                                                                                                                                                                                                                                                                                                                                                                                                                                                                                                                                                                                                                                                                                                     Issue 176: size can now test compatibility with images; refactored vcloud config logic; updated to support latest bluelock   \n",
       "862                                                                                                                                                                                                                                                                                                                                                                                                                                                                                                                                                                                                                                                                                                                                                         Make bitcoinSerialize() return a copy by default  provide an unsafeBitcoinSerialize() method for high performance applications that are willing to deal with the extra API complexity.   \n",
       "1242                                                                                                                                                                                                                                                                                                                                                                                                                                                                                                                                                                                                                                                                                                                                                                                                                                  StewartSingularValueDecomposition: re-factor monolithic code and ugly switch statement into multiple methods   \n",
       "1346  [BACKLOG-4709] - Small changes in platform to improve performance - UserSettingService    - replace keySet() + get() combination with entrySet()    - remove useless object instantiation    - remove useless explicit map.remove() - AbstractSpringPentahoObjectFactory    - add logger.isDebugEnabled()    - remove useless non-null validation - OrderedApplicationEventMulticaster    - replace ArrayList with array for faster sorting    - extract stateless Comparator to a final field to avoid useless instantiation    - replace new Integer.compareTo() with Integer.compare()    - add tests - RoleAuthorizationPolicy    - create ArrayLists of exact size - JcrRepositoryFileAclUtils    - iterate through List  not Set - DefaultPermissionConversionHelper    - replace indexOf(\":\") with indexOf(':') as it is more effective - AuditConnection    - change the order: first try to obtain a connection and only then sleep   \n",
       "\n",
       "        category  \n",
       "508     internal  \n",
       "796     internal  \n",
       "862     internal  \n",
       "1242  code smell  \n",
       "1346    internal  "
      ]
     },
     "metadata": {},
     "output_type": "display_data"
    }
   ],
   "source": [
    "display(df.loc[[508, 796, 862, 1242, 1346]])"
   ]
  },
  {
   "cell_type": "code",
   "execution_count": 29,
   "metadata": {},
   "outputs": [
    {
     "data": {
      "text/html": [
       "<div>\n",
       "<style scoped>\n",
       "    .dataframe tbody tr th:only-of-type {\n",
       "        vertical-align: middle;\n",
       "    }\n",
       "\n",
       "    .dataframe tbody tr th {\n",
       "        vertical-align: top;\n",
       "    }\n",
       "\n",
       "    .dataframe thead th {\n",
       "        text-align: right;\n",
       "    }\n",
       "</style>\n",
       "<table border=\"1\" class=\"dataframe\">\n",
       "  <thead>\n",
       "    <tr style=\"text-align: right;\">\n",
       "      <th></th>\n",
       "      <th>commit_message</th>\n",
       "      <th>category</th>\n",
       "    </tr>\n",
       "  </thead>\n",
       "  <tbody>\n",
       "    <tr>\n",
       "      <th>1242</th>\n",
       "      <td>StewartSingularValueDecomposition: re-factor monolithic code and ugly switch statement into multiple methods</td>\n",
       "      <td>code smell</td>\n",
       "    </tr>\n",
       "  </tbody>\n",
       "</table>\n",
       "</div>"
      ],
      "text/plain": [
       "                                                                                                    commit_message  \\\n",
       "1242  StewartSingularValueDecomposition: re-factor monolithic code and ugly switch statement into multiple methods   \n",
       "\n",
       "        category  \n",
       "1242  code smell  "
      ]
     },
     "metadata": {},
     "output_type": "display_data"
    }
   ],
   "source": [
    "display(df.loc[[1242]])"
   ]
  },
  {
   "cell_type": "markdown",
   "metadata": {},
   "source": [
    "### Text Pre-processing"
   ]
  },
  {
   "cell_type": "code",
   "execution_count": 30,
   "metadata": {},
   "outputs": [
    {
     "data": {
      "text/plain": [
       "0                                                                                                                                                                                                                                                                                         \\tNIO Reads writes are completed in the caller thered;\\n\\t100% compatible with old interface and functionality.\\n\\tEach connection has an instance of this object to\\n\\treceive data for a message in multiple OP_READ events.\\n\n",
       "1                                                                                                                                                                                * temporary fix for non-shared JArray objects\\n  * added generic unittests to check jcc/lucene/solr/montysolr functionality\\n  * wrote unittest for newseman (it does a complete processing from python side)\\n    - now what remains is to call it from java\\n    - decide on proper behaviour for cases when tokens are added/grouped\\n\n",
       "2     * Java:\\n   * Added RCON functionality for Source servers:\\n     * Added steamcondenser.steam.packets.rcon package\\n     * Added RCONAuthRequestPacket\\n     * Added RCONAuthResponsePacket\\n     * Added RCONExecRequestPacket\\n     * Added RCONExecResponsePacket\\n     * Added RCONPacket\\n     * Added RCONNoAuthException\\n   * Split SteamSocket into QuerySocket and RCONSocket\\n   * Stub functionality for GoldSrc servers\\n     * GoldSrc uses UDP and needs a special implementation\\n   * Added tests\\n\n",
       "3                                                                                                                                                                                                                                                                                                                                                                                               - Merge changes from Pull-Request #6 \\t - Fix aggregation generation and cleanup dead code  - Update dependencies versions\n",
       "4                                                                                                                                                                                                                                                                                                                                                                                                                                                          Bug 233643 -  API builder performance bad for incremental build\n",
       "5                                                                                                                                                                                                                                                                                                                        Deleted obsolete / dead code. - Started a heavy refactoring of the ServiceDescriptionFactory class in order to make it a \"fail fast\" factory to avoid any runtime errors due to misconfiguration.\n",
       "6                                                                                                                                                                                                                                                                                                                                            ItEr17S10CUCreacionProxectoPlanificacionItEr16S12: Removing Bean sufix to data classes. To avoid name collisions with the components of the same name  Component is appended.\n",
       "7                                                                                                                                                                                                                                                                                                                                                                                                                                  Removed lots of duplicate code  better error reporting due to another logger for traces\n",
       "8                                                                                                                                                                                                                                                                                                                                                           Rename *.new* packages back to what they should be  remove dead code  from the old packages - mapreduce module - tez-engine module (part of  TEZ-398). (sseth)\n",
       "9                                                                                                                                                                                                                                                                                                                                                                                                     You can now resize the browser size and the screenshots in the reports using the thucydides.browser.width parameter.\n",
       "Name: commit_message, dtype: object"
      ]
     },
     "metadata": {},
     "output_type": "display_data"
    }
   ],
   "source": [
    "display(df.commit_message.head(10))"
   ]
  },
  {
   "cell_type": "code",
   "execution_count": 31,
   "metadata": {},
   "outputs": [
    {
     "data": {
      "text/plain": [
       "0                                                                                                                                                                                                                                                                                         \\tnio reads writes are completed in the caller thered;\\n\\t100% compatible with old interface and functionality.\\n\\teach connection has an instance of this object to\\n\\treceive data for a message in multiple op_read events.\\n\n",
       "1                                                                                                                                                                                * temporary fix for non-shared jarray objects\\n  * added generic unittests to check jcc/lucene/solr/montysolr functionality\\n  * wrote unittest for newseman (it does a complete processing from python side)\\n    - now what remains is to call it from java\\n    - decide on proper behaviour for cases when tokens are added/grouped\\n\n",
       "2     * java:\\n   * added rcon functionality for source servers:\\n     * added steamcondenser.steam.packets.rcon package\\n     * added rconauthrequestpacket\\n     * added rconauthresponsepacket\\n     * added rconexecrequestpacket\\n     * added rconexecresponsepacket\\n     * added rconpacket\\n     * added rconnoauthexception\\n   * split steamsocket into querysocket and rconsocket\\n   * stub functionality for goldsrc servers\\n     * goldsrc uses udp and needs a special implementation\\n   * added tests\\n\n",
       "3                                                                                                                                                                                                                                                                                                                                                                                               - merge changes from pull-request #6 \\t - fix aggregation generation and cleanup dead code  - update dependencies versions\n",
       "4                                                                                                                                                                                                                                                                                                                                                                                                                                                          bug 233643 -  api builder performance bad for incremental build\n",
       "5                                                                                                                                                                                                                                                                                                                        deleted obsolete / dead code. - started a heavy refactoring of the servicedescriptionfactory class in order to make it a \"fail fast\" factory to avoid any runtime errors due to misconfiguration.\n",
       "6                                                                                                                                                                                                                                                                                                                                            iter17s10cucreacionproxectoplanificacioniter16s12: removing bean sufix to data classes. to avoid name collisions with the components of the same name  component is appended.\n",
       "7                                                                                                                                                                                                                                                                                                                                                                                                                                  removed lots of duplicate code  better error reporting due to another logger for traces\n",
       "8                                                                                                                                                                                                                                                                                                                                                           rename *.new* packages back to what they should be  remove dead code  from the old packages - mapreduce module - tez-engine module (part of  tez-398). (sseth)\n",
       "9                                                                                                                                                                                                                                                                                                                                                                                                     you can now resize the browser size and the screenshots in the reports using the thucydides.browser.width parameter.\n",
       "Name: commit_message, dtype: object"
      ]
     },
     "execution_count": 31,
     "metadata": {},
     "output_type": "execute_result"
    }
   ],
   "source": [
    "df['commit_message'] = df['commit_message'].str.lower()\n",
    "\n",
    "df['commit_message'].head(10)"
   ]
  },
  {
   "cell_type": "code",
   "execution_count": 32,
   "metadata": {},
   "outputs": [
    {
     "name": "stdout",
     "output_type": "stream",
     "text": [
      "Requirement already satisfied: contractions in /Users/onkars/Documents/AIProjects/Automated-Software-Refactoring-Commit-Classifier/myenv/lib/python3.12/site-packages (0.1.73)\n",
      "Requirement already satisfied: textsearch>=0.0.21 in /Users/onkars/Documents/AIProjects/Automated-Software-Refactoring-Commit-Classifier/myenv/lib/python3.12/site-packages (from contractions) (0.0.24)\n",
      "Requirement already satisfied: anyascii in /Users/onkars/Documents/AIProjects/Automated-Software-Refactoring-Commit-Classifier/myenv/lib/python3.12/site-packages (from textsearch>=0.0.21->contractions) (0.3.2)\n",
      "Requirement already satisfied: pyahocorasick in /Users/onkars/Documents/AIProjects/Automated-Software-Refactoring-Commit-Classifier/myenv/lib/python3.12/site-packages (from textsearch>=0.0.21->contractions) (2.1.0)\n"
     ]
    }
   ],
   "source": [
    "!pip install contractions"
   ]
  },
  {
   "cell_type": "code",
   "execution_count": 33,
   "metadata": {},
   "outputs": [],
   "source": [
    "from contractions import fix"
   ]
  },
  {
   "cell_type": "code",
   "execution_count": 34,
   "metadata": {},
   "outputs": [
    {
     "name": "stdout",
     "output_type": "stream",
     "text": [
      "Before fixing contractions:\n"
     ]
    },
    {
     "data": {
      "text/plain": [
       "Series([], Name: commit_message, dtype: object)"
      ]
     },
     "metadata": {},
     "output_type": "display_data"
    }
   ],
   "source": [
    "# Find commit messages containing \"I'm\"\n",
    "contains_im = df[df['commit_message'].str.contains(\"I'll\", na=False)]\n",
    "\n",
    "print(\"Before fixing contractions:\")\n",
    "display(contains_im['commit_message'].head(10))"
   ]
  },
  {
   "cell_type": "code",
   "execution_count": 35,
   "metadata": {},
   "outputs": [],
   "source": [
    "# function to fix contractions in a string\n",
    "def expand_contractions(text):\n",
    "    return fix(text)\n",
    "\n",
    "df['commit_message'] = df['commit_message'].apply(expand_contractions)"
   ]
  },
  {
   "cell_type": "code",
   "execution_count": 36,
   "metadata": {},
   "outputs": [
    {
     "data": {
      "text/html": [
       "<div>\n",
       "<style scoped>\n",
       "    .dataframe tbody tr th:only-of-type {\n",
       "        vertical-align: middle;\n",
       "    }\n",
       "\n",
       "    .dataframe tbody tr th {\n",
       "        vertical-align: top;\n",
       "    }\n",
       "\n",
       "    .dataframe thead th {\n",
       "        text-align: right;\n",
       "    }\n",
       "</style>\n",
       "<table border=\"1\" class=\"dataframe\">\n",
       "  <thead>\n",
       "    <tr style=\"text-align: right;\">\n",
       "      <th></th>\n",
       "      <th>commit_message</th>\n",
       "      <th>category</th>\n",
       "    </tr>\n",
       "  </thead>\n",
       "  <tbody>\n",
       "    <tr>\n",
       "      <th>729</th>\n",
       "      <td>implement my old patch for issue #366, with some tweaks.  this does the\\nfollowing:\\n* fixes @provides injection so that parameters are checked for nullability.\\nby default this will error.  the flag is named:\\nguice_check_nullable_provides_params and can be set to error, warning or ignore.\\n* adds injectionpoint.formethod to build an injectionpoint off an arbitrary\\nmethod.\\n* adds binder.getprovider(dependency) to a get a provider for a given\\ndependency (with all its nullability &amp; injection points maintained).\\n* update providerlookup to accept a dependency in addition to a key.\\n\\nthis is in preparation for two things:\\n1) allowing multibindings/mapbindings/optionalbindings to be specified as\\nannotations on methods in a module.\\n2) adding a dagger compatibility module.\\n... the general idea will be that i will also add a hook into\\nprovidesmethodmodule somehow to look at arbitrary other annotations and let\\nfolks process them specially.\\n-------------\\ncreated by moe: http://code.google.com/p/moe-java\\nmoe_migrated_revid=85353820\\n</td>\n",
       "      <td>bugfix</td>\n",
       "    </tr>\n",
       "    <tr>\n",
       "      <th>1263</th>\n",
       "      <td>this change is big, and it makes guice slower. i will need to follow-up with some optimizations that make typeresolver quicker.\\n\\nsuppose you have a parameterized class:\\n\\nclass foo&lt;t&gt; {\\n  @inject set&lt;t&gt; tees;\\n} \\n\\nthis change makes it so that as long as you have the required dependencies, parameterized injection points will be resolved. for example:\\n  injector injector = guice.createinjector(new abstractmodule() {\\n    protected void configure() {\\n      bind(new typeliteral&lt;set&lt;string&gt;&gt;() {})\\n          .toinstance(immutableset.of(\"a\", \"b\", \"c\"));\\n      }\\n  });\\n  foo&lt;string&gt; foo = injector.getinstance(new typeliteral&lt;foo&lt;string&gt;&gt;() {});\\n  assertequals(immutableset.of(\"a\", \"b\", \"c\"), foo.tees);\\n\\nthis builds on my earlier work for typeresolver. that class is currently pretty slow (it builds a ton of hashmaps eagerly), but it should not be too hard to make it lazy - that way everything will work nice and fast if you are not leveraging this feature.\\n\\ngit-svn-id: https://google-guice.googlecode.com/svn/trunk@660 d779f126-a31b-0410-b53b-1d3aecad763e\\n</td>\n",
       "      <td>functional</td>\n",
       "    </tr>\n",
       "    <tr>\n",
       "      <th>1325</th>\n",
       "      <td>well, realized that the fragment shader cannot composite or blend.  so i think this is  the closest i will get to a decent implementation of the duff-porter blend functionality.</td>\n",
       "      <td>functional</td>\n",
       "    </tr>\n",
       "  </tbody>\n",
       "</table>\n",
       "</div>"
      ],
      "text/plain": [
       "                                                                                                                                                                                                                                                                                                                                                                                                                                                                                                                                                                                                                                                                                                                                                                                                                                                                                                                                                                                                                                                                                                             commit_message  \\\n",
       "729                            implement my old patch for issue #366, with some tweaks.  this does the\\nfollowing:\\n* fixes @provides injection so that parameters are checked for nullability.\\nby default this will error.  the flag is named:\\nguice_check_nullable_provides_params and can be set to error, warning or ignore.\\n* adds injectionpoint.formethod to build an injectionpoint off an arbitrary\\nmethod.\\n* adds binder.getprovider(dependency) to a get a provider for a given\\ndependency (with all its nullability & injection points maintained).\\n* update providerlookup to accept a dependency in addition to a key.\\n\\nthis is in preparation for two things:\\n1) allowing multibindings/mapbindings/optionalbindings to be specified as\\nannotations on methods in a module.\\n2) adding a dagger compatibility module.\\n... the general idea will be that i will also add a hook into\\nprovidesmethodmodule somehow to look at arbitrary other annotations and let\\nfolks process them specially.\\n-------------\\ncreated by moe: http://code.google.com/p/moe-java\\nmoe_migrated_revid=85353820\\n   \n",
       "1263  this change is big, and it makes guice slower. i will need to follow-up with some optimizations that make typeresolver quicker.\\n\\nsuppose you have a parameterized class:\\n\\nclass foo<t> {\\n  @inject set<t> tees;\\n} \\n\\nthis change makes it so that as long as you have the required dependencies, parameterized injection points will be resolved. for example:\\n  injector injector = guice.createinjector(new abstractmodule() {\\n    protected void configure() {\\n      bind(new typeliteral<set<string>>() {})\\n          .toinstance(immutableset.of(\"a\", \"b\", \"c\"));\\n      }\\n  });\\n  foo<string> foo = injector.getinstance(new typeliteral<foo<string>>() {});\\n  assertequals(immutableset.of(\"a\", \"b\", \"c\"), foo.tees);\\n\\nthis builds on my earlier work for typeresolver. that class is currently pretty slow (it builds a ton of hashmaps eagerly), but it should not be too hard to make it lazy - that way everything will work nice and fast if you are not leveraging this feature.\\n\\ngit-svn-id: https://google-guice.googlecode.com/svn/trunk@660 d779f126-a31b-0410-b53b-1d3aecad763e\\n   \n",
       "1325                                                                                                                                                                                                                                                                                                                                                                                                                                                                                                                                                                                                                                                                                                                                                                                                                                                                                                                                      well, realized that the fragment shader cannot composite or blend.  so i think this is  the closest i will get to a decent implementation of the duff-porter blend functionality.   \n",
       "\n",
       "        category  \n",
       "729       bugfix  \n",
       "1263  functional  \n",
       "1325  functional  "
      ]
     },
     "metadata": {},
     "output_type": "display_data"
    }
   ],
   "source": [
    "display(df.loc[[729, 1263, 1325]])"
   ]
  },
  {
   "cell_type": "code",
   "execution_count": 37,
   "metadata": {},
   "outputs": [
    {
     "name": "stdout",
     "output_type": "stream",
     "text": [
      "Requirement already satisfied: nltk in /Users/onkars/Documents/AIProjects/Automated-Software-Refactoring-Commit-Classifier/myenv/lib/python3.12/site-packages (3.8.1)\n",
      "Requirement already satisfied: click in /Users/onkars/Documents/AIProjects/Automated-Software-Refactoring-Commit-Classifier/myenv/lib/python3.12/site-packages (from nltk) (8.1.7)\n",
      "Requirement already satisfied: joblib in /Users/onkars/Documents/AIProjects/Automated-Software-Refactoring-Commit-Classifier/myenv/lib/python3.12/site-packages (from nltk) (1.4.0)\n",
      "Requirement already satisfied: regex>=2021.8.3 in /Users/onkars/Documents/AIProjects/Automated-Software-Refactoring-Commit-Classifier/myenv/lib/python3.12/site-packages (from nltk) (2024.4.16)\n",
      "Requirement already satisfied: tqdm in /Users/onkars/Documents/AIProjects/Automated-Software-Refactoring-Commit-Classifier/myenv/lib/python3.12/site-packages (from nltk) (4.66.2)\n"
     ]
    }
   ],
   "source": [
    "!pip install nltk"
   ]
  },
  {
   "cell_type": "code",
   "execution_count": 38,
   "metadata": {},
   "outputs": [
    {
     "name": "stderr",
     "output_type": "stream",
     "text": [
      "[nltk_data] Downloading package stopwords to\n",
      "[nltk_data]     /Users/onkars/nltk_data...\n",
      "[nltk_data]   Package stopwords is already up-to-date!\n",
      "[nltk_data] Downloading package punkt to /Users/onkars/nltk_data...\n",
      "[nltk_data]   Package punkt is already up-to-date!\n",
      "[nltk_data] Downloading package averaged_perceptron_tagger to\n",
      "[nltk_data]     /Users/onkars/nltk_data...\n",
      "[nltk_data]   Package averaged_perceptron_tagger is already up-to-\n",
      "[nltk_data]       date!\n",
      "[nltk_data] Downloading package wordnet to /Users/onkars/nltk_data...\n",
      "[nltk_data]   Package wordnet is already up-to-date!\n"
     ]
    },
    {
     "data": {
      "text/plain": [
       "True"
      ]
     },
     "execution_count": 38,
     "metadata": {},
     "output_type": "execute_result"
    }
   ],
   "source": [
    "import nltk\n",
    "# import ssl\n",
    "# try:\n",
    "#    _create_unverified_https_context = ssl._create_unverified_context\n",
    "# except AttributeError:\n",
    "#    pass\n",
    "# else:\n",
    "#    ssl._create_default_https_context = _create_unverified_https_context\n",
    "\n",
    "\n",
    "\n",
    "nltk.download('stopwords')\n",
    "nltk.download('punkt')\n",
    "nltk.download('averaged_perceptron_tagger')\n",
    "nltk.download('wordnet')"
   ]
  },
  {
   "cell_type": "code",
   "execution_count": 39,
   "metadata": {},
   "outputs": [],
   "source": [
    "import re\n",
    "\n",
    "def clean_text(text):\n",
    "    # Remove URLs\n",
    "    text = re.sub(r'http\\S+', '', text)\n",
    "    # Remove single-character tokens (mostly punctuation)\n",
    "    text = re.sub(r'\\s+[a-zA-Z]\\s+', ' ', text)\n",
    "    # Remove single characters from the start\n",
    "    text = re.sub(r'\\^[a-zA-Z]\\s+', ' ', text)\n",
    "    # Substitute multiple spaces with single space\n",
    "    text = re.sub(r'\\s+', ' ', text, flags=re.I)\n",
    "    # Remove prefixed 'b'\n",
    "    text = re.sub(r'^b\\s+', '', text)\n",
    "    # Remove numbers\n",
    "    text = re.sub(r'\\d+', '', text)\n",
    "    # Remove non-alphabetic characters\n",
    "    text = re.sub(r'[^a-zA-Z\\s]', '', text)\n",
    "    return text\n",
    "\n",
    "\n"
   ]
  },
  {
   "cell_type": "code",
   "execution_count": 40,
   "metadata": {},
   "outputs": [],
   "source": [
    "from nltk.corpus import stopwords\n",
    "from nltk.tokenize import word_tokenize\n",
    "\n",
    "\n",
    "stop_words = set(stopwords.words('english'))\n",
    "\n",
    "custom_stop_words = ['git', 'svn', 'refactor', 'gitsvnid', 'signedoffby', 'reviewedon', 'testedby', 'us', 'id', 'changeid', 'lot', 'small', 'thing', 'way']  # Add more custom words here --- lots\n",
    "stop_words.update(custom_stop_words)\n",
    "\n",
    "def remove_stopwords(text):\n",
    "    word_tokens = word_tokenize(text)\n",
    "    filtered_text = [word for word in word_tokens if word.lower() not in stop_words]\n",
    "    return ' '.join(filtered_text)\n"
   ]
  },
  {
   "cell_type": "code",
   "execution_count": 41,
   "metadata": {},
   "outputs": [
    {
     "name": "stdout",
     "output_type": "stream",
     "text": [
      "\n",
      "Row Index: 400\n",
      "commit_message    changes based on keith's review.  a few tweaks to edgeset to help tracking edge\\nremoval\\n\\n\\tmodified:   src/edu/ucla/sspace/common/similarity.java\\n\\n- updated to use vectormath.dotproduct for the tanimoto coefficient\\n\\n\\tdeleted:    src/edu/ucla/sspace/common/wordcomparator.java\\n\\n- moved to simplenearestneighborfinder\\n\\n\\tmodified:   src/edu/ucla/sspace/dependency/simpledependencypath.java\\n\\n- removed println\\n\\n\\tmodified:   src/edu/ucla/sspace/graph/abstractgraph.java\\n\\n- added missing implementation to subgraph class so now all the unit tests pass\\n\\n\\tmodified:   src/edu/ucla/sspace/graph/directedmultigraph.java\\n\\n- added missing implementation to subgraph class so now all the unit tests pass\\n\\n- fixed bug for reporting the correct edge types after removal\\n\\n- removed dead code\\n\\n\\tmodified:   src/edu/ucla/sspace/graph/edgeset.java\\n\\n- updated so that disconnect() now returns the number of edges that were removed\\n\\n\\tmodified:   src/edu/ucla/sspace/graph/genericedgeset.java\\n\\tmodified:   src/edu/ucla/sspace/graph/sparsedirectededgeset.java\\n\\tmodified:   src/edu/ucla/sspace/graph/sparsedirectedtypededgeset.java\\n\\tmodified:   src/edu/ucla/sspace/graph/sparsetypededgeset.java\\n\\tmodified:   src/edu/ucla/sspace/graph/sparseundirectededgeset.java\\n\\tmodified:   src/edu/ucla/sspace/graph/sparseweightededgeset.java\\n\\n- updated to support edgeset interface change\\n\\n\\tdeleted:    src/edu/ucla/sspace/graph/graphrandomizer.java\\n\\n- removed dead class (functionality is in graphs.java)\\n\\n\\tmodified:   src/edu/ucla/sspace/graph/simpleweightededge.java\\n\\n- fixed hashcode()\\n\\n\\tdeleted:    src/edu/ucla/sspace/graph/sparsesymmetricedgeset.java\\n\\n- removed dead class\\n\\n\\tmodified:   src/edu/ucla/sspace/graph/undirectedmultigraph.java\\n\\n- added missing implementation to subgraph class so now all the unit tests pass\\n\\n- fixed bug for reporting the correct edge types after removal\\n\\n- removed dead code\\n\\n\\tmodified:   src/edu/ucla/sspace/mains/fixeddurationtemporalrandomindexingmain.java\\n\\n- updated to replace wordcomparator with simplenearestneighborfinder\\n\\n\\tmodified:   src/edu/ucla/sspace/mains/lexsubwordsimain.java\\n\\n- updated to replace wordcomparator with simplenearestneighborfinder\\n\\n\\tmodified:   src/edu/ucla/sspace/text/labeledparsedstringdocument.java\\n\\n- updated for new parseddocument interface\\n\\n\\tmodified:   src/edu/ucla/sspace/text/parseddocument.java\\n\\n- updated to specify the format of text() as the tokens with white space delimiters.\\n\\n- added a new prettyprinttext() which is the attempt to nicely format the tokens\\n  as they would have been originally.\\n\\n\\tmodified:   src/edu/ucla/sspace/text/pukwacdocumentiterator.java\\n\\n- fixed javadoc\\n\\n\\tmodified:   src/edu/ucla/sspace/text/ukwacdocumentiterator.java\\n\\n- added more class javadoc\\n\\n\\tmodified:   src/edu/ucla/sspace/tools/nearestneighborfindertool.java\\n\\n- updated to use the class instances instead of the interface\\n\\n\\tmodified:   src/edu/ucla/sspace/tools/semanticspaceexplorer.java\\n\\n- updated to replace wordcomparator with partitioningnearestneighborfinder\\n\\n\\tmodified:   src/edu/ucla/sspace/tools/similaritylistgenerator.java\\n\\n- updated to replace wordcomparator with partitioningnearestneighborfinder\\n\\n\\tmodified:   src/edu/ucla/sspace/util/hashindexer.java\\n\\n- fixed javadoc\\n\\n\\tmodified:   src/edu/ucla/sspace/util/paircounter.java\\n\\n- fixed javadoc\\n\\n\\trenamed:    src/edu/ucla/sspace/util/nearestneighborfinder.java -> src/edu/ucla/sspace/util/partitioningnearestneighborfinder.java\\n\\n- moved so that nearestneighborfinder can be an interface\\n\\n\\tmodified:   src/edu/ucla/sspace/util/reflectionutil.java\\n\\n- removed dead code\\n\\n\\tmodified:   src/edu/ucla/sspace/util/primitive/intinthashmultimap.java\\n\\n- added javadoc\\n\\n\\tmodified:   src/edu/ucla/sspace/util/primitive/intintmultimap.java\\n\\n- added javadoc\\n\\n\\tmodified:   test/edu/ucla/sspace/graph/directedmultigraphtests.java\\n\\n- uncommented out unit tests\\n\\n\\tmodified:   test/edu/ucla/sspace/dependency/breadthfirstpathiteratortest.java\\n\\tmodified:   test/edu/ucla/sspace/dependency/conlldependencyextractortest.java\\n\\tmodified:   test/edu/ucla/sspace/dependency/wackydependencyextractortest.java\\n\\tmodified:   test/edu/ucla/sspace/text/corpora/pukwacdependencycorpusreadertest.java\\n\\tmodified:   test/edu/ucla/sspace/wordsi/dependencycontextextractortest.java\\n\\tmodified:   test/edu/ucla/sspace/wordsi/occurrencedependencycontextgeneratortest.java\\n\\tmodified:   test/edu/ucla/sspace/wordsi/orderingdependencycontextgeneratortest.java\\n\\tmodified:   test/edu/ucla/sspace/wordsi/partofspeechdependencycontextgeneratortest.java\\n\\tmodified:   test/edu/ucla/sspace/wordsi/psd/pseudoworddependencycontextextractortest.java\\n\\tmodified:   test/edu/ucla/sspace/wordsi/semeval/semevaldependencycontextextractortest.java\\n\\n- fixed unit tests to support proper tab-delimiting of the conll format\\n\n",
      "category                                                                                                                                                                                                                                                                                                                                                                                                                                                                                                                                                                                                                                                                                                                                                                                                                                                                                                                                                                                                                                                                                                                                                                                                                                                                                                                                                                                                                                                                                                                                                                                                                                                                                                                                                                                                                                                                                                                                                                                                                                                                                                                                                                                                                                                                                                                                                                                                                                                                                                                                                                                                                                                                                                                                                                                                                                                                                                                                                                                                                                                                                                                                                                                                                                                                                                                                                                                                                                                                                                                                                                                                                                                                                                                                                                                                                                                                                                                                                                                                                                                                                                                                                                                                                                                                                                                                                                                                                                                                                                                                                                                                                                                                                                                                                                                                                                                                                                                                                                                                                                                                                                                                          bugfix\n",
      "Name: 400, dtype: object\n",
      "Length: 4753\n",
      "\n",
      "Row Index: 833\n",
      "commit_message    lots and lots of bug fixes with a few minor functionality enhancements.\\n\\n\\tmodified:   src/main/java/edu/ucla/sspace/common/similarity.java\\n\\n- added warnings for invalid kl-divergence computations\\n\\n- added kruskal-goodman gamma\\n\\n- discovered spearman's rho and kendall's tau are both wrong (not fixed)  :(\\n\\n\\tmodified:   src/main/java/edu/ucla/sspace/common/statistics/loglikelihoodtest.java\\n\\n- fixed implementation\\n\\n\\tnew file:   src/main/java/edu/ucla/sspace/graph/chinesewhispersclustering.java\\n\\n- added cw clustering, but it does not appear to produce the same results as the\\n  existing code (needs investigation)\\n\\n\\tmodified:   src/main/java/edu/ucla/sspace/graph/graphio.java\\n\\n- tweaked logging\\n\\n\\tmodified:   src/main/java/edu/ucla/sspace/graph/linkclustering.java\\n\\n- made thread count based on processors instead of fixed\\n\\n\\tnew file:   src/main/java/edu/ucla/sspace/graph/simpleweighteddirectedtypededge.java\\n\\tnew file:   src/main/java/edu/ucla/sspace/graph/simpleweightedtypededge.java\\n\\tnew file:   src/main/java/edu/ucla/sspace/graph/sparseweighteddirectededgeset.java\\n\\tnew file:   src/main/java/edu/ucla/sspace/graph/sparseweighteddirectedtypededgeset.java\\n\\tnew file:   src/main/java/edu/ucla/sspace/graph/weighteddirectedmultigraph.java\\n\\tmodified:   src/main/java/edu/ucla/sspace/graph/weighteddirectedtypededge.java\\n\\n- added partial support for weighted multigraphs.  more features are probably needed eventually\\n\\n\\tmodified:   src/main/java/edu/ucla/sspace/graph/io/edgelistreader.java\\n\\n- added better logging instead of printf\\n\\n\\tnew file:   src/main/java/edu/ucla/sspace/graph/io/graphmlreader.java\\n\\n- added initial graphml implementation for reading large graphml files.  only partial support is in place\\n\\n\\tmodified:   src/main/java/edu/ucla/sspace/index/defaultpermutationfunction.java\\n\\n- fixed outstanding bug.  not sure how the bug was there in the first place, as\\n  the code was currently very broken in an odd way.\\n\\n\\tnew file:   src/main/java/edu/ucla/sspace/text/annotateddocument.java\\n\\n- added support for a new document that has a creation date and a label\\n\\n\\tnew file:   src/main/java/edu/ucla/sspace/text/bufferedfilelistdocumentiterator.java\\n\\n- added a new iterator that pre-caches the contents of files in a file list\\n  using a separate thread to cut down on disk i/o\\n\\n\\tmodified:   src/main/java/edu/ucla/sspace/text/filedocument.java\\n\\n- added support for a document back by a file whose contents are loaded into memory on demand\\n\\n\\tnew file:   src/main/java/edu/ucla/sspace/tools/iterativebigramextractor.java\\n\\n- added a tool for finding statistical associations between terms in an\\n  iterative pair-wise manner\\n\\n\\tnew file:   src/main/java/edu/ucla/sspace/tools/linkclusteringtool.java\\n\\n- copied over code from the svn branch for running link clustering from a jar\\n\\n\\tmodified:   src/main/java/edu/ucla/sspace/util/combinediterator.java\\n\\n- corrected the exception to be thrown in remove()\\n\\n\\tmodified:   src/main/java/edu/ucla/sspace/util/hashmultimap.java\\n\\n- correct a few errors in removing keys during iterator\\n\\n- fixed a bug where null was returned instead of the empty set\\n\\n\\tnew file:   src/main/java/edu/ucla/sspace/util/krippendorffsalpha.java\\n\\n- added a partial implementation of krippendorff's alpha for ordinal-valued data\\n\\n\\tmodified:   src/main/java/edu/ucla/sspace/util/multimap.java\\n\\n- clarified the javadoc\\n\\n\\tmodified:   src/main/java/edu/ucla/sspace/util/objectcounter.java\\n\\n- implemented max() and min()\\n\\n\\tmodified:   src/main/java/edu/ucla/sspace/util/pair.java\\n\\n- made serializable\\n\\n\\tmodified:   src/main/java/edu/ucla/sspace/util/setdecorator.java\\n\\n- clarified javadoc\\n\\n\\tnew file:   src/test/java/edu/ucla/sspace/graph/chinesewhisperstest.java\\n\\tnew file:   src/test/java/edu/ucla/sspace/graph/sparseweighteddirectedtypededgesettest.java\\n\\tnew file:   src/test/java/edu/ucla/sspace/graph/weighteddirectedmultigraphtest.java\\n\\n- more unit tests\\n\\n\\tmodified:   src/test/java/edu/ucla/sspace/index/defaultpermutationfunctiontest.java\\n\\n- added some debugging output\\n\n",
      "category                                                                                                                                                                                                                                                                                                                                                                                                                                                                                                                                                                                                                                                                                                                                                                                                                                                                                                                                                                                                                                                                                                                                                                                                                                                                                                                                                                                                                                                                                                                                                                                                                                                                                                                                                                                                                                                                                                                                                                                                                                                                                                                                                                                                                                                                                                                                                                                                                                                                                                                                                                                                                                                                                                                                                                                                                                                                                                                                                                                                                                                                                                                                                                                                                                                                                                                                                                                                                                                                                                                                                                                                                                                                                                                                                                                                                                                                                                                                                                                                                                                                                                                                                                                                                                                                                                            bugfix\n",
      "Name: 833, dtype: object\n",
      "Length: 3996\n",
      "\n",
      "Row Index: 243\n",
      "commit_message    added support for jdbc3.  the driver will now build under jdbc3 (i.e. java 1.4).\\nthis concludes my changes that restructured the code to support jdbc3.\\nthe jdbc unit tests were also resturctured to allow different tests between\\njdbc2 and jdbc3, although currently make check (aka ant test) for jdbc3 just\\nruns the jdbc2 tests.  of special note the largeobject/pgblob and pgclob\\nclasses have been moved under the jdbc2/jdbc3 specific directories as they\\nnow differ by jdbc version.  also note that this checkin removes the\\npostgresqldatasource and files in the xa directory.  a recent checkin has\\nadded new datasource support that replaces the functionality provided by these\\nclasses.\\n\\n modified files:\\n \\tjdbc/build.xml\\n \\tjdbc/org/postgresql/jdbc1/abstractjdbc1databasemetadata.java\\n \\tjdbc/org/postgresql/jdbc1/abstractjdbc1resultset.java\\n \\tjdbc/org/postgresql/jdbc1/abstractjdbc1resultsetmetadata.java\\n \\tjdbc/org/postgresql/jdbc1/abstractjdbc1statement.java\\n \\tjdbc/org/postgresql/jdbc2/abstractjdbc2connection.java\\n \\tjdbc/org/postgresql/jdbc2/abstractjdbc2databasemetadata.java\\n \\tjdbc/org/postgresql/jdbc2/abstractjdbc2resultset.java\\n \\tjdbc/org/postgresql/jdbc2/abstractjdbc2resultsetmetadata.java\\n \\tjdbc/org/postgresql/jdbc2/abstractjdbc2statement.java\\n \\tjdbc/org/postgresql/jdbc2/array.java\\n \\tjdbc/org/postgresql/jdbc2/jdbc2callablestatement.java\\n \\tjdbc/org/postgresql/jdbc2/jdbc2connection.java\\n \\tjdbc/org/postgresql/jdbc2/jdbc2databasemetadata.java\\n \\tjdbc/org/postgresql/jdbc2/jdbc2preparedstatement.java\\n \\tjdbc/org/postgresql/jdbc2/jdbc2resultset.java\\n \\tjdbc/org/postgresql/jdbc2/jdbc2resultsetmetadata.java\\n \\tjdbc/org/postgresql/jdbc2/jdbc2statement.java\\n \\tjdbc/org/postgresql/test/jdbc2/batchexecutetest.java\\n \\tjdbc/org/postgresql/test/jdbc2/blobtest.java\\n \\tjdbc/org/postgresql/test/jdbc2/callablestmttest.java\\n \\tjdbc/org/postgresql/test/jdbc2/connectiontest.java\\n \\tjdbc/org/postgresql/test/jdbc2/databasemetadatatest.java\\n \\tjdbc/org/postgresql/test/jdbc2/datetest.java\\n \\tjdbc/org/postgresql/test/jdbc2/drivertest.java\\n \\tjdbc/org/postgresql/test/jdbc2/jbuildertest.java\\n \\tjdbc/org/postgresql/test/jdbc2/misctest.java\\n \\tjdbc/org/postgresql/test/jdbc2/resultsettest.java\\n \\tjdbc/org/postgresql/test/jdbc2/timetest.java\\n \\tjdbc/org/postgresql/test/jdbc2/timestamptest.java\\n \\tjdbc/org/postgresql/test/jdbc2/updateableresulttest.java\\n added files:\\n \\tjdbc/org/postgresql/jdbc2/abstractjdbc2blob.java\\n \\tjdbc/org/postgresql/jdbc2/abstractjdbc2clob.java\\n \\tjdbc/org/postgresql/jdbc2/jdbc2blob.java\\n \\tjdbc/org/postgresql/jdbc2/jdbc2clob.java\\n \\tjdbc/org/postgresql/jdbc3/abstractjdbc3blob.java\\n \\tjdbc/org/postgresql/jdbc3/abstractjdbc3clob.java\\n \\tjdbc/org/postgresql/jdbc3/abstractjdbc3connection.java\\n \\tjdbc/org/postgresql/jdbc3/abstractjdbc3databasemetadata.java\\n \\tjdbc/org/postgresql/jdbc3/abstractjdbc3resultset.java\\n \\tjdbc/org/postgresql/jdbc3/abstractjdbc3statement.java\\n \\tjdbc/org/postgresql/jdbc3/jdbc3blob.java\\n \\tjdbc/org/postgresql/jdbc3/jdbc3callablestatement.java\\n \\tjdbc/org/postgresql/jdbc3/jdbc3clob.java\\n \\tjdbc/org/postgresql/jdbc3/jdbc3connection.java\\n \\tjdbc/org/postgresql/jdbc3/jdbc3databasemetadata.java\\n \\tjdbc/org/postgresql/jdbc3/jdbc3preparedstatement.java\\n \\tjdbc/org/postgresql/jdbc3/jdbc3resultset.java\\n \\tjdbc/org/postgresql/jdbc3/jdbc3resultsetmetadata.java\\n \\tjdbc/org/postgresql/jdbc3/jdbc3statement.java\\n \\tjdbc/org/postgresql/test/testutil.java\\n \\tjdbc/org/postgresql/test/jdbc2/jdbc2testsuite.java\\n \\tjdbc/org/postgresql/test/jdbc3/jdbc3testsuite.java\\n removed files:\\n \\tjdbc/org/postgresql/postgresqldatasource.java\\n \\tjdbc/org/postgresql/largeobject/pgblob.java\\n \\tjdbc/org/postgresql/largeobject/pgclob.java\\n \\tjdbc/org/postgresql/test/jdbc2tests.java\\n \\tjdbc/org/postgresql/xa/clientconnection.java\\n \\tjdbc/org/postgresql/xa/twophaseconnection.java\\n \\tjdbc/org/postgresql/xa/txconnection.java\\n \\tjdbc/org/postgresql/xa/xaconnectionimpl.java\\n \\tjdbc/org/postgresql/xa/xadatasourceimpl.java\\n\n",
      "category                                                                                                                                                                                                                                                                                                                                                                                                                                                                                                                                                                                                                                                                                                                                                                                                                                                                                                                                                                                                                                                                                                                                                                                                                                                                                                                                                                                                                                                                                                                                                                                                                                                                                                                                                                                                                                                                                                                                                                                                                                                                                                                                                                                                                                                                                                                                                                                                                                                                                                                                                                                                                                                                                                                                                                                                                                                                                                                                                                                                                                                                                                                                                                                                                                                                                                                                                                                                                                                                                                                                                                                                                                                                                                                                                                                                                                                                                                                                                                                                                                                                                                                                                                                                         functional\n",
      "Name: 243, dtype: object\n",
      "Length: 3903\n",
      "\n",
      "Row Index: 878\n",
      "commit_message    merged revisions 391-416 via svnmerge from \\nhttps://svn.parabola.me.uk/svn/mkgmap/branches/filters\\n\\n........\\n  r391 | steve | 2007-12-01 17:22:34 +0000 (sat, 01 dec 2007) | 1 line\\n  \\n  broke out the splitting of lines a little.\\n........\\n  r392 | steve | 2007-12-01 17:28:23 +0000 (sat, 01 dec 2007) | 1 line\\n  \\n  remove the inline line splitting code.\\n........\\n  r393 | steve | 2007-12-01 20:29:03 +0000 (sat, 01 dec 2007) | 1 line\\n  \\n  create filter infrastructure.\\n........\\n  r394 | steve | 2007-12-02 14:35:27 +0000 (sun, 02 dec 2007) | 2 lines\\n  \\n  a working implementation, although there is more to break out into filters and then we need to add some\\n  more functionality.\\n........\\n  r395 | steve | 2007-12-02 22:12:43 +0000 (sun, 02 dec 2007) | 1 line\\n  \\n  rename filter chain\\n........\\n  r396 | steve | 2007-12-02 22:13:25 +0000 (sun, 02 dec 2007) | 1 line\\n  \\n  rename line splitting filter\\n........\\n  r397 | steve | 2007-12-03 09:00:24 +0000 (mon, 03 dec 2007) | 1 line\\n  \\n  rename line splitting filter, add polygon splitter\\n........\\n  r398 | steve | 2007-12-03 10:28:16 +0000 (mon, 03 dec 2007) | 1 line\\n  \\n  make sure that lines are always copied before changing their points as this would change them for all levels.\\n........\\n  r399 | steve | 2007-12-03 10:29:17 +0000 (mon, 03 dec 2007) | 1 line\\n  \\n  add the copy constructors to the mapshape class too.\\n........\\n  r400 | steve | 2007-12-03 11:03:36 +0000 (mon, 03 dec 2007) | 1 line\\n  \\n  add filtering for polygons and only add the line filter for lines and the polygon filters for polygons...\\n........\\n  r401 | steve | 2007-12-03 11:22:18 +0000 (mon, 03 dec 2007) | 1 line\\n  \\n  some tidying\\n........\\n  r402 | steve | 2007-12-03 12:07:22 +0000 (mon, 03 dec 2007) | 1 line\\n  \\n  split out files from the general package that do the actual general-->garmin conversion.\\n........\\n  r405 | steve | 2007-12-03 17:23:48 +0000 (mon, 03 dec 2007) | 1 line\\n  \\n  useful amount of smothing applied.\\n........\\n  r406 | steve | 2007-12-03 20:58:29 +0000 (mon, 03 dec 2007) | 1 line\\n  \\n  fix where was not returning after chaining the filter.\\n........\\n  r407 | steve | 2007-12-03 20:59:07 +0000 (mon, 03 dec 2007) | 1 line\\n  \\n  now we have a polygon splitter.  polygons that have too many points will be split.\\n........\\n  r408 | steve | 2007-12-03 21:16:07 +0000 (mon, 03 dec 2007) | 2 lines\\n  \\n  remove println's\\n........\\n  r409 | steve | 2007-12-03 21:23:57 +0000 (mon, 03 dec 2007) | 1 line\\n  \\n  now that the smoothing is in a filter, remove the old code to remove duplicate points.\\n........\\n\\n\\ngit-svn-id: http://svn.mkgmap.org.uk/mkgmap/trunk@417 25d90789-57f7-4ee0-8453-03a3dfeeeb22\\n\n",
      "category                                                                                                                                                                                                                                                                                                                                                                                                                                                                                                                                                                                                                                                                                                                                                                                                                                                                                                                                                                                                                                                                                                                                                                                                                                                                                                                                                                                                                                                                                                                                                                                                                                                                                                                                                                                                                                                                                                                                                                                                                                                                                                                                                                                                                                                                                                                                                                                                                                                                                                                                                                                                                                                                                                                                                                                                                           bugfix\n",
      "Name: 878, dtype: object\n",
      "Length: 2635\n",
      "\n",
      "Row Index: 50\n",
      "commit_message    - added target for the nearest neighbor finder tool\\n- reduced the default timeout for long-running tests\\n\\n- added a jaccardindex overload for two sets of elements\\n\\n- fixed javadoc\\n\\n- made class serializable\\n\\n- added support for maximum path length\\n\\n- reworked to use the new simpledependencypath class\\n\\n- revised error message for clarity\\n\\n- updated to use new simpledependencypath features\\n\\n- updated to use new simpledependencypath features\\n\\n- major rewrite for clarity\\n\\n- fixed tostring()\\n\\n- added static methods for testing the category of particular pos tag\\n\\n- implemented missing methods\\n\\n- added more imports (not sure why...)\\n\\n- added logging\\n\\n- added support for shuffling the edges of a graph using a fixed random for reproducability\\n\\n- multithreaded the edge similarity comparison\\n\\n- probably some bug fixes too\\n\\n- updated to use intpair instead of pair<integer>\\n\\n- updated to use intset\\n\\n- major overhaul to bring performance in line with the earlier primitive\\n  collection enhancements\\n\\n- probably needs a lot of clean up still\\n\\n- updates to use new primitive collections\\n\\n- updates to use new primitive collections\\n\\n- added support for clustering to a fixed number of clusters\\n\\n- added (limited) support for writing in gexf format\\n\\n- added (limited) support for writing in pajek format\\n\\n- made default output verbose\\n\\n- remove extra temporary file that was just hanging around unneeded\\n\\n- added support for getting the string that backs the document\\n\\n- added a new class for testing the association between two terms, which is\\n  already partially supported by the bigramextractor, but this class supports\\n  limiting the number of items being associated which enables better scaling\\n  through iterative association testing.\\n\\n- this class needs a lot of work.\\n\\n- added an iterator for the documents in wackypedia\\n\\n- fixed html bug in javadoc\\n\\n- added new tool for running the nearestneighborfinder from the command line\\n\\n- fixed javadoc\\n\\n- added support for changing the loging level of any logger namespace\\n\\n- added new tool for speeding up repeated nearest-neighbor computations by\\n  partitioning a semanticspace into clusters (using k-means) and then only\\n  searching a subset.\\n\\n- added support for reading and writing to streams and byte[] arrays\\n\\n- updated to be an intset\\n\\n- added pair implementation\\n\\n- fixed iterator remove bug\\n\\n- added more extensive real-world unit tests\\n\\n- added unit test details that match the example in the ahn et al. paper\\n\\n- added more tests\\n\n",
      "category                                                                                                                                                                                                                                                                                                                                                                                                                                                                                                                                                                                                                                                                                                                                                                                                                                                                                                                                                                                                                                                                                                                                                                                                                                                                                                                                                                                                                                                                                                                                                                                                                                                                                                                                                                                                                                                                                                                                                                                                                                                                                                                                                                                                                                                                                                                                                                                                                                                                                                                                                                                                                                                                                            bugfix\n",
      "Name: 50, dtype: object\n",
      "Length: 2488\n"
     ]
    }
   ],
   "source": [
    "# Find the top 5 rows with the maximum lengths in 'col1' (sorted by descending length)\n",
    "top_5_max_lengths = df['commit_message'].str.len().sort_values(ascending=False).head(5)\n",
    "\n",
    "# Print the top 5 rows with corresponding lengths\n",
    "for index, length in top_5_max_lengths.items():\n",
    "  print(f\"\\nRow Index: {index}\")\n",
    "  print(df.loc[index])\n",
    "  print(f\"Length: {length}\")\n",
    "\n"
   ]
  },
  {
   "cell_type": "code",
   "execution_count": 42,
   "metadata": {},
   "outputs": [],
   "source": [
    "df['commit_message_clean'] = df['commit_message'].apply(clean_text)\n",
    "df['commit_message_clean'] = df['commit_message_clean'].apply(remove_stopwords)\n"
   ]
  },
  {
   "cell_type": "code",
   "execution_count": 43,
   "metadata": {},
   "outputs": [
    {
     "name": "stdout",
     "output_type": "stream",
     "text": [
      "\n",
      "Row Index: 400\n",
      "commit_message          changes based on keith's review.  a few tweaks to edgeset to help tracking edge\\nremoval\\n\\n\\tmodified:   src/edu/ucla/sspace/common/similarity.java\\n\\n- updated to use vectormath.dotproduct for the tanimoto coefficient\\n\\n\\tdeleted:    src/edu/ucla/sspace/common/wordcomparator.java\\n\\n- moved to simplenearestneighborfinder\\n\\n\\tmodified:   src/edu/ucla/sspace/dependency/simpledependencypath.java\\n\\n- removed println\\n\\n\\tmodified:   src/edu/ucla/sspace/graph/abstractgraph.java\\n\\n- added missing implementation to subgraph class so now all the unit tests pass\\n\\n\\tmodified:   src/edu/ucla/sspace/graph/directedmultigraph.java\\n\\n- added missing implementation to subgraph class so now all the unit tests pass\\n\\n- fixed bug for reporting the correct edge types after removal\\n\\n- removed dead code\\n\\n\\tmodified:   src/edu/ucla/sspace/graph/edgeset.java\\n\\n- updated so that disconnect() now returns the number of edges that were removed\\n\\n\\tmodified:   src/edu/ucla/sspace/graph/genericedgeset.java\\n\\tmodified:   src/edu/ucla/sspace/graph/sparsedirectededgeset.java\\n\\tmodified:   src/edu/ucla/sspace/graph/sparsedirectedtypededgeset.java\\n\\tmodified:   src/edu/ucla/sspace/graph/sparsetypededgeset.java\\n\\tmodified:   src/edu/ucla/sspace/graph/sparseundirectededgeset.java\\n\\tmodified:   src/edu/ucla/sspace/graph/sparseweightededgeset.java\\n\\n- updated to support edgeset interface change\\n\\n\\tdeleted:    src/edu/ucla/sspace/graph/graphrandomizer.java\\n\\n- removed dead class (functionality is in graphs.java)\\n\\n\\tmodified:   src/edu/ucla/sspace/graph/simpleweightededge.java\\n\\n- fixed hashcode()\\n\\n\\tdeleted:    src/edu/ucla/sspace/graph/sparsesymmetricedgeset.java\\n\\n- removed dead class\\n\\n\\tmodified:   src/edu/ucla/sspace/graph/undirectedmultigraph.java\\n\\n- added missing implementation to subgraph class so now all the unit tests pass\\n\\n- fixed bug for reporting the correct edge types after removal\\n\\n- removed dead code\\n\\n\\tmodified:   src/edu/ucla/sspace/mains/fixeddurationtemporalrandomindexingmain.java\\n\\n- updated to replace wordcomparator with simplenearestneighborfinder\\n\\n\\tmodified:   src/edu/ucla/sspace/mains/lexsubwordsimain.java\\n\\n- updated to replace wordcomparator with simplenearestneighborfinder\\n\\n\\tmodified:   src/edu/ucla/sspace/text/labeledparsedstringdocument.java\\n\\n- updated for new parseddocument interface\\n\\n\\tmodified:   src/edu/ucla/sspace/text/parseddocument.java\\n\\n- updated to specify the format of text() as the tokens with white space delimiters.\\n\\n- added a new prettyprinttext() which is the attempt to nicely format the tokens\\n  as they would have been originally.\\n\\n\\tmodified:   src/edu/ucla/sspace/text/pukwacdocumentiterator.java\\n\\n- fixed javadoc\\n\\n\\tmodified:   src/edu/ucla/sspace/text/ukwacdocumentiterator.java\\n\\n- added more class javadoc\\n\\n\\tmodified:   src/edu/ucla/sspace/tools/nearestneighborfindertool.java\\n\\n- updated to use the class instances instead of the interface\\n\\n\\tmodified:   src/edu/ucla/sspace/tools/semanticspaceexplorer.java\\n\\n- updated to replace wordcomparator with partitioningnearestneighborfinder\\n\\n\\tmodified:   src/edu/ucla/sspace/tools/similaritylistgenerator.java\\n\\n- updated to replace wordcomparator with partitioningnearestneighborfinder\\n\\n\\tmodified:   src/edu/ucla/sspace/util/hashindexer.java\\n\\n- fixed javadoc\\n\\n\\tmodified:   src/edu/ucla/sspace/util/paircounter.java\\n\\n- fixed javadoc\\n\\n\\trenamed:    src/edu/ucla/sspace/util/nearestneighborfinder.java -> src/edu/ucla/sspace/util/partitioningnearestneighborfinder.java\\n\\n- moved so that nearestneighborfinder can be an interface\\n\\n\\tmodified:   src/edu/ucla/sspace/util/reflectionutil.java\\n\\n- removed dead code\\n\\n\\tmodified:   src/edu/ucla/sspace/util/primitive/intinthashmultimap.java\\n\\n- added javadoc\\n\\n\\tmodified:   src/edu/ucla/sspace/util/primitive/intintmultimap.java\\n\\n- added javadoc\\n\\n\\tmodified:   test/edu/ucla/sspace/graph/directedmultigraphtests.java\\n\\n- uncommented out unit tests\\n\\n\\tmodified:   test/edu/ucla/sspace/dependency/breadthfirstpathiteratortest.java\\n\\tmodified:   test/edu/ucla/sspace/dependency/conlldependencyextractortest.java\\n\\tmodified:   test/edu/ucla/sspace/dependency/wackydependencyextractortest.java\\n\\tmodified:   test/edu/ucla/sspace/text/corpora/pukwacdependencycorpusreadertest.java\\n\\tmodified:   test/edu/ucla/sspace/wordsi/dependencycontextextractortest.java\\n\\tmodified:   test/edu/ucla/sspace/wordsi/occurrencedependencycontextgeneratortest.java\\n\\tmodified:   test/edu/ucla/sspace/wordsi/orderingdependencycontextgeneratortest.java\\n\\tmodified:   test/edu/ucla/sspace/wordsi/partofspeechdependencycontextgeneratortest.java\\n\\tmodified:   test/edu/ucla/sspace/wordsi/psd/pseudoworddependencycontextextractortest.java\\n\\tmodified:   test/edu/ucla/sspace/wordsi/semeval/semevaldependencycontextextractortest.java\\n\\n- fixed unit tests to support proper tab-delimiting of the conll format\\n\n",
      "category                                                                                                                                                                                                                                                                                                                                                                                                                                                                                                                                                                                                                                                                                                                                                                                                                                                                                                                                                                                                                                                                                                                                                                                                                                                                                                                                                                                                                                                                                                                                                                                                                                                                                                                                                                                                                                                                                                                                                                                                                                                                                                                                                                                                                                                                                                                                                                                                                                                                                                                                                                                                                                                                                                                                                                                                                                                                                                                                                                                                                                                                                                                                                                                                                                                                                                                                                                                                                                                                                                                                                                                                                                                                                                                                                                                                                                                                                                                                                                                                                                                                                                                                                                                                                                                                                                                                                                                                                                                                                                                                                                                                                                                                                                                                                                                                                                                                                                                                                                                                                                                                                                                                                bugfix\n",
      "commit_message_clean                                                                                                                                                                                                                                                                                                                                                                                                                                                                                                                                                                                                                                                                                                                                                                                                                                                                                                                                                                                                                                                                                                             changes based keiths review tweaks edgeset help tracking edge removal modified srceduuclasspacecommonsimilarityjava updated use vectormathdotproduct tanimoto coefficient deleted srceduuclasspacecommonwordcomparatorjava moved simplenearestneighborfinder modified srceduuclasspacedependencysimpledependencypathjava removed println modified srceduuclasspacegraphabstractgraphjava added missing implementation subgraph class unit tests pass modified srceduuclasspacegraphdirectedmultigraphjava added missing implementation subgraph class unit tests pass fixed bug reporting correct edge types removal removed dead code modified srceduuclasspacegraphedgesetjava updated disconnect returns number edges removed modified srceduuclasspacegraphgenericedgesetjava modified srceduuclasspacegraphsparsedirectededgesetjava modified srceduuclasspacegraphsparsedirectedtypededgesetjava modified srceduuclasspacegraphsparsetypededgesetjava modified srceduuclasspacegraphsparseundirectededgesetjava modified srceduuclasspacegraphsparseweightededgesetjava updated support edgeset interface change deleted srceduuclasspacegraphgraphrandomizerjava removed dead class functionality graphsjava modified srceduuclasspacegraphsimpleweightededgejava fixed hashcode deleted srceduuclasspacegraphsparsesymmetricedgesetjava removed dead class modified srceduuclasspacegraphundirectedmultigraphjava added missing implementation subgraph class unit tests pass fixed bug reporting correct edge types removal removed dead code modified srceduuclasspacemainsfixeddurationtemporalrandomindexingmainjava updated replace wordcomparator simplenearestneighborfinder modified srceduuclasspacemainslexsubwordsimainjava updated replace wordcomparator simplenearestneighborfinder modified srceduuclasspacetextlabeledparsedstringdocumentjava updated new parseddocument interface modified srceduuclasspacetextparseddocumentjava updated specify format text tokens white space delimiters added new prettyprinttext attempt nicely format tokens would originally modified srceduuclasspacetextpukwacdocumentiteratorjava fixed javadoc modified srceduuclasspacetextukwacdocumentiteratorjava added class javadoc modified srceduuclasspacetoolsnearestneighborfindertooljava updated use class instances instead interface modified srceduuclasspacetoolssemanticspaceexplorerjava updated replace wordcomparator partitioningnearestneighborfinder modified srceduuclasspacetoolssimilaritylistgeneratorjava updated replace wordcomparator partitioningnearestneighborfinder modified srceduuclasspaceutilhashindexerjava fixed javadoc modified srceduuclasspaceutilpaircounterjava fixed javadoc renamed srceduuclasspaceutilnearestneighborfinderjava srceduuclasspaceutilpartitioningnearestneighborfinderjava moved nearestneighborfinder interface modified srceduuclasspaceutilreflectionutiljava removed dead code modified srceduuclasspaceutilprimitiveintinthashmultimapjava added javadoc modified srceduuclasspaceutilprimitiveintintmultimapjava added javadoc modified testeduuclasspacegraphdirectedmultigraphtestsjava uncommented unit tests modified testeduuclasspacedependencybreadthfirstpathiteratortestjava modified testeduuclasspacedependencyconlldependencyextractortestjava modified testeduuclasspacedependencywackydependencyextractortestjava modified testeduuclasspacetextcorporapukwacdependencycorpusreadertestjava modified testeduuclasspacewordsidependencycontextextractortestjava modified testeduuclasspacewordsioccurrencedependencycontextgeneratortestjava modified testeduuclasspacewordsiorderingdependencycontextgeneratortestjava modified testeduuclasspacewordsipartofspeechdependencycontextgeneratortestjava modified testeduuclasspacewordsipsdpseudoworddependencycontextextractortestjava modified testeduuclasspacewordsisemevalsemevaldependencycontextextractortestjava fixed unit tests support proper tabdelimiting conll format\n",
      "Name: 400, dtype: object\n",
      "Length: 3869\n",
      "\n",
      "Row Index: 243\n",
      "commit_message          added support for jdbc3.  the driver will now build under jdbc3 (i.e. java 1.4).\\nthis concludes my changes that restructured the code to support jdbc3.\\nthe jdbc unit tests were also resturctured to allow different tests between\\njdbc2 and jdbc3, although currently make check (aka ant test) for jdbc3 just\\nruns the jdbc2 tests.  of special note the largeobject/pgblob and pgclob\\nclasses have been moved under the jdbc2/jdbc3 specific directories as they\\nnow differ by jdbc version.  also note that this checkin removes the\\npostgresqldatasource and files in the xa directory.  a recent checkin has\\nadded new datasource support that replaces the functionality provided by these\\nclasses.\\n\\n modified files:\\n \\tjdbc/build.xml\\n \\tjdbc/org/postgresql/jdbc1/abstractjdbc1databasemetadata.java\\n \\tjdbc/org/postgresql/jdbc1/abstractjdbc1resultset.java\\n \\tjdbc/org/postgresql/jdbc1/abstractjdbc1resultsetmetadata.java\\n \\tjdbc/org/postgresql/jdbc1/abstractjdbc1statement.java\\n \\tjdbc/org/postgresql/jdbc2/abstractjdbc2connection.java\\n \\tjdbc/org/postgresql/jdbc2/abstractjdbc2databasemetadata.java\\n \\tjdbc/org/postgresql/jdbc2/abstractjdbc2resultset.java\\n \\tjdbc/org/postgresql/jdbc2/abstractjdbc2resultsetmetadata.java\\n \\tjdbc/org/postgresql/jdbc2/abstractjdbc2statement.java\\n \\tjdbc/org/postgresql/jdbc2/array.java\\n \\tjdbc/org/postgresql/jdbc2/jdbc2callablestatement.java\\n \\tjdbc/org/postgresql/jdbc2/jdbc2connection.java\\n \\tjdbc/org/postgresql/jdbc2/jdbc2databasemetadata.java\\n \\tjdbc/org/postgresql/jdbc2/jdbc2preparedstatement.java\\n \\tjdbc/org/postgresql/jdbc2/jdbc2resultset.java\\n \\tjdbc/org/postgresql/jdbc2/jdbc2resultsetmetadata.java\\n \\tjdbc/org/postgresql/jdbc2/jdbc2statement.java\\n \\tjdbc/org/postgresql/test/jdbc2/batchexecutetest.java\\n \\tjdbc/org/postgresql/test/jdbc2/blobtest.java\\n \\tjdbc/org/postgresql/test/jdbc2/callablestmttest.java\\n \\tjdbc/org/postgresql/test/jdbc2/connectiontest.java\\n \\tjdbc/org/postgresql/test/jdbc2/databasemetadatatest.java\\n \\tjdbc/org/postgresql/test/jdbc2/datetest.java\\n \\tjdbc/org/postgresql/test/jdbc2/drivertest.java\\n \\tjdbc/org/postgresql/test/jdbc2/jbuildertest.java\\n \\tjdbc/org/postgresql/test/jdbc2/misctest.java\\n \\tjdbc/org/postgresql/test/jdbc2/resultsettest.java\\n \\tjdbc/org/postgresql/test/jdbc2/timetest.java\\n \\tjdbc/org/postgresql/test/jdbc2/timestamptest.java\\n \\tjdbc/org/postgresql/test/jdbc2/updateableresulttest.java\\n added files:\\n \\tjdbc/org/postgresql/jdbc2/abstractjdbc2blob.java\\n \\tjdbc/org/postgresql/jdbc2/abstractjdbc2clob.java\\n \\tjdbc/org/postgresql/jdbc2/jdbc2blob.java\\n \\tjdbc/org/postgresql/jdbc2/jdbc2clob.java\\n \\tjdbc/org/postgresql/jdbc3/abstractjdbc3blob.java\\n \\tjdbc/org/postgresql/jdbc3/abstractjdbc3clob.java\\n \\tjdbc/org/postgresql/jdbc3/abstractjdbc3connection.java\\n \\tjdbc/org/postgresql/jdbc3/abstractjdbc3databasemetadata.java\\n \\tjdbc/org/postgresql/jdbc3/abstractjdbc3resultset.java\\n \\tjdbc/org/postgresql/jdbc3/abstractjdbc3statement.java\\n \\tjdbc/org/postgresql/jdbc3/jdbc3blob.java\\n \\tjdbc/org/postgresql/jdbc3/jdbc3callablestatement.java\\n \\tjdbc/org/postgresql/jdbc3/jdbc3clob.java\\n \\tjdbc/org/postgresql/jdbc3/jdbc3connection.java\\n \\tjdbc/org/postgresql/jdbc3/jdbc3databasemetadata.java\\n \\tjdbc/org/postgresql/jdbc3/jdbc3preparedstatement.java\\n \\tjdbc/org/postgresql/jdbc3/jdbc3resultset.java\\n \\tjdbc/org/postgresql/jdbc3/jdbc3resultsetmetadata.java\\n \\tjdbc/org/postgresql/jdbc3/jdbc3statement.java\\n \\tjdbc/org/postgresql/test/testutil.java\\n \\tjdbc/org/postgresql/test/jdbc2/jdbc2testsuite.java\\n \\tjdbc/org/postgresql/test/jdbc3/jdbc3testsuite.java\\n removed files:\\n \\tjdbc/org/postgresql/postgresqldatasource.java\\n \\tjdbc/org/postgresql/largeobject/pgblob.java\\n \\tjdbc/org/postgresql/largeobject/pgclob.java\\n \\tjdbc/org/postgresql/test/jdbc2tests.java\\n \\tjdbc/org/postgresql/xa/clientconnection.java\\n \\tjdbc/org/postgresql/xa/twophaseconnection.java\\n \\tjdbc/org/postgresql/xa/txconnection.java\\n \\tjdbc/org/postgresql/xa/xaconnectionimpl.java\\n \\tjdbc/org/postgresql/xa/xadatasourceimpl.java\\n\n",
      "category                                                                                                                                                                                                                                                                                                                                                                                                                                                                                                                                                                                                                                                                                                                                                                                                                                                                                                                                                                                                                                                                                                                                                                                                                                                                                                                                                                                                                                                                                                                                                                                                                                                                                                                                                                                                                                                                                                                                                                                                                                                                                                                                                                                                                                                                                                                                                                                                                                                                                                                                                                                                                                                                                                                                                                                                                                                                                                                                                                                                                                                                                                                                                                                                                                                                                                                                                                                                                                                                                                                                                                                                                                                                                                                                                                                                                                                                                                                                                                                                                                                                                                                                                                                                               functional\n",
      "commit_message_clean                                                                                                                                                                                                                                                                                                                                                                                                                                                                                                                                                                                                                                                                                                                                                                                                                                                                                                                            added support jdbc driver build jdbc ie java concludes changes restructured code support jdbc jdbc unit tests also resturctured allow different tests jdbc jdbc although currently make check aka ant test jdbc runs jdbc tests special note largeobjectpgblob pgclob classes moved jdbcjdbc specific directories differ jdbc version also note checkin removes postgresqldatasource files xa directory recent checkin added new datasource support replaces functionality provided classes modified files jdbcbuildxml jdbcorgpostgresqljdbcabstractjdbcdatabasemetadatajava jdbcorgpostgresqljdbcabstractjdbcresultsetjava jdbcorgpostgresqljdbcabstractjdbcresultsetmetadatajava jdbcorgpostgresqljdbcabstractjdbcstatementjava jdbcorgpostgresqljdbcabstractjdbcconnectionjava jdbcorgpostgresqljdbcabstractjdbcdatabasemetadatajava jdbcorgpostgresqljdbcabstractjdbcresultsetjava jdbcorgpostgresqljdbcabstractjdbcresultsetmetadatajava jdbcorgpostgresqljdbcabstractjdbcstatementjava jdbcorgpostgresqljdbcarrayjava jdbcorgpostgresqljdbcjdbccallablestatementjava jdbcorgpostgresqljdbcjdbcconnectionjava jdbcorgpostgresqljdbcjdbcdatabasemetadatajava jdbcorgpostgresqljdbcjdbcpreparedstatementjava jdbcorgpostgresqljdbcjdbcresultsetjava jdbcorgpostgresqljdbcjdbcresultsetmetadatajava jdbcorgpostgresqljdbcjdbcstatementjava jdbcorgpostgresqltestjdbcbatchexecutetestjava jdbcorgpostgresqltestjdbcblobtestjava jdbcorgpostgresqltestjdbccallablestmttestjava jdbcorgpostgresqltestjdbcconnectiontestjava jdbcorgpostgresqltestjdbcdatabasemetadatatestjava jdbcorgpostgresqltestjdbcdatetestjava jdbcorgpostgresqltestjdbcdrivertestjava jdbcorgpostgresqltestjdbcjbuildertestjava jdbcorgpostgresqltestjdbcmisctestjava jdbcorgpostgresqltestjdbcresultsettestjava jdbcorgpostgresqltestjdbctimetestjava jdbcorgpostgresqltestjdbctimestamptestjava jdbcorgpostgresqltestjdbcupdateableresulttestjava added files jdbcorgpostgresqljdbcabstractjdbcblobjava jdbcorgpostgresqljdbcabstractjdbcclobjava jdbcorgpostgresqljdbcjdbcblobjava jdbcorgpostgresqljdbcjdbcclobjava jdbcorgpostgresqljdbcabstractjdbcblobjava jdbcorgpostgresqljdbcabstractjdbcclobjava jdbcorgpostgresqljdbcabstractjdbcconnectionjava jdbcorgpostgresqljdbcabstractjdbcdatabasemetadatajava jdbcorgpostgresqljdbcabstractjdbcresultsetjava jdbcorgpostgresqljdbcabstractjdbcstatementjava jdbcorgpostgresqljdbcjdbcblobjava jdbcorgpostgresqljdbcjdbccallablestatementjava jdbcorgpostgresqljdbcjdbcclobjava jdbcorgpostgresqljdbcjdbcconnectionjava jdbcorgpostgresqljdbcjdbcdatabasemetadatajava jdbcorgpostgresqljdbcjdbcpreparedstatementjava jdbcorgpostgresqljdbcjdbcresultsetjava jdbcorgpostgresqljdbcjdbcresultsetmetadatajava jdbcorgpostgresqljdbcjdbcstatementjava jdbcorgpostgresqltesttestutiljava jdbcorgpostgresqltestjdbcjdbctestsuitejava jdbcorgpostgresqltestjdbcjdbctestsuitejava removed files jdbcorgpostgresqlpostgresqldatasourcejava jdbcorgpostgresqllargeobjectpgblobjava jdbcorgpostgresqllargeobjectpgclobjava jdbcorgpostgresqltestjdbctestsjava jdbcorgpostgresqlxaclientconnectionjava jdbcorgpostgresqlxatwophaseconnectionjava jdbcorgpostgresqlxatxconnectionjava jdbcorgpostgresqlxaxaconnectionimpljava jdbcorgpostgresqlxaxadatasourceimpljava\n",
      "Name: 243, dtype: object\n",
      "Length: 3153\n",
      "\n",
      "Row Index: 833\n",
      "commit_message          lots and lots of bug fixes with a few minor functionality enhancements.\\n\\n\\tmodified:   src/main/java/edu/ucla/sspace/common/similarity.java\\n\\n- added warnings for invalid kl-divergence computations\\n\\n- added kruskal-goodman gamma\\n\\n- discovered spearman's rho and kendall's tau are both wrong (not fixed)  :(\\n\\n\\tmodified:   src/main/java/edu/ucla/sspace/common/statistics/loglikelihoodtest.java\\n\\n- fixed implementation\\n\\n\\tnew file:   src/main/java/edu/ucla/sspace/graph/chinesewhispersclustering.java\\n\\n- added cw clustering, but it does not appear to produce the same results as the\\n  existing code (needs investigation)\\n\\n\\tmodified:   src/main/java/edu/ucla/sspace/graph/graphio.java\\n\\n- tweaked logging\\n\\n\\tmodified:   src/main/java/edu/ucla/sspace/graph/linkclustering.java\\n\\n- made thread count based on processors instead of fixed\\n\\n\\tnew file:   src/main/java/edu/ucla/sspace/graph/simpleweighteddirectedtypededge.java\\n\\tnew file:   src/main/java/edu/ucla/sspace/graph/simpleweightedtypededge.java\\n\\tnew file:   src/main/java/edu/ucla/sspace/graph/sparseweighteddirectededgeset.java\\n\\tnew file:   src/main/java/edu/ucla/sspace/graph/sparseweighteddirectedtypededgeset.java\\n\\tnew file:   src/main/java/edu/ucla/sspace/graph/weighteddirectedmultigraph.java\\n\\tmodified:   src/main/java/edu/ucla/sspace/graph/weighteddirectedtypededge.java\\n\\n- added partial support for weighted multigraphs.  more features are probably needed eventually\\n\\n\\tmodified:   src/main/java/edu/ucla/sspace/graph/io/edgelistreader.java\\n\\n- added better logging instead of printf\\n\\n\\tnew file:   src/main/java/edu/ucla/sspace/graph/io/graphmlreader.java\\n\\n- added initial graphml implementation for reading large graphml files.  only partial support is in place\\n\\n\\tmodified:   src/main/java/edu/ucla/sspace/index/defaultpermutationfunction.java\\n\\n- fixed outstanding bug.  not sure how the bug was there in the first place, as\\n  the code was currently very broken in an odd way.\\n\\n\\tnew file:   src/main/java/edu/ucla/sspace/text/annotateddocument.java\\n\\n- added support for a new document that has a creation date and a label\\n\\n\\tnew file:   src/main/java/edu/ucla/sspace/text/bufferedfilelistdocumentiterator.java\\n\\n- added a new iterator that pre-caches the contents of files in a file list\\n  using a separate thread to cut down on disk i/o\\n\\n\\tmodified:   src/main/java/edu/ucla/sspace/text/filedocument.java\\n\\n- added support for a document back by a file whose contents are loaded into memory on demand\\n\\n\\tnew file:   src/main/java/edu/ucla/sspace/tools/iterativebigramextractor.java\\n\\n- added a tool for finding statistical associations between terms in an\\n  iterative pair-wise manner\\n\\n\\tnew file:   src/main/java/edu/ucla/sspace/tools/linkclusteringtool.java\\n\\n- copied over code from the svn branch for running link clustering from a jar\\n\\n\\tmodified:   src/main/java/edu/ucla/sspace/util/combinediterator.java\\n\\n- corrected the exception to be thrown in remove()\\n\\n\\tmodified:   src/main/java/edu/ucla/sspace/util/hashmultimap.java\\n\\n- correct a few errors in removing keys during iterator\\n\\n- fixed a bug where null was returned instead of the empty set\\n\\n\\tnew file:   src/main/java/edu/ucla/sspace/util/krippendorffsalpha.java\\n\\n- added a partial implementation of krippendorff's alpha for ordinal-valued data\\n\\n\\tmodified:   src/main/java/edu/ucla/sspace/util/multimap.java\\n\\n- clarified the javadoc\\n\\n\\tmodified:   src/main/java/edu/ucla/sspace/util/objectcounter.java\\n\\n- implemented max() and min()\\n\\n\\tmodified:   src/main/java/edu/ucla/sspace/util/pair.java\\n\\n- made serializable\\n\\n\\tmodified:   src/main/java/edu/ucla/sspace/util/setdecorator.java\\n\\n- clarified javadoc\\n\\n\\tnew file:   src/test/java/edu/ucla/sspace/graph/chinesewhisperstest.java\\n\\tnew file:   src/test/java/edu/ucla/sspace/graph/sparseweighteddirectedtypededgesettest.java\\n\\tnew file:   src/test/java/edu/ucla/sspace/graph/weighteddirectedmultigraphtest.java\\n\\n- more unit tests\\n\\n\\tmodified:   src/test/java/edu/ucla/sspace/index/defaultpermutationfunctiontest.java\\n\\n- added some debugging output\\n\n",
      "category                                                                                                                                                                                                                                                                                                                                                                                                                                                                                                                                                                                                                                                                                                                                                                                                                                                                                                                                                                                                                                                                                                                                                                                                                                                                                                                                                                                                                                                                                                                                                                                                                                                                                                                                                                                                                                                                                                                                                                                                                                                                                                                                                                                                                                                                                                                                                                                                                                                                                                                                                                                                                                                                                                                                                                                                                                                                                                                                                                                                                                                                                                                                                                                                                                                                                                                                                                                                                                                                                                                                                                                                                                                                                                                                                                                                                                                                                                                                                                                                                                                                                                                                                                                                                                                                                                                  bugfix\n",
      "commit_message_clean                                                                                                                                                                                                                                                                                                                                                                                                                                                                                                                                                                                                                                                                                                                                                                                                                                                                                                                                                                                                                                                          lots lots bug fixes minor functionality enhancements modified srcmainjavaeduuclasspacecommonsimilarityjava added warnings invalid kldivergence computations added kruskalgoodman gamma discovered spearmans rho kendalls tau wrong fixed modified srcmainjavaeduuclasspacecommonstatisticsloglikelihoodtestjava fixed implementation new file srcmainjavaeduuclasspacegraphchinesewhispersclusteringjava added cw clustering appear produce results existing code needs investigation modified srcmainjavaeduuclasspacegraphgraphiojava tweaked logging modified srcmainjavaeduuclasspacegraphlinkclusteringjava made thread count based processors instead fixed new file srcmainjavaeduuclasspacegraphsimpleweighteddirectedtypededgejava new file srcmainjavaeduuclasspacegraphsimpleweightedtypededgejava new file srcmainjavaeduuclasspacegraphsparseweighteddirectededgesetjava new file srcmainjavaeduuclasspacegraphsparseweighteddirectedtypededgesetjava new file srcmainjavaeduuclasspacegraphweighteddirectedmultigraphjava modified srcmainjavaeduuclasspacegraphweighteddirectedtypededgejava added partial support weighted multigraphs features probably needed eventually modified srcmainjavaeduuclasspacegraphioedgelistreaderjava added better logging instead printf new file srcmainjavaeduuclasspacegraphiographmlreaderjava added initial graphml implementation reading large graphml files partial support place modified srcmainjavaeduuclasspaceindexdefaultpermutationfunctionjava fixed outstanding bug sure bug first place code currently broken odd new file srcmainjavaeduuclasspacetextannotateddocumentjava added support new document creation date label new file srcmainjavaeduuclasspacetextbufferedfilelistdocumentiteratorjava added new iterator precaches contents files file list using separate thread cut disk io modified srcmainjavaeduuclasspacetextfiledocumentjava added support document back file whose contents loaded memory demand new file srcmainjavaeduuclasspacetoolsiterativebigramextractorjava added tool finding statistical associations terms iterative pairwise manner new file srcmainjavaeduuclasspacetoolslinkclusteringtooljava copied code branch running link clustering jar modified srcmainjavaeduuclasspaceutilcombinediteratorjava corrected exception thrown remove modified srcmainjavaeduuclasspaceutilhashmultimapjava correct errors removing keys iterator fixed bug null returned instead empty set new file srcmainjavaeduuclasspaceutilkrippendorffsalphajava added partial implementation krippendorffs alpha ordinalvalued data modified srcmainjavaeduuclasspaceutilmultimapjava clarified javadoc modified srcmainjavaeduuclasspaceutilobjectcounterjava implemented max min modified srcmainjavaeduuclasspaceutilpairjava made serializable modified srcmainjavaeduuclasspaceutilsetdecoratorjava clarified javadoc new file srctestjavaeduuclasspacegraphchinesewhisperstestjava new file srctestjavaeduuclasspacegraphsparseweighteddirectedtypededgesettestjava new file srctestjavaeduuclasspacegraphweighteddirectedmultigraphtestjava unit tests modified srctestjavaeduuclasspaceindexdefaultpermutationfunctiontestjava added debugging output\n",
      "Name: 833, dtype: object\n",
      "Length: 3122\n",
      "\n",
      "Row Index: 50\n",
      "commit_message          - added target for the nearest neighbor finder tool\\n- reduced the default timeout for long-running tests\\n\\n- added a jaccardindex overload for two sets of elements\\n\\n- fixed javadoc\\n\\n- made class serializable\\n\\n- added support for maximum path length\\n\\n- reworked to use the new simpledependencypath class\\n\\n- revised error message for clarity\\n\\n- updated to use new simpledependencypath features\\n\\n- updated to use new simpledependencypath features\\n\\n- major rewrite for clarity\\n\\n- fixed tostring()\\n\\n- added static methods for testing the category of particular pos tag\\n\\n- implemented missing methods\\n\\n- added more imports (not sure why...)\\n\\n- added logging\\n\\n- added support for shuffling the edges of a graph using a fixed random for reproducability\\n\\n- multithreaded the edge similarity comparison\\n\\n- probably some bug fixes too\\n\\n- updated to use intpair instead of pair<integer>\\n\\n- updated to use intset\\n\\n- major overhaul to bring performance in line with the earlier primitive\\n  collection enhancements\\n\\n- probably needs a lot of clean up still\\n\\n- updates to use new primitive collections\\n\\n- updates to use new primitive collections\\n\\n- added support for clustering to a fixed number of clusters\\n\\n- added (limited) support for writing in gexf format\\n\\n- added (limited) support for writing in pajek format\\n\\n- made default output verbose\\n\\n- remove extra temporary file that was just hanging around unneeded\\n\\n- added support for getting the string that backs the document\\n\\n- added a new class for testing the association between two terms, which is\\n  already partially supported by the bigramextractor, but this class supports\\n  limiting the number of items being associated which enables better scaling\\n  through iterative association testing.\\n\\n- this class needs a lot of work.\\n\\n- added an iterator for the documents in wackypedia\\n\\n- fixed html bug in javadoc\\n\\n- added new tool for running the nearestneighborfinder from the command line\\n\\n- fixed javadoc\\n\\n- added support for changing the loging level of any logger namespace\\n\\n- added new tool for speeding up repeated nearest-neighbor computations by\\n  partitioning a semanticspace into clusters (using k-means) and then only\\n  searching a subset.\\n\\n- added support for reading and writing to streams and byte[] arrays\\n\\n- updated to be an intset\\n\\n- added pair implementation\\n\\n- fixed iterator remove bug\\n\\n- added more extensive real-world unit tests\\n\\n- added unit test details that match the example in the ahn et al. paper\\n\\n- added more tests\\n\n",
      "category                                                                                                                                                                                                                                                                                                                                                                                                                                                                                                                                                                                                                                                                                                                                                                                                                                                                                                                                                                                                                                                                                                                                                                                                                                                                                                                                                                                                                                                                                                                                                                                                                                                                                                                                                                                                                                                                                                                                                                                                                                                                                                                                                                                                                                                                                                                                                                                                                                                                                                                                                                                                                                                                                                  bugfix\n",
      "commit_message_clean                                                                                                                                                                                                                                                                                                                                                                                                                                                                                                                                                                                                                                                                                                                         added target nearest neighbor finder tool reduced default timeout longrunning tests added jaccardindex overload two sets elements fixed javadoc made class serializable added support maximum path length reworked use new simpledependencypath class revised error message clarity updated use new simpledependencypath features updated use new simpledependencypath features major rewrite clarity fixed tostring added static methods testing category particular pos tag implemented missing methods added imports sure added logging added support shuffling edges graph using fixed random reproducability multithreaded edge similarity comparison probably bug fixes updated use intpair instead pairinteger updated use intset major overhaul bring performance line earlier primitive collection enhancements probably needs clean still updates use new primitive collections updates use new primitive collections added support clustering fixed number clusters added limited support writing gexf format added limited support writing pajek format made default output verbose remove extra temporary file hanging around unneeded added support getting string backs document added new class testing association two terms already partially supported bigramextractor class supports limiting number items associated enables better scaling iterative association testing class needs work added iterator documents wackypedia fixed html bug javadoc added new tool running nearestneighborfinder command line fixed javadoc added support changing loging level logger namespace added new tool speeding repeated nearestneighbor computations partitioning semanticspace clusters using kmeans searching subset added support reading writing streams byte arrays updated intset added pair implementation fixed iterator remove bug added extensive realworld unit tests added unit test details match example ahn et al paper added tests\n",
      "Name: 50, dtype: object\n",
      "Length: 1891\n",
      "\n",
      "Row Index: 964\n",
      "commit_message          patch from laurent bihanic.  his description is below.\\n\\n-jh-\\n\\nplease find attached a new version of saxoutputter patch which include:\\n  - notification of entityref thru contenthandler.skippedentity() (new method\\nentityref())\\n  - notification of some errors to the registered sax errorhandler (new\\n*protected* method handleerror())\\n\\njdomsource has been updated to support outputting portions of documents.\\nfinally i rewrote the list vs document handling in jdomresult to avoid\\ndestroying the original document (setdocument) to recreate it later (getdocument).\\n\\n\\n> attached is a patch to saxoutputter that fixes the following:\\n>\\n> - added support for comments as element children;\\n>\\n> - added support for cdata (i.e. distinguish cdata from plain text and\\n> use of the start/endcdata callbacks of lexicalhandler): new method cdata();\\n>\\n> - remove support for cdata as children of the document node\\n> (method output(document) used to test on cdata nodes and fired the\\n> corresponding events which seems invalid according to the xml spec. and\\n> the xml parsers i tried!);\\n>\\n> - added support for outputting portions of documents (i.e. lists of jdom\\n> nodes) as such output is valid when used as input of xslt processors.\\n> this feature will be used by jdomsource.\\n>\\n> note: method elementcontent() has been rewritten to support cdata. the\\n> optimization for text-only content has been removed as it did not seem\\n> to bring any performance improvement and made the code quite\\n> complicated. in order to make code clearer, this method now uses the\\n> same type of loop as used by output(document).\\n>\\n> regards,\\n>\\n> laurent\\n>\\n>\\n> laurent bihanic wrote:\\n>\\n>>\\n>> hi,\\n>>\\n>> while reading the saxoutputter code (latest from cvs), i found 2\\n>> apparent bugs:\\n>>\\n>> 1. no support for comments as element children\\n>> saxoutputter fires sax events for comment nodes in method\\n>> output(document) but not in method elementcontent(element,\\n>> namespacestack). hence only top level comments are outputted.\\n>>\\n>> 2. no support for cdata\\n>> the method characters(string) should be changed (adding an argument or\\n>> a new method) to support reporting whether the outputted text is\\n>> regular or cdata using lexicalhandler's start/endcdata methods.\\n>>\\n>> finally, saxoutputter's code never checks for entityref nodes. thus\\n>> these simply disappear from the outputted document. is this on\\n>> purpose? should not jdom at least use contenthandler's skippedentity?\\n>>\\n>> laurent\\n\n",
      "category                                                                                                                                                                                                                                                                                                                                                                                                                                                                                                                                                                                                                                                                                                                                                                                                                                                                                                                                                                                                                                                                                                                                                                                                                                                                                                                                                                                                                                                                                                                                                                                                                                                                                                                                                                                                                                                                                                                                                                                                                                                                                                                                                                                                                                                                                                                                                                                                                                                                                                                                                                                                                               bugfix\n",
      "commit_message_clean                                                                                                                                                                                                                                                                                                                                                                                                                                                                                                                                                                                                                                                                                                                                                                                                patch laurent bihanic description jh please find attached new version saxoutputter patch include notification entityref thru contenthandlerskippedentity new method entityref notification errors registered sax errorhandler new protected method handleerror jdomsource updated support outputting portions documents finally rewrote list vs document handling jdomresult avoid destroying original document setdocument recreate later getdocument attached patch saxoutputter fixes following added support comments element children added support cdata ie distinguish cdata plain text use startendcdata callbacks lexicalhandler new method cdata remove support cdata children document node method outputdocument used test cdata nodes fired corresponding events seems invalid according xml spec xml parsers tried added support outputting portions documents ie lists jdom nodes output valid used input xslt processors feature used jdomsource note method elementcontent rewritten support cdata optimization textonly content removed seem bring performance improvement made code quite complicated order make code clearer method uses type loop used outputdocument regards laurent laurent bihanic wrote hi reading saxoutputter code latest cvs found apparent bugs support comments element children saxoutputter fires sax events comment nodes method outputdocument method elementcontentelement namespacestack hence top level comments outputted support cdata method charactersstring changed adding argument new method support reporting whether outputted text regular cdata using lexicalhandlers startendcdata methods finally saxoutputters code never checks entityref nodes thus simply disappear outputted document purpose jdom least use contenthandlers skippedentity laurent\n",
      "Name: 964, dtype: object\n",
      "Length: 1753\n"
     ]
    }
   ],
   "source": [
    "top_5_max_lengths = df['commit_message_clean'].str.len().sort_values(ascending=False).head(5)\n",
    "\n",
    "\n",
    "for index, length in top_5_max_lengths.items():\n",
    "  print(f\"\\nRow Index: {index}\")\n",
    "  print(df.loc[index])\n",
    "  print(f\"Length: {length}\")\n",
    "\n"
   ]
  },
  {
   "cell_type": "code",
   "execution_count": 44,
   "metadata": {},
   "outputs": [
    {
     "data": {
      "text/html": [
       "<div>\n",
       "<style scoped>\n",
       "    .dataframe tbody tr th:only-of-type {\n",
       "        vertical-align: middle;\n",
       "    }\n",
       "\n",
       "    .dataframe tbody tr th {\n",
       "        vertical-align: top;\n",
       "    }\n",
       "\n",
       "    .dataframe thead th {\n",
       "        text-align: right;\n",
       "    }\n",
       "</style>\n",
       "<table border=\"1\" class=\"dataframe\">\n",
       "  <thead>\n",
       "    <tr style=\"text-align: right;\">\n",
       "      <th></th>\n",
       "      <th>category</th>\n",
       "      <th>commit_message_clean</th>\n",
       "    </tr>\n",
       "  </thead>\n",
       "  <tbody>\n",
       "    <tr>\n",
       "      <th>0</th>\n",
       "      <td>functional</td>\n",
       "      <td>nio reads writes completed caller would compatible old interface functionality connection instance object receive data message multiple opread events</td>\n",
       "    </tr>\n",
       "    <tr>\n",
       "      <th>1</th>\n",
       "      <td>bugfix</td>\n",
       "      <td>temporary fix nonshared jarray objects added generic unittests check jcclucenesolrmontysolr functionality wrote unittest newseman complete processing python side remains call java decide proper behaviour cases tokens addedgrouped</td>\n",
       "    </tr>\n",
       "    <tr>\n",
       "      <th>2</th>\n",
       "      <td>functional</td>\n",
       "      <td>java added rcon functionality source servers added steamcondensersteampacketsrcon package added rconauthrequestpacket added rconauthresponsepacket added rconexecrequestpacket added rconexecresponsepacket added rconpacket added rconnoauthexception split steamsocket querysocket rconsocket stub functionality goldsrc servers goldsrc uses udp needs special implementation added tests</td>\n",
       "    </tr>\n",
       "    <tr>\n",
       "      <th>3</th>\n",
       "      <td>code smell</td>\n",
       "      <td>merge changes pullrequest fix aggregation generation cleanup dead code update dependencies versions</td>\n",
       "    </tr>\n",
       "    <tr>\n",
       "      <th>4</th>\n",
       "      <td>external</td>\n",
       "      <td>bug api builder performance bad incremental build</td>\n",
       "    </tr>\n",
       "    <tr>\n",
       "      <th>...</th>\n",
       "      <td>...</td>\n",
       "      <td>...</td>\n",
       "    </tr>\n",
       "    <tr>\n",
       "      <th>1735</th>\n",
       "      <td>functional</td>\n",
       "      <td>working introducing getspecialfeaturecollection method general get printtemplatefeatures improve numbering</td>\n",
       "    </tr>\n",
       "    <tr>\n",
       "      <th>1736</th>\n",
       "      <td>functional</td>\n",
       "      <td>working next step move calculation handling printtemplatefeature handle multiple templateprinting creation still basic though</td>\n",
       "    </tr>\n",
       "    <tr>\n",
       "      <th>1737</th>\n",
       "      <td>functional</td>\n",
       "      <td>working generalized adjustmapforprintingtemplates ensurevisibilityofprintingtemplates method adjustmapforspecialfeatureclasses ensurevisibilityofspecialfeatures</td>\n",
       "    </tr>\n",
       "    <tr>\n",
       "      <th>1738</th>\n",
       "      <td>code smell</td>\n",
       "      <td>working test coverage minor tweaks removing dead code fixing minor bugs adding tests</td>\n",
       "    </tr>\n",
       "    <tr>\n",
       "      <th>1739</th>\n",
       "      <td>internal</td>\n",
       "      <td>changed render routine text fields added tabbing abilities customscreen various modifications customscreen match new textfield requirements changed size packetsky</td>\n",
       "    </tr>\n",
       "  </tbody>\n",
       "</table>\n",
       "<p>1716 rows × 2 columns</p>\n",
       "</div>"
      ],
      "text/plain": [
       "        category  \\\n",
       "0     functional   \n",
       "1         bugfix   \n",
       "2     functional   \n",
       "3     code smell   \n",
       "4       external   \n",
       "...          ...   \n",
       "1735  functional   \n",
       "1736  functional   \n",
       "1737  functional   \n",
       "1738  code smell   \n",
       "1739    internal   \n",
       "\n",
       "                                                                                                                                                                                                                                                                                                                                                                              commit_message_clean  \n",
       "0                                                                                                                                                                                                                                            nio reads writes completed caller would compatible old interface functionality connection instance object receive data message multiple opread events  \n",
       "1                                                                                                                                                            temporary fix nonshared jarray objects added generic unittests check jcclucenesolrmontysolr functionality wrote unittest newseman complete processing python side remains call java decide proper behaviour cases tokens addedgrouped  \n",
       "2     java added rcon functionality source servers added steamcondensersteampacketsrcon package added rconauthrequestpacket added rconauthresponsepacket added rconexecrequestpacket added rconexecresponsepacket added rconpacket added rconnoauthexception split steamsocket querysocket rconsocket stub functionality goldsrc servers goldsrc uses udp needs special implementation added tests  \n",
       "3                                                                                                                                                                                                                                                                                              merge changes pullrequest fix aggregation generation cleanup dead code update dependencies versions  \n",
       "4                                                                                                                                                                                                                                                                                                                                                bug api builder performance bad incremental build  \n",
       "...                                                                                                                                                                                                                                                                                                                                                                                            ...  \n",
       "1735                                                                                                                                                                                                                                                                                    working introducing getspecialfeaturecollection method general get printtemplatefeatures improve numbering  \n",
       "1736                                                                                                                                                                                                                                                                 working next step move calculation handling printtemplatefeature handle multiple templateprinting creation still basic though  \n",
       "1737                                                                                                                                                                                                                              working generalized adjustmapforprintingtemplates ensurevisibilityofprintingtemplates method adjustmapforspecialfeatureclasses ensurevisibilityofspecialfeatures  \n",
       "1738                                                                                                                                                                                                                                                                                                          working test coverage minor tweaks removing dead code fixing minor bugs adding tests  \n",
       "1739                                                                                                                                                                                                                            changed render routine text fields added tabbing abilities customscreen various modifications customscreen match new textfield requirements changed size packetsky  \n",
       "\n",
       "[1716 rows x 2 columns]"
      ]
     },
     "execution_count": 44,
     "metadata": {},
     "output_type": "execute_result"
    }
   ],
   "source": [
    "del df['commit_message']\n",
    "\n",
    "df"
   ]
  },
  {
   "cell_type": "code",
   "execution_count": 45,
   "metadata": {},
   "outputs": [],
   "source": [
    "from nltk.tokenize import word_tokenize\n",
    "\n",
    "df['tokens'] = df['commit_message_clean'].apply(word_tokenize)\n"
   ]
  },
  {
   "cell_type": "code",
   "execution_count": 46,
   "metadata": {},
   "outputs": [],
   "source": [
    "from nltk import pos_tag\n",
    "\n",
    "df['pos_tags'] = df['tokens'].apply(pos_tag)\n"
   ]
  },
  {
   "cell_type": "code",
   "execution_count": 47,
   "metadata": {},
   "outputs": [],
   "source": [
    "from nltk.corpus import wordnet\n",
    "from nltk.stem import WordNetLemmatizer\n",
    "\n",
    "lemmatizer = WordNetLemmatizer()\n",
    "\n",
    "# Function to map NLTK position tags\n",
    "def get_wordnet_pos(treebank_tag):\n",
    "    if treebank_tag.startswith('J'):\n",
    "        return wordnet.ADJ\n",
    "    elif treebank_tag.startswith('V'):\n",
    "        return wordnet.VERB\n",
    "    elif treebank_tag.startswith('N'):\n",
    "        return wordnet.NOUN\n",
    "    elif treebank_tag.startswith('R'):\n",
    "        return wordnet.ADV\n",
    "    else:\n",
    "        return wordnet.NOUN  # Default to noun if unknown\n",
    "\n",
    "# Lemmatize a sentence with the appropriate POS tag\n",
    "def lemmatize_with_pos(sentence):\n",
    "    return [lemmatizer.lemmatize(word, get_wordnet_pos(pos_tag)) for word, pos_tag in sentence]\n",
    "\n",
    "# Apply the lemmatization function to the pos tags\n",
    "df['lemmatized'] = df['pos_tags'].apply(lemmatize_with_pos)\n"
   ]
  },
  {
   "cell_type": "code",
   "execution_count": 48,
   "metadata": {},
   "outputs": [],
   "source": [
    "df['lemmatized_text'] = df['lemmatized'].apply(' '.join)\n"
   ]
  },
  {
   "cell_type": "code",
   "execution_count": 49,
   "metadata": {},
   "outputs": [
    {
     "data": {
      "text/html": [
       "<div>\n",
       "<style scoped>\n",
       "    .dataframe tbody tr th:only-of-type {\n",
       "        vertical-align: middle;\n",
       "    }\n",
       "\n",
       "    .dataframe tbody tr th {\n",
       "        vertical-align: top;\n",
       "    }\n",
       "\n",
       "    .dataframe thead th {\n",
       "        text-align: right;\n",
       "    }\n",
       "</style>\n",
       "<table border=\"1\" class=\"dataframe\">\n",
       "  <thead>\n",
       "    <tr style=\"text-align: right;\">\n",
       "      <th></th>\n",
       "      <th>lemmatized_text</th>\n",
       "      <th>category</th>\n",
       "    </tr>\n",
       "  </thead>\n",
       "  <tbody>\n",
       "    <tr>\n",
       "      <th>0</th>\n",
       "      <td>nio read write complete caller would compatible old interface functionality connection instance object receive data message multiple opread event</td>\n",
       "      <td>functional</td>\n",
       "    </tr>\n",
       "    <tr>\n",
       "      <th>1</th>\n",
       "      <td>temporary fix nonshared jarray object add generic unittests check jcclucenesolrmontysolr functionality write unittest newseman complete processing python side remain call java decide proper behaviour case token addedgrouped</td>\n",
       "      <td>bugfix</td>\n",
       "    </tr>\n",
       "    <tr>\n",
       "      <th>2</th>\n",
       "      <td>java add rcon functionality source server add steamcondensersteampacketsrcon package add rconauthrequestpacket add rconauthresponsepacket add rconexecrequestpacket add rconexecresponsepacket add rconpacket added rconnoauthexception split steamsocket querysocket rconsocket stub functionality goldsrc server goldsrc use udp need special implementation add test</td>\n",
       "      <td>functional</td>\n",
       "    </tr>\n",
       "    <tr>\n",
       "      <th>3</th>\n",
       "      <td>merge change pullrequest fix aggregation generation cleanup dead code update dependency version</td>\n",
       "      <td>code smell</td>\n",
       "    </tr>\n",
       "    <tr>\n",
       "      <th>4</th>\n",
       "      <td>bug api builder performance bad incremental build</td>\n",
       "      <td>external</td>\n",
       "    </tr>\n",
       "    <tr>\n",
       "      <th>...</th>\n",
       "      <td>...</td>\n",
       "      <td>...</td>\n",
       "    </tr>\n",
       "    <tr>\n",
       "      <th>1735</th>\n",
       "      <td>work introduce getspecialfeaturecollection method general get printtemplatefeatures improve number</td>\n",
       "      <td>functional</td>\n",
       "    </tr>\n",
       "    <tr>\n",
       "      <th>1736</th>\n",
       "      <td>work next step move calculation handle printtemplatefeature handle multiple templateprinting creation still basic though</td>\n",
       "      <td>functional</td>\n",
       "    </tr>\n",
       "    <tr>\n",
       "      <th>1737</th>\n",
       "      <td>work generalize adjustmapforprintingtemplates ensurevisibilityofprintingtemplates method adjustmapforspecialfeatureclasses ensurevisibilityofspecialfeatures</td>\n",
       "      <td>functional</td>\n",
       "    </tr>\n",
       "    <tr>\n",
       "      <th>1738</th>\n",
       "      <td>work test coverage minor tweak remove dead code fix minor bug add test</td>\n",
       "      <td>code smell</td>\n",
       "    </tr>\n",
       "    <tr>\n",
       "      <th>1739</th>\n",
       "      <td>change render routine text field add tabbing ability customscreen various modification customscreen match new textfield requirement change size packetsky</td>\n",
       "      <td>internal</td>\n",
       "    </tr>\n",
       "  </tbody>\n",
       "</table>\n",
       "<p>1716 rows × 2 columns</p>\n",
       "</div>"
      ],
      "text/plain": [
       "                                                                                                                                                                                                                                                                                                                                                              lemmatized_text  \\\n",
       "0                                                                                                                                                                                                                           nio read write complete caller would compatible old interface functionality connection instance object receive data message multiple opread event   \n",
       "1                                                                                                                                             temporary fix nonshared jarray object add generic unittests check jcclucenesolrmontysolr functionality write unittest newseman complete processing python side remain call java decide proper behaviour case token addedgrouped   \n",
       "2     java add rcon functionality source server add steamcondensersteampacketsrcon package add rconauthrequestpacket add rconauthresponsepacket add rconexecrequestpacket add rconexecresponsepacket add rconpacket added rconnoauthexception split steamsocket querysocket rconsocket stub functionality goldsrc server goldsrc use udp need special implementation add test   \n",
       "3                                                                                                                                                                                                                                                                             merge change pullrequest fix aggregation generation cleanup dead code update dependency version   \n",
       "4                                                                                                                                                                                                                                                                                                                           bug api builder performance bad incremental build   \n",
       "...                                                                                                                                                                                                                                                                                                                                                                       ...   \n",
       "1735                                                                                                                                                                                                                                                                       work introduce getspecialfeaturecollection method general get printtemplatefeatures improve number   \n",
       "1736                                                                                                                                                                                                                                                 work next step move calculation handle printtemplatefeature handle multiple templateprinting creation still basic though   \n",
       "1737                                                                                                                                                                                                             work generalize adjustmapforprintingtemplates ensurevisibilityofprintingtemplates method adjustmapforspecialfeatureclasses ensurevisibilityofspecialfeatures   \n",
       "1738                                                                                                                                                                                                                                                                                                   work test coverage minor tweak remove dead code fix minor bug add test   \n",
       "1739                                                                                                                                                                                                                change render routine text field add tabbing ability customscreen various modification customscreen match new textfield requirement change size packetsky   \n",
       "\n",
       "        category  \n",
       "0     functional  \n",
       "1         bugfix  \n",
       "2     functional  \n",
       "3     code smell  \n",
       "4       external  \n",
       "...          ...  \n",
       "1735  functional  \n",
       "1736  functional  \n",
       "1737  functional  \n",
       "1738  code smell  \n",
       "1739    internal  \n",
       "\n",
       "[1716 rows x 2 columns]"
      ]
     },
     "execution_count": 49,
     "metadata": {},
     "output_type": "execute_result"
    }
   ],
   "source": [
    "# del df['commit_message_clean', 'tokens', 'pos_tags', 'lemmatized']\n",
    "\n",
    "df = df[['lemmatized_text', 'category']]\n",
    "\n",
    "df"
   ]
  },
  {
   "cell_type": "code",
   "execution_count": 50,
   "metadata": {},
   "outputs": [
    {
     "name": "stderr",
     "output_type": "stream",
     "text": [
      "/var/folders/t8/nrzsz40n223cvd6fg23stq9m0000gn/T/ipykernel_14792/540129122.py:1: SettingWithCopyWarning: \n",
      "A value is trying to be set on a copy of a slice from a DataFrame.\n",
      "Try using .loc[row_indexer,col_indexer] = value instead\n",
      "\n",
      "See the caveats in the documentation: https://pandas.pydata.org/pandas-docs/stable/user_guide/indexing.html#returning-a-view-versus-a-copy\n",
      "  df['lemmatized_text'] = df['lemmatized_text'].apply(clean_text)\n",
      "/var/folders/t8/nrzsz40n223cvd6fg23stq9m0000gn/T/ipykernel_14792/540129122.py:2: SettingWithCopyWarning: \n",
      "A value is trying to be set on a copy of a slice from a DataFrame.\n",
      "Try using .loc[row_indexer,col_indexer] = value instead\n",
      "\n",
      "See the caveats in the documentation: https://pandas.pydata.org/pandas-docs/stable/user_guide/indexing.html#returning-a-view-versus-a-copy\n",
      "  df['lemmatized_text'] = df['lemmatized_text'].apply(remove_stopwords)\n"
     ]
    }
   ],
   "source": [
    "df['lemmatized_text'] = df['lemmatized_text'].apply(clean_text)\n",
    "df['lemmatized_text'] = df['lemmatized_text'].apply(remove_stopwords)"
   ]
  },
  {
   "cell_type": "code",
   "execution_count": 51,
   "metadata": {},
   "outputs": [
    {
     "name": "stdout",
     "output_type": "stream",
     "text": [
      "\n",
      "Row Index: 400\n",
      "lemmatized_text    change base keiths review tweak edgeset help track edge removal modify srceduuclasspacecommonsimilarityjava update use vectormathdotproduct tanimoto coefficient delete srceduuclasspacecommonwordcomparatorjava move simplenearestneighborfinder modify srceduuclasspacedependencysimpledependencypathjava remove println modify srceduuclasspacegraphabstractgraphjava add miss implementation subgraph class unit test pass modify srceduuclasspacegraphdirectedmultigraphjava add miss implementation subgraph class unit test pass fix bug report correct edge type removal remove dead code modify srceduuclasspacegraphedgesetjava update disconnect return number edge remove modified srceduuclasspacegraphgenericedgesetjava modify srceduuclasspacegraphsparsedirectededgesetjava modify srceduuclasspacegraphsparsedirectedtypededgesetjava modify srceduuclasspacegraphsparsetypededgesetjava modify srceduuclasspacegraphsparseundirectededgesetjava modify srceduuclasspacegraphsparseweightededgesetjava updated support edgeset interface change delete srceduuclasspacegraphgraphrandomizerjava remove dead class functionality graphsjava modify srceduuclasspacegraphsimpleweightededgejava fixed hashcode delete srceduuclasspacegraphsparsesymmetricedgesetjava remove dead class modify srceduuclasspacegraphundirectedmultigraphjava add miss implementation subgraph class unit test pass fix bug report correct edge type removal remove dead code modify srceduuclasspacemainsfixeddurationtemporalrandomindexingmainjava updated replace wordcomparator simplenearestneighborfinder modify srceduuclasspacemainslexsubwordsimainjava updated replace wordcomparator simplenearestneighborfinder modify srceduuclasspacetextlabeledparsedstringdocumentjava updated new parseddocument interface modify srceduuclasspacetextparseddocumentjava update specify format text tokens white space delimiters add new prettyprinttext attempt nicely format token would originally modify srceduuclasspacetextpukwacdocumentiteratorjava fix javadoc modify srceduuclasspacetextukwacdocumentiteratorjava add class javadoc modify srceduuclasspacetoolsnearestneighborfindertooljava update use class instance instead interface modified srceduuclasspacetoolssemanticspaceexplorerjava update replace wordcomparator partitioningnearestneighborfinder modify srceduuclasspacetoolssimilaritylistgeneratorjava updated replace wordcomparator partitioningnearestneighborfinder modify srceduuclasspaceutilhashindexerjava fix javadoc modify srceduuclasspaceutilpaircounterjava fix javadoc rename srceduuclasspaceutilnearestneighborfinderjava srceduuclasspaceutilpartitioningnearestneighborfinderjava move nearestneighborfinder interface modify srceduuclasspaceutilreflectionutiljava remove dead code modify srceduuclasspaceutilprimitiveintinthashmultimapjava add javadoc modify srceduuclasspaceutilprimitiveintintmultimapjava add javadoc modify testeduuclasspacegraphdirectedmultigraphtestsjava uncommented unit test modify testeduuclasspacedependencybreadthfirstpathiteratortestjava modify testeduuclasspacedependencyconlldependencyextractortestjava modify testeduuclasspacedependencywackydependencyextractortestjava modify testeduuclasspacetextcorporapukwacdependencycorpusreadertestjava modify testeduuclasspacewordsidependencycontextextractortestjava modify testeduuclasspacewordsioccurrencedependencycontextgeneratortestjava modify testeduuclasspacewordsiorderingdependencycontextgeneratortestjava modify testeduuclasspacewordsipartofspeechdependencycontextgeneratortestjava modify testeduuclasspacewordsipsdpseudoworddependencycontextextractortestjava modify testeduuclasspacewordsisemevalsemevaldependencycontextextractortestjava fix unit test support proper tabdelimiting conll format\n",
      "category                                                                                                                                                                                                                                                                                                                                                                                                                                                                                                                                                                                                                                                                                                                                                                                                                                                                                                                                                                                                                                                                                                                                                                                                                                                                                                                                                                                                                                                                                                                                                                                                                                                                                                                                                                                                                                                                                                                                                                                                                                                                                                                                                                                                                                                                                                                                                                                                                                                                                                                                                                                                                                                                                                                                                                                                                                                                                                                                                                                                                                                                                                                                                                                                                                                                                                                                                                                                                                                                                                                                                                                                                                                                                                                                                                                                                                                                              bugfix\n",
      "Name: 400, dtype: object\n",
      "Length: 3721\n",
      "\n",
      "Row Index: 243\n",
      "lemmatized_text    added support jdbc driver build jdbc ie java conclude change restructure code support jdbc jdbc unit test also resturctured allow different test jdbc jdbc although currently make check aka ant test jdbc run jdbc test special note largeobjectpgblob pgclob class move jdbcjdbc specific directory differ jdbc version also note checkin remove postgresqldatasource file xa directory recent checkin add new datasource support replaces functionality provide class modify file jdbcbuildxml jdbcorgpostgresqljdbcabstractjdbcdatabasemetadatajava jdbcorgpostgresqljdbcabstractjdbcresultsetjava jdbcorgpostgresqljdbcabstractjdbcresultsetmetadatajava jdbcorgpostgresqljdbcabstractjdbcstatementjava jdbcorgpostgresqljdbcabstractjdbcconnectionjava jdbcorgpostgresqljdbcabstractjdbcdatabasemetadatajava jdbcorgpostgresqljdbcabstractjdbcresultsetjava jdbcorgpostgresqljdbcabstractjdbcresultsetmetadatajava jdbcorgpostgresqljdbcabstractjdbcstatementjava jdbcorgpostgresqljdbcarrayjava jdbcorgpostgresqljdbcjdbccallablestatementjava jdbcorgpostgresqljdbcjdbcconnectionjava jdbcorgpostgresqljdbcjdbcdatabasemetadatajava jdbcorgpostgresqljdbcjdbcpreparedstatementjava jdbcorgpostgresqljdbcjdbcresultsetjava jdbcorgpostgresqljdbcjdbcresultsetmetadatajava jdbcorgpostgresqljdbcjdbcstatementjava jdbcorgpostgresqltestjdbcbatchexecutetestjava jdbcorgpostgresqltestjdbcblobtestjava jdbcorgpostgresqltestjdbccallablestmttestjava jdbcorgpostgresqltestjdbcconnectiontestjava jdbcorgpostgresqltestjdbcdatabasemetadatatestjava jdbcorgpostgresqltestjdbcdatetestjava jdbcorgpostgresqltestjdbcdrivertestjava jdbcorgpostgresqltestjdbcjbuildertestjava jdbcorgpostgresqltestjdbcmisctestjava jdbcorgpostgresqltestjdbcresultsettestjava jdbcorgpostgresqltestjdbctimetestjava jdbcorgpostgresqltestjdbctimestamptestjava jdbcorgpostgresqltestjdbcupdateableresulttestjava add file jdbcorgpostgresqljdbcabstractjdbcblobjava jdbcorgpostgresqljdbcabstractjdbcclobjava jdbcorgpostgresqljdbcjdbcblobjava jdbcorgpostgresqljdbcjdbcclobjava jdbcorgpostgresqljdbcabstractjdbcblobjava jdbcorgpostgresqljdbcabstractjdbcclobjava jdbcorgpostgresqljdbcabstractjdbcconnectionjava jdbcorgpostgresqljdbcabstractjdbcdatabasemetadatajava jdbcorgpostgresqljdbcabstractjdbcresultsetjava jdbcorgpostgresqljdbcabstractjdbcstatementjava jdbcorgpostgresqljdbcjdbcblobjava jdbcorgpostgresqljdbcjdbccallablestatementjava jdbcorgpostgresqljdbcjdbcclobjava jdbcorgpostgresqljdbcjdbcconnectionjava jdbcorgpostgresqljdbcjdbcdatabasemetadatajava jdbcorgpostgresqljdbcjdbcpreparedstatementjava jdbcorgpostgresqljdbcjdbcresultsetjava jdbcorgpostgresqljdbcjdbcresultsetmetadatajava jdbcorgpostgresqljdbcjdbcstatementjava jdbcorgpostgresqltesttestutiljava jdbcorgpostgresqltestjdbcjdbctestsuitejava jdbcorgpostgresqltestjdbcjdbctestsuitejava remove file jdbcorgpostgresqlpostgresqldatasourcejava jdbcorgpostgresqllargeobjectpgblobjava jdbcorgpostgresqllargeobjectpgclobjava jdbcorgpostgresqltestjdbctestsjava jdbcorgpostgresqlxaclientconnectionjava jdbcorgpostgresqlxatwophaseconnectionjava jdbcorgpostgresqlxatxconnectionjava jdbcorgpostgresqlxaxaconnectionimpljava jdbcorgpostgresqlxaxadatasourceimpljava\n",
      "category                                                                                                                                                                                                                                                                                                                                                                                                                                                                                                                                                                                                                                                                                                                                                                                                                                                                                                                                                                                                                                                                                                                                                                                                                                                                                                                                                                                                                                                                                                                                                                                                                                                                                                                                                                                                                                                                                                                                                                                                                                                                                                                                                                                                                                                                                                                                                                                                                                                                                                                                                                                                                                                                                                                                                                                                                                                                                                                                                                                                                                                                                                                                                                                                                                                       functional\n",
      "Name: 243, dtype: object\n",
      "Length: 3126\n",
      "\n",
      "Row Index: 833\n",
      "lemmatized_text    bug fix minor functionality enhancement modify srcmainjavaeduuclasspacecommonsimilarityjava add warning invalid kldivergence computation add kruskalgoodman gamma discover spearmans rho kendall tau wrong fix modify srcmainjavaeduuclasspacecommonstatisticsloglikelihoodtestjava fix implementation new file srcmainjavaeduuclasspacegraphchinesewhispersclusteringjava add cw cluster appear produce result exist code need investigation modify srcmainjavaeduuclasspacegraphgraphiojava tweak log modify srcmainjavaeduuclasspacegraphlinkclusteringjava make thread count base processor instead fix new file srcmainjavaeduuclasspacegraphsimpleweighteddirectedtypededgejava new file srcmainjavaeduuclasspacegraphsimpleweightedtypededgejava new file srcmainjavaeduuclasspacegraphsparseweighteddirectededgesetjava new file srcmainjavaeduuclasspacegraphsparseweighteddirectedtypededgesetjava new file srcmainjavaeduuclasspacegraphweighteddirectedmultigraphjava modify srcmainjavaeduuclasspacegraphweighteddirectedtypededgejava add partial support weight multigraphs feature probably need eventually modify srcmainjavaeduuclasspacegraphioedgelistreaderjava add well log instead printf new file srcmainjavaeduuclasspacegraphiographmlreaderjava add initial graphml implementation read large graphml file partial support place modify srcmainjavaeduuclasspaceindexdefaultpermutationfunctionjava fix outstanding bug sure bug first place code currently break odd new file srcmainjavaeduuclasspacetextannotateddocumentjava add support new document creation date label new file srcmainjavaeduuclasspacetextbufferedfilelistdocumentiteratorjava add new iterator precaches content file file list use separate thread cut disk io modify srcmainjavaeduuclasspacetextfiledocumentjava add support document back file whose content load memory demand new file srcmainjavaeduuclasspacetoolsiterativebigramextractorjava add tool find statistical association term iterative pairwise manner new file srcmainjavaeduuclasspacetoolslinkclusteringtooljava copy code branch run link cluster jar modify srcmainjavaeduuclasspaceutilcombinediteratorjava correct exception throw remove modify srcmainjavaeduuclasspaceutilhashmultimapjava correct error remove key iterator fix bug null return instead empty set new file srcmainjavaeduuclasspaceutilkrippendorffsalphajava add partial implementation krippendorffs alpha ordinalvalued data modify srcmainjavaeduuclasspaceutilmultimapjava clarified javadoc modify srcmainjavaeduuclasspaceutilobjectcounterjava implement max min modify srcmainjavaeduuclasspaceutilpairjava make serializable modified srcmainjavaeduuclasspaceutilsetdecoratorjava clarify javadoc new file srctestjavaeduuclasspacegraphchinesewhisperstestjava new file srctestjavaeduuclasspacegraphsparseweighteddirectedtypededgesettestjava new file srctestjavaeduuclasspacegraphweighteddirectedmultigraphtestjava unit test modify srctestjavaeduuclasspaceindexdefaultpermutationfunctiontestjava add debugging output\n",
      "category                                                                                                                                                                                                                                                                                                                                                                                                                                                                                                                                                                                                                                                                                                                                                                                                                                                                                                                                                                                                                                                                                                                                                                                                                                                                                                                                                                                                                                                                                                                                                                                                                                                                                                                                                                                                                                                                                                                                                                                                                                                                                                                                                                                                                                                                                                                                                                                                                                                                                                                                                                                                                                                                                                                                                                                                                                                                                                                                                                                                                                                                                                    bugfix\n",
      "Name: 833, dtype: object\n",
      "Length: 2975\n",
      "\n",
      "Row Index: 50\n",
      "lemmatized_text    add target near neighbor finder tool reduce default timeout longrunning test add jaccardindex overload two set element fix javadoc make class serializable add support maximum path length rework use new simpledependencypath class revise error message clarity update use new simpledependencypath feature update use new simpledependencypath feature major rewrite clarity fix tostring add static method test category particular po tag implement miss method add import sure add logging added support shuffle edge graph use fix random reproducability multithreaded edge similarity comparison probably bug fix update use intpair instead pairinteger updated use intset major overhaul bring performance line earlier primitive collection enhancement probably need clean still update use new primitive collection update use new primitive collection add support cluster fix number cluster add limited support write gexf format add limited support write pajek format make default output verbose remove extra temporary file hang around unneeded added support get string back document add new class test association two term already partially support bigramextractor class support limit number item associate enables well scale iterative association test class need work add iterator document wackypedia fix html bug javadoc add new tool run nearestneighborfinder command line fix javadoc add support change log level logger namespace add new tool speeding repeat nearestneighbor computation partition semanticspace cluster use kmeans search subset add support read write stream byte array update intset add pair implementation fix iterator remove bug added extensive realworld unit test add unit test detail match example ahn et al paper add test\n",
      "category                                                                                                                                                                                                                                                                                                                                                                                                                                                                                                                                                                                                                                                                                                                                                                                                                                                                                                                                                                                                                                                                                                                                                                                                                                                                                                                                                                                                                                                                                                                                                                                                                                                                                                                                                                                                         bugfix\n",
      "Name: 50, dtype: object\n",
      "Length: 1732\n",
      "\n",
      "Row Index: 964\n",
      "lemmatized_text    patch laurent bihanic description jh please find attached new version saxoutputter patch include notification entityref thru contenthandlerskippedentity new method entityref notification error register sax errorhandler new protect method handleerror jdomsource update support output portion document finally rewrite list document handle jdomresult avoid destroy original document setdocument recreate later getdocument attach patch saxoutputter fix follow add support comment element child add support cdata ie distinguish cdata plain text use startendcdata callback lexicalhandler new method cdata remove support cdata child document node method outputdocument use test cdata node fire corresponding event seem invalid accord xml spec xml parser try added support output portion document ie list jdom node output valid use input xslt processor feature use jdomsource note method elementcontent rewrite support cdata optimization textonly content remove seem bring performance improvement make code quite complicate order make code clearer method use type loop use outputdocument regard laurent laurent bihanic write hi reading saxoutputter code late cv find apparent bug support comment element child saxoutputter fire sax event comment node method outputdocument method elementcontentelement namespacestack hence top level comment output support cdata method charactersstring change add argument new method support report whether output text regular cdata use lexicalhandlers startendcdata method finally saxoutputters code never check entityref node thus simply disappear output document purpose jdom least use contenthandlers skippedentity laurent\n",
      "category                                                                                                                                                                                                                                                                                                                                                                                                                                                                                                                                                                                                                                                                                                                                                                                                                                                                                                                                                                                                                                                                                                                                                                                                                                                                                                                                                                                                                                                                                                                                                                                                                                                                                                                        bugfix\n",
      "Name: 964, dtype: object\n",
      "Length: 1651\n"
     ]
    }
   ],
   "source": [
    "\n",
    "top_5_max_lengths = df['lemmatized_text'].str.len().sort_values(ascending=False).head(5)\n",
    "\n",
    "\n",
    "for index, length in top_5_max_lengths.items():\n",
    "  print(f\"\\nRow Index: {index}\")\n",
    "  print(df.loc[index])\n",
    "  print(f\"Length: {length}\")\n",
    "\n",
    "####### LOWER CASE --> LAMMETIZATION --> pre-processing"
   ]
  },
  {
   "cell_type": "code",
   "execution_count": 52,
   "metadata": {},
   "outputs": [
    {
     "data": {
      "text/plain": [
       "15"
      ]
     },
     "execution_count": 52,
     "metadata": {},
     "output_type": "execute_result"
    }
   ],
   "source": [
    "df.duplicated().sum()"
   ]
  },
  {
   "cell_type": "code",
   "execution_count": 53,
   "metadata": {},
   "outputs": [],
   "source": [
    "df = df.drop_duplicates()"
   ]
  },
  {
   "cell_type": "code",
   "execution_count": 54,
   "metadata": {},
   "outputs": [
    {
     "data": {
      "text/plain": [
       "0"
      ]
     },
     "execution_count": 54,
     "metadata": {},
     "output_type": "execute_result"
    }
   ],
   "source": [
    "df.duplicated().sum()"
   ]
  },
  {
   "cell_type": "code",
   "execution_count": 55,
   "metadata": {},
   "outputs": [
    {
     "data": {
      "text/plain": [
       "lemmatized_text    1701\n",
       "category           1701\n",
       "dtype: int64"
      ]
     },
     "execution_count": 55,
     "metadata": {},
     "output_type": "execute_result"
    }
   ],
   "source": [
    "df.isnull().count()"
   ]
  },
  {
   "cell_type": "code",
   "execution_count": 56,
   "metadata": {},
   "outputs": [],
   "source": [
    "# For rows\n",
    "df = df.dropna(how='all')\n",
    "\n"
   ]
  },
  {
   "cell_type": "code",
   "execution_count": 57,
   "metadata": {},
   "outputs": [
    {
     "data": {
      "text/plain": [
       "lemmatized_text    1701\n",
       "category           1701\n",
       "dtype: int64"
      ]
     },
     "execution_count": 57,
     "metadata": {},
     "output_type": "execute_result"
    }
   ],
   "source": [
    "df.count()"
   ]
  },
  {
   "cell_type": "code",
   "execution_count": 58,
   "metadata": {},
   "outputs": [
    {
     "data": {
      "text/plain": [
       "1"
      ]
     },
     "execution_count": 58,
     "metadata": {},
     "output_type": "execute_result"
    }
   ],
   "source": [
    "df['lemmatized_text'].duplicated().sum()\n"
   ]
  },
  {
   "cell_type": "code",
   "execution_count": 59,
   "metadata": {},
   "outputs": [
    {
     "data": {
      "text/html": [
       "<div>\n",
       "<style scoped>\n",
       "    .dataframe tbody tr th:only-of-type {\n",
       "        vertical-align: middle;\n",
       "    }\n",
       "\n",
       "    .dataframe tbody tr th {\n",
       "        vertical-align: top;\n",
       "    }\n",
       "\n",
       "    .dataframe thead th {\n",
       "        text-align: right;\n",
       "    }\n",
       "</style>\n",
       "<table border=\"1\" class=\"dataframe\">\n",
       "  <thead>\n",
       "    <tr style=\"text-align: right;\">\n",
       "      <th></th>\n",
       "      <th>lemmatized_text</th>\n",
       "      <th>category</th>\n",
       "    </tr>\n",
       "  </thead>\n",
       "  <tbody>\n",
       "    <tr>\n",
       "      <th>577</th>\n",
       "      <td>fix performance regresssion introduce use inetsocketaddress gethostname patch provide scott harrington improve upon kris jurka</td>\n",
       "      <td>bugfix</td>\n",
       "    </tr>\n",
       "    <tr>\n",
       "      <th>578</th>\n",
       "      <td>fix performance regresssion introduce use inetsocketaddress gethostname patch provide scott harrington improve upon kris jurka</td>\n",
       "      <td>external</td>\n",
       "    </tr>\n",
       "  </tbody>\n",
       "</table>\n",
       "</div>"
      ],
      "text/plain": [
       "                                                                                                                    lemmatized_text  \\\n",
       "577  fix performance regresssion introduce use inetsocketaddress gethostname patch provide scott harrington improve upon kris jurka   \n",
       "578  fix performance regresssion introduce use inetsocketaddress gethostname patch provide scott harrington improve upon kris jurka   \n",
       "\n",
       "     category  \n",
       "577    bugfix  \n",
       "578  external  "
      ]
     },
     "execution_count": 59,
     "metadata": {},
     "output_type": "execute_result"
    }
   ],
   "source": [
    "duplicate_records = df[df['lemmatized_text'].duplicated(keep=False)]\n",
    "\n",
    "duplicate_records "
   ]
  },
  {
   "cell_type": "code",
   "execution_count": 60,
   "metadata": {},
   "outputs": [
    {
     "data": {
      "text/html": [
       "<div>\n",
       "<style scoped>\n",
       "    .dataframe tbody tr th:only-of-type {\n",
       "        vertical-align: middle;\n",
       "    }\n",
       "\n",
       "    .dataframe tbody tr th {\n",
       "        vertical-align: top;\n",
       "    }\n",
       "\n",
       "    .dataframe thead th {\n",
       "        text-align: right;\n",
       "    }\n",
       "</style>\n",
       "<table border=\"1\" class=\"dataframe\">\n",
       "  <thead>\n",
       "    <tr style=\"text-align: right;\">\n",
       "      <th></th>\n",
       "      <th>lemmatized_text</th>\n",
       "      <th>category</th>\n",
       "    </tr>\n",
       "  </thead>\n",
       "  <tbody>\n",
       "    <tr>\n",
       "      <th>576</th>\n",
       "      <td>fix pb image interpretation header footer work docx see</td>\n",
       "      <td>bugfix</td>\n",
       "    </tr>\n",
       "    <tr>\n",
       "      <th>577</th>\n",
       "      <td>fix performance regresssion introduce use inetsocketaddress gethostname patch provide scott harrington improve upon kris jurka</td>\n",
       "      <td>bugfix</td>\n",
       "    </tr>\n",
       "    <tr>\n",
       "      <th>578</th>\n",
       "      <td>fix performance regresssion introduce use inetsocketaddress gethostname patch provide scott harrington improve upon kris jurka</td>\n",
       "      <td>external</td>\n",
       "    </tr>\n",
       "    <tr>\n",
       "      <th>579</th>\n",
       "      <td>fix really bug rewrite performance</td>\n",
       "      <td>external</td>\n",
       "    </tr>\n",
       "  </tbody>\n",
       "</table>\n",
       "</div>"
      ],
      "text/plain": [
       "                                                                                                                    lemmatized_text  \\\n",
       "576                                                                         fix pb image interpretation header footer work docx see   \n",
       "577  fix performance regresssion introduce use inetsocketaddress gethostname patch provide scott harrington improve upon kris jurka   \n",
       "578  fix performance regresssion introduce use inetsocketaddress gethostname patch provide scott harrington improve upon kris jurka   \n",
       "579                                                                                              fix really bug rewrite performance   \n",
       "\n",
       "     category  \n",
       "576    bugfix  \n",
       "577    bugfix  \n",
       "578  external  \n",
       "579  external  "
      ]
     },
     "metadata": {},
     "output_type": "display_data"
    }
   ],
   "source": [
    "display(df.iloc[[567, 568, 569, 570]])"
   ]
  },
  {
   "cell_type": "code",
   "execution_count": 61,
   "metadata": {},
   "outputs": [],
   "source": [
    "df = df.drop(labels=[578], axis=0)"
   ]
  },
  {
   "cell_type": "code",
   "execution_count": 62,
   "metadata": {},
   "outputs": [
    {
     "data": {
      "text/html": [
       "<div>\n",
       "<style scoped>\n",
       "    .dataframe tbody tr th:only-of-type {\n",
       "        vertical-align: middle;\n",
       "    }\n",
       "\n",
       "    .dataframe tbody tr th {\n",
       "        vertical-align: top;\n",
       "    }\n",
       "\n",
       "    .dataframe thead th {\n",
       "        text-align: right;\n",
       "    }\n",
       "</style>\n",
       "<table border=\"1\" class=\"dataframe\">\n",
       "  <thead>\n",
       "    <tr style=\"text-align: right;\">\n",
       "      <th></th>\n",
       "      <th>lemmatized_text</th>\n",
       "      <th>category</th>\n",
       "    </tr>\n",
       "  </thead>\n",
       "  <tbody>\n",
       "    <tr>\n",
       "      <th>575</th>\n",
       "      <td>fix issue join team player longer silently kick team try join nonexistant team join fix inconsistency format team join notification message</td>\n",
       "      <td>bugfix</td>\n",
       "    </tr>\n",
       "    <tr>\n",
       "      <th>576</th>\n",
       "      <td>fix pb image interpretation header footer work docx see</td>\n",
       "      <td>bugfix</td>\n",
       "    </tr>\n",
       "    <tr>\n",
       "      <th>577</th>\n",
       "      <td>fix performance regresssion introduce use inetsocketaddress gethostname patch provide scott harrington improve upon kris jurka</td>\n",
       "      <td>bugfix</td>\n",
       "    </tr>\n",
       "    <tr>\n",
       "      <th>579</th>\n",
       "      <td>fix really bug rewrite performance</td>\n",
       "      <td>external</td>\n",
       "    </tr>\n",
       "    <tr>\n",
       "      <th>580</th>\n",
       "      <td>fix reload functionality reload break miss cache invalidation reload flush function repository cache library also global function cache local code library reload though want</td>\n",
       "      <td>bugfix</td>\n",
       "    </tr>\n",
       "  </tbody>\n",
       "</table>\n",
       "</div>"
      ],
      "text/plain": [
       "                                                                                                                                                                   lemmatized_text  \\\n",
       "575                                    fix issue join team player longer silently kick team try join nonexistant team join fix inconsistency format team join notification message   \n",
       "576                                                                                                                        fix pb image interpretation header footer work docx see   \n",
       "577                                                 fix performance regresssion introduce use inetsocketaddress gethostname patch provide scott harrington improve upon kris jurka   \n",
       "579                                                                                                                                             fix really bug rewrite performance   \n",
       "580  fix reload functionality reload break miss cache invalidation reload flush function repository cache library also global function cache local code library reload though want   \n",
       "\n",
       "     category  \n",
       "575    bugfix  \n",
       "576    bugfix  \n",
       "577    bugfix  \n",
       "579  external  \n",
       "580    bugfix  "
      ]
     },
     "metadata": {},
     "output_type": "display_data"
    }
   ],
   "source": [
    "display(df.iloc[[566, 567, 568, 569, 570]])"
   ]
  },
  {
   "cell_type": "code",
   "execution_count": 63,
   "metadata": {},
   "outputs": [
    {
     "name": "stdout",
     "output_type": "stream",
     "text": [
      "lemmatized_text    False\n",
      "category           False\n",
      "dtype: bool\n",
      "[]\n"
     ]
    },
    {
     "name": "stderr",
     "output_type": "stream",
     "text": [
      "/var/folders/t8/nrzsz40n223cvd6fg23stq9m0000gn/T/ipykernel_14792/1045824558.py:6: FutureWarning: DataFrame.applymap has been deprecated. Use DataFrame.map instead.\n",
      "  spaces_mask = df.applymap(is_only_spaces)\n"
     ]
    }
   ],
   "source": [
    "# function that checks if a cell is only space characters\n",
    "def is_only_spaces(x):\n",
    "    return isinstance(x, str) and x.strip() == ''\n",
    "\n",
    "# Apply the function to each element of the DataFrame\n",
    "spaces_mask = df.applymap(is_only_spaces)\n",
    "\n",
    "# all() to check if all values in each column are True (only spaces)\n",
    "columns_only_spaces = spaces_mask.all()\n",
    "\n",
    "print(columns_only_spaces)\n",
    "\n",
    "columns_with_only_spaces = columns_only_spaces[columns_only_spaces].index.tolist()\n",
    "print(columns_with_only_spaces)\n"
   ]
  },
  {
   "cell_type": "code",
   "execution_count": 64,
   "metadata": {},
   "outputs": [
    {
     "data": {
      "text/plain": [
       "lemmatized_text    1700\n",
       "category           1700\n",
       "dtype: int64"
      ]
     },
     "execution_count": 64,
     "metadata": {},
     "output_type": "execute_result"
    }
   ],
   "source": [
    "df.count()"
   ]
  },
  {
   "cell_type": "markdown",
   "metadata": {},
   "source": [
    "### Training/Testing Split"
   ]
  },
  {
   "cell_type": "code",
   "execution_count": 65,
   "metadata": {},
   "outputs": [
    {
     "name": "stdout",
     "output_type": "stream",
     "text": [
      "Requirement already satisfied: scikit-learn in /Users/onkars/Documents/AIProjects/Automated-Software-Refactoring-Commit-Classifier/myenv/lib/python3.12/site-packages (1.4.2)\n",
      "Requirement already satisfied: numpy>=1.19.5 in /Users/onkars/Documents/AIProjects/Automated-Software-Refactoring-Commit-Classifier/myenv/lib/python3.12/site-packages (from scikit-learn) (1.26.4)\n",
      "Requirement already satisfied: scipy>=1.6.0 in /Users/onkars/Documents/AIProjects/Automated-Software-Refactoring-Commit-Classifier/myenv/lib/python3.12/site-packages (from scikit-learn) (1.13.0)\n",
      "Requirement already satisfied: joblib>=1.2.0 in /Users/onkars/Documents/AIProjects/Automated-Software-Refactoring-Commit-Classifier/myenv/lib/python3.12/site-packages (from scikit-learn) (1.4.0)\n",
      "Requirement already satisfied: threadpoolctl>=2.0.0 in /Users/onkars/Documents/AIProjects/Automated-Software-Refactoring-Commit-Classifier/myenv/lib/python3.12/site-packages (from scikit-learn) (3.4.0)\n"
     ]
    }
   ],
   "source": [
    "!pip install scikit-learn"
   ]
  },
  {
   "cell_type": "code",
   "execution_count": 66,
   "metadata": {},
   "outputs": [],
   "source": [
    "from sklearn.model_selection import train_test_split\n",
    "\n",
    "X = df['lemmatized_text']  \n",
    "y = df['category']    \n",
    "\n",
    "\n",
    "x_train, x_test, y_train, y_test = train_test_split(\n",
    "    X, y,\n",
    "    test_size=0.25,       # 25% of the data will be allocated to the test set\n",
    "    stratify=y,           # Stratify based on the labels to maintain distribution\n",
    "    random_state=42       \n",
    ")\n"
   ]
  },
  {
   "cell_type": "code",
   "execution_count": 67,
   "metadata": {},
   "outputs": [
    {
     "data": {
      "text/plain": [
       "1264                                                   update add additional functionality dfrsyn partial fulfillment dfr give existence directory tmpdfrtest several file locally run duracloud instance adminapw credential file upload active queue status info report\n",
       "88                                                                                                                                                                                                                remove class provide backward compatibility eclipse swt\n",
       "1414                                                  feature teststartprofilespecpersistsjobsforeachfileinanonrecursivedirresourcenode correct fail win pick hidden linux modify looks resource windows linux satisfactory fix need understand behavior future cbbedaddf\n",
       "1148                                                                                                                                                                                  rename performance test introduce abstractmodule support concise configuration code\n",
       "1447                                                                                                                                                                                                                            add replace feature addchanges fbbffaedef\n",
       "                                                                                                                                      ...                                                                                                                                \n",
       "774                                                                                                                                                                                                                                       inproved io manager performance\n",
       "845                   mode fix issue many parameter clause commit change query get send db number parameter exceed certain limit clause get broken multiple clause also add docker support modeshapepersistencerelational module low level db operation test different db\n",
       "1579                                                                                                                                                                                                                                   improve program get size read byte\n",
       "660                                                                                                    fix brokennullcheck also catch problem equality expression offend code rule also match array literal expression slightly great accuracy comment cleanup bafdacfced\n",
       "125     add brisksystem feature wait rpc start hold thread reference able cancel part future funcitonality implement wait mechanism checkcreate brisksystem keyspace cassandra ready listen connection since run inside jvm parhaps well use besides connection localhost\n",
       "Name: lemmatized_text, Length: 1275, dtype: object"
      ]
     },
     "execution_count": 67,
     "metadata": {},
     "output_type": "execute_result"
    }
   ],
   "source": [
    "x_train"
   ]
  },
  {
   "cell_type": "code",
   "execution_count": 68,
   "metadata": {},
   "outputs": [
    {
     "name": "stdout",
     "output_type": "stream",
     "text": [
      "category\n",
      "functional    87\n",
      "bugfix        87\n",
      "external      85\n",
      "internal      85\n",
      "code smell    81\n",
      "Name: count, dtype: int64\n"
     ]
    }
   ],
   "source": [
    "category_counts = y_test.value_counts()\n",
    "\n",
    "print(category_counts)\n"
   ]
  },
  {
   "cell_type": "code",
   "execution_count": 69,
   "metadata": {},
   "outputs": [
    {
     "name": "stdout",
     "output_type": "stream",
     "text": [
      "category\n",
      "bugfix        261\n",
      "functional    259\n",
      "internal      257\n",
      "external      255\n",
      "code smell    243\n",
      "Name: count, dtype: int64\n"
     ]
    }
   ],
   "source": [
    "category_counts = y_train.value_counts()\n",
    "print(category_counts)"
   ]
  },
  {
   "cell_type": "code",
   "execution_count": 70,
   "metadata": {},
   "outputs": [
    {
     "data": {
      "text/plain": [
       "1275"
      ]
     },
     "execution_count": 70,
     "metadata": {},
     "output_type": "execute_result"
    }
   ],
   "source": [
    "y_train.count()"
   ]
  },
  {
   "cell_type": "code",
   "execution_count": 71,
   "metadata": {},
   "outputs": [],
   "source": [
    "x_train_path = r\"../dataset/x_train.csv\"\n",
    "\n",
    "x_train.to_csv(x_train_path, index=False)"
   ]
  },
  {
   "cell_type": "code",
   "execution_count": 72,
   "metadata": {},
   "outputs": [],
   "source": [
    "y_train_path = r\"../dataset/y_train.csv\"\n",
    "\n",
    "y_train.to_csv(y_train_path, index=False)"
   ]
  },
  {
   "cell_type": "code",
   "execution_count": 73,
   "metadata": {},
   "outputs": [],
   "source": [
    "x_test_path = r\"../dataset/x_test.csv\"\n",
    "\n",
    "x_test.to_csv(x_test_path, index=False)"
   ]
  },
  {
   "cell_type": "code",
   "execution_count": 74,
   "metadata": {},
   "outputs": [],
   "source": [
    "y_test_path = r\"../dataset/y_test.csv\"\n",
    "\n",
    "y_test.to_csv(y_test_path, index=False)"
   ]
  },
  {
   "cell_type": "code",
   "execution_count": 75,
   "metadata": {},
   "outputs": [],
   "source": [
    "from sklearn.feature_extraction.text import TfidfVectorizer"
   ]
  },
  {
   "cell_type": "code",
   "execution_count": 76,
   "metadata": {},
   "outputs": [],
   "source": [
    "# Initialize TfidfVectorizer\n",
    "vectorizer = TfidfVectorizer(ngram_range=(1, 3), max_features=10000)\n",
    "\n",
    "# Fit and transform the training data\n",
    "x_train_tfidf = vectorizer.fit_transform(x_train)\n",
    "\n",
    "# Only transform the testing data\n",
    "x_test_tfidf = vectorizer.transform(x_test)"
   ]
  },
  {
   "cell_type": "code",
   "execution_count": 77,
   "metadata": {},
   "outputs": [],
   "source": [
    "# from sklearn.ensemble import RandomForestClassifier\n",
    "# from sklearn.linear_model import LogisticRegression\n",
    "# from sklearn.naive_bayes import MultinomialNB\n",
    "# from sklearn.neighbors import KNeighborsClassifier\n",
    "# from sklearn.svm import SVC\n",
    "# from sklearn.tree import DecisionTreeClassifier\n",
    "# from sklearn.metrics import accuracy_score\n",
    "\n",
    "# # Initialize classifiers\n",
    "# classifiers = {\n",
    "#     \"Random Forest\": RandomForestClassifier(),\n",
    "#     \"Logistic Regression\": LogisticRegression(),\n",
    "#     \"Multinomial Naive Bayes\": MultinomialNB(),\n",
    "#     \"K-Nearest Neighbors\": KNeighborsClassifier(),\n",
    "#     \"Support Vector Classification\": SVC(),\n",
    "#     \"Decision Tree\": DecisionTreeClassifier()\n",
    "# }\n",
    "\n",
    "# # Dictionary to store the accuracy of each classifier\n",
    "# accuracy_results = {}\n",
    "\n",
    "# # Train and evaluate each classifier\n",
    "# for classifier_name, classifier in classifiers.items():\n",
    "#     # Train the classifier\n",
    "#     classifier.fit(x_train_tfidf, y_train)\n",
    "    \n",
    "#     # Predict on the test set\n",
    "#     y_pred = classifier.predict(x_test_tfidf)\n",
    "    \n",
    "#     # Evaluate the accuracy\n",
    "#     accuracy = accuracy_score(y_test, y_pred)\n",
    "#     accuracy_results[classifier_name] = accuracy\n",
    "#     print(f\"{classifier_name} Accuracy: {accuracy}\")\n"
   ]
  },
  {
   "cell_type": "code",
   "execution_count": 78,
   "metadata": {},
   "outputs": [],
   "source": [
    "# k-fold"
   ]
  },
  {
   "cell_type": "code",
   "execution_count": 79,
   "metadata": {},
   "outputs": [],
   "source": [
    "from sklearn.ensemble import RandomForestClassifier\n",
    "from sklearn.svm import SVC\n",
    "from sklearn.tree import DecisionTreeClassifier\n",
    "from sklearn.linear_model import LogisticRegression\n",
    "from sklearn.naive_bayes import MultinomialNB\n",
    "from sklearn.neighbors import KNeighborsClassifier\n",
    "from sklearn.metrics import accuracy_score\n",
    "\n",
    "# # Initialize classifiers with specified hyperparameters\n",
    "# classifiers = {\n",
    "#     \"Random Forest\": RandomForestClassifier(max_depth=70, n_estimators=58, criterion='gini', bootstrap=False),\n",
    "#     \"Support Vector Classification\": SVC(gamma=1.9, kernel='linear', C=1.0),\n",
    "#     \"Decision Tree\": DecisionTreeClassifier(max_depth=75, criterion='gini'),\n",
    "#     \"Logistic Regression\": LogisticRegression(penalty='l2', C=1.0, solver='liblinear'),\n",
    "#     \"Multinomial Naive Bayes\": MultinomialNB(alpha=0.63),\n",
    "#     \"K-Nearest Neighbors\": KNeighborsClassifier(n_neighbors=69, weights='uniform')\n",
    "# }\n",
    "\n",
    "# # Train and evaluate each classifier\n",
    "# for classifier_name, classifier in classifiers.items():\n",
    "#     # Train the classifier\n",
    "#     classifier.fit(x_train_tfidf, y_train)\n",
    "    \n",
    "#     # Predict on the test set\n",
    "#     y_pred = classifier.predict(x_test_tfidf)\n",
    "    \n",
    "#     # Calculate accuracy\n",
    "#     accuracy = accuracy_score(y_test, y_pred)\n",
    "#     print(f\"{classifier_name} Accuracy: {accuracy}\")\n"
   ]
  },
  {
   "cell_type": "code",
   "execution_count": 80,
   "metadata": {},
   "outputs": [
    {
     "name": "stdout",
     "output_type": "stream",
     "text": [
      "Training Random Forest...\n",
      "Random Forest Accuracy: 0.8470588235294118\n",
      "Random Forest Classification Report:\n",
      "              precision    recall  f1-score   support\n",
      "\n",
      "      bugfix       0.82      0.80      0.81        87\n",
      "  code smell       0.96      0.98      0.97        81\n",
      "    external       0.77      0.85      0.80        85\n",
      "  functional       0.81      0.76      0.79        87\n",
      "    internal       0.88      0.86      0.87        85\n",
      "\n",
      "    accuracy                           0.85       425\n",
      "   macro avg       0.85      0.85      0.85       425\n",
      "weighted avg       0.85      0.85      0.85       425\n",
      "\n",
      "Training Support Vector Classification...\n",
      "Support Vector Classification Accuracy: 0.8211764705882353\n",
      "Support Vector Classification Classification Report:\n",
      "              precision    recall  f1-score   support\n",
      "\n",
      "      bugfix       0.76      0.71      0.73        87\n",
      "  code smell       0.93      0.96      0.95        81\n",
      "    external       0.82      0.79      0.80        85\n",
      "  functional       0.71      0.82      0.76        87\n",
      "    internal       0.92      0.84      0.88        85\n",
      "\n",
      "    accuracy                           0.82       425\n",
      "   macro avg       0.83      0.82      0.82       425\n",
      "weighted avg       0.82      0.82      0.82       425\n",
      "\n",
      "Training Decision Tree...\n",
      "Decision Tree Accuracy: 0.7976470588235294\n",
      "Decision Tree Classification Report:\n",
      "              precision    recall  f1-score   support\n",
      "\n",
      "      bugfix       0.87      0.70      0.78        87\n",
      "  code smell       0.76      0.96      0.85        81\n",
      "    external       0.75      0.81      0.78        85\n",
      "  functional       0.80      0.78      0.79        87\n",
      "    internal       0.83      0.74      0.78        85\n",
      "\n",
      "    accuracy                           0.80       425\n",
      "   macro avg       0.80      0.80      0.80       425\n",
      "weighted avg       0.80      0.80      0.80       425\n",
      "\n",
      "Training Logistic Regression...\n",
      "Logistic Regression Accuracy: 0.8117647058823529\n",
      "Logistic Regression Classification Report:\n",
      "              precision    recall  f1-score   support\n",
      "\n",
      "      bugfix       0.81      0.64      0.72        87\n",
      "  code smell       0.91      0.98      0.94        81\n",
      "    external       0.76      0.75      0.76        85\n",
      "  functional       0.69      0.83      0.75        87\n",
      "    internal       0.93      0.87      0.90        85\n",
      "\n",
      "    accuracy                           0.81       425\n",
      "   macro avg       0.82      0.81      0.81       425\n",
      "weighted avg       0.82      0.81      0.81       425\n",
      "\n",
      "Training Multinomial Naive Bayes...\n",
      "Multinomial Naive Bayes Accuracy: 0.7788235294117647\n",
      "Multinomial Naive Bayes Classification Report:\n",
      "              precision    recall  f1-score   support\n",
      "\n",
      "      bugfix       0.63      0.82      0.71        87\n",
      "  code smell       0.91      0.96      0.93        81\n",
      "    external       0.96      0.59      0.73        85\n",
      "  functional       0.65      0.76      0.70        87\n",
      "    internal       0.90      0.78      0.84        85\n",
      "\n",
      "    accuracy                           0.78       425\n",
      "   macro avg       0.81      0.78      0.78       425\n",
      "weighted avg       0.81      0.78      0.78       425\n",
      "\n",
      "Training K-Nearest Neighbors...\n",
      "K-Nearest Neighbors Accuracy: 0.7341176470588235\n",
      "K-Nearest Neighbors Classification Report:\n",
      "              precision    recall  f1-score   support\n",
      "\n",
      "      bugfix       0.67      0.70      0.69        87\n",
      "  code smell       0.77      0.98      0.86        81\n",
      "    external       0.75      0.67      0.71        85\n",
      "  functional       0.61      0.61      0.61        87\n",
      "    internal       0.90      0.73      0.81        85\n",
      "\n",
      "    accuracy                           0.73       425\n",
      "   macro avg       0.74      0.74      0.73       425\n",
      "weighted avg       0.74      0.73      0.73       425\n",
      "\n"
     ]
    }
   ],
   "source": [
    "from sklearn.metrics import classification_report\n",
    "\n",
    "classifiers = {\n",
    "    \"Random Forest\": RandomForestClassifier(max_depth=78, n_estimators=500, criterion='gini', bootstrap=False),\n",
    "    \"Support Vector Classification\": SVC(gamma='scale', kernel='linear', C=1.99),\n",
    "    \"Decision Tree\": DecisionTreeClassifier(max_depth=75, criterion='gini'),\n",
    "    \"Logistic Regression\": LogisticRegression(penalty='l1', C=1.0, solver='liblinear'),\n",
    "    \"Multinomial Naive Bayes\": MultinomialNB(alpha=2.63),\n",
    "    \"K-Nearest Neighbors\": KNeighborsClassifier(n_neighbors=69, weights='uniform')\n",
    "}\n",
    "\n",
    "evaluation_reports = {}\n",
    "\n",
    "# Train, predict, and evaluate each classifier separately\n",
    "for classifier_name, classifier in classifiers.items():\n",
    "    print(f\"Training {classifier_name}...\")\n",
    "    \n",
    "    # Train the classifier\n",
    "    classifier.fit(x_train_tfidf, y_train)\n",
    "    \n",
    "    # Predict on the test set\n",
    "    y_pred = classifier.predict(x_test_tfidf)\n",
    "    \n",
    "    # Generate a classification report\n",
    "    report = classification_report(y_test, y_pred, output_dict=True)\n",
    "    \n",
    "    # Print accuracy and store the report for further analysis\n",
    "    print(f\"{classifier_name} Accuracy: {report['accuracy']}\")\n",
    "    evaluation_reports[classifier_name] = report\n",
    "    \n",
    "    # Detailed report\n",
    "    print(f\"{classifier_name} Classification Report:\")\n",
    "    print(classification_report(y_test, y_pred))\n",
    "    \n"
   ]
  },
  {
   "cell_type": "code",
   "execution_count": 81,
   "metadata": {},
   "outputs": [],
   "source": [
    "    # def fit(self, X, y):\n",
    "        \n",
    "    #     X_preprocessed = preprocess(X.copy())\n",
    "        \n",
    "    #     # Separating text data for TF-IDF transformation\n",
    "    #     text_data = X_preprocessed.pop('combined_text')\n",
    "        \n",
    "    #     text_features = self.tfidf_vectorizer.fit_transform(text_data)\n",
    "        \n",
    "    #     # Combining text features with other features\n",
    "    #     X_combined = np.hstack((text_features.toarray(), X_preprocessed.values))\n",
    "        \n",
    "    #     self.classifier.fit(X_combined, y)\n",
    "        \n",
    "    #     # # Define a broad range of parameters for RandomizedSearchCV\n",
    "    #     # rf_random_params = {\n",
    "    #     #     'n_estimators': np.arange(100, 1001, 100),\n",
    "    #     #     'max_depth': np.arange(10, 101, 10),\n",
    "    #     #     'min_samples_split': np.arange(2, 11, 1),\n",
    "    #     #     'criterion': ['gini', 'entropy']\n",
    "    #     # }\n",
    "        \n",
    "    #     # # Randomized Search with Cross-Validation\n",
    "    #     # self.rfc = RandomForestClassifier(class_weight=\"balanced\", random_state=42)\n",
    "    #     # random_search = RandomizedSearchCV(self.rfc, rf_random_params, n_iter=100, cv=5, scoring='f1', n_jobs=-1, random_state=42)\n",
    "    #     # random_search.fit(X_combined, y)\n",
    "    #     # print(\"Best parameters from RandomizedSearch: \", random_search.best_params_)\n",
    "\n",
    "    #     # # Refine search with GridSearchCV around the best parameters found\n",
    "    #     # best_params = random_search.best_params_\n",
    "    #     # rf_grid_params = {\n",
    "    #     #     'n_estimators': [best_params['n_estimators'] - 50, best_params['n_estimators'], best_params['n_estimators'] + 50],\n",
    "    #     #     'max_depth': [best_params['max_depth'] - 10, best_params['max_depth'], best_params['max_depth'] + 10],\n",
    "    #     #     'min_samples_split': [best_params['min_samples_split'] - 1, best_params['min_samples_split'], best_params['min_samples_split'] + 1],\n",
    "    #     #     'criterion': [best_params['criterion']]\n",
    "    #     # }\n",
    "    #     # self.rscv = GridSearchCV(self.rfc, rf_grid_params, cv=5, scoring='f1', n_jobs=-1)\n",
    "    #     # self.rscv.fit(X_combined, y)\n",
    "    #     # print(\"Refined best parameters from GridSearchCV: \", self.rscv.best_params_)"
   ]
  },
  {
   "cell_type": "code",
   "execution_count": 82,
   "metadata": {},
   "outputs": [],
   "source": [
    "# from sklearn.model_selection import RandomizedSearchCV, GridSearchCV\n",
    "# from sklearn.ensemble import RandomForestClassifier\n",
    "# import numpy as np\n",
    "\n",
    "# # Assuming x_train_tfidf and y_train are already defined as your training dataset and labels\n",
    "\n",
    "# # Initialize RandomForestClassifier\n",
    "# rf_classifier = RandomForestClassifier(class_weight=\"balanced\", random_state=42)\n",
    "\n",
    "# # Define the parameter space for RandomizedSearchCV\n",
    "# random_grid = {\n",
    "#     'n_estimators': np.arange(100, 1001, 100),  # Number of trees in the forest\n",
    "#     'max_depth': np.arange(10, 101, 10),  # Maximum depth of the tree\n",
    "#     'bootstrap': [True, False],  # Method of selecting samples for training each tree\n",
    "#     'criterion': ['gini', 'entropy']  # The function to measure the quality of a split\n",
    "# }\n",
    "\n",
    "# # Random search of parameters, using 3 fold cross validation,\n",
    "# # search across 100 different combinations, and use all available cores\n",
    "# rf_random = RandomizedSearchCV(estimator=rf_classifier, param_distributions=random_grid, n_iter=100, cv=3, verbose=2, random_state=42, n_jobs=-1)\n",
    "\n",
    "# # Fit the random search model\n",
    "# rf_random.fit(x_train_tfidf, y_train)\n",
    "\n",
    "# # Output the best parameters from RandomizedSearchCV\n",
    "# print(\"Best parameters found by RandomizedSearchCV:\")\n",
    "# print(rf_random.best_params_)\n",
    "\n",
    "# # You can now take the best parameters from the random search and use them to\n",
    "# # create a more focused search with GridSearchCV (if necessary). This might involve\n",
    "# # narrower ranges of parameters or specific combinations that you want to test exhaustively.\n",
    "\n",
    "# # Refine search with GridSearchCV around the best parameters found\n",
    "# best_params = rf_random.best_params_\n",
    "# rf_grid_params = {\n",
    "#             'n_estimators': [best_params['n_estimators'] - 50, best_params['n_estimators'], best_params['n_estimators'] + 50],\n",
    "#             'max_depth': [best_params['max_depth'] - 10, best_params['max_depth'], best_params['max_depth'] + 10],            \n",
    "#             'criterion': [best_params['criterion']],\n",
    "#             'bootstrap': [best_params['bootstrap']]\n",
    "# }\n",
    "# rscv = GridSearchCV(rf_classifier, rf_grid_params, cv=5, scoring='f1', n_jobs=-1)\n",
    "# rscv.fit(x_train_tfidf, y_train)\n",
    "# print(\"Refined best parameters from GridSearchCV: \", rscv.best_params_)\n",
    "\n",
    "\n",
    "# # {'n_estimators': 1000, 'min_samples_split': 8, 'max_depth': 90, 'criterion': 'gini', 'bootstrap': False}\n",
    "# # Refined best parameters from GridSearchCV:  {'criterion': 'gini', 'max_depth': 80, 'min_samples_split': 7, 'n_estimators': 950}\n",
    "\n",
    "# # {'n_estimators': 200, 'max_depth': 40, 'criterion': 'gini', 'bootstrap': False}\n",
    "# # Refined best parameters from GridSearchCV:  {'bootstrap': False, 'criterion': 'gini', 'max_depth': 30, 'n_estimators': 150}\n",
    "\n",
    "# # {'bootstrap': False, 'criterion': 'gini', 'max_depth': 80, 'n_estimators': 950}"
   ]
  },
  {
   "cell_type": "code",
   "execution_count": 83,
   "metadata": {},
   "outputs": [],
   "source": [
    "# from sklearn.model_selection import RandomizedSearchCV, GridSearchCV\n",
    "# from sklearn.svm import SVC\n",
    "# import numpy as np\n",
    "\n",
    "# # Assuming x_train_tfidf and y_train are already defined\n",
    "\n",
    "# # Initialize the SVC model\n",
    "# svc = SVC(random_state=42)\n",
    "\n",
    "# # Define a parameter space for RandomizedSearchCV\n",
    "# param_distributions = {\n",
    "#     'C': np.logspace(-4, 4, 20),  # Regularization parameter\n",
    "#     'gamma': ['scale', 'auto'],  # Kernel coefficient for 'rbf', 'poly' and 'sigmoid'\n",
    "#     'kernel': ['linear', 'poly', 'rbf', 'sigmoid']  # Specifies the kernel type to be used in the algorithm\n",
    "# }\n",
    "\n",
    "# # Random search of parameters, using 3 fold cross validation,\n",
    "# # search across a wide range of combinations, and use all available cores\n",
    "# svm_random = RandomizedSearchCV(estimator=svc, param_distributions=param_distributions, n_iter=100, cv=3, verbose=2, random_state=42, n_jobs=-1)\n",
    "\n",
    "# # Fit the random search model\n",
    "# svm_random.fit(x_train_tfidf, y_train)\n",
    "\n",
    "# # Output the best parameters from RandomizedSearchCV\n",
    "# print(\"Best parameters found by RandomizedSearchCV for SVM:\")\n",
    "# print(svm_random.best_params_)\n",
    "\n",
    "\n",
    "# # Extract the best parameters found by RandomizedSearchCV\n",
    "# best_params = svm_random.best_params_\n",
    "\n",
    "# # Create a parameter grid focused around the best parameters found\n",
    "# param_grid = {\n",
    "#     'C': [best_params['C'] * 0.5, best_params['C'], best_params['C'] * 2],\n",
    "#     'gamma': [best_params['gamma']],\n",
    "#     'kernel': [best_params['kernel']]\n",
    "# }\n",
    "\n",
    "# # Create a GridSearchCV for a more focused search\n",
    "# svm_grid = GridSearchCV(estimator=SVC(random_state=42), param_grid=param_grid, cv=5, verbose=2, n_jobs=-1)\n",
    "\n",
    "# # Fit GridSearchCV\n",
    "# svm_grid.fit(x_train_tfidf, y_train)\n",
    "\n",
    "# # Output the best parameters from GridSearchCV\n",
    "# print(\"Refined best parameters from GridSearchCV for SVM:\")\n",
    "# print(svm_grid.best_params_)\n",
    "\n",
    "\n",
    "\n",
    "\n",
    "# # Fitting 3 folds for each of 100 candidates, totalling 300 fits\n",
    "# # Best parameters found by RandomizedSearchCV for SVM:\n",
    "# # {'kernel': 'rbf', 'gamma': 0.001, 'C': 545.5594781168514}\n",
    "# # Fitting 5 folds for each of 9 candidates, totalling 45 fits\n",
    "# # Refined best parameters from GridSearchCV for SVM:\n",
    "# # {'C': 272.7797390584257, 'gamma': 0.002, 'kernel': 'rbf'}\n",
    "# # {'C': 5000.0, 'gamma': 'auto', 'kernel': 'rbf'}"
   ]
  },
  {
   "cell_type": "code",
   "execution_count": 84,
   "metadata": {},
   "outputs": [],
   "source": [
    "# from sklearn.model_selection import RandomizedSearchCV, GridSearchCV\n",
    "# from sklearn.tree import DecisionTreeClassifier\n",
    "# import numpy as np\n",
    "\n",
    "# # Assuming x_train_tfidf and y_train are defined\n",
    "\n",
    "# # Initialize DecisionTreeClassifier\n",
    "# dt_classifier = DecisionTreeClassifier(random_state=42)\n",
    "\n",
    "# # Define the parameter space for RandomizedSearchCV\n",
    "# param_distributions = {\n",
    "#     'max_depth': np.arange(10, 101, 10),  # Maximum depth of the tree\n",
    "#     'criterion': ['gini', 'entropy']  # The function to measure the quality of a split\n",
    "# }\n",
    "\n",
    "# # Random search of parameters, using 3 fold cross validation,\n",
    "# # search across a wide range of combinations, and use all available cores\n",
    "# dt_random = RandomizedSearchCV(estimator=dt_classifier, param_distributions=param_distributions, n_iter=100, cv=3, verbose=2, random_state=42, n_jobs=-1)\n",
    "\n",
    "# # Fit the random search model\n",
    "# dt_random.fit(x_train_tfidf, y_train)\n",
    "\n",
    "# # Output the best parameters from RandomizedSearchCV\n",
    "# print(\"Best parameters found by RandomizedSearchCV for Decision Tree:\")\n",
    "# print(dt_random.best_params_)\n",
    "\n",
    "# # Extract the best parameters found by RandomizedSearchCV\n",
    "# best_params = dt_random.best_params_\n",
    "\n",
    "# # Create a parameter grid focused around the best parameters found\n",
    "# param_grid = {\n",
    "#     'max_depth': [best_params['max_depth'] - 10, best_params['max_depth'], best_params['max_depth'] + 10] if best_params['max_depth'] is not None else np.arange(5, 16, 5),\n",
    "#     'criterion': [best_params['criterion']]\n",
    "# }\n",
    "\n",
    "# # Create a GridSearchCV for a more focused search\n",
    "# dt_grid = GridSearchCV(estimator=DecisionTreeClassifier(random_state=42), param_grid=param_grid, cv=5, verbose=2, n_jobs=-1)\n",
    "\n",
    "# # Fit GridSearchCV\n",
    "# dt_grid.fit(x_train_tfidf, y_train)\n",
    "\n",
    "# # Output the best parameters from GridSearchCV\n",
    "# print(\"Refined best parameters from GridSearchCV for Decision Tree:\")\n",
    "# print(dt_grid.best_params_)\n",
    "\n",
    "# # {'criterion': 'gini', 'max_depth': 30}"
   ]
  },
  {
   "cell_type": "code",
   "execution_count": 85,
   "metadata": {},
   "outputs": [],
   "source": [
    "# from sklearn.model_selection import RandomizedSearchCV, GridSearchCV\n",
    "# from sklearn.linear_model import LogisticRegression\n",
    "# import numpy as np\n",
    "\n",
    "# # Assuming x_train_tfidf and y_train are defined\n",
    "\n",
    "# # Initialize LogisticRegression\n",
    "# logistic_regression = LogisticRegression(random_state=42, max_iter=10000)\n",
    "\n",
    "# # Define the parameter space for RandomizedSearchCV\n",
    "# param_distributions = {\n",
    "#     'C': np.logspace(-4, 4, 20),  # Regularization strength\n",
    "#     'penalty': ['l1', 'l2', 'elasticnet', 'none'],  # Type of regularization\n",
    "#     'solver': ['newton-cg', 'lbfgs', 'liblinear', 'sag', 'saga']  # Algorithm to use in the optimization problem\n",
    "# }\n",
    "\n",
    "# # Random search of parameters, using 3 fold cross validation,\n",
    "# # search across a wide range of combinations, and use all available cores\n",
    "# lr_random = RandomizedSearchCV(estimator=logistic_regression, param_distributions=param_distributions, n_iter=100, cv=3, verbose=2, random_state=42, n_jobs=-1)\n",
    "\n",
    "# # Fit the random search model\n",
    "# lr_random.fit(x_train_tfidf, y_train)\n",
    "\n",
    "# # Output the best parameters from RandomizedSearchCV\n",
    "# print(\"Best parameters found by RandomizedSearchCV for Logistic Regression:\")\n",
    "# print(lr_random.best_params_)\n",
    "\n",
    "# # Extract the best parameters found by RandomizedSearchCV\n",
    "# best_params = lr_random.best_params_\n",
    "\n",
    "# # Create a parameter grid focused around the best parameters found\n",
    "# param_grid = {\n",
    "#     'C': [best_params['C'] * 0.5, best_params['C'], best_params['C'] * 2],\n",
    "#     'penalty': [best_params['penalty']] if best_params['penalty'] != 'elasticnet' else ['l1', 'l2'],\n",
    "#     'solver': ['liblinear', 'saga'] if best_params['penalty'] == 'l1' else ['newton-cg', 'lbfgs', 'sag', 'saga']\n",
    "# }\n",
    "\n",
    "# # Some combinations might not be compatible, adjust the grid as needed\n",
    "# # Create a GridSearchCV for a more focused search\n",
    "# lr_grid = GridSearchCV(estimator=LogisticRegression(random_state=42, max_iter=10000), param_grid=param_grid, cv=5, verbose=2, n_jobs=-1)\n",
    "\n",
    "# # Fit GridSearchCV\n",
    "# lr_grid.fit(x_train_tfidf, y_train)\n",
    "\n",
    "# # Output the best parameters from GridSearchCV\n",
    "# print(\"Refined best parameters from GridSearchCV for Logistic Regression:\")\n",
    "# print(lr_grid.best_params_)\n",
    "\n",
    "# # {'C': 2.140666199359698, 'penalty': 'l2', 'solver': 'newton-cg'}"
   ]
  },
  {
   "cell_type": "code",
   "execution_count": 86,
   "metadata": {},
   "outputs": [],
   "source": [
    "# from sklearn.model_selection import RandomizedSearchCV, GridSearchCV\n",
    "# from sklearn.naive_bayes import MultinomialNB\n",
    "# import numpy as np\n",
    "\n",
    "# # Assuming x_train_tfidf and y_train are defined\n",
    "\n",
    "# # Initialize MultinomialNB\n",
    "# mnb = MultinomialNB()\n",
    "\n",
    "# # Define the parameter space for RandomizedSearchCV\n",
    "# param_distributions = {\n",
    "#     'alpha': np.linspace(0, 1, 10)  # Additive (Laplace/Lidstone) smoothing parameter\n",
    "# }\n",
    "\n",
    "# # Since it's just one parameter, we're technically not \"randomizing\" much here\n",
    "# mnb_random = RandomizedSearchCV(estimator=mnb, param_distributions=param_distributions, n_iter=10, cv=3, verbose=2, random_state=42, n_jobs=-1)\n",
    "\n",
    "# # Fit the random search model\n",
    "# mnb_random.fit(x_train_tfidf, y_train)\n",
    "\n",
    "# # Output the best parameters from RandomizedSearchCV\n",
    "# print(\"Best parameters found by RandomizedSearchCV for Multinomial Naive Bayes:\")\n",
    "# print(mnb_random.best_params_)\n",
    "\n",
    "# # Extract the best alpha found by RandomizedSearchCV\n",
    "# best_alpha = mnb_random.best_params_['alpha']\n",
    "\n",
    "# # Create a parameter grid focused around the best alpha found\n",
    "# param_grid = {\n",
    "#     'alpha': [max(0, best_alpha - 0.1), best_alpha, best_alpha + 0.1]\n",
    "# }\n",
    "\n",
    "# # Create a GridSearchCV for a more focused search\n",
    "# mnb_grid = GridSearchCV(estimator=MultinomialNB(), param_grid=param_grid, cv=5, verbose=2, n_jobs=-1)\n",
    "\n",
    "# # Fit GridSearchCV\n",
    "# mnb_grid.fit(x_train_tfidf, y_train)\n",
    "\n",
    "# # Output the best parameters from GridSearchCV\n",
    "# print(\"Refined best parameters from GridSearchCV for Multinomial Naive Bayes:\")\n",
    "# print(mnb_grid.best_params_)\n",
    "\n",
    "# # {'alpha': 1.1}"
   ]
  },
  {
   "cell_type": "code",
   "execution_count": 87,
   "metadata": {},
   "outputs": [],
   "source": [
    "# from sklearn.model_selection import RandomizedSearchCV, GridSearchCV\n",
    "# from sklearn.neighbors import KNeighborsClassifier\n",
    "# import numpy as np\n",
    "\n",
    "# # Assuming x_train_tfidf and y_train are defined\n",
    "\n",
    "# # Initialize KNeighborsClassifier\n",
    "# knn = KNeighborsClassifier()\n",
    "\n",
    "# # Define the parameter space for RandomizedSearchCV\n",
    "# param_distributions = {\n",
    "#     'n_neighbors': np.arange(1, 50),  # Number of neighbors to use\n",
    "#     'weights': ['uniform', 'distance'],  # Weight function used in prediction\n",
    "# }\n",
    "\n",
    "# # Random search of parameters, using 3 fold cross validation,\n",
    "# # search across a wide range of combinations, and use all available cores\n",
    "# knn_random = RandomizedSearchCV(estimator=knn, param_distributions=param_distributions, n_iter=100, cv=3, verbose=2, random_state=42, n_jobs=-1)\n",
    "\n",
    "# # Fit the random search model\n",
    "# knn_random.fit(x_train_tfidf, y_train)\n",
    "\n",
    "# # Output the best parameters from RandomizedSearchCV\n",
    "# print(\"Best parameters found by RandomizedSearchCV for KNN:\")\n",
    "# print(knn_random.best_params_)\n",
    "\n",
    "# # Extract the best parameters found by RandomizedSearchCV\n",
    "# best_params = knn_random.best_params_\n",
    "\n",
    "# # Create a parameter grid focused around the best parameters found\n",
    "# param_grid = {\n",
    "#     'n_neighbors': [best_params['n_neighbors'] - 2, best_params['n_neighbors'] - 1, best_params['n_neighbors'], best_params['n_neighbors'] + 1, best_params['n_neighbors'] + 2],\n",
    "#     'weights': [best_params['weights']],\n",
    "# }\n",
    "\n",
    "# # Ensure values are within valid ranges\n",
    "# param_grid['n_neighbors'] = [n for n in param_grid['n_neighbors'] if n > 0]\n",
    "\n",
    "# # Create a GridSearchCV for a more focused search\n",
    "# knn_grid = GridSearchCV(estimator=KNeighborsClassifier(), param_grid=param_grid, cv=5, verbose=2, n_jobs=-1)\n",
    "\n",
    "# # Fit GridSearchCV\n",
    "# knn_grid.fit(x_train_tfidf, y_train)\n",
    "\n",
    "# # Output the best parameters from GridSearchCV\n",
    "# print(\"Refined best parameters from GridSearchCV for KNN:\")\n",
    "# print(knn_grid.best_params_)\n",
    "\n",
    "# # {'n_neighbors': 43, 'weights': 'distance'}"
   ]
  },
  {
   "cell_type": "code",
   "execution_count": 88,
   "metadata": {},
   "outputs": [
    {
     "name": "stdout",
     "output_type": "stream",
     "text": [
      "Training Random Forest...\n",
      "Random Forest Accuracy: 0.8352941176470589\n",
      "Random Forest Classification Report:\n",
      "              precision    recall  f1-score   support\n",
      "\n",
      "      bugfix       0.80      0.76      0.78        87\n",
      "  code smell       0.96      0.99      0.98        81\n",
      "    external       0.74      0.87      0.80        85\n",
      "  functional       0.81      0.71      0.76        87\n",
      "    internal       0.88      0.86      0.87        85\n",
      "\n",
      "    accuracy                           0.84       425\n",
      "   macro avg       0.84      0.84      0.84       425\n",
      "weighted avg       0.84      0.84      0.83       425\n",
      "\n",
      "Training Support Vector Classification...\n",
      "Support Vector Classification Accuracy: 0.8282352941176471\n",
      "Support Vector Classification Classification Report:\n",
      "              precision    recall  f1-score   support\n",
      "\n",
      "      bugfix       0.76      0.74      0.75        87\n",
      "  code smell       0.94      0.96      0.95        81\n",
      "    external       0.85      0.79      0.82        85\n",
      "  functional       0.70      0.84      0.76        87\n",
      "    internal       0.93      0.82      0.88        85\n",
      "\n",
      "    accuracy                           0.83       425\n",
      "   macro avg       0.84      0.83      0.83       425\n",
      "weighted avg       0.84      0.83      0.83       425\n",
      "\n",
      "Training Decision Tree...\n",
      "Decision Tree Accuracy: 0.7976470588235294\n",
      "Decision Tree Classification Report:\n",
      "              precision    recall  f1-score   support\n",
      "\n",
      "      bugfix       0.89      0.74      0.81        87\n",
      "  code smell       0.79      0.91      0.85        81\n",
      "    external       0.75      0.79      0.77        85\n",
      "  functional       0.78      0.78      0.78        87\n",
      "    internal       0.80      0.78      0.79        85\n",
      "\n",
      "    accuracy                           0.80       425\n",
      "   macro avg       0.80      0.80      0.80       425\n",
      "weighted avg       0.80      0.80      0.80       425\n",
      "\n",
      "Training Logistic Regression...\n",
      "Logistic Regression Accuracy: 0.8258823529411765\n",
      "Logistic Regression Classification Report:\n",
      "              precision    recall  f1-score   support\n",
      "\n",
      "      bugfix       0.75      0.71      0.73        87\n",
      "  code smell       0.93      0.96      0.95        81\n",
      "    external       0.85      0.82      0.84        85\n",
      "  functional       0.71      0.83      0.76        87\n",
      "    internal       0.93      0.81      0.87        85\n",
      "\n",
      "    accuracy                           0.83       425\n",
      "   macro avg       0.83      0.83      0.83       425\n",
      "weighted avg       0.83      0.83      0.83       425\n",
      "\n",
      "Training Multinomial Naive Bayes...\n",
      "Multinomial Naive Bayes Accuracy: 0.7552941176470588\n",
      "Multinomial Naive Bayes Classification Report:\n",
      "              precision    recall  f1-score   support\n",
      "\n",
      "      bugfix       0.57      0.79      0.67        87\n",
      "  code smell       0.89      0.94      0.92        81\n",
      "    external       0.92      0.56      0.70        85\n",
      "  functional       0.65      0.71      0.68        87\n",
      "    internal       0.92      0.78      0.84        85\n",
      "\n",
      "    accuracy                           0.76       425\n",
      "   macro avg       0.79      0.76      0.76       425\n",
      "weighted avg       0.79      0.76      0.76       425\n",
      "\n",
      "Training K-Nearest Neighbors...\n",
      "K-Nearest Neighbors Accuracy: 0.7247058823529412\n",
      "K-Nearest Neighbors Classification Report:\n",
      "              precision    recall  f1-score   support\n",
      "\n",
      "      bugfix       0.65      0.62      0.64        87\n",
      "  code smell       0.79      1.00      0.89        81\n",
      "    external       0.70      0.71      0.70        85\n",
      "  functional       0.65      0.49      0.56        87\n",
      "    internal       0.80      0.82      0.81        85\n",
      "\n",
      "    accuracy                           0.72       425\n",
      "   macro avg       0.72      0.73      0.72       425\n",
      "weighted avg       0.72      0.72      0.72       425\n",
      "\n"
     ]
    }
   ],
   "source": [
    "from sklearn.metrics import classification_report\n",
    "\n",
    "classifiers = {\n",
    "    \"Random Forest\": RandomForestClassifier(max_depth=80, n_estimators=950, criterion='gini', bootstrap=False),\n",
    "    \"Support Vector Classification\": SVC(gamma='auto', kernel='rbf', C=5000.0),\n",
    "    \"Decision Tree\": DecisionTreeClassifier(max_depth=30, criterion='gini'),\n",
    "    \"Logistic Regression\": LogisticRegression(penalty='l2', C=2.14, solver='newton-cg'),\n",
    "    \"Multinomial Naive Bayes\": MultinomialNB(alpha=1.1),\n",
    "    \"K-Nearest Neighbors\": KNeighborsClassifier(n_neighbors=43, weights='distance')\n",
    "}\n",
    "\n",
    "evaluation_reports = {}\n",
    "\n",
    "# Train, predict, and evaluate each classifier separately\n",
    "for classifier_name, classifier in classifiers.items():\n",
    "    print(f\"Training {classifier_name}...\")\n",
    "    \n",
    "    # Train the classifier\n",
    "    classifier.fit(x_train_tfidf, y_train)\n",
    "    \n",
    "    # Predict on the test set\n",
    "    y_pred = classifier.predict(x_test_tfidf)\n",
    "    \n",
    "    # Generate a classification report\n",
    "    report = classification_report(y_test, y_pred, output_dict=True)\n",
    "    \n",
    "    # Print accuracy and store the report for further analysis\n",
    "    print(f\"{classifier_name} Accuracy: {report['accuracy']}\")\n",
    "    evaluation_reports[classifier_name] = report\n",
    "    \n",
    "    # Detailed report\n",
    "    print(f\"{classifier_name} Classification Report:\")\n",
    "    print(classification_report(y_test, y_pred))\n",
    "    \n"
   ]
  },
  {
   "cell_type": "code",
   "execution_count": 89,
   "metadata": {},
   "outputs": [
    {
     "name": "stdout",
     "output_type": "stream",
     "text": [
      "[[54  7 11  9  6]\n",
      " [ 0 81  0  0  0]\n",
      " [ 7  8 60  8  2]\n",
      " [19  3 12 43 10]\n",
      " [ 3  3  3  6 70]]\n"
     ]
    }
   ],
   "source": [
    "from sklearn.metrics import confusion_matrix\n",
    "\n",
    "class_names = ['internal', 'bugfix', 'external', 'functional', 'code smell']\n",
    "\n",
    "\n",
    "cm = confusion_matrix(y_test, y_pred)\n",
    "print(cm)"
   ]
  },
  {
   "cell_type": "code",
   "execution_count": 90,
   "metadata": {},
   "outputs": [
    {
     "data": {
      "image/png": "[encoded data removed]",
      "text/plain": [
       "<Figure size 640x480 with 2 Axes>"
      ]
     },
     "metadata": {},
     "output_type": "display_data"
    }
   ],
   "source": [
    "import seaborn as sns\n",
    "import matplotlib.pyplot as plt\n",
    "\n",
    "\n",
    "sns.heatmap(cm, annot=True, fmt=\"d\", cmap=\"Blues\", xticklabels=class_names, yticklabels=class_names)\n",
    "plt.xlabel('Predicted Label')\n",
    "plt.ylabel('True Label')\n",
    "plt.title('Confusion Matrix with Class Names')\n",
    "plt.show()\n"
   ]
  },
  {
   "cell_type": "code",
   "execution_count": 91,
   "metadata": {},
   "outputs": [],
   "source": [
    "# y_test.unique()"
   ]
  },
  {
   "cell_type": "code",
   "execution_count": 92,
   "metadata": {},
   "outputs": [],
   "source": [
    "# !pip install deap"
   ]
  },
  {
   "cell_type": "code",
   "execution_count": 93,
   "metadata": {},
   "outputs": [],
   "source": [
    "# from deap import base, creator, tools, algorithms\n",
    "# import numpy as np\n",
    "# from sklearn.model_selection import cross_val_score\n",
    "# from sklearn.ensemble import RandomForestClassifier\n",
    "# import random\n"
   ]
  },
  {
   "cell_type": "code",
   "execution_count": 94,
   "metadata": {},
   "outputs": [],
   "source": [
    "# def evalModel(individual):\n",
    "#     # Unpack individual parameters\n",
    "#     n_estimators, max_depth, criterion, bootstrap = individual\n",
    "    \n",
    "#     # Convert binary to boolean for bootstrap\n",
    "#     bootstrap = True if bootstrap == 1 else False\n",
    "    \n",
    "#     # Convert criterion to proper format\n",
    "#     criterion = \"gini\" if criterion == 1 else \"entropy\"\n",
    "    \n",
    "#     # Initialize the model with the individual's parameters\n",
    "#     model = RandomForestClassifier(n_estimators=n_estimators, \n",
    "#                                    max_depth=max_depth, \n",
    "#                                    criterion=criterion, \n",
    "#                                    bootstrap=bootstrap, \n",
    "#                                    random_state=42)\n",
    "\n",
    "#     # Perform 3-fold cross-validation\n",
    "#     scores = cross_val_score(model, x_train_tfidf, y_train, cv=3)\n",
    "    \n",
    "#     # Return the average accuracy\n",
    "#     return (np.mean(scores),)\n"
   ]
  },
  {
   "cell_type": "code",
   "execution_count": 95,
   "metadata": {},
   "outputs": [],
   "source": [
    "# # Define fitness and individual\n",
    "# creator.create(\"FitnessMax\", base.Fitness, weights=(1.0,))\n",
    "# creator.create(\"Individual\", list, fitness=creator.FitnessMax)\n",
    "\n",
    "# toolbox = base.Toolbox()\n",
    "\n",
    "# # Attribute generators for our individual components\n",
    "# toolbox.register(\"attr_n_estimators\", random.randint, 100, 1000)\n",
    "# toolbox.register(\"attr_max_depth\", random.randint, 10, 100)\n",
    "# toolbox.register(\"attr_criterion\", random.randint, 1, 2)  # 1 for gini, 2 for entropy\n",
    "# toolbox.register(\"attr_bootstrap\", random.randint, 0, 1)  # 0 for False, 1 for True\n",
    "\n",
    "# # Structure initializers for individuals and the population\n",
    "# toolbox.register(\"individual\", tools.initCycle, creator.Individual,\n",
    "#                  (toolbox.attr_n_estimators, toolbox.attr_max_depth, toolbox.attr_criterion, toolbox.attr_bootstrap), n=1)\n",
    "\n",
    "# toolbox.register(\"population\", tools.initRepeat, list, toolbox.individual)\n",
    "\n",
    "# # Genetic operators\n",
    "# toolbox.register(\"evaluate\", evalModel)\n",
    "# toolbox.register(\"mate\", tools.cxTwoPoint)\n",
    "# toolbox.register(\"mutate\", tools.mutUniformInt, low=[100, 10, 1, 0], up=[1000, 100, 2, 1], indpb=0.2)\n",
    "# toolbox.register(\"select\", tools.selTournament, tournsize=3)\n"
   ]
  },
  {
   "cell_type": "code",
   "execution_count": 96,
   "metadata": {},
   "outputs": [],
   "source": [
    "# def main():\n",
    "#     random.seed(42)\n",
    "#     pop = toolbox.population(n=50)\n",
    "#     hof = tools.HallOfFame(1)\n",
    "    \n",
    "#     stats = tools.Statistics(lambda ind: ind.fitness.values)\n",
    "#     stats.register(\"avg\", np.mean)\n",
    "#     stats.register(\"std\", np.std)\n",
    "#     stats.register(\"min\", np.min)\n",
    "#     stats.register(\"max\", np.max)\n",
    "    \n",
    "#     algorithms.eaSimple(pop, toolbox, cxpb=0.5, mutpb=0.2, ngen=40, \n",
    "#                         stats=stats, halloffame=hof, verbose=True)\n",
    "    \n",
    "#     return pop, stats, hof\n",
    "\n",
    "# if __name__ == \"__main__\":\n",
    "#     population, stats, hof = main()\n",
    "#     print(\"Best individual is:\", hof[0], \"with fitness:\", hof[0].fitness)\n"
   ]
  },
  {
   "cell_type": "code",
   "execution_count": null,
   "metadata": {},
   "outputs": [],
   "source": []
  }
 ],
 "metadata": {
  "kernelspec": {
   "display_name": "Python 3 (ipykernel)",
   "language": "python",
   "name": "python3"
  },
  "language_info": {
   "codemirror_mode": {
    "name": "ipython",
    "version": 3
   },
   "file_extension": ".py",
   "mimetype": "text/x-python",
   "name": "python",
   "nbconvert_exporter": "python",
   "pygments_lexer": "ipython3",
   "version": "3.12.3"
  }
 },
 "nbformat": 4,
 "nbformat_minor": 4
}
