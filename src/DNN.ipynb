{
 "cells": [
  {
   "cell_type": "markdown",
   "metadata": {},
   "source": [
    "### importing the required libraries"
   ]
  },
  {
   "cell_type": "code",
   "execution_count": 901,
   "metadata": {},
   "outputs": [
    {
     "name": "stdout",
     "output_type": "stream",
     "text": [
      "Requirement already satisfied: pandas in /Users/onkars/Documents/AIProjects/Automated-Software-Refactoring-Commit-Classifier/myenv/lib/python3.12/site-packages (2.2.2)\n",
      "Requirement already satisfied: numpy>=1.26.0 in /Users/onkars/Documents/AIProjects/Automated-Software-Refactoring-Commit-Classifier/myenv/lib/python3.12/site-packages (from pandas) (1.26.4)\n",
      "Requirement already satisfied: python-dateutil>=2.8.2 in /Users/onkars/Documents/AIProjects/Automated-Software-Refactoring-Commit-Classifier/myenv/lib/python3.12/site-packages (from pandas) (2.9.0.post0)\n",
      "Requirement already satisfied: pytz>=2020.1 in /Users/onkars/Documents/AIProjects/Automated-Software-Refactoring-Commit-Classifier/myenv/lib/python3.12/site-packages (from pandas) (2024.1)\n",
      "Requirement already satisfied: tzdata>=2022.7 in /Users/onkars/Documents/AIProjects/Automated-Software-Refactoring-Commit-Classifier/myenv/lib/python3.12/site-packages (from pandas) (2024.1)\n",
      "Requirement already satisfied: six>=1.5 in /Users/onkars/Documents/AIProjects/Automated-Software-Refactoring-Commit-Classifier/myenv/lib/python3.12/site-packages (from python-dateutil>=2.8.2->pandas) (1.16.0)\n",
      "Requirement already satisfied: seaborn in /Users/onkars/Documents/AIProjects/Automated-Software-Refactoring-Commit-Classifier/myenv/lib/python3.12/site-packages (0.13.2)\n",
      "Requirement already satisfied: numpy!=1.24.0,>=1.20 in /Users/onkars/Documents/AIProjects/Automated-Software-Refactoring-Commit-Classifier/myenv/lib/python3.12/site-packages (from seaborn) (1.26.4)\n",
      "Requirement already satisfied: pandas>=1.2 in /Users/onkars/Documents/AIProjects/Automated-Software-Refactoring-Commit-Classifier/myenv/lib/python3.12/site-packages (from seaborn) (2.2.2)\n",
      "Requirement already satisfied: matplotlib!=3.6.1,>=3.4 in /Users/onkars/Documents/AIProjects/Automated-Software-Refactoring-Commit-Classifier/myenv/lib/python3.12/site-packages (from seaborn) (3.8.4)\n",
      "Requirement already satisfied: contourpy>=1.0.1 in /Users/onkars/Documents/AIProjects/Automated-Software-Refactoring-Commit-Classifier/myenv/lib/python3.12/site-packages (from matplotlib!=3.6.1,>=3.4->seaborn) (1.2.1)\n",
      "Requirement already satisfied: cycler>=0.10 in /Users/onkars/Documents/AIProjects/Automated-Software-Refactoring-Commit-Classifier/myenv/lib/python3.12/site-packages (from matplotlib!=3.6.1,>=3.4->seaborn) (0.12.1)\n",
      "Requirement already satisfied: fonttools>=4.22.0 in /Users/onkars/Documents/AIProjects/Automated-Software-Refactoring-Commit-Classifier/myenv/lib/python3.12/site-packages (from matplotlib!=3.6.1,>=3.4->seaborn) (4.51.0)\n",
      "Requirement already satisfied: kiwisolver>=1.3.1 in /Users/onkars/Documents/AIProjects/Automated-Software-Refactoring-Commit-Classifier/myenv/lib/python3.12/site-packages (from matplotlib!=3.6.1,>=3.4->seaborn) (1.4.5)\n",
      "Requirement already satisfied: packaging>=20.0 in /Users/onkars/Documents/AIProjects/Automated-Software-Refactoring-Commit-Classifier/myenv/lib/python3.12/site-packages (from matplotlib!=3.6.1,>=3.4->seaborn) (24.0)\n",
      "Requirement already satisfied: pillow>=8 in /Users/onkars/Documents/AIProjects/Automated-Software-Refactoring-Commit-Classifier/myenv/lib/python3.12/site-packages (from matplotlib!=3.6.1,>=3.4->seaborn) (10.3.0)\n",
      "Requirement already satisfied: pyparsing>=2.3.1 in /Users/onkars/Documents/AIProjects/Automated-Software-Refactoring-Commit-Classifier/myenv/lib/python3.12/site-packages (from matplotlib!=3.6.1,>=3.4->seaborn) (3.1.2)\n",
      "Requirement already satisfied: python-dateutil>=2.7 in /Users/onkars/Documents/AIProjects/Automated-Software-Refactoring-Commit-Classifier/myenv/lib/python3.12/site-packages (from matplotlib!=3.6.1,>=3.4->seaborn) (2.9.0.post0)\n",
      "Requirement already satisfied: pytz>=2020.1 in /Users/onkars/Documents/AIProjects/Automated-Software-Refactoring-Commit-Classifier/myenv/lib/python3.12/site-packages (from pandas>=1.2->seaborn) (2024.1)\n",
      "Requirement already satisfied: tzdata>=2022.7 in /Users/onkars/Documents/AIProjects/Automated-Software-Refactoring-Commit-Classifier/myenv/lib/python3.12/site-packages (from pandas>=1.2->seaborn) (2024.1)\n",
      "Requirement already satisfied: six>=1.5 in /Users/onkars/Documents/AIProjects/Automated-Software-Refactoring-Commit-Classifier/myenv/lib/python3.12/site-packages (from python-dateutil>=2.7->matplotlib!=3.6.1,>=3.4->seaborn) (1.16.0)\n",
      "Requirement already satisfied: contractions in /Users/onkars/Documents/AIProjects/Automated-Software-Refactoring-Commit-Classifier/myenv/lib/python3.12/site-packages (0.1.73)\n",
      "Requirement already satisfied: textsearch>=0.0.21 in /Users/onkars/Documents/AIProjects/Automated-Software-Refactoring-Commit-Classifier/myenv/lib/python3.12/site-packages (from contractions) (0.0.24)\n",
      "Requirement already satisfied: anyascii in /Users/onkars/Documents/AIProjects/Automated-Software-Refactoring-Commit-Classifier/myenv/lib/python3.12/site-packages (from textsearch>=0.0.21->contractions) (0.3.2)\n",
      "Requirement already satisfied: pyahocorasick in /Users/onkars/Documents/AIProjects/Automated-Software-Refactoring-Commit-Classifier/myenv/lib/python3.12/site-packages (from textsearch>=0.0.21->contractions) (2.1.0)\n",
      "Requirement already satisfied: nltk in /Users/onkars/Documents/AIProjects/Automated-Software-Refactoring-Commit-Classifier/myenv/lib/python3.12/site-packages (3.8.1)\n",
      "Requirement already satisfied: click in /Users/onkars/Documents/AIProjects/Automated-Software-Refactoring-Commit-Classifier/myenv/lib/python3.12/site-packages (from nltk) (8.1.7)\n",
      "Requirement already satisfied: joblib in /Users/onkars/Documents/AIProjects/Automated-Software-Refactoring-Commit-Classifier/myenv/lib/python3.12/site-packages (from nltk) (1.4.0)\n",
      "Requirement already satisfied: regex>=2021.8.3 in /Users/onkars/Documents/AIProjects/Automated-Software-Refactoring-Commit-Classifier/myenv/lib/python3.12/site-packages (from nltk) (2024.4.16)\n",
      "Requirement already satisfied: tqdm in /Users/onkars/Documents/AIProjects/Automated-Software-Refactoring-Commit-Classifier/myenv/lib/python3.12/site-packages (from nltk) (4.66.2)\n",
      "Requirement already satisfied: unidecode in /Users/onkars/Documents/AIProjects/Automated-Software-Refactoring-Commit-Classifier/myenv/lib/python3.12/site-packages (1.3.8)\n",
      "Requirement already satisfied: scikit-learn in /Users/onkars/Documents/AIProjects/Automated-Software-Refactoring-Commit-Classifier/myenv/lib/python3.12/site-packages (1.4.2)\n",
      "Requirement already satisfied: numpy>=1.19.5 in /Users/onkars/Documents/AIProjects/Automated-Software-Refactoring-Commit-Classifier/myenv/lib/python3.12/site-packages (from scikit-learn) (1.26.4)\n",
      "Requirement already satisfied: scipy>=1.6.0 in /Users/onkars/Documents/AIProjects/Automated-Software-Refactoring-Commit-Classifier/myenv/lib/python3.12/site-packages (from scikit-learn) (1.13.0)\n",
      "Requirement already satisfied: joblib>=1.2.0 in /Users/onkars/Documents/AIProjects/Automated-Software-Refactoring-Commit-Classifier/myenv/lib/python3.12/site-packages (from scikit-learn) (1.4.0)\n",
      "Requirement already satisfied: threadpoolctl>=2.0.0 in /Users/onkars/Documents/AIProjects/Automated-Software-Refactoring-Commit-Classifier/myenv/lib/python3.12/site-packages (from scikit-learn) (3.4.0)\n",
      "Requirement already satisfied: numpy in /Users/onkars/Documents/AIProjects/Automated-Software-Refactoring-Commit-Classifier/myenv/lib/python3.12/site-packages (1.26.4)\n"
     ]
    }
   ],
   "source": [
    "!pip install pandas\n",
    "!pip install seaborn\n",
    "!pip install contractions\n",
    "!pip install nltk\n",
    "!pip install unidecode\n",
    "!pip install scikit-learn\n",
    "!pip install numpy"
   ]
  },
  {
   "cell_type": "code",
   "execution_count": 902,
   "metadata": {},
   "outputs": [
    {
     "name": "stderr",
     "output_type": "stream",
     "text": [
      "[nltk_data] Downloading package stopwords to\n",
      "[nltk_data]     /Users/onkars/nltk_data...\n",
      "[nltk_data]   Package stopwords is already up-to-date!\n",
      "[nltk_data] Downloading package punkt to /Users/onkars/nltk_data...\n",
      "[nltk_data]   Package punkt is already up-to-date!\n",
      "[nltk_data] Downloading package averaged_perceptron_tagger to\n",
      "[nltk_data]     /Users/onkars/nltk_data...\n",
      "[nltk_data]   Package averaged_perceptron_tagger is already up-to-\n",
      "[nltk_data]       date!\n",
      "[nltk_data] Downloading package wordnet to /Users/onkars/nltk_data...\n",
      "[nltk_data]   Package wordnet is already up-to-date!\n"
     ]
    }
   ],
   "source": [
    "import pandas as pd\n",
    "pd.set_option('display.max_colwidth', None)\n",
    "# pd.set_option('display.max_rows', None)\n",
    "import seaborn as sns\n",
    "sns.set_style(style=\"whitegrid\")\n",
    "import matplotlib.pyplot as plt\n",
    "import nltk\n",
    "# import ssl\n",
    "# try:\n",
    "#    _create_unverified_https_context = ssl._create_unverified_context\n",
    "# except AttributeError:\n",
    "#    pass\n",
    "# else:\n",
    "#    ssl._create_default_https_context = _create_unverified_https_context\n",
    "nltk.download('stopwords')\n",
    "nltk.download('punkt')\n",
    "nltk.download('averaged_perceptron_tagger')\n",
    "nltk.download('wordnet')\n",
    "import re\n",
    "import contractions\n",
    "import unidecode\n",
    "from nltk.corpus import stopwords\n",
    "from nltk.tokenize import word_tokenize\n",
    "from nltk import pos_tag\n",
    "from nltk.corpus import wordnet\n",
    "from nltk.stem import WordNetLemmatizer\n",
    "from sklearn.model_selection import train_test_split\n",
    "from sklearn.feature_extraction.text import TfidfVectorizer\n",
    "from sklearn.model_selection import RandomizedSearchCV, GridSearchCV\n",
    "\n",
    "import numpy as np\n",
    "\n",
    "\n",
    "\n",
    "\n"
   ]
  },
  {
   "cell_type": "markdown",
   "metadata": {},
   "source": [
    "### creating a dataframe from imported dataset"
   ]
  },
  {
   "cell_type": "code",
   "execution_count": 903,
   "metadata": {},
   "outputs": [],
   "source": [
    "filePath = r\"../dataset/ESWA20_manualclassification.csv\""
   ]
  },
  {
   "cell_type": "code",
   "execution_count": 904,
   "metadata": {},
   "outputs": [
    {
     "data": {
      "text/html": [
       "<div>\n",
       "<style scoped>\n",
       "    .dataframe tbody tr th:only-of-type {\n",
       "        vertical-align: middle;\n",
       "    }\n",
       "\n",
       "    .dataframe tbody tr th {\n",
       "        vertical-align: top;\n",
       "    }\n",
       "\n",
       "    .dataframe thead th {\n",
       "        text-align: right;\n",
       "    }\n",
       "</style>\n",
       "<table border=\"1\" class=\"dataframe\">\n",
       "  <thead>\n",
       "    <tr style=\"text-align: right;\">\n",
       "      <th></th>\n",
       "      <th>Commit Message</th>\n",
       "      <th>Category</th>\n",
       "    </tr>\n",
       "  </thead>\n",
       "  <tbody>\n",
       "    <tr>\n",
       "      <th>0</th>\n",
       "      <td>\\tNIO Reads writes are completed in the caller thered;\\n\\t100% compatible with old interface and functionality.\\n\\tEach connection has an instance of this object to\\n\\treceive data for a message in multiple OP_READ events.\\n</td>\n",
       "      <td>functional</td>\n",
       "    </tr>\n",
       "    <tr>\n",
       "      <th>1</th>\n",
       "      <td>* temporary fix for non-shared JArray objects\\n  * added generic unittests to check jcc/lucene/solr/montysolr functionality\\n  * wrote unittest for newseman (it does a complete processing from python side)\\n    - now what remains is to call it from java\\n    - decide on proper behaviour for cases when tokens are added/grouped\\n</td>\n",
       "      <td>bugfix</td>\n",
       "    </tr>\n",
       "    <tr>\n",
       "      <th>2</th>\n",
       "      <td>* Java:\\n   * Added RCON functionality for Source servers:\\n     * Added steamcondenser.steam.packets.rcon package\\n     * Added RCONAuthRequestPacket\\n     * Added RCONAuthResponsePacket\\n     * Added RCONExecRequestPacket\\n     * Added RCONExecResponsePacket\\n     * Added RCONPacket\\n     * Added RCONNoAuthException\\n   * Split SteamSocket into QuerySocket and RCONSocket\\n   * Stub functionality for GoldSrc servers\\n     * GoldSrc uses UDP and needs a special implementation\\n   * Added tests\\n</td>\n",
       "      <td>functional</td>\n",
       "    </tr>\n",
       "    <tr>\n",
       "      <th>3</th>\n",
       "      <td>- Merge changes from Pull-Request #6 \\t - Fix aggregation generation and cleanup dead code  - Update dependencies versions</td>\n",
       "      <td>code smell</td>\n",
       "    </tr>\n",
       "    <tr>\n",
       "      <th>4</th>\n",
       "      <td>Bug 233643 -  API builder performance bad for incremental build</td>\n",
       "      <td>external</td>\n",
       "    </tr>\n",
       "    <tr>\n",
       "      <th>...</th>\n",
       "      <td>...</td>\n",
       "      <td>...</td>\n",
       "    </tr>\n",
       "    <tr>\n",
       "      <th>1735</th>\n",
       "      <td>working on #339: introducing the getSpecialFeatureCollection Method as a more general way to get all the PrintTemplateFeatures. improve the numbering\\n</td>\n",
       "      <td>functional</td>\n",
       "    </tr>\n",
       "    <tr>\n",
       "      <th>1736</th>\n",
       "      <td>working on #339: next step. i\\n\\nmove all the calculation and handling into the PrintTemplateFeature to handle\\nmultiple templateprinting.\\n\\nThe creation is still very basic though\\n</td>\n",
       "      <td>functional</td>\n",
       "    </tr>\n",
       "    <tr>\n",
       "      <th>1737</th>\n",
       "      <td>working on #369: generalized the adjustMapForPrintingTemplates and ensureVisibilityOfPrintingTemplates method to adjustMapForSpecialFeatureClasses and ensureVisibilityOfSpecialFeatures\\n</td>\n",
       "      <td>functional</td>\n",
       "    </tr>\n",
       "    <tr>\n",
       "      <th>1738</th>\n",
       "      <td>working up test coverage; minor tweaks; removing dead code; fixing very minor bugs; adding tests</td>\n",
       "      <td>code smell</td>\n",
       "    </tr>\n",
       "    <tr>\n",
       "      <th>1739</th>\n",
       "      <td> changed render routine for text fields  added tabbing abilities to CustomScreen  various modifications on CustomScreen to match the new TextField requirements  changed size of PacketSky</td>\n",
       "      <td>internal</td>\n",
       "    </tr>\n",
       "  </tbody>\n",
       "</table>\n",
       "<p>1740 rows × 2 columns</p>\n",
       "</div>"
      ],
      "text/plain": [
       "                                                                                                                                                                                                                                                                                                                                                                                                                                                                                                             Commit Message  \\\n",
       "0                                                                                                                                                                                                                                                                                          \\tNIO Reads writes are completed in the caller thered;\\n\\t100% compatible with old interface and functionality.\\n\\tEach connection has an instance of this object to\\n\\treceive data for a message in multiple OP_READ events.\\n   \n",
       "1                                                                                                                                                                                 * temporary fix for non-shared JArray objects\\n  * added generic unittests to check jcc/lucene/solr/montysolr functionality\\n  * wrote unittest for newseman (it does a complete processing from python side)\\n    - now what remains is to call it from java\\n    - decide on proper behaviour for cases when tokens are added/grouped\\n   \n",
       "2      * Java:\\n   * Added RCON functionality for Source servers:\\n     * Added steamcondenser.steam.packets.rcon package\\n     * Added RCONAuthRequestPacket\\n     * Added RCONAuthResponsePacket\\n     * Added RCONExecRequestPacket\\n     * Added RCONExecResponsePacket\\n     * Added RCONPacket\\n     * Added RCONNoAuthException\\n   * Split SteamSocket into QuerySocket and RCONSocket\\n   * Stub functionality for GoldSrc servers\\n     * GoldSrc uses UDP and needs a special implementation\\n   * Added tests\\n   \n",
       "3                                                                                                                                                                                                                                                                                                                                                                                                - Merge changes from Pull-Request #6 \\t - Fix aggregation generation and cleanup dead code  - Update dependencies versions   \n",
       "4                                                                                                                                                                                                                                                                                                                                                                                                                                                           Bug 233643 -  API builder performance bad for incremental build   \n",
       "...                                                                                                                                                                                                                                                                                                                                                                                                                                                                                                                     ...   \n",
       "1735                                                                                                                                                                                                                                                                                                                                                                working on #339: introducing the getSpecialFeatureCollection Method as a more general way to get all the PrintTemplateFeatures. improve the numbering\\n   \n",
       "1736                                                                                                                                                                                                                                                                                                                                working on #339: next step. i\\n\\nmove all the calculation and handling into the PrintTemplateFeature to handle\\nmultiple templateprinting.\\n\\nThe creation is still very basic though\\n   \n",
       "1737                                                                                                                                                                                                                                                                                                                             working on #369: generalized the adjustMapForPrintingTemplates and ensureVisibilityOfPrintingTemplates method to adjustMapForSpecialFeatureClasses and ensureVisibilityOfSpecialFeatures\\n   \n",
       "1738                                                                                                                                                                                                                                                                                                                                                                                                                       working up test coverage; minor tweaks; removing dead code; fixing very minor bugs; adding tests   \n",
       "1739                                                                                                                                                                                                                                                                                                                          changed render routine for text fields  added tabbing abilities to CustomScreen  various modifications on CustomScreen to match the new TextField requirements  changed size of PacketSky   \n",
       "\n",
       "        Category  \n",
       "0     functional  \n",
       "1         bugfix  \n",
       "2     functional  \n",
       "3     code smell  \n",
       "4       external  \n",
       "...          ...  \n",
       "1735  functional  \n",
       "1736  functional  \n",
       "1737  functional  \n",
       "1738  code smell  \n",
       "1739    internal  \n",
       "\n",
       "[1740 rows x 2 columns]"
      ]
     },
     "execution_count": 904,
     "metadata": {},
     "output_type": "execute_result"
    }
   ],
   "source": [
    "df = pd.read_csv(filePath, encoding='ISO-8859-1')\n",
    "\n",
    "df"
   ]
  },
  {
   "cell_type": "code",
   "execution_count": 905,
   "metadata": {},
   "outputs": [
    {
     "data": {
      "text/html": [
       "<div>\n",
       "<style scoped>\n",
       "    .dataframe tbody tr th:only-of-type {\n",
       "        vertical-align: middle;\n",
       "    }\n",
       "\n",
       "    .dataframe tbody tr th {\n",
       "        vertical-align: top;\n",
       "    }\n",
       "\n",
       "    .dataframe thead th {\n",
       "        text-align: right;\n",
       "    }\n",
       "</style>\n",
       "<table border=\"1\" class=\"dataframe\">\n",
       "  <thead>\n",
       "    <tr style=\"text-align: right;\">\n",
       "      <th></th>\n",
       "      <th>commit_message</th>\n",
       "      <th>category</th>\n",
       "    </tr>\n",
       "  </thead>\n",
       "  <tbody>\n",
       "    <tr>\n",
       "      <th>0</th>\n",
       "      <td>\\tNIO Reads writes are completed in the caller thered;\\n\\t100% compatible with old interface and functionality.\\n\\tEach connection has an instance of this object to\\n\\treceive data for a message in multiple OP_READ events.\\n</td>\n",
       "      <td>functional</td>\n",
       "    </tr>\n",
       "    <tr>\n",
       "      <th>1</th>\n",
       "      <td>* temporary fix for non-shared JArray objects\\n  * added generic unittests to check jcc/lucene/solr/montysolr functionality\\n  * wrote unittest for newseman (it does a complete processing from python side)\\n    - now what remains is to call it from java\\n    - decide on proper behaviour for cases when tokens are added/grouped\\n</td>\n",
       "      <td>bugfix</td>\n",
       "    </tr>\n",
       "    <tr>\n",
       "      <th>2</th>\n",
       "      <td>* Java:\\n   * Added RCON functionality for Source servers:\\n     * Added steamcondenser.steam.packets.rcon package\\n     * Added RCONAuthRequestPacket\\n     * Added RCONAuthResponsePacket\\n     * Added RCONExecRequestPacket\\n     * Added RCONExecResponsePacket\\n     * Added RCONPacket\\n     * Added RCONNoAuthException\\n   * Split SteamSocket into QuerySocket and RCONSocket\\n   * Stub functionality for GoldSrc servers\\n     * GoldSrc uses UDP and needs a special implementation\\n   * Added tests\\n</td>\n",
       "      <td>functional</td>\n",
       "    </tr>\n",
       "    <tr>\n",
       "      <th>3</th>\n",
       "      <td>- Merge changes from Pull-Request #6 \\t - Fix aggregation generation and cleanup dead code  - Update dependencies versions</td>\n",
       "      <td>code smell</td>\n",
       "    </tr>\n",
       "    <tr>\n",
       "      <th>4</th>\n",
       "      <td>Bug 233643 -  API builder performance bad for incremental build</td>\n",
       "      <td>external</td>\n",
       "    </tr>\n",
       "    <tr>\n",
       "      <th>...</th>\n",
       "      <td>...</td>\n",
       "      <td>...</td>\n",
       "    </tr>\n",
       "    <tr>\n",
       "      <th>1735</th>\n",
       "      <td>working on #339: introducing the getSpecialFeatureCollection Method as a more general way to get all the PrintTemplateFeatures. improve the numbering\\n</td>\n",
       "      <td>functional</td>\n",
       "    </tr>\n",
       "    <tr>\n",
       "      <th>1736</th>\n",
       "      <td>working on #339: next step. i\\n\\nmove all the calculation and handling into the PrintTemplateFeature to handle\\nmultiple templateprinting.\\n\\nThe creation is still very basic though\\n</td>\n",
       "      <td>functional</td>\n",
       "    </tr>\n",
       "    <tr>\n",
       "      <th>1737</th>\n",
       "      <td>working on #369: generalized the adjustMapForPrintingTemplates and ensureVisibilityOfPrintingTemplates method to adjustMapForSpecialFeatureClasses and ensureVisibilityOfSpecialFeatures\\n</td>\n",
       "      <td>functional</td>\n",
       "    </tr>\n",
       "    <tr>\n",
       "      <th>1738</th>\n",
       "      <td>working up test coverage; minor tweaks; removing dead code; fixing very minor bugs; adding tests</td>\n",
       "      <td>code smell</td>\n",
       "    </tr>\n",
       "    <tr>\n",
       "      <th>1739</th>\n",
       "      <td> changed render routine for text fields  added tabbing abilities to CustomScreen  various modifications on CustomScreen to match the new TextField requirements  changed size of PacketSky</td>\n",
       "      <td>internal</td>\n",
       "    </tr>\n",
       "  </tbody>\n",
       "</table>\n",
       "<p>1740 rows × 2 columns</p>\n",
       "</div>"
      ],
      "text/plain": [
       "                                                                                                                                                                                                                                                                                                                                                                                                                                                                                                             commit_message  \\\n",
       "0                                                                                                                                                                                                                                                                                          \\tNIO Reads writes are completed in the caller thered;\\n\\t100% compatible with old interface and functionality.\\n\\tEach connection has an instance of this object to\\n\\treceive data for a message in multiple OP_READ events.\\n   \n",
       "1                                                                                                                                                                                 * temporary fix for non-shared JArray objects\\n  * added generic unittests to check jcc/lucene/solr/montysolr functionality\\n  * wrote unittest for newseman (it does a complete processing from python side)\\n    - now what remains is to call it from java\\n    - decide on proper behaviour for cases when tokens are added/grouped\\n   \n",
       "2      * Java:\\n   * Added RCON functionality for Source servers:\\n     * Added steamcondenser.steam.packets.rcon package\\n     * Added RCONAuthRequestPacket\\n     * Added RCONAuthResponsePacket\\n     * Added RCONExecRequestPacket\\n     * Added RCONExecResponsePacket\\n     * Added RCONPacket\\n     * Added RCONNoAuthException\\n   * Split SteamSocket into QuerySocket and RCONSocket\\n   * Stub functionality for GoldSrc servers\\n     * GoldSrc uses UDP and needs a special implementation\\n   * Added tests\\n   \n",
       "3                                                                                                                                                                                                                                                                                                                                                                                                - Merge changes from Pull-Request #6 \\t - Fix aggregation generation and cleanup dead code  - Update dependencies versions   \n",
       "4                                                                                                                                                                                                                                                                                                                                                                                                                                                           Bug 233643 -  API builder performance bad for incremental build   \n",
       "...                                                                                                                                                                                                                                                                                                                                                                                                                                                                                                                     ...   \n",
       "1735                                                                                                                                                                                                                                                                                                                                                                working on #339: introducing the getSpecialFeatureCollection Method as a more general way to get all the PrintTemplateFeatures. improve the numbering\\n   \n",
       "1736                                                                                                                                                                                                                                                                                                                                working on #339: next step. i\\n\\nmove all the calculation and handling into the PrintTemplateFeature to handle\\nmultiple templateprinting.\\n\\nThe creation is still very basic though\\n   \n",
       "1737                                                                                                                                                                                                                                                                                                                             working on #369: generalized the adjustMapForPrintingTemplates and ensureVisibilityOfPrintingTemplates method to adjustMapForSpecialFeatureClasses and ensureVisibilityOfSpecialFeatures\\n   \n",
       "1738                                                                                                                                                                                                                                                                                                                                                                                                                       working up test coverage; minor tweaks; removing dead code; fixing very minor bugs; adding tests   \n",
       "1739                                                                                                                                                                                                                                                                                                                          changed render routine for text fields  added tabbing abilities to CustomScreen  various modifications on CustomScreen to match the new TextField requirements  changed size of PacketSky   \n",
       "\n",
       "        category  \n",
       "0     functional  \n",
       "1         bugfix  \n",
       "2     functional  \n",
       "3     code smell  \n",
       "4       external  \n",
       "...          ...  \n",
       "1735  functional  \n",
       "1736  functional  \n",
       "1737  functional  \n",
       "1738  code smell  \n",
       "1739    internal  \n",
       "\n",
       "[1740 rows x 2 columns]"
      ]
     },
     "execution_count": 905,
     "metadata": {},
     "output_type": "execute_result"
    }
   ],
   "source": [
    "df['commit_message'] = df['Commit Message']\n",
    "del df['Commit Message']\n",
    "\n",
    "df['category'] = df['Category']\n",
    "del df['Category']\n",
    "\n",
    "df"
   ]
  },
  {
   "cell_type": "markdown",
   "metadata": {},
   "source": [
    "### understanding the dataset"
   ]
  },
  {
   "cell_type": "code",
   "execution_count": 906,
   "metadata": {},
   "outputs": [
    {
     "data": {
      "text/plain": [
       "(1740, 2)"
      ]
     },
     "execution_count": 906,
     "metadata": {},
     "output_type": "execute_result"
    }
   ],
   "source": [
    "df.shape"
   ]
  },
  {
   "cell_type": "markdown",
   "metadata": {},
   "source": [
    "There are 1740 records and 2 features in the dataset (including the target feature)"
   ]
  },
  {
   "cell_type": "code",
   "execution_count": 907,
   "metadata": {},
   "outputs": [
    {
     "data": {
      "text/plain": [
       "commit_message    object\n",
       "category          object\n",
       "dtype: object"
      ]
     },
     "execution_count": 907,
     "metadata": {},
     "output_type": "execute_result"
    }
   ],
   "source": [
    "df.dtypes"
   ]
  },
  {
   "cell_type": "markdown",
   "metadata": {},
   "source": [
    "both the features have object as a data type"
   ]
  },
  {
   "cell_type": "code",
   "execution_count": 908,
   "metadata": {},
   "outputs": [
    {
     "data": {
      "text/html": [
       "<div>\n",
       "<style scoped>\n",
       "    .dataframe tbody tr th:only-of-type {\n",
       "        vertical-align: middle;\n",
       "    }\n",
       "\n",
       "    .dataframe tbody tr th {\n",
       "        vertical-align: top;\n",
       "    }\n",
       "\n",
       "    .dataframe thead th {\n",
       "        text-align: right;\n",
       "    }\n",
       "</style>\n",
       "<table border=\"1\" class=\"dataframe\">\n",
       "  <thead>\n",
       "    <tr style=\"text-align: right;\">\n",
       "      <th></th>\n",
       "      <th>commit_message</th>\n",
       "      <th>category</th>\n",
       "    </tr>\n",
       "  </thead>\n",
       "  <tbody>\n",
       "    <tr>\n",
       "      <th>0</th>\n",
       "      <td>\\tNIO Reads writes are completed in the caller thered;\\n\\t100% compatible with old interface and functionality.\\n\\tEach connection has an instance of this object to\\n\\treceive data for a message in multiple OP_READ events.\\n</td>\n",
       "      <td>functional</td>\n",
       "    </tr>\n",
       "    <tr>\n",
       "      <th>1</th>\n",
       "      <td>* temporary fix for non-shared JArray objects\\n  * added generic unittests to check jcc/lucene/solr/montysolr functionality\\n  * wrote unittest for newseman (it does a complete processing from python side)\\n    - now what remains is to call it from java\\n    - decide on proper behaviour for cases when tokens are added/grouped\\n</td>\n",
       "      <td>bugfix</td>\n",
       "    </tr>\n",
       "    <tr>\n",
       "      <th>2</th>\n",
       "      <td>* Java:\\n   * Added RCON functionality for Source servers:\\n     * Added steamcondenser.steam.packets.rcon package\\n     * Added RCONAuthRequestPacket\\n     * Added RCONAuthResponsePacket\\n     * Added RCONExecRequestPacket\\n     * Added RCONExecResponsePacket\\n     * Added RCONPacket\\n     * Added RCONNoAuthException\\n   * Split SteamSocket into QuerySocket and RCONSocket\\n   * Stub functionality for GoldSrc servers\\n     * GoldSrc uses UDP and needs a special implementation\\n   * Added tests\\n</td>\n",
       "      <td>functional</td>\n",
       "    </tr>\n",
       "    <tr>\n",
       "      <th>3</th>\n",
       "      <td>- Merge changes from Pull-Request #6 \\t - Fix aggregation generation and cleanup dead code  - Update dependencies versions</td>\n",
       "      <td>code smell</td>\n",
       "    </tr>\n",
       "    <tr>\n",
       "      <th>4</th>\n",
       "      <td>Bug 233643 -  API builder performance bad for incremental build</td>\n",
       "      <td>external</td>\n",
       "    </tr>\n",
       "  </tbody>\n",
       "</table>\n",
       "</div>"
      ],
      "text/plain": [
       "                                                                                                                                                                                                                                                                                                                                                                                                                                                                                                          commit_message  \\\n",
       "0                                                                                                                                                                                                                                                                                       \\tNIO Reads writes are completed in the caller thered;\\n\\t100% compatible with old interface and functionality.\\n\\tEach connection has an instance of this object to\\n\\treceive data for a message in multiple OP_READ events.\\n   \n",
       "1                                                                                                                                                                              * temporary fix for non-shared JArray objects\\n  * added generic unittests to check jcc/lucene/solr/montysolr functionality\\n  * wrote unittest for newseman (it does a complete processing from python side)\\n    - now what remains is to call it from java\\n    - decide on proper behaviour for cases when tokens are added/grouped\\n   \n",
       "2   * Java:\\n   * Added RCON functionality for Source servers:\\n     * Added steamcondenser.steam.packets.rcon package\\n     * Added RCONAuthRequestPacket\\n     * Added RCONAuthResponsePacket\\n     * Added RCONExecRequestPacket\\n     * Added RCONExecResponsePacket\\n     * Added RCONPacket\\n     * Added RCONNoAuthException\\n   * Split SteamSocket into QuerySocket and RCONSocket\\n   * Stub functionality for GoldSrc servers\\n     * GoldSrc uses UDP and needs a special implementation\\n   * Added tests\\n   \n",
       "3                                                                                                                                                                                                                                                                                                                                                                                             - Merge changes from Pull-Request #6 \\t - Fix aggregation generation and cleanup dead code  - Update dependencies versions   \n",
       "4                                                                                                                                                                                                                                                                                                                                                                                                                                                        Bug 233643 -  API builder performance bad for incremental build   \n",
       "\n",
       "     category  \n",
       "0  functional  \n",
       "1      bugfix  \n",
       "2  functional  \n",
       "3  code smell  \n",
       "4    external  "
      ]
     },
     "execution_count": 908,
     "metadata": {},
     "output_type": "execute_result"
    }
   ],
   "source": [
    "df.head()"
   ]
  },
  {
   "cell_type": "code",
   "execution_count": 909,
   "metadata": {},
   "outputs": [
    {
     "data": {
      "text/html": [
       "<div>\n",
       "<style scoped>\n",
       "    .dataframe tbody tr th:only-of-type {\n",
       "        vertical-align: middle;\n",
       "    }\n",
       "\n",
       "    .dataframe tbody tr th {\n",
       "        vertical-align: top;\n",
       "    }\n",
       "\n",
       "    .dataframe thead th {\n",
       "        text-align: right;\n",
       "    }\n",
       "</style>\n",
       "<table border=\"1\" class=\"dataframe\">\n",
       "  <thead>\n",
       "    <tr style=\"text-align: right;\">\n",
       "      <th></th>\n",
       "      <th>commit_message</th>\n",
       "      <th>category</th>\n",
       "    </tr>\n",
       "  </thead>\n",
       "  <tbody>\n",
       "    <tr>\n",
       "      <th>1735</th>\n",
       "      <td>working on #339: introducing the getSpecialFeatureCollection Method as a more general way to get all the PrintTemplateFeatures. improve the numbering\\n</td>\n",
       "      <td>functional</td>\n",
       "    </tr>\n",
       "    <tr>\n",
       "      <th>1736</th>\n",
       "      <td>working on #339: next step. i\\n\\nmove all the calculation and handling into the PrintTemplateFeature to handle\\nmultiple templateprinting.\\n\\nThe creation is still very basic though\\n</td>\n",
       "      <td>functional</td>\n",
       "    </tr>\n",
       "    <tr>\n",
       "      <th>1737</th>\n",
       "      <td>working on #369: generalized the adjustMapForPrintingTemplates and ensureVisibilityOfPrintingTemplates method to adjustMapForSpecialFeatureClasses and ensureVisibilityOfSpecialFeatures\\n</td>\n",
       "      <td>functional</td>\n",
       "    </tr>\n",
       "    <tr>\n",
       "      <th>1738</th>\n",
       "      <td>working up test coverage; minor tweaks; removing dead code; fixing very minor bugs; adding tests</td>\n",
       "      <td>code smell</td>\n",
       "    </tr>\n",
       "    <tr>\n",
       "      <th>1739</th>\n",
       "      <td> changed render routine for text fields  added tabbing abilities to CustomScreen  various modifications on CustomScreen to match the new TextField requirements  changed size of PacketSky</td>\n",
       "      <td>internal</td>\n",
       "    </tr>\n",
       "  </tbody>\n",
       "</table>\n",
       "</div>"
      ],
      "text/plain": [
       "                                                                                                                                                                                      commit_message  \\\n",
       "1735                                         working on #339: introducing the getSpecialFeatureCollection Method as a more general way to get all the PrintTemplateFeatures. improve the numbering\\n   \n",
       "1736         working on #339: next step. i\\n\\nmove all the calculation and handling into the PrintTemplateFeature to handle\\nmultiple templateprinting.\\n\\nThe creation is still very basic though\\n   \n",
       "1737      working on #369: generalized the adjustMapForPrintingTemplates and ensureVisibilityOfPrintingTemplates method to adjustMapForSpecialFeatureClasses and ensureVisibilityOfSpecialFeatures\\n   \n",
       "1738                                                                                                working up test coverage; minor tweaks; removing dead code; fixing very minor bugs; adding tests   \n",
       "1739   changed render routine for text fields  added tabbing abilities to CustomScreen  various modifications on CustomScreen to match the new TextField requirements  changed size of PacketSky   \n",
       "\n",
       "        category  \n",
       "1735  functional  \n",
       "1736  functional  \n",
       "1737  functional  \n",
       "1738  code smell  \n",
       "1739    internal  "
      ]
     },
     "execution_count": 909,
     "metadata": {},
     "output_type": "execute_result"
    }
   ],
   "source": [
    "df.tail()"
   ]
  },
  {
   "cell_type": "code",
   "execution_count": 910,
   "metadata": {},
   "outputs": [
    {
     "data": {
      "text/html": [
       "<div>\n",
       "<style scoped>\n",
       "    .dataframe tbody tr th:only-of-type {\n",
       "        vertical-align: middle;\n",
       "    }\n",
       "\n",
       "    .dataframe tbody tr th {\n",
       "        vertical-align: top;\n",
       "    }\n",
       "\n",
       "    .dataframe thead th {\n",
       "        text-align: right;\n",
       "    }\n",
       "</style>\n",
       "<table border=\"1\" class=\"dataframe\">\n",
       "  <thead>\n",
       "    <tr style=\"text-align: right;\">\n",
       "      <th></th>\n",
       "      <th>commit_message</th>\n",
       "      <th>category</th>\n",
       "    </tr>\n",
       "  </thead>\n",
       "  <tbody>\n",
       "    <tr>\n",
       "      <th>1671</th>\n",
       "      <td>remove derived values from db, query instead\\n\\nthere are derived values stored in the database from datafile and\\nproject entities: the detection data range, detection count, and\\nbounding box. these are set following data file uploads. but they are\\nnot updated in response to datafile deletion and don't take into account\\ndetections that are 'deleted' through the data cleansing feature.\\nremove these fields and query information when required.\\n\\nthis may lead to degraded performance, particularly on the front page\\nwhere we have to query for the detection date and bounding box of each\\nproject; however, we can fix this issue later where it's material.\\n</td>\n",
       "      <td>bugfix</td>\n",
       "    </tr>\n",
       "    <tr>\n",
       "      <th>417</th>\n",
       "      <td>ClockService  Starting on decoupling (agreement from lease  finance)</td>\n",
       "      <td>internal</td>\n",
       "    </tr>\n",
       "    <tr>\n",
       "      <th>972</th>\n",
       "      <td>Performance optimization of annotation processing/handling</td>\n",
       "      <td>external</td>\n",
       "    </tr>\n",
       "    <tr>\n",
       "      <th>500</th>\n",
       "      <td>EXML night of the feature creep: you can now declare not only components, but also plugins, layouts, grid column types and any other classes (e.g. actions) in EXML! Instead of &lt;exml:component&gt;, just use the following new EXML root nodes: &lt;exml:plugin&gt; for ptype, &lt;exml:layout&gt; for type, &lt;exml:gridColumn&gt; for gctype, and &lt;exml:class&gt; for anything else.\\n</td>\n",
       "      <td>functional</td>\n",
       "    </tr>\n",
       "    <tr>\n",
       "      <th>798</th>\n",
       "      <td>Issue 183: Adds support for detecting multiple barcodes  and simplifies ResultPoint abstraction</td>\n",
       "      <td>internal</td>\n",
       "    </tr>\n",
       "  </tbody>\n",
       "</table>\n",
       "</div>"
      ],
      "text/plain": [
       "                                                                                                                                                                                                                                                                                                                                                                                                                                                                                                                                                                                                                                                                                commit_message  \\\n",
       "1671  remove derived values from db, query instead\\n\\nthere are derived values stored in the database from datafile and\\nproject entities: the detection data range, detection count, and\\nbounding box. these are set following data file uploads. but they are\\nnot updated in response to datafile deletion and don't take into account\\ndetections that are 'deleted' through the data cleansing feature.\\nremove these fields and query information when required.\\n\\nthis may lead to degraded performance, particularly on the front page\\nwhere we have to query for the detection date and bounding box of each\\nproject; however, we can fix this issue later where it's material.\\n   \n",
       "417                                                                                                                                                                                                                                                                                                                                                                                                                                                                                                                                                                                                                       ClockService  Starting on decoupling (agreement from lease  finance)   \n",
       "972                                                                                                                                                                                                                                                                                                                                                                                                                                                                                                                                                                                                                                 Performance optimization of annotation processing/handling   \n",
       "500                                                                                                                                                                                                                                                                                                                         EXML night of the feature creep: you can now declare not only components, but also plugins, layouts, grid column types and any other classes (e.g. actions) in EXML! Instead of <exml:component>, just use the following new EXML root nodes: <exml:plugin> for ptype, <exml:layout> for type, <exml:gridColumn> for gctype, and <exml:class> for anything else.\\n   \n",
       "798                                                                                                                                                                                                                                                                                                                                                                                                                                                                                                                                                                                            Issue 183: Adds support for detecting multiple barcodes  and simplifies ResultPoint abstraction   \n",
       "\n",
       "        category  \n",
       "1671      bugfix  \n",
       "417     internal  \n",
       "972     external  \n",
       "500   functional  \n",
       "798     internal  "
      ]
     },
     "execution_count": 910,
     "metadata": {},
     "output_type": "execute_result"
    }
   ],
   "source": [
    "df.sample(5)"
   ]
  },
  {
   "cell_type": "code",
   "execution_count": 911,
   "metadata": {},
   "outputs": [
    {
     "name": "stdout",
     "output_type": "stream",
     "text": [
      "<class 'pandas.core.frame.DataFrame'>\n",
      "RangeIndex: 1740 entries, 0 to 1739\n",
      "Data columns (total 2 columns):\n",
      " #   Column          Non-Null Count  Dtype \n",
      "---  ------          --------------  ----- \n",
      " 0   commit_message  1740 non-null   object\n",
      " 1   category        1740 non-null   object\n",
      "dtypes: object(2)\n",
      "memory usage: 27.3+ KB\n"
     ]
    }
   ],
   "source": [
    "df.info()"
   ]
  },
  {
   "cell_type": "markdown",
   "metadata": {},
   "source": [
    "### EDA"
   ]
  },
  {
   "cell_type": "code",
   "execution_count": 912,
   "metadata": {},
   "outputs": [
    {
     "data": {
      "text/html": [
       "<div>\n",
       "<style scoped>\n",
       "    .dataframe tbody tr th:only-of-type {\n",
       "        vertical-align: middle;\n",
       "    }\n",
       "\n",
       "    .dataframe tbody tr th {\n",
       "        vertical-align: top;\n",
       "    }\n",
       "\n",
       "    .dataframe thead th {\n",
       "        text-align: right;\n",
       "    }\n",
       "</style>\n",
       "<table border=\"1\" class=\"dataframe\">\n",
       "  <thead>\n",
       "    <tr style=\"text-align: right;\">\n",
       "      <th></th>\n",
       "      <th>commit_message</th>\n",
       "      <th>category</th>\n",
       "    </tr>\n",
       "  </thead>\n",
       "  <tbody>\n",
       "    <tr>\n",
       "      <th>count</th>\n",
       "      <td>1740</td>\n",
       "      <td>1740</td>\n",
       "    </tr>\n",
       "    <tr>\n",
       "      <th>unique</th>\n",
       "      <td>1716</td>\n",
       "      <td>5</td>\n",
       "    </tr>\n",
       "    <tr>\n",
       "      <th>top</th>\n",
       "      <td>Removed duplicate code and added outlines for how to add version to the start log entry.</td>\n",
       "      <td>functional</td>\n",
       "    </tr>\n",
       "    <tr>\n",
       "      <th>freq</th>\n",
       "      <td>3</td>\n",
       "      <td>348</td>\n",
       "    </tr>\n",
       "  </tbody>\n",
       "</table>\n",
       "</div>"
      ],
      "text/plain": [
       "                                                                                  commit_message  \\\n",
       "count                                                                                       1740   \n",
       "unique                                                                                      1716   \n",
       "top     Removed duplicate code and added outlines for how to add version to the start log entry.   \n",
       "freq                                                                                           3   \n",
       "\n",
       "          category  \n",
       "count         1740  \n",
       "unique           5  \n",
       "top     functional  \n",
       "freq           348  "
      ]
     },
     "execution_count": 912,
     "metadata": {},
     "output_type": "execute_result"
    }
   ],
   "source": [
    "df.describe(include='object')"
   ]
  },
  {
   "cell_type": "code",
   "execution_count": 913,
   "metadata": {},
   "outputs": [
    {
     "data": {
      "text/plain": [
       "array(['functional', 'bugfix', 'code smell', 'external', 'internal'],\n",
       "      dtype=object)"
      ]
     },
     "execution_count": 913,
     "metadata": {},
     "output_type": "execute_result"
    }
   ],
   "source": [
    "df.category.unique()"
   ]
  },
  {
   "cell_type": "code",
   "execution_count": 914,
   "metadata": {},
   "outputs": [
    {
     "name": "stdout",
     "output_type": "stream",
     "text": [
      "The sum of duplicate records is \n"
     ]
    },
    {
     "data": {
      "text/plain": [
       "19"
      ]
     },
     "execution_count": 914,
     "metadata": {},
     "output_type": "execute_result"
    }
   ],
   "source": [
    "print(\"The sum of duplicate records is \")\n",
    "df.duplicated().sum()\n"
   ]
  },
  {
   "cell_type": "code",
   "execution_count": 915,
   "metadata": {},
   "outputs": [
    {
     "data": {
      "text/plain": [
       "commit_message    1721\n",
       "category          1721\n",
       "dtype: int64"
      ]
     },
     "execution_count": 915,
     "metadata": {},
     "output_type": "execute_result"
    }
   ],
   "source": [
    "# removing the duplicates\n",
    "\n",
    "df = df.drop_duplicates()\n",
    "\n",
    "df.count()"
   ]
  },
  {
   "cell_type": "code",
   "execution_count": 916,
   "metadata": {},
   "outputs": [
    {
     "data": {
      "text/plain": [
       "commit_message    0\n",
       "category          0\n",
       "dtype: int64"
      ]
     },
     "execution_count": 916,
     "metadata": {},
     "output_type": "execute_result"
    }
   ],
   "source": [
    "# checking for null values\n",
    "\n",
    "df.isnull().sum()"
   ]
  },
  {
   "cell_type": "code",
   "execution_count": 917,
   "metadata": {},
   "outputs": [
    {
     "data": {
      "text/plain": [
       "commit_message    0\n",
       "category          0\n",
       "dtype: int64"
      ]
     },
     "execution_count": 917,
     "metadata": {},
     "output_type": "execute_result"
    }
   ],
   "source": [
    "# checking for NaN values\n",
    "\n",
    "df.isna().sum()"
   ]
  },
  {
   "cell_type": "code",
   "execution_count": 918,
   "metadata": {},
   "outputs": [
    {
     "data": {
      "text/plain": [
       "0"
      ]
     },
     "execution_count": 918,
     "metadata": {},
     "output_type": "execute_result"
    }
   ],
   "source": [
    "# checking for records with only spaces in the commit_message columns\n",
    "\n",
    "only_spaces_count = df['commit_message'].apply(lambda x: x.isspace() if pd.notnull(x) else False).sum()\n",
    "\n",
    "only_spaces_count\n"
   ]
  },
  {
   "cell_type": "code",
   "execution_count": 919,
   "metadata": {},
   "outputs": [
    {
     "data": {
      "text/plain": [
       "(commit_message    1721\n",
       " category          1721\n",
       " dtype: int64,\n",
       " commit_message    1716\n",
       " category             5\n",
       " dtype: int64)"
      ]
     },
     "execution_count": 919,
     "metadata": {},
     "output_type": "execute_result"
    }
   ],
   "source": [
    "df.count(), df.nunique()"
   ]
  },
  {
   "cell_type": "markdown",
   "metadata": {},
   "source": [
    "### found out the data descrepancy\n",
    "\n",
    "the total records are 1721 and the unique records are 1716 and 5 in columns commit_messages and categories, respectively\n",
    "\n",
    "I have done the root-cause analysis of this issue, to determine whether to keep the record or remove it completely"
   ]
  },
  {
   "cell_type": "code",
   "execution_count": 920,
   "metadata": {},
   "outputs": [
    {
     "data": {
      "text/html": [
       "<div>\n",
       "<style scoped>\n",
       "    .dataframe tbody tr th:only-of-type {\n",
       "        vertical-align: middle;\n",
       "    }\n",
       "\n",
       "    .dataframe tbody tr th {\n",
       "        vertical-align: top;\n",
       "    }\n",
       "\n",
       "    .dataframe thead th {\n",
       "        text-align: right;\n",
       "    }\n",
       "</style>\n",
       "<table border=\"1\" class=\"dataframe\">\n",
       "  <thead>\n",
       "    <tr style=\"text-align: right;\">\n",
       "      <th></th>\n",
       "      <th>commit_message</th>\n",
       "      <th>category</th>\n",
       "    </tr>\n",
       "  </thead>\n",
       "  <tbody>\n",
       "    <tr>\n",
       "      <th>508</th>\n",
       "      <td>Enhanced tool palette composition functionality. Added Morph Activity/Gateway features.</td>\n",
       "      <td>internal</td>\n",
       "    </tr>\n",
       "    <tr>\n",
       "      <th>509</th>\n",
       "      <td>Enhanced tool palette composition functionality. Added Morph Activity/Gateway features.</td>\n",
       "      <td>external</td>\n",
       "    </tr>\n",
       "    <tr>\n",
       "      <th>796</th>\n",
       "      <td>Issue 176: size can now test compatibility with images; refactored vcloud config logic; updated to support latest bluelock</td>\n",
       "      <td>internal</td>\n",
       "    </tr>\n",
       "    <tr>\n",
       "      <th>797</th>\n",
       "      <td>Issue 176: size can now test compatibility with images; refactored vcloud config logic; updated to support latest bluelock</td>\n",
       "      <td>external</td>\n",
       "    </tr>\n",
       "    <tr>\n",
       "      <th>862</th>\n",
       "      <td>Make bitcoinSerialize() return a copy by default  provide an unsafeBitcoinSerialize() method for high performance applications that are willing to deal with the extra API complexity.</td>\n",
       "      <td>internal</td>\n",
       "    </tr>\n",
       "    <tr>\n",
       "      <th>863</th>\n",
       "      <td>Make bitcoinSerialize() return a copy by default  provide an unsafeBitcoinSerialize() method for high performance applications that are willing to deal with the extra API complexity.</td>\n",
       "      <td>external</td>\n",
       "    </tr>\n",
       "    <tr>\n",
       "      <th>1241</th>\n",
       "      <td>StewartSingularValueDecomposition: re-factor monolithic code and ugly switch statement into multiple methods</td>\n",
       "      <td>internal</td>\n",
       "    </tr>\n",
       "    <tr>\n",
       "      <th>1242</th>\n",
       "      <td>StewartSingularValueDecomposition: re-factor monolithic code and ugly switch statement into multiple methods</td>\n",
       "      <td>code smell</td>\n",
       "    </tr>\n",
       "    <tr>\n",
       "      <th>1346</th>\n",
       "      <td>[BACKLOG-4709] - Small changes in platform to improve performance - UserSettingService    - replace keySet() + get() combination with entrySet()    - remove useless object instantiation    - remove useless explicit map.remove() - AbstractSpringPentahoObjectFactory    - add logger.isDebugEnabled()    - remove useless non-null validation - OrderedApplicationEventMulticaster    - replace ArrayList with array for faster sorting    - extract stateless Comparator to a final field to avoid useless instantiation    - replace new Integer.compareTo() with Integer.compare()    - add tests - RoleAuthorizationPolicy    - create ArrayLists of exact size - JcrRepositoryFileAclUtils    - iterate through List  not Set - DefaultPermissionConversionHelper    - replace indexOf(\":\") with indexOf(':') as it is more effective - AuditConnection    - change the order: first try to obtain a connection and only then sleep</td>\n",
       "      <td>internal</td>\n",
       "    </tr>\n",
       "    <tr>\n",
       "      <th>1347</th>\n",
       "      <td>[BACKLOG-4709] - Small changes in platform to improve performance - UserSettingService    - replace keySet() + get() combination with entrySet()    - remove useless object instantiation    - remove useless explicit map.remove() - AbstractSpringPentahoObjectFactory    - add logger.isDebugEnabled()    - remove useless non-null validation - OrderedApplicationEventMulticaster    - replace ArrayList with array for faster sorting    - extract stateless Comparator to a final field to avoid useless instantiation    - replace new Integer.compareTo() with Integer.compare()    - add tests - RoleAuthorizationPolicy    - create ArrayLists of exact size - JcrRepositoryFileAclUtils    - iterate through List  not Set - DefaultPermissionConversionHelper    - replace indexOf(\":\") with indexOf(':') as it is more effective - AuditConnection    - change the order: first try to obtain a connection and only then sleep</td>\n",
       "      <td>external</td>\n",
       "    </tr>\n",
       "  </tbody>\n",
       "</table>\n",
       "</div>"
      ],
      "text/plain": [
       "                                                                                                                                                                                                                                                                                                                                                                                                                                                                                                                                                                                                                                                                                                                                                                                                                                                                                                                                    commit_message  \\\n",
       "508                                                                                                                                                                                                                                                                                                                                                                                                                                                                                                                                                                                                                                                                                                                                                                                                                                                        Enhanced tool palette composition functionality. Added Morph Activity/Gateway features.   \n",
       "509                                                                                                                                                                                                                                                                                                                                                                                                                                                                                                                                                                                                                                                                                                                                                                                                                                                        Enhanced tool palette composition functionality. Added Morph Activity/Gateway features.   \n",
       "796                                                                                                                                                                                                                                                                                                                                                                                                                                                                                                                                                                                                                                                                                                                                                                                                                     Issue 176: size can now test compatibility with images; refactored vcloud config logic; updated to support latest bluelock   \n",
       "797                                                                                                                                                                                                                                                                                                                                                                                                                                                                                                                                                                                                                                                                                                                                                                                                                     Issue 176: size can now test compatibility with images; refactored vcloud config logic; updated to support latest bluelock   \n",
       "862                                                                                                                                                                                                                                                                                                                                                                                                                                                                                                                                                                                                                                                                                                                                                         Make bitcoinSerialize() return a copy by default  provide an unsafeBitcoinSerialize() method for high performance applications that are willing to deal with the extra API complexity.   \n",
       "863                                                                                                                                                                                                                                                                                                                                                                                                                                                                                                                                                                                                                                                                                                                                                         Make bitcoinSerialize() return a copy by default  provide an unsafeBitcoinSerialize() method for high performance applications that are willing to deal with the extra API complexity.   \n",
       "1241                                                                                                                                                                                                                                                                                                                                                                                                                                                                                                                                                                                                                                                                                                                                                                                                                                  StewartSingularValueDecomposition: re-factor monolithic code and ugly switch statement into multiple methods   \n",
       "1242                                                                                                                                                                                                                                                                                                                                                                                                                                                                                                                                                                                                                                                                                                                                                                                                                                  StewartSingularValueDecomposition: re-factor monolithic code and ugly switch statement into multiple methods   \n",
       "1346  [BACKLOG-4709] - Small changes in platform to improve performance - UserSettingService    - replace keySet() + get() combination with entrySet()    - remove useless object instantiation    - remove useless explicit map.remove() - AbstractSpringPentahoObjectFactory    - add logger.isDebugEnabled()    - remove useless non-null validation - OrderedApplicationEventMulticaster    - replace ArrayList with array for faster sorting    - extract stateless Comparator to a final field to avoid useless instantiation    - replace new Integer.compareTo() with Integer.compare()    - add tests - RoleAuthorizationPolicy    - create ArrayLists of exact size - JcrRepositoryFileAclUtils    - iterate through List  not Set - DefaultPermissionConversionHelper    - replace indexOf(\":\") with indexOf(':') as it is more effective - AuditConnection    - change the order: first try to obtain a connection and only then sleep   \n",
       "1347  [BACKLOG-4709] - Small changes in platform to improve performance - UserSettingService    - replace keySet() + get() combination with entrySet()    - remove useless object instantiation    - remove useless explicit map.remove() - AbstractSpringPentahoObjectFactory    - add logger.isDebugEnabled()    - remove useless non-null validation - OrderedApplicationEventMulticaster    - replace ArrayList with array for faster sorting    - extract stateless Comparator to a final field to avoid useless instantiation    - replace new Integer.compareTo() with Integer.compare()    - add tests - RoleAuthorizationPolicy    - create ArrayLists of exact size - JcrRepositoryFileAclUtils    - iterate through List  not Set - DefaultPermissionConversionHelper    - replace indexOf(\":\") with indexOf(':') as it is more effective - AuditConnection    - change the order: first try to obtain a connection and only then sleep   \n",
       "\n",
       "        category  \n",
       "508     internal  \n",
       "509     external  \n",
       "796     internal  \n",
       "797     external  \n",
       "862     internal  \n",
       "863     external  \n",
       "1241    internal  \n",
       "1242  code smell  \n",
       "1346    internal  \n",
       "1347    external  "
      ]
     },
     "execution_count": 920,
     "metadata": {},
     "output_type": "execute_result"
    }
   ],
   "source": [
    "\n",
    "duplicate_records = df[df['commit_message'].duplicated(keep=False)]\n",
    "\n",
    "duplicate_records\n",
    "\n",
    "# 508, 796, 862, 1242, 1346"
   ]
  },
  {
   "cell_type": "markdown",
   "metadata": {},
   "source": [
    "**508, 509**: maybe new functionality, thus **internal** seems correct as it does not specifically mention fixing bugs or issues.\n",
    "\n",
    "**796, 797**: seems like internal enhancements and updates to existing systems, so **internal** \n",
    "\n",
    "**862, 863**: change in functionality to enhance performance and security, so **internal**\n",
    "\n",
    "**1241, 1242**: This is clearly a code maintenance task, thats why the **code smell** category\n",
    "\n",
    "**1346, 1347**: If \"external\" refers to changes that affect end-users or outside systems, and \"internal\" refers to changes within the codebase that do not affect external interfaces, then it's likely that both should be categorized as **internal**."
   ]
  },
  {
   "cell_type": "code",
   "execution_count": 921,
   "metadata": {},
   "outputs": [],
   "source": [
    "df = df.drop(labels=[509, 797, 863, 1241, 1347], axis=0)"
   ]
  },
  {
   "cell_type": "code",
   "execution_count": 922,
   "metadata": {},
   "outputs": [
    {
     "data": {
      "image/png": "[encoded data removed]",
      "text/plain": [
       "<Figure size 640x480 with 1 Axes>"
      ]
     },
     "metadata": {},
     "output_type": "display_data"
    }
   ],
   "source": [
    "ax = sns.countplot(x=df.category, data=df, palette='coolwarm', hue=df.category, legend=False)\n",
    "\n",
    "plt.title('Count of Categories')\n",
    "plt.ylabel('Frequency')\n",
    "plt.xlabel('Categories')\n",
    "\n",
    "# annotate each bar with the number of occurences\n",
    "for p in ax.patches:\n",
    "    ax.annotate(f'{int(p.get_height())}', # The number to annotate\n",
    "        (p.get_x() + p.get_width() / 2., p.get_height()), # Position\n",
    "        ha = 'center', # center horizontally\n",
    "        va = 'center', # center vertically\n",
    "        xytext = (0, 9), # Text offset\n",
    "        textcoords = 'offset points')\n",
    "\n",
    "plt.show()"
   ]
  },
  {
   "cell_type": "markdown",
   "metadata": {},
   "source": [
    "### Text Pre-processing"
   ]
  },
  {
   "cell_type": "code",
   "execution_count": 923,
   "metadata": {},
   "outputs": [],
   "source": [
    "def clean_text(text):\n",
    "    # Lowercase the text\n",
    "    text = text.lower()\n",
    "    \n",
    "    # Expand contractions\n",
    "    text = contractions.fix(text)\n",
    "    \n",
    "    # Normalize accents and special characters\n",
    "    text = unidecode.unidecode(text)\n",
    "    \n",
    "    # Remove URLs\n",
    "    text = re.sub(r'http\\S+', '', text)\n",
    "    \n",
    "    # Remove single-character tokens (mostly punctuation)\n",
    "    text = re.sub(r'\\s+[a-zA-Z]\\s+', ' ', text)\n",
    "    \n",
    "    # Remove single characters from the start\n",
    "    text = re.sub(r'\\^[a-zA-Z]\\s+', ' ', text)\n",
    "    \n",
    "    # Substitute multiple spaces with single space\n",
    "    text = re.sub(r'\\s+', ' ', text, flags=re.I)\n",
    "    \n",
    "    # Remove prefixed 'b'\n",
    "    text = re.sub(r'^b\\s+', '', text)\n",
    "    \n",
    "    # Remove numbers\n",
    "    text = re.sub(r'\\d+', '', text)\n",
    "    \n",
    "    # Remove non-alphabetic characters\n",
    "    text = re.sub(r'[^a-zA-Z\\s]', '', text)\n",
    "    \n",
    "    # Trim leading and trailing whitespace\n",
    "    text = text.strip()\n",
    "    \n",
    "    return text\n",
    "\n"
   ]
  },
  {
   "cell_type": "code",
   "execution_count": 924,
   "metadata": {},
   "outputs": [],
   "source": [
    "stop_words = set(stopwords.words('english'))\n",
    "\n",
    "custom_stop_words = ['git', 'svn', 'refactor', 'gitsvnid', 'signedoffby', 'reviewedon', 'testedby', 'us', 'id', 'changeid', 'lot', 'small', 'thing', 'way'] # Add more custom words here --- lots\n",
    "stop_words.update(custom_stop_words)\n",
    "\n",
    "def remove_stopwords(text):\n",
    "    word_tokens = word_tokenize(text)\n",
    "    filtered_text = [word for word in word_tokens if word.lower() not in stop_words]\n",
    "    return ' '.join(filtered_text)\n"
   ]
  },
  {
   "cell_type": "code",
   "execution_count": 925,
   "metadata": {},
   "outputs": [],
   "source": [
    "df['commit_message_clean'] = df['commit_message'].apply(clean_text)\n",
    "df['commit_message_clean'] = df['commit_message_clean'].apply(remove_stopwords)\n"
   ]
  },
  {
   "cell_type": "code",
   "execution_count": 926,
   "metadata": {},
   "outputs": [],
   "source": [
    "df['tokens'] = df['commit_message_clean'].apply(word_tokenize)\n",
    "df['pos_tags'] = df['tokens'].apply(pos_tag)"
   ]
  },
  {
   "cell_type": "code",
   "execution_count": 927,
   "metadata": {},
   "outputs": [],
   "source": [
    "lemmatizer = WordNetLemmatizer()\n",
    "\n",
    "# Function to map NLTK position tags\n",
    "def get_wordnet_pos(treebank_tag):\n",
    "    if treebank_tag.startswith('J'):\n",
    "        return wordnet.ADJ\n",
    "    elif treebank_tag.startswith('V'):\n",
    "        return wordnet.VERB\n",
    "    elif treebank_tag.startswith('N'):\n",
    "        return wordnet.NOUN\n",
    "    elif treebank_tag.startswith('R'):\n",
    "        return wordnet.ADV\n",
    "    else:\n",
    "        return wordnet.NOUN  # Default to noun if unknown\n",
    "\n",
    "# Lemmatize a sentence with the appropriate POS tag\n",
    "def lemmatize_with_pos(sentence):\n",
    "    return [lemmatizer.lemmatize(word, get_wordnet_pos(pos_tag)) for word, pos_tag in sentence]\n",
    "\n",
    "# Apply the lemmatization function to the pos tags\n",
    "df['lemmatized'] = df['pos_tags'].apply(lemmatize_with_pos)\n"
   ]
  },
  {
   "cell_type": "code",
   "execution_count": 928,
   "metadata": {},
   "outputs": [],
   "source": [
    "df['lemmatized_text'] = df['lemmatized'].apply(' '.join)\n"
   ]
  },
  {
   "cell_type": "code",
   "execution_count": 929,
   "metadata": {},
   "outputs": [
    {
     "data": {
      "text/html": [
       "<div>\n",
       "<style scoped>\n",
       "    .dataframe tbody tr th:only-of-type {\n",
       "        vertical-align: middle;\n",
       "    }\n",
       "\n",
       "    .dataframe tbody tr th {\n",
       "        vertical-align: top;\n",
       "    }\n",
       "\n",
       "    .dataframe thead th {\n",
       "        text-align: right;\n",
       "    }\n",
       "</style>\n",
       "<table border=\"1\" class=\"dataframe\">\n",
       "  <thead>\n",
       "    <tr style=\"text-align: right;\">\n",
       "      <th></th>\n",
       "      <th>lemmatized_text</th>\n",
       "      <th>category</th>\n",
       "    </tr>\n",
       "  </thead>\n",
       "  <tbody>\n",
       "    <tr>\n",
       "      <th>0</th>\n",
       "      <td>nio read write complete caller would compatible old interface functionality connection instance object receive data message multiple opread event</td>\n",
       "      <td>functional</td>\n",
       "    </tr>\n",
       "    <tr>\n",
       "      <th>1</th>\n",
       "      <td>temporary fix nonshared jarray object add generic unittests check jcclucenesolrmontysolr functionality write unittest newseman complete processing python side remain call java decide proper behaviour case token addedgrouped</td>\n",
       "      <td>bugfix</td>\n",
       "    </tr>\n",
       "    <tr>\n",
       "      <th>2</th>\n",
       "      <td>java add rcon functionality source server add steamcondensersteampacketsrcon package add rconauthrequestpacket add rconauthresponsepacket add rconexecrequestpacket add rconexecresponsepacket add rconpacket added rconnoauthexception split steamsocket querysocket rconsocket stub functionality goldsrc server goldsrc use udp need special implementation add test</td>\n",
       "      <td>functional</td>\n",
       "    </tr>\n",
       "    <tr>\n",
       "      <th>3</th>\n",
       "      <td>merge change pullrequest fix aggregation generation cleanup dead code update dependency version</td>\n",
       "      <td>code smell</td>\n",
       "    </tr>\n",
       "    <tr>\n",
       "      <th>4</th>\n",
       "      <td>bug api builder performance bad incremental build</td>\n",
       "      <td>external</td>\n",
       "    </tr>\n",
       "    <tr>\n",
       "      <th>...</th>\n",
       "      <td>...</td>\n",
       "      <td>...</td>\n",
       "    </tr>\n",
       "    <tr>\n",
       "      <th>1735</th>\n",
       "      <td>work introduce getspecialfeaturecollection method general get printtemplatefeatures improve number</td>\n",
       "      <td>functional</td>\n",
       "    </tr>\n",
       "    <tr>\n",
       "      <th>1736</th>\n",
       "      <td>work next step move calculation handle printtemplatefeature handle multiple templateprinting creation still basic though</td>\n",
       "      <td>functional</td>\n",
       "    </tr>\n",
       "    <tr>\n",
       "      <th>1737</th>\n",
       "      <td>work generalize adjustmapforprintingtemplates ensurevisibilityofprintingtemplates method adjustmapforspecialfeatureclasses ensurevisibilityofspecialfeatures</td>\n",
       "      <td>functional</td>\n",
       "    </tr>\n",
       "    <tr>\n",
       "      <th>1738</th>\n",
       "      <td>work test coverage minor tweak remove dead code fix minor bug add test</td>\n",
       "      <td>code smell</td>\n",
       "    </tr>\n",
       "    <tr>\n",
       "      <th>1739</th>\n",
       "      <td>change render routine text field add tabbing ability customscreen various modification customscreen match new textfield requirement change size packetsky</td>\n",
       "      <td>internal</td>\n",
       "    </tr>\n",
       "  </tbody>\n",
       "</table>\n",
       "<p>1716 rows × 2 columns</p>\n",
       "</div>"
      ],
      "text/plain": [
       "                                                                                                                                                                                                                                                                                                                                                              lemmatized_text  \\\n",
       "0                                                                                                                                                                                                                           nio read write complete caller would compatible old interface functionality connection instance object receive data message multiple opread event   \n",
       "1                                                                                                                                             temporary fix nonshared jarray object add generic unittests check jcclucenesolrmontysolr functionality write unittest newseman complete processing python side remain call java decide proper behaviour case token addedgrouped   \n",
       "2     java add rcon functionality source server add steamcondensersteampacketsrcon package add rconauthrequestpacket add rconauthresponsepacket add rconexecrequestpacket add rconexecresponsepacket add rconpacket added rconnoauthexception split steamsocket querysocket rconsocket stub functionality goldsrc server goldsrc use udp need special implementation add test   \n",
       "3                                                                                                                                                                                                                                                                             merge change pullrequest fix aggregation generation cleanup dead code update dependency version   \n",
       "4                                                                                                                                                                                                                                                                                                                           bug api builder performance bad incremental build   \n",
       "...                                                                                                                                                                                                                                                                                                                                                                       ...   \n",
       "1735                                                                                                                                                                                                                                                                       work introduce getspecialfeaturecollection method general get printtemplatefeatures improve number   \n",
       "1736                                                                                                                                                                                                                                                 work next step move calculation handle printtemplatefeature handle multiple templateprinting creation still basic though   \n",
       "1737                                                                                                                                                                                                             work generalize adjustmapforprintingtemplates ensurevisibilityofprintingtemplates method adjustmapforspecialfeatureclasses ensurevisibilityofspecialfeatures   \n",
       "1738                                                                                                                                                                                                                                                                                                   work test coverage minor tweak remove dead code fix minor bug add test   \n",
       "1739                                                                                                                                                                                                                change render routine text field add tabbing ability customscreen various modification customscreen match new textfield requirement change size packetsky   \n",
       "\n",
       "        category  \n",
       "0     functional  \n",
       "1         bugfix  \n",
       "2     functional  \n",
       "3     code smell  \n",
       "4       external  \n",
       "...          ...  \n",
       "1735  functional  \n",
       "1736  functional  \n",
       "1737  functional  \n",
       "1738  code smell  \n",
       "1739    internal  \n",
       "\n",
       "[1716 rows x 2 columns]"
      ]
     },
     "execution_count": 929,
     "metadata": {},
     "output_type": "execute_result"
    }
   ],
   "source": [
    "df = df[['lemmatized_text', 'category']]\n",
    "\n",
    "df"
   ]
  },
  {
   "cell_type": "markdown",
   "metadata": {},
   "source": [
    "### Data Review and Cleaning Reiteration"
   ]
  },
  {
   "cell_type": "code",
   "execution_count": 930,
   "metadata": {},
   "outputs": [],
   "source": [
    "df['lemmatized_text'] = df['lemmatized_text'].apply(clean_text)\n",
    "df['lemmatized_text'] = df['lemmatized_text'].apply(remove_stopwords)"
   ]
  },
  {
   "cell_type": "code",
   "execution_count": 931,
   "metadata": {},
   "outputs": [],
   "source": [
    "df = df.drop_duplicates()"
   ]
  },
  {
   "cell_type": "code",
   "execution_count": 932,
   "metadata": {},
   "outputs": [
    {
     "data": {
      "text/plain": [
       "lemmatized_text    1701\n",
       "category           1701\n",
       "dtype: int64"
      ]
     },
     "execution_count": 932,
     "metadata": {},
     "output_type": "execute_result"
    }
   ],
   "source": [
    "df.isnull().count()"
   ]
  },
  {
   "cell_type": "code",
   "execution_count": 933,
   "metadata": {},
   "outputs": [],
   "source": [
    "df = df.dropna(how='all')"
   ]
  },
  {
   "cell_type": "code",
   "execution_count": 934,
   "metadata": {},
   "outputs": [
    {
     "data": {
      "text/plain": [
       "lemmatized_text    1701\n",
       "category           1701\n",
       "dtype: int64"
      ]
     },
     "execution_count": 934,
     "metadata": {},
     "output_type": "execute_result"
    }
   ],
   "source": [
    "df.count()"
   ]
  },
  {
   "cell_type": "code",
   "execution_count": 935,
   "metadata": {},
   "outputs": [
    {
     "data": {
      "text/plain": [
       "1"
      ]
     },
     "execution_count": 935,
     "metadata": {},
     "output_type": "execute_result"
    }
   ],
   "source": [
    "df['lemmatized_text'].duplicated().sum()\n"
   ]
  },
  {
   "cell_type": "code",
   "execution_count": 936,
   "metadata": {},
   "outputs": [
    {
     "data": {
      "text/html": [
       "<div>\n",
       "<style scoped>\n",
       "    .dataframe tbody tr th:only-of-type {\n",
       "        vertical-align: middle;\n",
       "    }\n",
       "\n",
       "    .dataframe tbody tr th {\n",
       "        vertical-align: top;\n",
       "    }\n",
       "\n",
       "    .dataframe thead th {\n",
       "        text-align: right;\n",
       "    }\n",
       "</style>\n",
       "<table border=\"1\" class=\"dataframe\">\n",
       "  <thead>\n",
       "    <tr style=\"text-align: right;\">\n",
       "      <th></th>\n",
       "      <th>lemmatized_text</th>\n",
       "      <th>category</th>\n",
       "    </tr>\n",
       "  </thead>\n",
       "  <tbody>\n",
       "    <tr>\n",
       "      <th>577</th>\n",
       "      <td>fix performance regresssion introduce use inetsocketaddress gethostname patch provide scott harrington improve upon kris jurka</td>\n",
       "      <td>bugfix</td>\n",
       "    </tr>\n",
       "    <tr>\n",
       "      <th>578</th>\n",
       "      <td>fix performance regresssion introduce use inetsocketaddress gethostname patch provide scott harrington improve upon kris jurka</td>\n",
       "      <td>external</td>\n",
       "    </tr>\n",
       "  </tbody>\n",
       "</table>\n",
       "</div>"
      ],
      "text/plain": [
       "                                                                                                                    lemmatized_text  \\\n",
       "577  fix performance regresssion introduce use inetsocketaddress gethostname patch provide scott harrington improve upon kris jurka   \n",
       "578  fix performance regresssion introduce use inetsocketaddress gethostname patch provide scott harrington improve upon kris jurka   \n",
       "\n",
       "     category  \n",
       "577    bugfix  \n",
       "578  external  "
      ]
     },
     "execution_count": 936,
     "metadata": {},
     "output_type": "execute_result"
    }
   ],
   "source": [
    "duplicate_records = df[df['lemmatized_text'].duplicated(keep=False)]\n",
    "\n",
    "duplicate_records "
   ]
  },
  {
   "cell_type": "markdown",
   "metadata": {},
   "source": [
    "\n",
    "**577, 578**: use of the word \"Fix\" suggests that it is **bugfix** entry, as it address a performance issue."
   ]
  },
  {
   "cell_type": "code",
   "execution_count": 937,
   "metadata": {},
   "outputs": [],
   "source": [
    "df = df.drop(labels=[578], axis=0)"
   ]
  },
  {
   "cell_type": "code",
   "execution_count": 938,
   "metadata": {},
   "outputs": [
    {
     "name": "stdout",
     "output_type": "stream",
     "text": [
      "lemmatized_text    False\n",
      "category           False\n",
      "dtype: bool\n",
      "[]\n"
     ]
    }
   ],
   "source": [
    "# function that checks if a cell is only space characters\n",
    "def is_only_spaces(x):\n",
    "    return isinstance(x, str) and x.strip() == ''\n",
    "\n",
    "# Apply the function to each element of the DataFrame\n",
    "spaces_mask = df.map(is_only_spaces)\n",
    "\n",
    "# all() to check if all values in each column are True (only spaces)\n",
    "columns_only_spaces = spaces_mask.all()\n",
    "\n",
    "print(columns_only_spaces)\n",
    "\n",
    "columns_with_only_spaces = columns_only_spaces[columns_only_spaces].index.tolist()\n",
    "print(columns_with_only_spaces)\n"
   ]
  },
  {
   "cell_type": "code",
   "execution_count": 939,
   "metadata": {},
   "outputs": [
    {
     "data": {
      "text/plain": [
       "lemmatized_text    1700\n",
       "category           1700\n",
       "dtype: int64"
      ]
     },
     "execution_count": 939,
     "metadata": {},
     "output_type": "execute_result"
    }
   ],
   "source": [
    "df.count()"
   ]
  },
  {
   "cell_type": "markdown",
   "metadata": {},
   "source": [
    "### Training/Testing Split"
   ]
  },
  {
   "cell_type": "code",
   "execution_count": 940,
   "metadata": {},
   "outputs": [],
   "source": [
    "X = df['lemmatized_text']  \n",
    "y = df['category']    \n",
    "\n",
    "\n",
    "x_train, x_test, y_train, y_test = train_test_split(\n",
    "    X, y,\n",
    "    test_size=0.25,       # 25% of the data will be allocated to the test set\n",
    "    stratify=y,           # Stratify based on the labels to maintain distribution\n",
    "    random_state=1234      \n",
    ")\n"
   ]
  },
  {
   "cell_type": "code",
   "execution_count": 941,
   "metadata": {},
   "outputs": [
    {
     "name": "stdout",
     "output_type": "stream",
     "text": [
      "The count of commit messages as per the category in testing dataset- \n",
      "category\n",
      "bugfix        87\n",
      "internal      86\n",
      "functional    86\n",
      "external      85\n",
      "code smell    81\n",
      "Name: count, dtype: int64\n"
     ]
    }
   ],
   "source": [
    "category_counts = y_test.value_counts()\n",
    "\n",
    "print(\"The count of commit messages as per the category in testing dataset- \")\n",
    "print(category_counts)\n"
   ]
  },
  {
   "cell_type": "code",
   "execution_count": 942,
   "metadata": {},
   "outputs": [
    {
     "name": "stdout",
     "output_type": "stream",
     "text": [
      "The count of commit messages as per the category in training dataset- \n",
      "category\n",
      "bugfix        261\n",
      "functional    260\n",
      "internal      256\n",
      "external      255\n",
      "code smell    243\n",
      "Name: count, dtype: int64\n"
     ]
    }
   ],
   "source": [
    "category_counts = y_train.value_counts()\n",
    "\n",
    "print(\"The count of commit messages as per the category in training dataset- \")\n",
    "print(category_counts)"
   ]
  },
  {
   "cell_type": "code",
   "execution_count": 943,
   "metadata": {},
   "outputs": [],
   "source": [
    "x_train_path = r\"../dataset/x_train.csv\"\n",
    "\n",
    "x_train.to_csv(x_train_path, index=False)"
   ]
  },
  {
   "cell_type": "code",
   "execution_count": 944,
   "metadata": {},
   "outputs": [],
   "source": [
    "y_train_path = r\"../dataset/y_train.csv\"\n",
    "\n",
    "y_train.to_csv(y_train_path, index=False)"
   ]
  },
  {
   "cell_type": "code",
   "execution_count": 945,
   "metadata": {},
   "outputs": [],
   "source": [
    "x_test_path = r\"../dataset/x_test.csv\"\n",
    "\n",
    "x_test.to_csv(x_test_path, index=False)"
   ]
  },
  {
   "cell_type": "code",
   "execution_count": 946,
   "metadata": {},
   "outputs": [],
   "source": [
    "y_test_path = r\"../dataset/y_test.csv\"\n",
    "\n",
    "y_test.to_csv(y_test_path, index=False)"
   ]
  },
  {
   "cell_type": "code",
   "execution_count": 947,
   "metadata": {},
   "outputs": [],
   "source": [
    "# Initialize TfidfVectorizer\n",
    "vectorizer = TfidfVectorizer(ngram_range=(1, 3), max_features=75000)\n",
    "\n",
    "# Fit and transform the training data\n",
    "x_train_tfidf = vectorizer.fit_transform(x_train)\n",
    "\n",
    "# Only transform the testing data\n",
    "x_test_tfidf = vectorizer.transform(x_test)"
   ]
  },
  {
   "cell_type": "code",
   "execution_count": 948,
   "metadata": {},
   "outputs": [
    {
     "name": "stdout",
     "output_type": "stream",
     "text": [
      "Requirement already satisfied: keras in /Users/onkars/Documents/AIProjects/Automated-Software-Refactoring-Commit-Classifier/myenv/lib/python3.12/site-packages (3.3.2)\n",
      "Requirement already satisfied: absl-py in /Users/onkars/Documents/AIProjects/Automated-Software-Refactoring-Commit-Classifier/myenv/lib/python3.12/site-packages (from keras) (2.1.0)\n",
      "Requirement already satisfied: numpy in /Users/onkars/Documents/AIProjects/Automated-Software-Refactoring-Commit-Classifier/myenv/lib/python3.12/site-packages (from keras) (1.26.4)\n",
      "Requirement already satisfied: rich in /Users/onkars/Documents/AIProjects/Automated-Software-Refactoring-Commit-Classifier/myenv/lib/python3.12/site-packages (from keras) (13.7.1)\n",
      "Requirement already satisfied: namex in /Users/onkars/Documents/AIProjects/Automated-Software-Refactoring-Commit-Classifier/myenv/lib/python3.12/site-packages (from keras) (0.0.8)\n",
      "Requirement already satisfied: h5py in /Users/onkars/Documents/AIProjects/Automated-Software-Refactoring-Commit-Classifier/myenv/lib/python3.12/site-packages (from keras) (3.11.0)\n",
      "Requirement already satisfied: optree in /Users/onkars/Documents/AIProjects/Automated-Software-Refactoring-Commit-Classifier/myenv/lib/python3.12/site-packages (from keras) (0.11.0)\n",
      "Requirement already satisfied: ml-dtypes in /Users/onkars/Documents/AIProjects/Automated-Software-Refactoring-Commit-Classifier/myenv/lib/python3.12/site-packages (from keras) (0.3.2)\n",
      "Requirement already satisfied: typing-extensions>=4.0.0 in /Users/onkars/Documents/AIProjects/Automated-Software-Refactoring-Commit-Classifier/myenv/lib/python3.12/site-packages (from optree->keras) (4.11.0)\n",
      "Requirement already satisfied: markdown-it-py>=2.2.0 in /Users/onkars/Documents/AIProjects/Automated-Software-Refactoring-Commit-Classifier/myenv/lib/python3.12/site-packages (from rich->keras) (3.0.0)\n",
      "Requirement already satisfied: pygments<3.0.0,>=2.13.0 in /Users/onkars/Documents/AIProjects/Automated-Software-Refactoring-Commit-Classifier/myenv/lib/python3.12/site-packages (from rich->keras) (2.17.2)\n",
      "Requirement already satisfied: mdurl~=0.1 in /Users/onkars/Documents/AIProjects/Automated-Software-Refactoring-Commit-Classifier/myenv/lib/python3.12/site-packages (from markdown-it-py>=2.2.0->rich->keras) (0.1.2)\n"
     ]
    }
   ],
   "source": [
    "!pip install keras"
   ]
  },
  {
   "cell_type": "code",
   "execution_count": 949,
   "metadata": {},
   "outputs": [
    {
     "name": "stdout",
     "output_type": "stream",
     "text": [
      "Requirement already satisfied: tensorflow in /Users/onkars/Documents/AIProjects/Automated-Software-Refactoring-Commit-Classifier/myenv/lib/python3.12/site-packages (2.16.1)\n",
      "Requirement already satisfied: absl-py>=1.0.0 in /Users/onkars/Documents/AIProjects/Automated-Software-Refactoring-Commit-Classifier/myenv/lib/python3.12/site-packages (from tensorflow) (2.1.0)\n",
      "Requirement already satisfied: astunparse>=1.6.0 in /Users/onkars/Documents/AIProjects/Automated-Software-Refactoring-Commit-Classifier/myenv/lib/python3.12/site-packages (from tensorflow) (1.6.3)\n",
      "Requirement already satisfied: flatbuffers>=23.5.26 in /Users/onkars/Documents/AIProjects/Automated-Software-Refactoring-Commit-Classifier/myenv/lib/python3.12/site-packages (from tensorflow) (24.3.25)\n",
      "Requirement already satisfied: gast!=0.5.0,!=0.5.1,!=0.5.2,>=0.2.1 in /Users/onkars/Documents/AIProjects/Automated-Software-Refactoring-Commit-Classifier/myenv/lib/python3.12/site-packages (from tensorflow) (0.5.4)\n",
      "Requirement already satisfied: google-pasta>=0.1.1 in /Users/onkars/Documents/AIProjects/Automated-Software-Refactoring-Commit-Classifier/myenv/lib/python3.12/site-packages (from tensorflow) (0.2.0)\n",
      "Requirement already satisfied: h5py>=3.10.0 in /Users/onkars/Documents/AIProjects/Automated-Software-Refactoring-Commit-Classifier/myenv/lib/python3.12/site-packages (from tensorflow) (3.11.0)\n",
      "Requirement already satisfied: libclang>=13.0.0 in /Users/onkars/Documents/AIProjects/Automated-Software-Refactoring-Commit-Classifier/myenv/lib/python3.12/site-packages (from tensorflow) (18.1.1)\n",
      "Requirement already satisfied: ml-dtypes~=0.3.1 in /Users/onkars/Documents/AIProjects/Automated-Software-Refactoring-Commit-Classifier/myenv/lib/python3.12/site-packages (from tensorflow) (0.3.2)\n",
      "Requirement already satisfied: opt-einsum>=2.3.2 in /Users/onkars/Documents/AIProjects/Automated-Software-Refactoring-Commit-Classifier/myenv/lib/python3.12/site-packages (from tensorflow) (3.3.0)\n",
      "Requirement already satisfied: packaging in /Users/onkars/Documents/AIProjects/Automated-Software-Refactoring-Commit-Classifier/myenv/lib/python3.12/site-packages (from tensorflow) (24.0)\n",
      "Requirement already satisfied: protobuf!=4.21.0,!=4.21.1,!=4.21.2,!=4.21.3,!=4.21.4,!=4.21.5,<5.0.0dev,>=3.20.3 in /Users/onkars/Documents/AIProjects/Automated-Software-Refactoring-Commit-Classifier/myenv/lib/python3.12/site-packages (from tensorflow) (4.25.3)\n",
      "Requirement already satisfied: requests<3,>=2.21.0 in /Users/onkars/Documents/AIProjects/Automated-Software-Refactoring-Commit-Classifier/myenv/lib/python3.12/site-packages (from tensorflow) (2.31.0)\n",
      "Requirement already satisfied: setuptools in /Users/onkars/Documents/AIProjects/Automated-Software-Refactoring-Commit-Classifier/myenv/lib/python3.12/site-packages (from tensorflow) (69.5.1)\n",
      "Requirement already satisfied: six>=1.12.0 in /Users/onkars/Documents/AIProjects/Automated-Software-Refactoring-Commit-Classifier/myenv/lib/python3.12/site-packages (from tensorflow) (1.16.0)\n",
      "Requirement already satisfied: termcolor>=1.1.0 in /Users/onkars/Documents/AIProjects/Automated-Software-Refactoring-Commit-Classifier/myenv/lib/python3.12/site-packages (from tensorflow) (2.4.0)\n",
      "Requirement already satisfied: typing-extensions>=3.6.6 in /Users/onkars/Documents/AIProjects/Automated-Software-Refactoring-Commit-Classifier/myenv/lib/python3.12/site-packages (from tensorflow) (4.11.0)\n",
      "Requirement already satisfied: wrapt>=1.11.0 in /Users/onkars/Documents/AIProjects/Automated-Software-Refactoring-Commit-Classifier/myenv/lib/python3.12/site-packages (from tensorflow) (1.16.0)\n",
      "Requirement already satisfied: grpcio<2.0,>=1.24.3 in /Users/onkars/Documents/AIProjects/Automated-Software-Refactoring-Commit-Classifier/myenv/lib/python3.12/site-packages (from tensorflow) (1.62.2)\n",
      "Requirement already satisfied: tensorboard<2.17,>=2.16 in /Users/onkars/Documents/AIProjects/Automated-Software-Refactoring-Commit-Classifier/myenv/lib/python3.12/site-packages (from tensorflow) (2.16.2)\n",
      "Requirement already satisfied: keras>=3.0.0 in /Users/onkars/Documents/AIProjects/Automated-Software-Refactoring-Commit-Classifier/myenv/lib/python3.12/site-packages (from tensorflow) (3.3.2)\n",
      "Requirement already satisfied: numpy<2.0.0,>=1.26.0 in /Users/onkars/Documents/AIProjects/Automated-Software-Refactoring-Commit-Classifier/myenv/lib/python3.12/site-packages (from tensorflow) (1.26.4)\n",
      "Requirement already satisfied: wheel<1.0,>=0.23.0 in /Users/onkars/Documents/AIProjects/Automated-Software-Refactoring-Commit-Classifier/myenv/lib/python3.12/site-packages (from astunparse>=1.6.0->tensorflow) (0.43.0)\n",
      "Requirement already satisfied: rich in /Users/onkars/Documents/AIProjects/Automated-Software-Refactoring-Commit-Classifier/myenv/lib/python3.12/site-packages (from keras>=3.0.0->tensorflow) (13.7.1)\n",
      "Requirement already satisfied: namex in /Users/onkars/Documents/AIProjects/Automated-Software-Refactoring-Commit-Classifier/myenv/lib/python3.12/site-packages (from keras>=3.0.0->tensorflow) (0.0.8)\n",
      "Requirement already satisfied: optree in /Users/onkars/Documents/AIProjects/Automated-Software-Refactoring-Commit-Classifier/myenv/lib/python3.12/site-packages (from keras>=3.0.0->tensorflow) (0.11.0)\n",
      "Requirement already satisfied: charset-normalizer<4,>=2 in /Users/onkars/Documents/AIProjects/Automated-Software-Refactoring-Commit-Classifier/myenv/lib/python3.12/site-packages (from requests<3,>=2.21.0->tensorflow) (3.3.2)\n",
      "Requirement already satisfied: idna<4,>=2.5 in /Users/onkars/Documents/AIProjects/Automated-Software-Refactoring-Commit-Classifier/myenv/lib/python3.12/site-packages (from requests<3,>=2.21.0->tensorflow) (3.7)\n",
      "Requirement already satisfied: urllib3<3,>=1.21.1 in /Users/onkars/Documents/AIProjects/Automated-Software-Refactoring-Commit-Classifier/myenv/lib/python3.12/site-packages (from requests<3,>=2.21.0->tensorflow) (2.2.1)\n",
      "Requirement already satisfied: certifi>=2017.4.17 in /Users/onkars/Documents/AIProjects/Automated-Software-Refactoring-Commit-Classifier/myenv/lib/python3.12/site-packages (from requests<3,>=2.21.0->tensorflow) (2024.2.2)\n",
      "Requirement already satisfied: markdown>=2.6.8 in /Users/onkars/Documents/AIProjects/Automated-Software-Refactoring-Commit-Classifier/myenv/lib/python3.12/site-packages (from tensorboard<2.17,>=2.16->tensorflow) (3.6)\n",
      "Requirement already satisfied: tensorboard-data-server<0.8.0,>=0.7.0 in /Users/onkars/Documents/AIProjects/Automated-Software-Refactoring-Commit-Classifier/myenv/lib/python3.12/site-packages (from tensorboard<2.17,>=2.16->tensorflow) (0.7.2)\n",
      "Requirement already satisfied: werkzeug>=1.0.1 in /Users/onkars/Documents/AIProjects/Automated-Software-Refactoring-Commit-Classifier/myenv/lib/python3.12/site-packages (from tensorboard<2.17,>=2.16->tensorflow) (3.0.2)\n",
      "Requirement already satisfied: MarkupSafe>=2.1.1 in /Users/onkars/Documents/AIProjects/Automated-Software-Refactoring-Commit-Classifier/myenv/lib/python3.12/site-packages (from werkzeug>=1.0.1->tensorboard<2.17,>=2.16->tensorflow) (2.1.5)\n",
      "Requirement already satisfied: markdown-it-py>=2.2.0 in /Users/onkars/Documents/AIProjects/Automated-Software-Refactoring-Commit-Classifier/myenv/lib/python3.12/site-packages (from rich->keras>=3.0.0->tensorflow) (3.0.0)\n",
      "Requirement already satisfied: pygments<3.0.0,>=2.13.0 in /Users/onkars/Documents/AIProjects/Automated-Software-Refactoring-Commit-Classifier/myenv/lib/python3.12/site-packages (from rich->keras>=3.0.0->tensorflow) (2.17.2)\n",
      "Requirement already satisfied: mdurl~=0.1 in /Users/onkars/Documents/AIProjects/Automated-Software-Refactoring-Commit-Classifier/myenv/lib/python3.12/site-packages (from markdown-it-py>=2.2.0->rich->keras>=3.0.0->tensorflow) (0.1.2)\n"
     ]
    }
   ],
   "source": [
    "!pip install tensorflow"
   ]
  },
  {
   "cell_type": "code",
   "execution_count": 950,
   "metadata": {},
   "outputs": [
    {
     "name": "stdout",
     "output_type": "stream",
     "text": [
      "\u001b[31mERROR: Could not find a version that satisfies the requirement distutils (from versions: none)\u001b[0m\u001b[31m\n",
      "\u001b[0m\u001b[31mERROR: No matching distribution found for distutils\u001b[0m\u001b[31m\n",
      "\u001b[0m"
     ]
    }
   ],
   "source": [
    "!pip install distutils"
   ]
  },
  {
   "cell_type": "code",
   "execution_count": 951,
   "metadata": {},
   "outputs": [],
   "source": [
    "import distutils"
   ]
  },
  {
   "cell_type": "code",
   "execution_count": 952,
   "metadata": {},
   "outputs": [
    {
     "name": "stderr",
     "output_type": "stream",
     "text": [
      "/Users/onkars/Documents/AIProjects/Automated-Software-Refactoring-Commit-Classifier/myenv/lib/python3.12/site-packages/keras/src/layers/core/dense.py:87: UserWarning: Do not pass an `input_shape`/`input_dim` argument to a layer. When using Sequential models, prefer using an `Input(shape)` object as the first layer in the model instead.\n",
      "  super().__init__(activity_regularizer=activity_regularizer, **kwargs)\n"
     ]
    },
    {
     "name": "stdout",
     "output_type": "stream",
     "text": [
      "Epoch 1/10\n"
     ]
    },
    {
     "name": "stderr",
     "output_type": "stream",
     "text": [
      "/Users/onkars/Documents/AIProjects/Automated-Software-Refactoring-Commit-Classifier/myenv/lib/python3.12/site-packages/tensorflow/python/framework/indexed_slices.py:446: UserWarning: Converting sparse IndexedSlices to a dense Tensor with 253158400 elements. This may consume a large amount of memory.\n",
      "  warnings.warn(\n"
     ]
    },
    {
     "name": "stdout",
     "output_type": "stream",
     "text": [
      "10/10 - 6s - 597ms/step - accuracy: 0.1937 - loss: 1.6046 - val_accuracy: 0.3953 - val_loss: 1.4135\n",
      "Epoch 2/10\n",
      "10/10 - 5s - 474ms/step - accuracy: 0.4588 - loss: 1.1221 - val_accuracy: 0.4588 - val_loss: 1.1625\n",
      "Epoch 3/10\n",
      "10/10 - 5s - 470ms/step - accuracy: 0.5686 - loss: 0.7903 - val_accuracy: 0.4588 - val_loss: 1.0413\n",
      "Epoch 4/10\n",
      "10/10 - 5s - 467ms/step - accuracy: 0.6965 - loss: 0.5838 - val_accuracy: 0.5882 - val_loss: 1.0709\n",
      "Epoch 5/10\n",
      "10/10 - 5s - 474ms/step - accuracy: 0.9145 - loss: 0.2324 - val_accuracy: 0.7129 - val_loss: 1.0266\n",
      "Epoch 6/10\n",
      "10/10 - 5s - 467ms/step - accuracy: 0.9741 - loss: 0.1300 - val_accuracy: 0.6753 - val_loss: 1.2773\n",
      "Epoch 7/10\n",
      "10/10 - 5s - 467ms/step - accuracy: 0.9890 - loss: 0.0537 - val_accuracy: 0.6800 - val_loss: 1.2379\n",
      "Epoch 8/10\n",
      "10/10 - 5s - 469ms/step - accuracy: 0.9984 - loss: 0.0124 - val_accuracy: 0.7247 - val_loss: 1.3087\n",
      "Epoch 9/10\n",
      "10/10 - 5s - 468ms/step - accuracy: 0.9992 - loss: 0.0206 - val_accuracy: 0.7176 - val_loss: 1.6580\n",
      "Epoch 10/10\n",
      "10/10 - 5s - 470ms/step - accuracy: 1.0000 - loss: 1.8722e-04 - val_accuracy: 0.7882 - val_loss: 1.2193\n",
      "\u001b[1m14/14\u001b[0m \u001b[32m━━━━━━━━━━━━━━━━━━━━\u001b[0m\u001b[37m\u001b[0m \u001b[1m0s\u001b[0m 16ms/step\n",
      "              precision    recall  f1-score   support\n",
      "\n",
      "      bugfix       0.73      0.64      0.68        87\n",
      "  code smell       0.96      0.91      0.94        81\n",
      "    external       0.70      0.81      0.75        85\n",
      "  functional       0.68      0.77      0.72        86\n",
      "    internal       0.92      0.81      0.86        86\n",
      "\n",
      "    accuracy                           0.79       425\n",
      "   macro avg       0.80      0.79      0.79       425\n",
      "weighted avg       0.80      0.79      0.79       425\n",
      "\n"
     ]
    }
   ],
   "source": [
    "from sklearn.preprocessing import LabelEncoder\n",
    "from tensorflow.keras.utils import to_categorical\n",
    "from tensorflow.keras.models import Sequential\n",
    "from tensorflow.keras.layers import Dense, Dropout\n",
    "# from tensorflow_addons.metrics import F1Score\n",
    "\n",
    "# Assuming y_train and y_test are categorical, we first convert them to numerical values\n",
    "label_encoder = LabelEncoder()\n",
    "y_train_encoded = label_encoder.fit_transform(y_train)\n",
    "y_test_encoded = label_encoder.transform(y_test)\n",
    "\n",
    "# Now build the model using a modified function\n",
    "def Build_Model_DNN_Text(input_shape, n_classes, dropout=0.5):\n",
    "    model = Sequential()\n",
    "    node = 5120 # number of nodes\n",
    "    nLayers = 4 # number of hidden layer\n",
    "\n",
    "    # Add the input layer\n",
    "    model.add(Dense(node, input_dim=input_shape, activation='relu6')) # leaky_relu, relu6\n",
    "    model.add(Dropout(dropout))\n",
    "    \n",
    "    # Add hidden layers\n",
    "    for i in range(nLayers):\n",
    "        model.add(Dense(node, activation='relu')) # No need to specify input_dim after the first layer\n",
    "    \n",
    "    model.add(Dropout(dropout))\n",
    "        \n",
    "    # Add the output layer\n",
    "    model.add(Dense(n_classes, activation='softmax'))\n",
    "    \n",
    "    # Compile the model\n",
    "    model.compile(loss='sparse_categorical_crossentropy', optimizer='adam', metrics=['accuracy'])\n",
    "   \n",
    "    # model.compile(loss='sparse_categorical_crossentropy', optimizer='adam', metrics=[F1Score()])\n",
    "\n",
    "    return model\n",
    "\n",
    "# Build the model\n",
    "model_DNN = Build_Model_DNN_Text(x_train_tfidf.shape[1], 5) # Assuming there are 20 classes\n",
    "\n",
    "# Fit the model with the training data\n",
    "model_DNN.fit(x_train_tfidf, y_train_encoded, validation_data=(x_test_tfidf, y_test_encoded), epochs=10, batch_size=128, verbose=2)\n",
    "# history = model_DNN.fit(x_train_tfidf, y_train_encoded, validation_data=(x_test_tfidf, y_test_encoded), epochs=10, batch_size=128, verbose=2)\n",
    "\n",
    "# Accessing F1-score on training and validation sets\n",
    "# f1_scores = history.history['F1Score']\n",
    "# val_f1_scores = history.history['val_F1Score']\n",
    "\n",
    "# Example: Print F1-score for the last epoch\n",
    "# print(f\"F1-score on training set (last epoch): {f1_scores[-1]}\")\n",
    "# print(f\"F1-score on validation set (last epoch): {val_f1_scores[-1]}\")\n",
    "\n",
    "# Predict probabilities for the test set\n",
    "probabilities = model_DNN.predict(x_test_tfidf)\n",
    "\n",
    "# Convert probabilities to class predictions\n",
    "predicted_classes = np.argmax(probabilities, axis=1)\n",
    "\n",
    "# Now you can use sklearn's utility to print a classification report\n",
    "from sklearn.metrics import classification_report\n",
    "print(classification_report(y_test_encoded, predicted_classes, target_names=label_encoder.classes_))\n"
   ]
  },
  {
   "cell_type": "code",
   "execution_count": 953,
   "metadata": {},
   "outputs": [],
   "source": [
    "# !pip install tensorflow-addons"
   ]
  },
  {
   "cell_type": "code",
   "execution_count": 963,
   "metadata": {},
   "outputs": [
    {
     "data": {
      "text/plain": [
       "'MLP CLassification Model F1 Score: 0.7918'"
      ]
     },
     "metadata": {},
     "output_type": "display_data"
    },
    {
     "name": "stdout",
     "output_type": "stream",
     "text": [
      "MLP CLassification Report:\n"
     ]
    }
   ],
   "source": [
    "from sklearn.metrics import f1_score\n",
    "\n",
    "# Assuming the rest of your code is the same and 'y_test_encoded' and 'predicted_classes' are defined\n",
    "\n",
    "# Calculate macro-average F1 score\n",
    "f1_macro = f1_score(y_test_encoded, predicted_classes, average='macro')\n",
    "display(f\"MLP CLassification Model F1 Score: {f1_macro:.4f}\")\n",
    "print(\"MLP CLassification Report:\")\n"
   ]
  }
 ],
 "metadata": {
  "kernelspec": {
   "display_name": "Python 3 (ipykernel)",
   "language": "python",
   "name": "python3"
  },
  "language_info": {
   "codemirror_mode": {
    "name": "ipython",
    "version": 3
   },
   "file_extension": ".py",
   "mimetype": "text/x-python",
   "name": "python",
   "nbconvert_exporter": "python",
   "pygments_lexer": "ipython3",
   "version": "3.12.3"
  }
 },
 "nbformat": 4,
 "nbformat_minor": 4
}
