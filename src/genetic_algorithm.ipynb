{
 "cells": [
  {
   "cell_type": "code",
   "execution_count": null,
   "metadata": {},
   "outputs": [],
   "source": [
    "# !pip install deap"
   ]
  },
  {
   "cell_type": "code",
   "execution_count": null,
   "metadata": {},
   "outputs": [],
   "source": [
    "# from deap import base, creator, tools, algorithms\n",
    "# import numpy as np\n",
    "# from sklearn.model_selection import cross_val_score\n",
    "# from sklearn.ensemble import RandomForestClassifier\n",
    "# import random\n"
   ]
  },
  {
   "cell_type": "code",
   "execution_count": null,
   "metadata": {},
   "outputs": [],
   "source": [
    "# def evalModel(individual):\n",
    "#     # Unpack individual parameters\n",
    "#     n_estimators, max_depth, criterion, bootstrap = individual\n",
    "    \n",
    "#     # Convert binary to boolean for bootstrap\n",
    "#     bootstrap = True if bootstrap == 1 else False\n",
    "    \n",
    "#     # Convert criterion to proper format\n",
    "#     criterion = \"gini\" if criterion == 1 else \"entropy\"\n",
    "    \n",
    "#     # Initialize the model with the individual's parameters\n",
    "#     model = RandomForestClassifier(n_estimators=n_estimators, \n",
    "#                                    max_depth=max_depth, \n",
    "#                                    criterion=criterion, \n",
    "#                                    bootstrap=bootstrap, \n",
    "#                                    random_state=42)\n",
    "\n",
    "#     # Perform 3-fold cross-validation\n",
    "#     scores = cross_val_score(model, x_train_tfidf, y_train, cv=3)\n",
    "    \n",
    "#     # Return the average accuracy\n",
    "#     return (np.mean(scores),)"
   ]
  },
  {
   "cell_type": "code",
   "execution_count": null,
   "metadata": {},
   "outputs": [],
   "source": [
    "# # Define fitness and individual\n",
    "# creator.create(\"FitnessMax\", base.Fitness, weights=(1.0,))\n",
    "# creator.create(\"Individual\", list, fitness=creator.FitnessMax)\n",
    "\n",
    "# toolbox = base.Toolbox()\n",
    "\n",
    "# # Attribute generators for our individual components\n",
    "# toolbox.register(\"attr_n_estimators\", random.randint, 100, 1000)\n",
    "# toolbox.register(\"attr_max_depth\", random.randint, 10, 100)\n",
    "# toolbox.register(\"attr_criterion\", random.randint, 1, 2)  # 1 for gini, 2 for entropy\n",
    "# toolbox.register(\"attr_bootstrap\", random.randint, 0, 1)  # 0 for False, 1 for True\n",
    "\n",
    "# # Structure initializers for individuals and the population\n",
    "# toolbox.register(\"individual\", tools.initCycle, creator.Individual,\n",
    "#                  (toolbox.attr_n_estimators, toolbox.attr_max_depth, toolbox.attr_criterion, toolbox.attr_bootstrap), n=1)\n",
    "\n",
    "# toolbox.register(\"population\", tools.initRepeat, list, toolbox.individual)\n",
    "\n",
    "# # Genetic operators\n",
    "# toolbox.register(\"evaluate\", evalModel)\n",
    "# toolbox.register(\"mate\", tools.cxTwoPoint)\n",
    "# toolbox.register(\"mutate\", tools.mutUniformInt, low=[100, 10, 1, 0], up=[1000, 100, 2, 1], indpb=0.2)\n",
    "# toolbox.register(\"select\", tools.selTournament, tournsize=3)"
   ]
  },
  {
   "cell_type": "code",
   "execution_count": null,
   "metadata": {},
   "outputs": [],
   "source": [
    "# def main():\n",
    "#     random.seed(42)\n",
    "#     pop = toolbox.population(n=50)\n",
    "#     hof = tools.HallOfFame(1)\n",
    "    \n",
    "#     stats = tools.Statistics(lambda ind: ind.fitness.values)\n",
    "#     stats.register(\"avg\", np.mean)\n",
    "#     stats.register(\"std\", np.std)\n",
    "#     stats.register(\"min\", np.min)\n",
    "#     stats.register(\"max\", np.max)\n",
    "    \n",
    "#     algorithms.eaSimple(pop, toolbox, cxpb=0.5, mutpb=0.2, ngen=40, \n",
    "#                         stats=stats, halloffame=hof, verbose=True)\n",
    "    \n",
    "#     return pop, stats, hof\n",
    "\n",
    "# if __name__ == \"__main__\":\n",
    "#     population, stats, hof = main()\n",
    "#     print(\"Best individual is:\", hof[0], \"with fitness:\", hof[0].fitness)"
   ]
  }
 ],
 "metadata": {
  "language_info": {
   "name": "python"
  }
 },
 "nbformat": 4,
 "nbformat_minor": 2
}
